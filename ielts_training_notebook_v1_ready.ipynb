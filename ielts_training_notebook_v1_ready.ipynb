{
  "metadata": {
    "kernelspec": {
      "display_name": "Python 3",
      "name": "python3"
    },
    "language_info": {
      "name": "python",
      "version": "3.10.12",
      "mimetype": "text/x-python",
      "codemirror_mode": {
        "name": "ipython",
        "version": 3
      },
      "pygments_lexer": "ipython3",
      "nbconvert_exporter": "python",
      "file_extension": ".py"
    },
    "colab": {
      "provenance": [],
      "gpuType": "T4"
    },
    "accelerator": "GPU",
    "widgets": {
      "application/vnd.jupyter.widget-state+json": {
        "195891b166404a2786f9d51b20acb191": {
          "model_module": "@jupyter-widgets/controls",
          "model_name": "HBoxModel",
          "model_module_version": "1.5.0",
          "state": {
            "_dom_classes": [],
            "_model_module": "@jupyter-widgets/controls",
            "_model_module_version": "1.5.0",
            "_model_name": "HBoxModel",
            "_view_count": null,
            "_view_module": "@jupyter-widgets/controls",
            "_view_module_version": "1.5.0",
            "_view_name": "HBoxView",
            "box_style": "",
            "children": [
              "IPY_MODEL_43195c3cfa08493db54bca1b5a4a68d1",
              "IPY_MODEL_9613c04ce0f743828c8d13c86b7ad148",
              "IPY_MODEL_7c4bf80009c74067b1a1dec5d79fe4ec"
            ],
            "layout": "IPY_MODEL_6b01e1e02f6b45039cdf3f5e8525c0c5"
          }
        },
        "43195c3cfa08493db54bca1b5a4a68d1": {
          "model_module": "@jupyter-widgets/controls",
          "model_name": "HTMLModel",
          "model_module_version": "1.5.0",
          "state": {
            "_dom_classes": [],
            "_model_module": "@jupyter-widgets/controls",
            "_model_module_version": "1.5.0",
            "_model_name": "HTMLModel",
            "_view_count": null,
            "_view_module": "@jupyter-widgets/controls",
            "_view_module_version": "1.5.0",
            "_view_name": "HTMLView",
            "description": "",
            "description_tooltip": null,
            "layout": "IPY_MODEL_0fbc1d07b3e844e7914fdf0efbd46969",
            "placeholder": "​",
            "style": "IPY_MODEL_e4be17813cd84af3b83bec32db7e59d0",
            "value": "Downloading (…)okenizer_config.json: 100%"
          }
        },
        "9613c04ce0f743828c8d13c86b7ad148": {
          "model_module": "@jupyter-widgets/controls",
          "model_name": "FloatProgressModel",
          "model_module_version": "1.5.0",
          "state": {
            "_dom_classes": [],
            "_model_module": "@jupyter-widgets/controls",
            "_model_module_version": "1.5.0",
            "_model_name": "FloatProgressModel",
            "_view_count": null,
            "_view_module": "@jupyter-widgets/controls",
            "_view_module_version": "1.5.0",
            "_view_name": "ProgressView",
            "bar_style": "success",
            "description": "",
            "description_tooltip": null,
            "layout": "IPY_MODEL_b2518569fd4f4a328def95ad735c6a0d",
            "max": 28,
            "min": 0,
            "orientation": "horizontal",
            "style": "IPY_MODEL_3ac0385cc2054d278f1128abf50466b8",
            "value": 28
          }
        },
        "7c4bf80009c74067b1a1dec5d79fe4ec": {
          "model_module": "@jupyter-widgets/controls",
          "model_name": "HTMLModel",
          "model_module_version": "1.5.0",
          "state": {
            "_dom_classes": [],
            "_model_module": "@jupyter-widgets/controls",
            "_model_module_version": "1.5.0",
            "_model_name": "HTMLModel",
            "_view_count": null,
            "_view_module": "@jupyter-widgets/controls",
            "_view_module_version": "1.5.0",
            "_view_name": "HTMLView",
            "description": "",
            "description_tooltip": null,
            "layout": "IPY_MODEL_130ae9ca5a8b4a82abb4dae8b272e777",
            "placeholder": "​",
            "style": "IPY_MODEL_d23dfc6ca4d54560895ec49e87b46654",
            "value": " 28.0/28.0 [00:00&lt;00:00, 925B/s]"
          }
        },
        "6b01e1e02f6b45039cdf3f5e8525c0c5": {
          "model_module": "@jupyter-widgets/base",
          "model_name": "LayoutModel",
          "model_module_version": "1.2.0",
          "state": {
            "_model_module": "@jupyter-widgets/base",
            "_model_module_version": "1.2.0",
            "_model_name": "LayoutModel",
            "_view_count": null,
            "_view_module": "@jupyter-widgets/base",
            "_view_module_version": "1.2.0",
            "_view_name": "LayoutView",
            "align_content": null,
            "align_items": null,
            "align_self": null,
            "border": null,
            "bottom": null,
            "display": null,
            "flex": null,
            "flex_flow": null,
            "grid_area": null,
            "grid_auto_columns": null,
            "grid_auto_flow": null,
            "grid_auto_rows": null,
            "grid_column": null,
            "grid_gap": null,
            "grid_row": null,
            "grid_template_areas": null,
            "grid_template_columns": null,
            "grid_template_rows": null,
            "height": null,
            "justify_content": null,
            "justify_items": null,
            "left": null,
            "margin": null,
            "max_height": null,
            "max_width": null,
            "min_height": null,
            "min_width": null,
            "object_fit": null,
            "object_position": null,
            "order": null,
            "overflow": null,
            "overflow_x": null,
            "overflow_y": null,
            "padding": null,
            "right": null,
            "top": null,
            "visibility": null,
            "width": null
          }
        },
        "0fbc1d07b3e844e7914fdf0efbd46969": {
          "model_module": "@jupyter-widgets/base",
          "model_name": "LayoutModel",
          "model_module_version": "1.2.0",
          "state": {
            "_model_module": "@jupyter-widgets/base",
            "_model_module_version": "1.2.0",
            "_model_name": "LayoutModel",
            "_view_count": null,
            "_view_module": "@jupyter-widgets/base",
            "_view_module_version": "1.2.0",
            "_view_name": "LayoutView",
            "align_content": null,
            "align_items": null,
            "align_self": null,
            "border": null,
            "bottom": null,
            "display": null,
            "flex": null,
            "flex_flow": null,
            "grid_area": null,
            "grid_auto_columns": null,
            "grid_auto_flow": null,
            "grid_auto_rows": null,
            "grid_column": null,
            "grid_gap": null,
            "grid_row": null,
            "grid_template_areas": null,
            "grid_template_columns": null,
            "grid_template_rows": null,
            "height": null,
            "justify_content": null,
            "justify_items": null,
            "left": null,
            "margin": null,
            "max_height": null,
            "max_width": null,
            "min_height": null,
            "min_width": null,
            "object_fit": null,
            "object_position": null,
            "order": null,
            "overflow": null,
            "overflow_x": null,
            "overflow_y": null,
            "padding": null,
            "right": null,
            "top": null,
            "visibility": null,
            "width": null
          }
        },
        "e4be17813cd84af3b83bec32db7e59d0": {
          "model_module": "@jupyter-widgets/controls",
          "model_name": "DescriptionStyleModel",
          "model_module_version": "1.5.0",
          "state": {
            "_model_module": "@jupyter-widgets/controls",
            "_model_module_version": "1.5.0",
            "_model_name": "DescriptionStyleModel",
            "_view_count": null,
            "_view_module": "@jupyter-widgets/base",
            "_view_module_version": "1.2.0",
            "_view_name": "StyleView",
            "description_width": ""
          }
        },
        "b2518569fd4f4a328def95ad735c6a0d": {
          "model_module": "@jupyter-widgets/base",
          "model_name": "LayoutModel",
          "model_module_version": "1.2.0",
          "state": {
            "_model_module": "@jupyter-widgets/base",
            "_model_module_version": "1.2.0",
            "_model_name": "LayoutModel",
            "_view_count": null,
            "_view_module": "@jupyter-widgets/base",
            "_view_module_version": "1.2.0",
            "_view_name": "LayoutView",
            "align_content": null,
            "align_items": null,
            "align_self": null,
            "border": null,
            "bottom": null,
            "display": null,
            "flex": null,
            "flex_flow": null,
            "grid_area": null,
            "grid_auto_columns": null,
            "grid_auto_flow": null,
            "grid_auto_rows": null,
            "grid_column": null,
            "grid_gap": null,
            "grid_row": null,
            "grid_template_areas": null,
            "grid_template_columns": null,
            "grid_template_rows": null,
            "height": null,
            "justify_content": null,
            "justify_items": null,
            "left": null,
            "margin": null,
            "max_height": null,
            "max_width": null,
            "min_height": null,
            "min_width": null,
            "object_fit": null,
            "object_position": null,
            "order": null,
            "overflow": null,
            "overflow_x": null,
            "overflow_y": null,
            "padding": null,
            "right": null,
            "top": null,
            "visibility": null,
            "width": null
          }
        },
        "3ac0385cc2054d278f1128abf50466b8": {
          "model_module": "@jupyter-widgets/controls",
          "model_name": "ProgressStyleModel",
          "model_module_version": "1.5.0",
          "state": {
            "_model_module": "@jupyter-widgets/controls",
            "_model_module_version": "1.5.0",
            "_model_name": "ProgressStyleModel",
            "_view_count": null,
            "_view_module": "@jupyter-widgets/base",
            "_view_module_version": "1.2.0",
            "_view_name": "StyleView",
            "bar_color": null,
            "description_width": ""
          }
        },
        "130ae9ca5a8b4a82abb4dae8b272e777": {
          "model_module": "@jupyter-widgets/base",
          "model_name": "LayoutModel",
          "model_module_version": "1.2.0",
          "state": {
            "_model_module": "@jupyter-widgets/base",
            "_model_module_version": "1.2.0",
            "_model_name": "LayoutModel",
            "_view_count": null,
            "_view_module": "@jupyter-widgets/base",
            "_view_module_version": "1.2.0",
            "_view_name": "LayoutView",
            "align_content": null,
            "align_items": null,
            "align_self": null,
            "border": null,
            "bottom": null,
            "display": null,
            "flex": null,
            "flex_flow": null,
            "grid_area": null,
            "grid_auto_columns": null,
            "grid_auto_flow": null,
            "grid_auto_rows": null,
            "grid_column": null,
            "grid_gap": null,
            "grid_row": null,
            "grid_template_areas": null,
            "grid_template_columns": null,
            "grid_template_rows": null,
            "height": null,
            "justify_content": null,
            "justify_items": null,
            "left": null,
            "margin": null,
            "max_height": null,
            "max_width": null,
            "min_height": null,
            "min_width": null,
            "object_fit": null,
            "object_position": null,
            "order": null,
            "overflow": null,
            "overflow_x": null,
            "overflow_y": null,
            "padding": null,
            "right": null,
            "top": null,
            "visibility": null,
            "width": null
          }
        },
        "d23dfc6ca4d54560895ec49e87b46654": {
          "model_module": "@jupyter-widgets/controls",
          "model_name": "DescriptionStyleModel",
          "model_module_version": "1.5.0",
          "state": {
            "_model_module": "@jupyter-widgets/controls",
            "_model_module_version": "1.5.0",
            "_model_name": "DescriptionStyleModel",
            "_view_count": null,
            "_view_module": "@jupyter-widgets/base",
            "_view_module_version": "1.2.0",
            "_view_name": "StyleView",
            "description_width": ""
          }
        },
        "0636c368c59342b08bedfc6a4471d422": {
          "model_module": "@jupyter-widgets/controls",
          "model_name": "HBoxModel",
          "model_module_version": "1.5.0",
          "state": {
            "_dom_classes": [],
            "_model_module": "@jupyter-widgets/controls",
            "_model_module_version": "1.5.0",
            "_model_name": "HBoxModel",
            "_view_count": null,
            "_view_module": "@jupyter-widgets/controls",
            "_view_module_version": "1.5.0",
            "_view_name": "HBoxView",
            "box_style": "",
            "children": [
              "IPY_MODEL_6f802cd1e44449e0b87d0bfce7e100a5",
              "IPY_MODEL_cb7849f29381441a8e8eef8a51e9897d",
              "IPY_MODEL_acf02797f39845869ad08bcd2f7475ae"
            ],
            "layout": "IPY_MODEL_9629c500cb4d45ec99a894cbf9300268"
          }
        },
        "6f802cd1e44449e0b87d0bfce7e100a5": {
          "model_module": "@jupyter-widgets/controls",
          "model_name": "HTMLModel",
          "model_module_version": "1.5.0",
          "state": {
            "_dom_classes": [],
            "_model_module": "@jupyter-widgets/controls",
            "_model_module_version": "1.5.0",
            "_model_name": "HTMLModel",
            "_view_count": null,
            "_view_module": "@jupyter-widgets/controls",
            "_view_module_version": "1.5.0",
            "_view_name": "HTMLView",
            "description": "",
            "description_tooltip": null,
            "layout": "IPY_MODEL_457daeee7bd244cf9fe4ebaf52eb1bf3",
            "placeholder": "​",
            "style": "IPY_MODEL_752d7edf3fae4355be5b86de5f501859",
            "value": "Downloading (…)solve/main/vocab.txt: 100%"
          }
        },
        "cb7849f29381441a8e8eef8a51e9897d": {
          "model_module": "@jupyter-widgets/controls",
          "model_name": "FloatProgressModel",
          "model_module_version": "1.5.0",
          "state": {
            "_dom_classes": [],
            "_model_module": "@jupyter-widgets/controls",
            "_model_module_version": "1.5.0",
            "_model_name": "FloatProgressModel",
            "_view_count": null,
            "_view_module": "@jupyter-widgets/controls",
            "_view_module_version": "1.5.0",
            "_view_name": "ProgressView",
            "bar_style": "success",
            "description": "",
            "description_tooltip": null,
            "layout": "IPY_MODEL_616df98f274c457ea12c694c18c9b2c7",
            "max": 231508,
            "min": 0,
            "orientation": "horizontal",
            "style": "IPY_MODEL_a59ae2e5152243bba0ea4032a30635e5",
            "value": 231508
          }
        },
        "acf02797f39845869ad08bcd2f7475ae": {
          "model_module": "@jupyter-widgets/controls",
          "model_name": "HTMLModel",
          "model_module_version": "1.5.0",
          "state": {
            "_dom_classes": [],
            "_model_module": "@jupyter-widgets/controls",
            "_model_module_version": "1.5.0",
            "_model_name": "HTMLModel",
            "_view_count": null,
            "_view_module": "@jupyter-widgets/controls",
            "_view_module_version": "1.5.0",
            "_view_name": "HTMLView",
            "description": "",
            "description_tooltip": null,
            "layout": "IPY_MODEL_98d09a2b7e2c4ff480c33b1afd0e79f8",
            "placeholder": "​",
            "style": "IPY_MODEL_ee02286ea656456b8ba7011fe930d928",
            "value": " 232k/232k [00:00&lt;00:00, 2.87MB/s]"
          }
        },
        "9629c500cb4d45ec99a894cbf9300268": {
          "model_module": "@jupyter-widgets/base",
          "model_name": "LayoutModel",
          "model_module_version": "1.2.0",
          "state": {
            "_model_module": "@jupyter-widgets/base",
            "_model_module_version": "1.2.0",
            "_model_name": "LayoutModel",
            "_view_count": null,
            "_view_module": "@jupyter-widgets/base",
            "_view_module_version": "1.2.0",
            "_view_name": "LayoutView",
            "align_content": null,
            "align_items": null,
            "align_self": null,
            "border": null,
            "bottom": null,
            "display": null,
            "flex": null,
            "flex_flow": null,
            "grid_area": null,
            "grid_auto_columns": null,
            "grid_auto_flow": null,
            "grid_auto_rows": null,
            "grid_column": null,
            "grid_gap": null,
            "grid_row": null,
            "grid_template_areas": null,
            "grid_template_columns": null,
            "grid_template_rows": null,
            "height": null,
            "justify_content": null,
            "justify_items": null,
            "left": null,
            "margin": null,
            "max_height": null,
            "max_width": null,
            "min_height": null,
            "min_width": null,
            "object_fit": null,
            "object_position": null,
            "order": null,
            "overflow": null,
            "overflow_x": null,
            "overflow_y": null,
            "padding": null,
            "right": null,
            "top": null,
            "visibility": null,
            "width": null
          }
        },
        "457daeee7bd244cf9fe4ebaf52eb1bf3": {
          "model_module": "@jupyter-widgets/base",
          "model_name": "LayoutModel",
          "model_module_version": "1.2.0",
          "state": {
            "_model_module": "@jupyter-widgets/base",
            "_model_module_version": "1.2.0",
            "_model_name": "LayoutModel",
            "_view_count": null,
            "_view_module": "@jupyter-widgets/base",
            "_view_module_version": "1.2.0",
            "_view_name": "LayoutView",
            "align_content": null,
            "align_items": null,
            "align_self": null,
            "border": null,
            "bottom": null,
            "display": null,
            "flex": null,
            "flex_flow": null,
            "grid_area": null,
            "grid_auto_columns": null,
            "grid_auto_flow": null,
            "grid_auto_rows": null,
            "grid_column": null,
            "grid_gap": null,
            "grid_row": null,
            "grid_template_areas": null,
            "grid_template_columns": null,
            "grid_template_rows": null,
            "height": null,
            "justify_content": null,
            "justify_items": null,
            "left": null,
            "margin": null,
            "max_height": null,
            "max_width": null,
            "min_height": null,
            "min_width": null,
            "object_fit": null,
            "object_position": null,
            "order": null,
            "overflow": null,
            "overflow_x": null,
            "overflow_y": null,
            "padding": null,
            "right": null,
            "top": null,
            "visibility": null,
            "width": null
          }
        },
        "752d7edf3fae4355be5b86de5f501859": {
          "model_module": "@jupyter-widgets/controls",
          "model_name": "DescriptionStyleModel",
          "model_module_version": "1.5.0",
          "state": {
            "_model_module": "@jupyter-widgets/controls",
            "_model_module_version": "1.5.0",
            "_model_name": "DescriptionStyleModel",
            "_view_count": null,
            "_view_module": "@jupyter-widgets/base",
            "_view_module_version": "1.2.0",
            "_view_name": "StyleView",
            "description_width": ""
          }
        },
        "616df98f274c457ea12c694c18c9b2c7": {
          "model_module": "@jupyter-widgets/base",
          "model_name": "LayoutModel",
          "model_module_version": "1.2.0",
          "state": {
            "_model_module": "@jupyter-widgets/base",
            "_model_module_version": "1.2.0",
            "_model_name": "LayoutModel",
            "_view_count": null,
            "_view_module": "@jupyter-widgets/base",
            "_view_module_version": "1.2.0",
            "_view_name": "LayoutView",
            "align_content": null,
            "align_items": null,
            "align_self": null,
            "border": null,
            "bottom": null,
            "display": null,
            "flex": null,
            "flex_flow": null,
            "grid_area": null,
            "grid_auto_columns": null,
            "grid_auto_flow": null,
            "grid_auto_rows": null,
            "grid_column": null,
            "grid_gap": null,
            "grid_row": null,
            "grid_template_areas": null,
            "grid_template_columns": null,
            "grid_template_rows": null,
            "height": null,
            "justify_content": null,
            "justify_items": null,
            "left": null,
            "margin": null,
            "max_height": null,
            "max_width": null,
            "min_height": null,
            "min_width": null,
            "object_fit": null,
            "object_position": null,
            "order": null,
            "overflow": null,
            "overflow_x": null,
            "overflow_y": null,
            "padding": null,
            "right": null,
            "top": null,
            "visibility": null,
            "width": null
          }
        },
        "a59ae2e5152243bba0ea4032a30635e5": {
          "model_module": "@jupyter-widgets/controls",
          "model_name": "ProgressStyleModel",
          "model_module_version": "1.5.0",
          "state": {
            "_model_module": "@jupyter-widgets/controls",
            "_model_module_version": "1.5.0",
            "_model_name": "ProgressStyleModel",
            "_view_count": null,
            "_view_module": "@jupyter-widgets/base",
            "_view_module_version": "1.2.0",
            "_view_name": "StyleView",
            "bar_color": null,
            "description_width": ""
          }
        },
        "98d09a2b7e2c4ff480c33b1afd0e79f8": {
          "model_module": "@jupyter-widgets/base",
          "model_name": "LayoutModel",
          "model_module_version": "1.2.0",
          "state": {
            "_model_module": "@jupyter-widgets/base",
            "_model_module_version": "1.2.0",
            "_model_name": "LayoutModel",
            "_view_count": null,
            "_view_module": "@jupyter-widgets/base",
            "_view_module_version": "1.2.0",
            "_view_name": "LayoutView",
            "align_content": null,
            "align_items": null,
            "align_self": null,
            "border": null,
            "bottom": null,
            "display": null,
            "flex": null,
            "flex_flow": null,
            "grid_area": null,
            "grid_auto_columns": null,
            "grid_auto_flow": null,
            "grid_auto_rows": null,
            "grid_column": null,
            "grid_gap": null,
            "grid_row": null,
            "grid_template_areas": null,
            "grid_template_columns": null,
            "grid_template_rows": null,
            "height": null,
            "justify_content": null,
            "justify_items": null,
            "left": null,
            "margin": null,
            "max_height": null,
            "max_width": null,
            "min_height": null,
            "min_width": null,
            "object_fit": null,
            "object_position": null,
            "order": null,
            "overflow": null,
            "overflow_x": null,
            "overflow_y": null,
            "padding": null,
            "right": null,
            "top": null,
            "visibility": null,
            "width": null
          }
        },
        "ee02286ea656456b8ba7011fe930d928": {
          "model_module": "@jupyter-widgets/controls",
          "model_name": "DescriptionStyleModel",
          "model_module_version": "1.5.0",
          "state": {
            "_model_module": "@jupyter-widgets/controls",
            "_model_module_version": "1.5.0",
            "_model_name": "DescriptionStyleModel",
            "_view_count": null,
            "_view_module": "@jupyter-widgets/base",
            "_view_module_version": "1.2.0",
            "_view_name": "StyleView",
            "description_width": ""
          }
        },
        "8058586e615246008cd27daa00efb5cf": {
          "model_module": "@jupyter-widgets/controls",
          "model_name": "HBoxModel",
          "model_module_version": "1.5.0",
          "state": {
            "_dom_classes": [],
            "_model_module": "@jupyter-widgets/controls",
            "_model_module_version": "1.5.0",
            "_model_name": "HBoxModel",
            "_view_count": null,
            "_view_module": "@jupyter-widgets/controls",
            "_view_module_version": "1.5.0",
            "_view_name": "HBoxView",
            "box_style": "",
            "children": [
              "IPY_MODEL_70e28a258e2a4ac086e638860dd9c9f7",
              "IPY_MODEL_8fc540c48d4647578bdfc4206b00a9e2",
              "IPY_MODEL_96c2c885b89c4c73ab2895404497144a"
            ],
            "layout": "IPY_MODEL_e62a3bf344464f4cb56459e4467fdedd"
          }
        },
        "70e28a258e2a4ac086e638860dd9c9f7": {
          "model_module": "@jupyter-widgets/controls",
          "model_name": "HTMLModel",
          "model_module_version": "1.5.0",
          "state": {
            "_dom_classes": [],
            "_model_module": "@jupyter-widgets/controls",
            "_model_module_version": "1.5.0",
            "_model_name": "HTMLModel",
            "_view_count": null,
            "_view_module": "@jupyter-widgets/controls",
            "_view_module_version": "1.5.0",
            "_view_name": "HTMLView",
            "description": "",
            "description_tooltip": null,
            "layout": "IPY_MODEL_2e7237619f4746ccafea01e0630bb649",
            "placeholder": "​",
            "style": "IPY_MODEL_9c7d929ee6c84dd8898577a167919e19",
            "value": "Downloading (…)/main/tokenizer.json: 100%"
          }
        },
        "8fc540c48d4647578bdfc4206b00a9e2": {
          "model_module": "@jupyter-widgets/controls",
          "model_name": "FloatProgressModel",
          "model_module_version": "1.5.0",
          "state": {
            "_dom_classes": [],
            "_model_module": "@jupyter-widgets/controls",
            "_model_module_version": "1.5.0",
            "_model_name": "FloatProgressModel",
            "_view_count": null,
            "_view_module": "@jupyter-widgets/controls",
            "_view_module_version": "1.5.0",
            "_view_name": "ProgressView",
            "bar_style": "success",
            "description": "",
            "description_tooltip": null,
            "layout": "IPY_MODEL_6f8c6c03954c4b879e1a20510cddb390",
            "max": 466062,
            "min": 0,
            "orientation": "horizontal",
            "style": "IPY_MODEL_66be267790fc49b59801cbb1ff8df74b",
            "value": 466062
          }
        },
        "96c2c885b89c4c73ab2895404497144a": {
          "model_module": "@jupyter-widgets/controls",
          "model_name": "HTMLModel",
          "model_module_version": "1.5.0",
          "state": {
            "_dom_classes": [],
            "_model_module": "@jupyter-widgets/controls",
            "_model_module_version": "1.5.0",
            "_model_name": "HTMLModel",
            "_view_count": null,
            "_view_module": "@jupyter-widgets/controls",
            "_view_module_version": "1.5.0",
            "_view_name": "HTMLView",
            "description": "",
            "description_tooltip": null,
            "layout": "IPY_MODEL_d69ebb50296744e791a0db25aa3b58be",
            "placeholder": "​",
            "style": "IPY_MODEL_0b2a67c19e17468d99ae4cf67e90f9bb",
            "value": " 466k/466k [00:00&lt;00:00, 5.43MB/s]"
          }
        },
        "e62a3bf344464f4cb56459e4467fdedd": {
          "model_module": "@jupyter-widgets/base",
          "model_name": "LayoutModel",
          "model_module_version": "1.2.0",
          "state": {
            "_model_module": "@jupyter-widgets/base",
            "_model_module_version": "1.2.0",
            "_model_name": "LayoutModel",
            "_view_count": null,
            "_view_module": "@jupyter-widgets/base",
            "_view_module_version": "1.2.0",
            "_view_name": "LayoutView",
            "align_content": null,
            "align_items": null,
            "align_self": null,
            "border": null,
            "bottom": null,
            "display": null,
            "flex": null,
            "flex_flow": null,
            "grid_area": null,
            "grid_auto_columns": null,
            "grid_auto_flow": null,
            "grid_auto_rows": null,
            "grid_column": null,
            "grid_gap": null,
            "grid_row": null,
            "grid_template_areas": null,
            "grid_template_columns": null,
            "grid_template_rows": null,
            "height": null,
            "justify_content": null,
            "justify_items": null,
            "left": null,
            "margin": null,
            "max_height": null,
            "max_width": null,
            "min_height": null,
            "min_width": null,
            "object_fit": null,
            "object_position": null,
            "order": null,
            "overflow": null,
            "overflow_x": null,
            "overflow_y": null,
            "padding": null,
            "right": null,
            "top": null,
            "visibility": null,
            "width": null
          }
        },
        "2e7237619f4746ccafea01e0630bb649": {
          "model_module": "@jupyter-widgets/base",
          "model_name": "LayoutModel",
          "model_module_version": "1.2.0",
          "state": {
            "_model_module": "@jupyter-widgets/base",
            "_model_module_version": "1.2.0",
            "_model_name": "LayoutModel",
            "_view_count": null,
            "_view_module": "@jupyter-widgets/base",
            "_view_module_version": "1.2.0",
            "_view_name": "LayoutView",
            "align_content": null,
            "align_items": null,
            "align_self": null,
            "border": null,
            "bottom": null,
            "display": null,
            "flex": null,
            "flex_flow": null,
            "grid_area": null,
            "grid_auto_columns": null,
            "grid_auto_flow": null,
            "grid_auto_rows": null,
            "grid_column": null,
            "grid_gap": null,
            "grid_row": null,
            "grid_template_areas": null,
            "grid_template_columns": null,
            "grid_template_rows": null,
            "height": null,
            "justify_content": null,
            "justify_items": null,
            "left": null,
            "margin": null,
            "max_height": null,
            "max_width": null,
            "min_height": null,
            "min_width": null,
            "object_fit": null,
            "object_position": null,
            "order": null,
            "overflow": null,
            "overflow_x": null,
            "overflow_y": null,
            "padding": null,
            "right": null,
            "top": null,
            "visibility": null,
            "width": null
          }
        },
        "9c7d929ee6c84dd8898577a167919e19": {
          "model_module": "@jupyter-widgets/controls",
          "model_name": "DescriptionStyleModel",
          "model_module_version": "1.5.0",
          "state": {
            "_model_module": "@jupyter-widgets/controls",
            "_model_module_version": "1.5.0",
            "_model_name": "DescriptionStyleModel",
            "_view_count": null,
            "_view_module": "@jupyter-widgets/base",
            "_view_module_version": "1.2.0",
            "_view_name": "StyleView",
            "description_width": ""
          }
        },
        "6f8c6c03954c4b879e1a20510cddb390": {
          "model_module": "@jupyter-widgets/base",
          "model_name": "LayoutModel",
          "model_module_version": "1.2.0",
          "state": {
            "_model_module": "@jupyter-widgets/base",
            "_model_module_version": "1.2.0",
            "_model_name": "LayoutModel",
            "_view_count": null,
            "_view_module": "@jupyter-widgets/base",
            "_view_module_version": "1.2.0",
            "_view_name": "LayoutView",
            "align_content": null,
            "align_items": null,
            "align_self": null,
            "border": null,
            "bottom": null,
            "display": null,
            "flex": null,
            "flex_flow": null,
            "grid_area": null,
            "grid_auto_columns": null,
            "grid_auto_flow": null,
            "grid_auto_rows": null,
            "grid_column": null,
            "grid_gap": null,
            "grid_row": null,
            "grid_template_areas": null,
            "grid_template_columns": null,
            "grid_template_rows": null,
            "height": null,
            "justify_content": null,
            "justify_items": null,
            "left": null,
            "margin": null,
            "max_height": null,
            "max_width": null,
            "min_height": null,
            "min_width": null,
            "object_fit": null,
            "object_position": null,
            "order": null,
            "overflow": null,
            "overflow_x": null,
            "overflow_y": null,
            "padding": null,
            "right": null,
            "top": null,
            "visibility": null,
            "width": null
          }
        },
        "66be267790fc49b59801cbb1ff8df74b": {
          "model_module": "@jupyter-widgets/controls",
          "model_name": "ProgressStyleModel",
          "model_module_version": "1.5.0",
          "state": {
            "_model_module": "@jupyter-widgets/controls",
            "_model_module_version": "1.5.0",
            "_model_name": "ProgressStyleModel",
            "_view_count": null,
            "_view_module": "@jupyter-widgets/base",
            "_view_module_version": "1.2.0",
            "_view_name": "StyleView",
            "bar_color": null,
            "description_width": ""
          }
        },
        "d69ebb50296744e791a0db25aa3b58be": {
          "model_module": "@jupyter-widgets/base",
          "model_name": "LayoutModel",
          "model_module_version": "1.2.0",
          "state": {
            "_model_module": "@jupyter-widgets/base",
            "_model_module_version": "1.2.0",
            "_model_name": "LayoutModel",
            "_view_count": null,
            "_view_module": "@jupyter-widgets/base",
            "_view_module_version": "1.2.0",
            "_view_name": "LayoutView",
            "align_content": null,
            "align_items": null,
            "align_self": null,
            "border": null,
            "bottom": null,
            "display": null,
            "flex": null,
            "flex_flow": null,
            "grid_area": null,
            "grid_auto_columns": null,
            "grid_auto_flow": null,
            "grid_auto_rows": null,
            "grid_column": null,
            "grid_gap": null,
            "grid_row": null,
            "grid_template_areas": null,
            "grid_template_columns": null,
            "grid_template_rows": null,
            "height": null,
            "justify_content": null,
            "justify_items": null,
            "left": null,
            "margin": null,
            "max_height": null,
            "max_width": null,
            "min_height": null,
            "min_width": null,
            "object_fit": null,
            "object_position": null,
            "order": null,
            "overflow": null,
            "overflow_x": null,
            "overflow_y": null,
            "padding": null,
            "right": null,
            "top": null,
            "visibility": null,
            "width": null
          }
        },
        "0b2a67c19e17468d99ae4cf67e90f9bb": {
          "model_module": "@jupyter-widgets/controls",
          "model_name": "DescriptionStyleModel",
          "model_module_version": "1.5.0",
          "state": {
            "_model_module": "@jupyter-widgets/controls",
            "_model_module_version": "1.5.0",
            "_model_name": "DescriptionStyleModel",
            "_view_count": null,
            "_view_module": "@jupyter-widgets/base",
            "_view_module_version": "1.2.0",
            "_view_name": "StyleView",
            "description_width": ""
          }
        },
        "bfb09437f0fc4231aa54691ac47584b4": {
          "model_module": "@jupyter-widgets/controls",
          "model_name": "HBoxModel",
          "model_module_version": "1.5.0",
          "state": {
            "_dom_classes": [],
            "_model_module": "@jupyter-widgets/controls",
            "_model_module_version": "1.5.0",
            "_model_name": "HBoxModel",
            "_view_count": null,
            "_view_module": "@jupyter-widgets/controls",
            "_view_module_version": "1.5.0",
            "_view_name": "HBoxView",
            "box_style": "",
            "children": [
              "IPY_MODEL_821bcf29665a490baf02ed3d06388c28",
              "IPY_MODEL_f23485d3043b40be82e0018e66dadc49",
              "IPY_MODEL_372655be57b74d8c9ea7408794b6002d"
            ],
            "layout": "IPY_MODEL_2e7f916394f845dd977bed3e9032dfa0"
          }
        },
        "821bcf29665a490baf02ed3d06388c28": {
          "model_module": "@jupyter-widgets/controls",
          "model_name": "HTMLModel",
          "model_module_version": "1.5.0",
          "state": {
            "_dom_classes": [],
            "_model_module": "@jupyter-widgets/controls",
            "_model_module_version": "1.5.0",
            "_model_name": "HTMLModel",
            "_view_count": null,
            "_view_module": "@jupyter-widgets/controls",
            "_view_module_version": "1.5.0",
            "_view_name": "HTMLView",
            "description": "",
            "description_tooltip": null,
            "layout": "IPY_MODEL_c500558ef20c4663ab9a67707e0a981f",
            "placeholder": "​",
            "style": "IPY_MODEL_59f93f09433a449f8b26385feed35c6b",
            "value": "Downloading (…)lve/main/config.json: 100%"
          }
        },
        "f23485d3043b40be82e0018e66dadc49": {
          "model_module": "@jupyter-widgets/controls",
          "model_name": "FloatProgressModel",
          "model_module_version": "1.5.0",
          "state": {
            "_dom_classes": [],
            "_model_module": "@jupyter-widgets/controls",
            "_model_module_version": "1.5.0",
            "_model_name": "FloatProgressModel",
            "_view_count": null,
            "_view_module": "@jupyter-widgets/controls",
            "_view_module_version": "1.5.0",
            "_view_name": "ProgressView",
            "bar_style": "success",
            "description": "",
            "description_tooltip": null,
            "layout": "IPY_MODEL_820bd3c0b62d460394b56d130c452b3e",
            "max": 570,
            "min": 0,
            "orientation": "horizontal",
            "style": "IPY_MODEL_a2aa9fa1f1054dfcb9f039e1f1e2dc2f",
            "value": 570
          }
        },
        "372655be57b74d8c9ea7408794b6002d": {
          "model_module": "@jupyter-widgets/controls",
          "model_name": "HTMLModel",
          "model_module_version": "1.5.0",
          "state": {
            "_dom_classes": [],
            "_model_module": "@jupyter-widgets/controls",
            "_model_module_version": "1.5.0",
            "_model_name": "HTMLModel",
            "_view_count": null,
            "_view_module": "@jupyter-widgets/controls",
            "_view_module_version": "1.5.0",
            "_view_name": "HTMLView",
            "description": "",
            "description_tooltip": null,
            "layout": "IPY_MODEL_093a6f2f884b4b9a9522778737671b0f",
            "placeholder": "​",
            "style": "IPY_MODEL_187de84bbe834c919a0463c6143a7ed3",
            "value": " 570/570 [00:00&lt;00:00, 12.1kB/s]"
          }
        },
        "2e7f916394f845dd977bed3e9032dfa0": {
          "model_module": "@jupyter-widgets/base",
          "model_name": "LayoutModel",
          "model_module_version": "1.2.0",
          "state": {
            "_model_module": "@jupyter-widgets/base",
            "_model_module_version": "1.2.0",
            "_model_name": "LayoutModel",
            "_view_count": null,
            "_view_module": "@jupyter-widgets/base",
            "_view_module_version": "1.2.0",
            "_view_name": "LayoutView",
            "align_content": null,
            "align_items": null,
            "align_self": null,
            "border": null,
            "bottom": null,
            "display": null,
            "flex": null,
            "flex_flow": null,
            "grid_area": null,
            "grid_auto_columns": null,
            "grid_auto_flow": null,
            "grid_auto_rows": null,
            "grid_column": null,
            "grid_gap": null,
            "grid_row": null,
            "grid_template_areas": null,
            "grid_template_columns": null,
            "grid_template_rows": null,
            "height": null,
            "justify_content": null,
            "justify_items": null,
            "left": null,
            "margin": null,
            "max_height": null,
            "max_width": null,
            "min_height": null,
            "min_width": null,
            "object_fit": null,
            "object_position": null,
            "order": null,
            "overflow": null,
            "overflow_x": null,
            "overflow_y": null,
            "padding": null,
            "right": null,
            "top": null,
            "visibility": null,
            "width": null
          }
        },
        "c500558ef20c4663ab9a67707e0a981f": {
          "model_module": "@jupyter-widgets/base",
          "model_name": "LayoutModel",
          "model_module_version": "1.2.0",
          "state": {
            "_model_module": "@jupyter-widgets/base",
            "_model_module_version": "1.2.0",
            "_model_name": "LayoutModel",
            "_view_count": null,
            "_view_module": "@jupyter-widgets/base",
            "_view_module_version": "1.2.0",
            "_view_name": "LayoutView",
            "align_content": null,
            "align_items": null,
            "align_self": null,
            "border": null,
            "bottom": null,
            "display": null,
            "flex": null,
            "flex_flow": null,
            "grid_area": null,
            "grid_auto_columns": null,
            "grid_auto_flow": null,
            "grid_auto_rows": null,
            "grid_column": null,
            "grid_gap": null,
            "grid_row": null,
            "grid_template_areas": null,
            "grid_template_columns": null,
            "grid_template_rows": null,
            "height": null,
            "justify_content": null,
            "justify_items": null,
            "left": null,
            "margin": null,
            "max_height": null,
            "max_width": null,
            "min_height": null,
            "min_width": null,
            "object_fit": null,
            "object_position": null,
            "order": null,
            "overflow": null,
            "overflow_x": null,
            "overflow_y": null,
            "padding": null,
            "right": null,
            "top": null,
            "visibility": null,
            "width": null
          }
        },
        "59f93f09433a449f8b26385feed35c6b": {
          "model_module": "@jupyter-widgets/controls",
          "model_name": "DescriptionStyleModel",
          "model_module_version": "1.5.0",
          "state": {
            "_model_module": "@jupyter-widgets/controls",
            "_model_module_version": "1.5.0",
            "_model_name": "DescriptionStyleModel",
            "_view_count": null,
            "_view_module": "@jupyter-widgets/base",
            "_view_module_version": "1.2.0",
            "_view_name": "StyleView",
            "description_width": ""
          }
        },
        "820bd3c0b62d460394b56d130c452b3e": {
          "model_module": "@jupyter-widgets/base",
          "model_name": "LayoutModel",
          "model_module_version": "1.2.0",
          "state": {
            "_model_module": "@jupyter-widgets/base",
            "_model_module_version": "1.2.0",
            "_model_name": "LayoutModel",
            "_view_count": null,
            "_view_module": "@jupyter-widgets/base",
            "_view_module_version": "1.2.0",
            "_view_name": "LayoutView",
            "align_content": null,
            "align_items": null,
            "align_self": null,
            "border": null,
            "bottom": null,
            "display": null,
            "flex": null,
            "flex_flow": null,
            "grid_area": null,
            "grid_auto_columns": null,
            "grid_auto_flow": null,
            "grid_auto_rows": null,
            "grid_column": null,
            "grid_gap": null,
            "grid_row": null,
            "grid_template_areas": null,
            "grid_template_columns": null,
            "grid_template_rows": null,
            "height": null,
            "justify_content": null,
            "justify_items": null,
            "left": null,
            "margin": null,
            "max_height": null,
            "max_width": null,
            "min_height": null,
            "min_width": null,
            "object_fit": null,
            "object_position": null,
            "order": null,
            "overflow": null,
            "overflow_x": null,
            "overflow_y": null,
            "padding": null,
            "right": null,
            "top": null,
            "visibility": null,
            "width": null
          }
        },
        "a2aa9fa1f1054dfcb9f039e1f1e2dc2f": {
          "model_module": "@jupyter-widgets/controls",
          "model_name": "ProgressStyleModel",
          "model_module_version": "1.5.0",
          "state": {
            "_model_module": "@jupyter-widgets/controls",
            "_model_module_version": "1.5.0",
            "_model_name": "ProgressStyleModel",
            "_view_count": null,
            "_view_module": "@jupyter-widgets/base",
            "_view_module_version": "1.2.0",
            "_view_name": "StyleView",
            "bar_color": null,
            "description_width": ""
          }
        },
        "093a6f2f884b4b9a9522778737671b0f": {
          "model_module": "@jupyter-widgets/base",
          "model_name": "LayoutModel",
          "model_module_version": "1.2.0",
          "state": {
            "_model_module": "@jupyter-widgets/base",
            "_model_module_version": "1.2.0",
            "_model_name": "LayoutModel",
            "_view_count": null,
            "_view_module": "@jupyter-widgets/base",
            "_view_module_version": "1.2.0",
            "_view_name": "LayoutView",
            "align_content": null,
            "align_items": null,
            "align_self": null,
            "border": null,
            "bottom": null,
            "display": null,
            "flex": null,
            "flex_flow": null,
            "grid_area": null,
            "grid_auto_columns": null,
            "grid_auto_flow": null,
            "grid_auto_rows": null,
            "grid_column": null,
            "grid_gap": null,
            "grid_row": null,
            "grid_template_areas": null,
            "grid_template_columns": null,
            "grid_template_rows": null,
            "height": null,
            "justify_content": null,
            "justify_items": null,
            "left": null,
            "margin": null,
            "max_height": null,
            "max_width": null,
            "min_height": null,
            "min_width": null,
            "object_fit": null,
            "object_position": null,
            "order": null,
            "overflow": null,
            "overflow_x": null,
            "overflow_y": null,
            "padding": null,
            "right": null,
            "top": null,
            "visibility": null,
            "width": null
          }
        },
        "187de84bbe834c919a0463c6143a7ed3": {
          "model_module": "@jupyter-widgets/controls",
          "model_name": "DescriptionStyleModel",
          "model_module_version": "1.5.0",
          "state": {
            "_model_module": "@jupyter-widgets/controls",
            "_model_module_version": "1.5.0",
            "_model_name": "DescriptionStyleModel",
            "_view_count": null,
            "_view_module": "@jupyter-widgets/base",
            "_view_module_version": "1.2.0",
            "_view_name": "StyleView",
            "description_width": ""
          }
        },
        "b3d2b8ea966b4eea8f6c8383a1f18a34": {
          "model_module": "@jupyter-widgets/controls",
          "model_name": "HBoxModel",
          "model_module_version": "1.5.0",
          "state": {
            "_dom_classes": [],
            "_model_module": "@jupyter-widgets/controls",
            "_model_module_version": "1.5.0",
            "_model_name": "HBoxModel",
            "_view_count": null,
            "_view_module": "@jupyter-widgets/controls",
            "_view_module_version": "1.5.0",
            "_view_name": "HBoxView",
            "box_style": "",
            "children": [
              "IPY_MODEL_b4d0205fe8dc4bc484f41928a7bed505",
              "IPY_MODEL_74277b58ef0041ca9c2a9f651f9ce8fe",
              "IPY_MODEL_305059ca5ec94e65bc9a2d183ff68a30"
            ],
            "layout": "IPY_MODEL_86f162a8c4664bc0a3ee81e99aaddd8e"
          }
        },
        "b4d0205fe8dc4bc484f41928a7bed505": {
          "model_module": "@jupyter-widgets/controls",
          "model_name": "HTMLModel",
          "model_module_version": "1.5.0",
          "state": {
            "_dom_classes": [],
            "_model_module": "@jupyter-widgets/controls",
            "_model_module_version": "1.5.0",
            "_model_name": "HTMLModel",
            "_view_count": null,
            "_view_module": "@jupyter-widgets/controls",
            "_view_module_version": "1.5.0",
            "_view_name": "HTMLView",
            "description": "",
            "description_tooltip": null,
            "layout": "IPY_MODEL_0f9070e9bbcb4e01a43fe5d2e0e873a5",
            "placeholder": "​",
            "style": "IPY_MODEL_c32a8fed189541b9a05a337ba7eab417",
            "value": "Downloading model.safetensors: 100%"
          }
        },
        "74277b58ef0041ca9c2a9f651f9ce8fe": {
          "model_module": "@jupyter-widgets/controls",
          "model_name": "FloatProgressModel",
          "model_module_version": "1.5.0",
          "state": {
            "_dom_classes": [],
            "_model_module": "@jupyter-widgets/controls",
            "_model_module_version": "1.5.0",
            "_model_name": "FloatProgressModel",
            "_view_count": null,
            "_view_module": "@jupyter-widgets/controls",
            "_view_module_version": "1.5.0",
            "_view_name": "ProgressView",
            "bar_style": "success",
            "description": "",
            "description_tooltip": null,
            "layout": "IPY_MODEL_740614c0551644f78803b5bdbc2c6d63",
            "max": 440449768,
            "min": 0,
            "orientation": "horizontal",
            "style": "IPY_MODEL_0d0e920f938841be86e0e866b49ad172",
            "value": 440449768
          }
        },
        "305059ca5ec94e65bc9a2d183ff68a30": {
          "model_module": "@jupyter-widgets/controls",
          "model_name": "HTMLModel",
          "model_module_version": "1.5.0",
          "state": {
            "_dom_classes": [],
            "_model_module": "@jupyter-widgets/controls",
            "_model_module_version": "1.5.0",
            "_model_name": "HTMLModel",
            "_view_count": null,
            "_view_module": "@jupyter-widgets/controls",
            "_view_module_version": "1.5.0",
            "_view_name": "HTMLView",
            "description": "",
            "description_tooltip": null,
            "layout": "IPY_MODEL_4590c18737ec4a95b513993452bb9541",
            "placeholder": "​",
            "style": "IPY_MODEL_e669c205c99f49e992fd9c2851958ed0",
            "value": " 440M/440M [00:04&lt;00:00, 120MB/s]"
          }
        },
        "86f162a8c4664bc0a3ee81e99aaddd8e": {
          "model_module": "@jupyter-widgets/base",
          "model_name": "LayoutModel",
          "model_module_version": "1.2.0",
          "state": {
            "_model_module": "@jupyter-widgets/base",
            "_model_module_version": "1.2.0",
            "_model_name": "LayoutModel",
            "_view_count": null,
            "_view_module": "@jupyter-widgets/base",
            "_view_module_version": "1.2.0",
            "_view_name": "LayoutView",
            "align_content": null,
            "align_items": null,
            "align_self": null,
            "border": null,
            "bottom": null,
            "display": null,
            "flex": null,
            "flex_flow": null,
            "grid_area": null,
            "grid_auto_columns": null,
            "grid_auto_flow": null,
            "grid_auto_rows": null,
            "grid_column": null,
            "grid_gap": null,
            "grid_row": null,
            "grid_template_areas": null,
            "grid_template_columns": null,
            "grid_template_rows": null,
            "height": null,
            "justify_content": null,
            "justify_items": null,
            "left": null,
            "margin": null,
            "max_height": null,
            "max_width": null,
            "min_height": null,
            "min_width": null,
            "object_fit": null,
            "object_position": null,
            "order": null,
            "overflow": null,
            "overflow_x": null,
            "overflow_y": null,
            "padding": null,
            "right": null,
            "top": null,
            "visibility": null,
            "width": null
          }
        },
        "0f9070e9bbcb4e01a43fe5d2e0e873a5": {
          "model_module": "@jupyter-widgets/base",
          "model_name": "LayoutModel",
          "model_module_version": "1.2.0",
          "state": {
            "_model_module": "@jupyter-widgets/base",
            "_model_module_version": "1.2.0",
            "_model_name": "LayoutModel",
            "_view_count": null,
            "_view_module": "@jupyter-widgets/base",
            "_view_module_version": "1.2.0",
            "_view_name": "LayoutView",
            "align_content": null,
            "align_items": null,
            "align_self": null,
            "border": null,
            "bottom": null,
            "display": null,
            "flex": null,
            "flex_flow": null,
            "grid_area": null,
            "grid_auto_columns": null,
            "grid_auto_flow": null,
            "grid_auto_rows": null,
            "grid_column": null,
            "grid_gap": null,
            "grid_row": null,
            "grid_template_areas": null,
            "grid_template_columns": null,
            "grid_template_rows": null,
            "height": null,
            "justify_content": null,
            "justify_items": null,
            "left": null,
            "margin": null,
            "max_height": null,
            "max_width": null,
            "min_height": null,
            "min_width": null,
            "object_fit": null,
            "object_position": null,
            "order": null,
            "overflow": null,
            "overflow_x": null,
            "overflow_y": null,
            "padding": null,
            "right": null,
            "top": null,
            "visibility": null,
            "width": null
          }
        },
        "c32a8fed189541b9a05a337ba7eab417": {
          "model_module": "@jupyter-widgets/controls",
          "model_name": "DescriptionStyleModel",
          "model_module_version": "1.5.0",
          "state": {
            "_model_module": "@jupyter-widgets/controls",
            "_model_module_version": "1.5.0",
            "_model_name": "DescriptionStyleModel",
            "_view_count": null,
            "_view_module": "@jupyter-widgets/base",
            "_view_module_version": "1.2.0",
            "_view_name": "StyleView",
            "description_width": ""
          }
        },
        "740614c0551644f78803b5bdbc2c6d63": {
          "model_module": "@jupyter-widgets/base",
          "model_name": "LayoutModel",
          "model_module_version": "1.2.0",
          "state": {
            "_model_module": "@jupyter-widgets/base",
            "_model_module_version": "1.2.0",
            "_model_name": "LayoutModel",
            "_view_count": null,
            "_view_module": "@jupyter-widgets/base",
            "_view_module_version": "1.2.0",
            "_view_name": "LayoutView",
            "align_content": null,
            "align_items": null,
            "align_self": null,
            "border": null,
            "bottom": null,
            "display": null,
            "flex": null,
            "flex_flow": null,
            "grid_area": null,
            "grid_auto_columns": null,
            "grid_auto_flow": null,
            "grid_auto_rows": null,
            "grid_column": null,
            "grid_gap": null,
            "grid_row": null,
            "grid_template_areas": null,
            "grid_template_columns": null,
            "grid_template_rows": null,
            "height": null,
            "justify_content": null,
            "justify_items": null,
            "left": null,
            "margin": null,
            "max_height": null,
            "max_width": null,
            "min_height": null,
            "min_width": null,
            "object_fit": null,
            "object_position": null,
            "order": null,
            "overflow": null,
            "overflow_x": null,
            "overflow_y": null,
            "padding": null,
            "right": null,
            "top": null,
            "visibility": null,
            "width": null
          }
        },
        "0d0e920f938841be86e0e866b49ad172": {
          "model_module": "@jupyter-widgets/controls",
          "model_name": "ProgressStyleModel",
          "model_module_version": "1.5.0",
          "state": {
            "_model_module": "@jupyter-widgets/controls",
            "_model_module_version": "1.5.0",
            "_model_name": "ProgressStyleModel",
            "_view_count": null,
            "_view_module": "@jupyter-widgets/base",
            "_view_module_version": "1.2.0",
            "_view_name": "StyleView",
            "bar_color": null,
            "description_width": ""
          }
        },
        "4590c18737ec4a95b513993452bb9541": {
          "model_module": "@jupyter-widgets/base",
          "model_name": "LayoutModel",
          "model_module_version": "1.2.0",
          "state": {
            "_model_module": "@jupyter-widgets/base",
            "_model_module_version": "1.2.0",
            "_model_name": "LayoutModel",
            "_view_count": null,
            "_view_module": "@jupyter-widgets/base",
            "_view_module_version": "1.2.0",
            "_view_name": "LayoutView",
            "align_content": null,
            "align_items": null,
            "align_self": null,
            "border": null,
            "bottom": null,
            "display": null,
            "flex": null,
            "flex_flow": null,
            "grid_area": null,
            "grid_auto_columns": null,
            "grid_auto_flow": null,
            "grid_auto_rows": null,
            "grid_column": null,
            "grid_gap": null,
            "grid_row": null,
            "grid_template_areas": null,
            "grid_template_columns": null,
            "grid_template_rows": null,
            "height": null,
            "justify_content": null,
            "justify_items": null,
            "left": null,
            "margin": null,
            "max_height": null,
            "max_width": null,
            "min_height": null,
            "min_width": null,
            "object_fit": null,
            "object_position": null,
            "order": null,
            "overflow": null,
            "overflow_x": null,
            "overflow_y": null,
            "padding": null,
            "right": null,
            "top": null,
            "visibility": null,
            "width": null
          }
        },
        "e669c205c99f49e992fd9c2851958ed0": {
          "model_module": "@jupyter-widgets/controls",
          "model_name": "DescriptionStyleModel",
          "model_module_version": "1.5.0",
          "state": {
            "_model_module": "@jupyter-widgets/controls",
            "_model_module_version": "1.5.0",
            "_model_name": "DescriptionStyleModel",
            "_view_count": null,
            "_view_module": "@jupyter-widgets/base",
            "_view_module_version": "1.2.0",
            "_view_name": "StyleView",
            "description_width": ""
          }
        }
      }
    }
  },
  "nbformat_minor": 0,
  "nbformat": 4,
  "cells": [
    {
      "cell_type": "code",
      "source": [
        "!pip install -q tensorflow transformers"
      ],
      "metadata": {
        "execution": {
          "iopub.status.busy": "2023-09-25T15:25:52.020270Z",
          "iopub.execute_input": "2023-09-25T15:25:52.020639Z",
          "iopub.status.idle": "2023-09-25T15:26:07.762165Z",
          "shell.execute_reply.started": "2023-09-25T15:25:52.020610Z",
          "shell.execute_reply": "2023-09-25T15:26:07.761032Z"
        },
        "collapsed": true,
        "jupyter": {
          "outputs_hidden": true
        },
        "trusted": true,
        "id": "Y3fa-Wr9_f7x",
        "colab": {
          "base_uri": "https://localhost:8080/"
        },
        "outputId": "a381451a-7f38-40aa-c777-f69554488176"
      },
      "execution_count": 1,
      "outputs": [
        {
          "output_type": "stream",
          "name": "stdout",
          "text": [
            "\u001b[2K     \u001b[90m━━━━━━━━━━━━━━━━━━━━━━━━━━━━━━━━━━━━━━━━\u001b[0m \u001b[32m7.7/7.7 MB\u001b[0m \u001b[31m58.5 MB/s\u001b[0m eta \u001b[36m0:00:00\u001b[0m\n",
            "\u001b[2K     \u001b[90m━━━━━━━━━━━━━━━━━━━━━━━━━━━━━━━━━━━━━━\u001b[0m \u001b[32m295.0/295.0 kB\u001b[0m \u001b[31m32.9 MB/s\u001b[0m eta \u001b[36m0:00:00\u001b[0m\n",
            "\u001b[2K     \u001b[90m━━━━━━━━━━━━━━━━━━━━━━━━━━━━━━━━━━━━━━━━\u001b[0m \u001b[32m3.8/3.8 MB\u001b[0m \u001b[31m106.5 MB/s\u001b[0m eta \u001b[36m0:00:00\u001b[0m\n",
            "\u001b[2K     \u001b[90m━━━━━━━━━━━━━━━━━━━━━━━━━━━━━━━━━━━━━━━━\u001b[0m \u001b[32m1.3/1.3 MB\u001b[0m \u001b[31m64.9 MB/s\u001b[0m eta \u001b[36m0:00:00\u001b[0m\n",
            "\u001b[2K     \u001b[90m━━━━━━━━━━━━━━━━━━━━━━━━━━━━━━━━━━━━━━\u001b[0m \u001b[32m268.8/268.8 kB\u001b[0m \u001b[31m29.5 MB/s\u001b[0m eta \u001b[36m0:00:00\u001b[0m\n",
            "\u001b[?25h"
          ]
        }
      ]
    },
    {
      "cell_type": "code",
      "source": [
        "import numpy as np\n",
        "import pandas as pd\n",
        "import seaborn as sns\n",
        "import matplotlib.pyplot as plt\n",
        "import tensorflow as tf\n",
        "from tqdm import tqdm\n",
        "from sklearn import preprocessing, decomposition, model_selection, metrics, pipeline\n",
        "from sklearn.feature_extraction.text import TfidfVectorizer, CountVectorizer\n",
        "from sklearn.model_selection import train_test_split\n",
        "from sklearn.linear_model import LinearRegression\n",
        "from sklearn.metrics import mean_squared_error, mean_absolute_error\n",
        "from xgboost import XGBRegressor\n",
        "from nltk import word_tokenize\n",
        "from nltk.corpus import stopwords\n",
        "from keras.layers import (\n",
        "    GlobalMaxPooling1D, Conv1D, MaxPooling1D, Flatten, Bidirectional,\n",
        "    SpatialDropout1D, Dense, Activation, Dropout, BatchNormalization,\n",
        "    Embedding, LSTM, GRU\n",
        ")\n",
        "from keras.metrics import MeanAbsoluteError, RootMeanSquaredError, MeanSquaredError\n",
        "from keras.preprocessing import sequence, text\n",
        "from keras.callbacks import EarlyStopping\n",
        "from keras.utils import pad_sequences\n",
        "\n",
        "from scipy.stats import pearsonr\n",
        "from string import punctuation\n",
        "from sklearn.metrics import r2_score\n",
        "from sklearn.preprocessing import LabelEncoder, OrdinalEncoder, StandardScaler\n",
        "from sklearn.model_selection import train_test_split\n",
        "import tensorflow_hub as tfh\n",
        "from transformers import TFBertModel, BertTokenizer"
      ],
      "metadata": {
        "_uuid": "8f2839f25d086af736a60e9eeb907d3b93b6e0e5",
        "_cell_guid": "b1076dfc-b9ad-4769-8c92-a6c4dae69d19",
        "execution": {
          "iopub.status.busy": "2023-09-25T15:32:12.804059Z",
          "iopub.execute_input": "2023-09-25T15:32:12.804520Z",
          "iopub.status.idle": "2023-09-25T15:32:12.815175Z",
          "shell.execute_reply.started": "2023-09-25T15:32:12.804486Z",
          "shell.execute_reply": "2023-09-25T15:32:12.813943Z"
        },
        "trusted": true,
        "id": "oq-mCYdZ_f7t"
      },
      "execution_count": 2,
      "outputs": []
    },
    {
      "cell_type": "code",
      "source": [
        "df = pd.read_csv('ielts_writing_dataset.csv')"
      ],
      "metadata": {
        "execution": {
          "iopub.status.busy": "2023-09-25T15:25:36.216593Z",
          "iopub.execute_input": "2023-09-25T15:25:36.216985Z",
          "iopub.status.idle": "2023-09-25T15:25:36.261592Z",
          "shell.execute_reply.started": "2023-09-25T15:25:36.216952Z",
          "shell.execute_reply": "2023-09-25T15:25:36.260375Z"
        },
        "trusted": true,
        "id": "MBIP5BVw_f7v"
      },
      "execution_count": 3,
      "outputs": []
    },
    {
      "cell_type": "markdown",
      "source": [
        "# Exploratory data analysis"
      ],
      "metadata": {
        "id": "GciSekPP2ZD1"
      }
    },
    {
      "cell_type": "code",
      "source": [
        "print(\"Shape:\", df.shape)\n",
        "df.head(3)"
      ],
      "metadata": {
        "execution": {
          "iopub.status.busy": "2023-09-25T15:25:36.425283Z",
          "iopub.execute_input": "2023-09-25T15:25:36.425706Z",
          "iopub.status.idle": "2023-09-25T15:25:36.443002Z",
          "shell.execute_reply.started": "2023-09-25T15:25:36.425673Z",
          "shell.execute_reply": "2023-09-25T15:25:36.441537Z"
        },
        "trusted": true,
        "colab": {
          "base_uri": "https://localhost:8080/",
          "height": 265
        },
        "id": "4LAO4fmn_f7w",
        "outputId": "86345c69-521c-4d9a-a648-47007b92b05f"
      },
      "execution_count": 4,
      "outputs": [
        {
          "output_type": "stream",
          "name": "stdout",
          "text": [
            "Shape: (1435, 9)\n"
          ]
        },
        {
          "output_type": "execute_result",
          "data": {
            "text/plain": [
              "   Task_Type                                           Question  \\\n",
              "0          1  The bar chart below describes some changes abo...   \n",
              "1          2  Rich countries often give money to poorer coun...   \n",
              "2          1  The bar chart below describes some changes abo...   \n",
              "\n",
              "                                               Essay Examiner_Commen  \\\n",
              "0  Between 1995 and 2010, a study was conducted r...             NaN   \n",
              "1  Poverty represents a worldwide crisis. It is t...             NaN   \n",
              "2  The left chart shows the population change hap...             NaN   \n",
              "\n",
              "   Task_Response  Coherence_Cohesion  Lexical_Resource  Range_Accuracy  \\\n",
              "0            NaN                 NaN               NaN             NaN   \n",
              "1            NaN                 NaN               NaN             NaN   \n",
              "2            NaN                 NaN               NaN             NaN   \n",
              "\n",
              "   Overall  \n",
              "0      5.5  \n",
              "1      6.5  \n",
              "2      5.0  "
            ],
            "text/html": [
              "\n",
              "  <div id=\"df-d2d86a2a-9bfa-485c-a855-8346ce6b395a\" class=\"colab-df-container\">\n",
              "    <div>\n",
              "<style scoped>\n",
              "    .dataframe tbody tr th:only-of-type {\n",
              "        vertical-align: middle;\n",
              "    }\n",
              "\n",
              "    .dataframe tbody tr th {\n",
              "        vertical-align: top;\n",
              "    }\n",
              "\n",
              "    .dataframe thead th {\n",
              "        text-align: right;\n",
              "    }\n",
              "</style>\n",
              "<table border=\"1\" class=\"dataframe\">\n",
              "  <thead>\n",
              "    <tr style=\"text-align: right;\">\n",
              "      <th></th>\n",
              "      <th>Task_Type</th>\n",
              "      <th>Question</th>\n",
              "      <th>Essay</th>\n",
              "      <th>Examiner_Commen</th>\n",
              "      <th>Task_Response</th>\n",
              "      <th>Coherence_Cohesion</th>\n",
              "      <th>Lexical_Resource</th>\n",
              "      <th>Range_Accuracy</th>\n",
              "      <th>Overall</th>\n",
              "    </tr>\n",
              "  </thead>\n",
              "  <tbody>\n",
              "    <tr>\n",
              "      <th>0</th>\n",
              "      <td>1</td>\n",
              "      <td>The bar chart below describes some changes abo...</td>\n",
              "      <td>Between 1995 and 2010, a study was conducted r...</td>\n",
              "      <td>NaN</td>\n",
              "      <td>NaN</td>\n",
              "      <td>NaN</td>\n",
              "      <td>NaN</td>\n",
              "      <td>NaN</td>\n",
              "      <td>5.5</td>\n",
              "    </tr>\n",
              "    <tr>\n",
              "      <th>1</th>\n",
              "      <td>2</td>\n",
              "      <td>Rich countries often give money to poorer coun...</td>\n",
              "      <td>Poverty represents a worldwide crisis. It is t...</td>\n",
              "      <td>NaN</td>\n",
              "      <td>NaN</td>\n",
              "      <td>NaN</td>\n",
              "      <td>NaN</td>\n",
              "      <td>NaN</td>\n",
              "      <td>6.5</td>\n",
              "    </tr>\n",
              "    <tr>\n",
              "      <th>2</th>\n",
              "      <td>1</td>\n",
              "      <td>The bar chart below describes some changes abo...</td>\n",
              "      <td>The left chart shows the population change hap...</td>\n",
              "      <td>NaN</td>\n",
              "      <td>NaN</td>\n",
              "      <td>NaN</td>\n",
              "      <td>NaN</td>\n",
              "      <td>NaN</td>\n",
              "      <td>5.0</td>\n",
              "    </tr>\n",
              "  </tbody>\n",
              "</table>\n",
              "</div>\n",
              "    <div class=\"colab-df-buttons\">\n",
              "\n",
              "  <div class=\"colab-df-container\">\n",
              "    <button class=\"colab-df-convert\" onclick=\"convertToInteractive('df-d2d86a2a-9bfa-485c-a855-8346ce6b395a')\"\n",
              "            title=\"Convert this dataframe to an interactive table.\"\n",
              "            style=\"display:none;\">\n",
              "\n",
              "  <svg xmlns=\"http://www.w3.org/2000/svg\" height=\"24px\" viewBox=\"0 -960 960 960\">\n",
              "    <path d=\"M120-120v-720h720v720H120Zm60-500h600v-160H180v160Zm220 220h160v-160H400v160Zm0 220h160v-160H400v160ZM180-400h160v-160H180v160Zm440 0h160v-160H620v160ZM180-180h160v-160H180v160Zm440 0h160v-160H620v160Z\"/>\n",
              "  </svg>\n",
              "    </button>\n",
              "\n",
              "  <style>\n",
              "    .colab-df-container {\n",
              "      display:flex;\n",
              "      gap: 12px;\n",
              "    }\n",
              "\n",
              "    .colab-df-convert {\n",
              "      background-color: #E8F0FE;\n",
              "      border: none;\n",
              "      border-radius: 50%;\n",
              "      cursor: pointer;\n",
              "      display: none;\n",
              "      fill: #1967D2;\n",
              "      height: 32px;\n",
              "      padding: 0 0 0 0;\n",
              "      width: 32px;\n",
              "    }\n",
              "\n",
              "    .colab-df-convert:hover {\n",
              "      background-color: #E2EBFA;\n",
              "      box-shadow: 0px 1px 2px rgba(60, 64, 67, 0.3), 0px 1px 3px 1px rgba(60, 64, 67, 0.15);\n",
              "      fill: #174EA6;\n",
              "    }\n",
              "\n",
              "    .colab-df-buttons div {\n",
              "      margin-bottom: 4px;\n",
              "    }\n",
              "\n",
              "    [theme=dark] .colab-df-convert {\n",
              "      background-color: #3B4455;\n",
              "      fill: #D2E3FC;\n",
              "    }\n",
              "\n",
              "    [theme=dark] .colab-df-convert:hover {\n",
              "      background-color: #434B5C;\n",
              "      box-shadow: 0px 1px 3px 1px rgba(0, 0, 0, 0.15);\n",
              "      filter: drop-shadow(0px 1px 2px rgba(0, 0, 0, 0.3));\n",
              "      fill: #FFFFFF;\n",
              "    }\n",
              "  </style>\n",
              "\n",
              "    <script>\n",
              "      const buttonEl =\n",
              "        document.querySelector('#df-d2d86a2a-9bfa-485c-a855-8346ce6b395a button.colab-df-convert');\n",
              "      buttonEl.style.display =\n",
              "        google.colab.kernel.accessAllowed ? 'block' : 'none';\n",
              "\n",
              "      async function convertToInteractive(key) {\n",
              "        const element = document.querySelector('#df-d2d86a2a-9bfa-485c-a855-8346ce6b395a');\n",
              "        const dataTable =\n",
              "          await google.colab.kernel.invokeFunction('convertToInteractive',\n",
              "                                                    [key], {});\n",
              "        if (!dataTable) return;\n",
              "\n",
              "        const docLinkHtml = 'Like what you see? Visit the ' +\n",
              "          '<a target=\"_blank\" href=https://colab.research.google.com/notebooks/data_table.ipynb>data table notebook</a>'\n",
              "          + ' to learn more about interactive tables.';\n",
              "        element.innerHTML = '';\n",
              "        dataTable['output_type'] = 'display_data';\n",
              "        await google.colab.output.renderOutput(dataTable, element);\n",
              "        const docLink = document.createElement('div');\n",
              "        docLink.innerHTML = docLinkHtml;\n",
              "        element.appendChild(docLink);\n",
              "      }\n",
              "    </script>\n",
              "  </div>\n",
              "\n",
              "\n",
              "<div id=\"df-d0755056-5e11-4591-8c57-375112dd4cbc\">\n",
              "  <button class=\"colab-df-quickchart\" onclick=\"quickchart('df-d0755056-5e11-4591-8c57-375112dd4cbc')\"\n",
              "            title=\"Suggest charts.\"\n",
              "            style=\"display:none;\">\n",
              "\n",
              "<svg xmlns=\"http://www.w3.org/2000/svg\" height=\"24px\"viewBox=\"0 0 24 24\"\n",
              "     width=\"24px\">\n",
              "    <g>\n",
              "        <path d=\"M19 3H5c-1.1 0-2 .9-2 2v14c0 1.1.9 2 2 2h14c1.1 0 2-.9 2-2V5c0-1.1-.9-2-2-2zM9 17H7v-7h2v7zm4 0h-2V7h2v10zm4 0h-2v-4h2v4z\"/>\n",
              "    </g>\n",
              "</svg>\n",
              "  </button>\n",
              "\n",
              "<style>\n",
              "  .colab-df-quickchart {\n",
              "      --bg-color: #E8F0FE;\n",
              "      --fill-color: #1967D2;\n",
              "      --hover-bg-color: #E2EBFA;\n",
              "      --hover-fill-color: #174EA6;\n",
              "      --disabled-fill-color: #AAA;\n",
              "      --disabled-bg-color: #DDD;\n",
              "  }\n",
              "\n",
              "  [theme=dark] .colab-df-quickchart {\n",
              "      --bg-color: #3B4455;\n",
              "      --fill-color: #D2E3FC;\n",
              "      --hover-bg-color: #434B5C;\n",
              "      --hover-fill-color: #FFFFFF;\n",
              "      --disabled-bg-color: #3B4455;\n",
              "      --disabled-fill-color: #666;\n",
              "  }\n",
              "\n",
              "  .colab-df-quickchart {\n",
              "    background-color: var(--bg-color);\n",
              "    border: none;\n",
              "    border-radius: 50%;\n",
              "    cursor: pointer;\n",
              "    display: none;\n",
              "    fill: var(--fill-color);\n",
              "    height: 32px;\n",
              "    padding: 0;\n",
              "    width: 32px;\n",
              "  }\n",
              "\n",
              "  .colab-df-quickchart:hover {\n",
              "    background-color: var(--hover-bg-color);\n",
              "    box-shadow: 0 1px 2px rgba(60, 64, 67, 0.3), 0 1px 3px 1px rgba(60, 64, 67, 0.15);\n",
              "    fill: var(--button-hover-fill-color);\n",
              "  }\n",
              "\n",
              "  .colab-df-quickchart-complete:disabled,\n",
              "  .colab-df-quickchart-complete:disabled:hover {\n",
              "    background-color: var(--disabled-bg-color);\n",
              "    fill: var(--disabled-fill-color);\n",
              "    box-shadow: none;\n",
              "  }\n",
              "\n",
              "  .colab-df-spinner {\n",
              "    border: 2px solid var(--fill-color);\n",
              "    border-color: transparent;\n",
              "    border-bottom-color: var(--fill-color);\n",
              "    animation:\n",
              "      spin 1s steps(1) infinite;\n",
              "  }\n",
              "\n",
              "  @keyframes spin {\n",
              "    0% {\n",
              "      border-color: transparent;\n",
              "      border-bottom-color: var(--fill-color);\n",
              "      border-left-color: var(--fill-color);\n",
              "    }\n",
              "    20% {\n",
              "      border-color: transparent;\n",
              "      border-left-color: var(--fill-color);\n",
              "      border-top-color: var(--fill-color);\n",
              "    }\n",
              "    30% {\n",
              "      border-color: transparent;\n",
              "      border-left-color: var(--fill-color);\n",
              "      border-top-color: var(--fill-color);\n",
              "      border-right-color: var(--fill-color);\n",
              "    }\n",
              "    40% {\n",
              "      border-color: transparent;\n",
              "      border-right-color: var(--fill-color);\n",
              "      border-top-color: var(--fill-color);\n",
              "    }\n",
              "    60% {\n",
              "      border-color: transparent;\n",
              "      border-right-color: var(--fill-color);\n",
              "    }\n",
              "    80% {\n",
              "      border-color: transparent;\n",
              "      border-right-color: var(--fill-color);\n",
              "      border-bottom-color: var(--fill-color);\n",
              "    }\n",
              "    90% {\n",
              "      border-color: transparent;\n",
              "      border-bottom-color: var(--fill-color);\n",
              "    }\n",
              "  }\n",
              "</style>\n",
              "\n",
              "  <script>\n",
              "    async function quickchart(key) {\n",
              "      const quickchartButtonEl =\n",
              "        document.querySelector('#' + key + ' button');\n",
              "      quickchartButtonEl.disabled = true;  // To prevent multiple clicks.\n",
              "      quickchartButtonEl.classList.add('colab-df-spinner');\n",
              "      try {\n",
              "        const charts = await google.colab.kernel.invokeFunction(\n",
              "            'suggestCharts', [key], {});\n",
              "      } catch (error) {\n",
              "        console.error('Error during call to suggestCharts:', error);\n",
              "      }\n",
              "      quickchartButtonEl.classList.remove('colab-df-spinner');\n",
              "      quickchartButtonEl.classList.add('colab-df-quickchart-complete');\n",
              "    }\n",
              "    (() => {\n",
              "      let quickchartButtonEl =\n",
              "        document.querySelector('#df-d0755056-5e11-4591-8c57-375112dd4cbc button');\n",
              "      quickchartButtonEl.style.display =\n",
              "        google.colab.kernel.accessAllowed ? 'block' : 'none';\n",
              "    })();\n",
              "  </script>\n",
              "</div>\n",
              "    </div>\n",
              "  </div>\n"
            ]
          },
          "metadata": {},
          "execution_count": 4
        }
      ]
    },
    {
      "cell_type": "code",
      "source": [
        "df.describe()"
      ],
      "metadata": {
        "id": "k97pS74wNQqC",
        "colab": {
          "base_uri": "https://localhost:8080/",
          "height": 300
        },
        "outputId": "fd922c24-2bbd-4d68-ce68-c0fe3331cfad"
      },
      "execution_count": 5,
      "outputs": [
        {
          "output_type": "execute_result",
          "data": {
            "text/plain": [
              "         Task_Type  Task_Response  Coherence_Cohesion  Lexical_Resource  \\\n",
              "count  1435.000000            0.0                 0.0               0.0   \n",
              "mean      1.552613            NaN                 NaN               NaN   \n",
              "std       0.497397            NaN                 NaN               NaN   \n",
              "min       1.000000            NaN                 NaN               NaN   \n",
              "25%       1.000000            NaN                 NaN               NaN   \n",
              "50%       2.000000            NaN                 NaN               NaN   \n",
              "75%       2.000000            NaN                 NaN               NaN   \n",
              "max       2.000000            NaN                 NaN               NaN   \n",
              "\n",
              "       Range_Accuracy      Overall  \n",
              "count             0.0  1435.000000  \n",
              "mean              NaN     6.550174  \n",
              "std               NaN     1.058237  \n",
              "min               NaN     1.000000  \n",
              "25%               NaN     6.000000  \n",
              "50%               NaN     6.500000  \n",
              "75%               NaN     7.000000  \n",
              "max               NaN     9.000000  "
            ],
            "text/html": [
              "\n",
              "  <div id=\"df-a477a927-a571-4fae-b551-82a2a543f483\" class=\"colab-df-container\">\n",
              "    <div>\n",
              "<style scoped>\n",
              "    .dataframe tbody tr th:only-of-type {\n",
              "        vertical-align: middle;\n",
              "    }\n",
              "\n",
              "    .dataframe tbody tr th {\n",
              "        vertical-align: top;\n",
              "    }\n",
              "\n",
              "    .dataframe thead th {\n",
              "        text-align: right;\n",
              "    }\n",
              "</style>\n",
              "<table border=\"1\" class=\"dataframe\">\n",
              "  <thead>\n",
              "    <tr style=\"text-align: right;\">\n",
              "      <th></th>\n",
              "      <th>Task_Type</th>\n",
              "      <th>Task_Response</th>\n",
              "      <th>Coherence_Cohesion</th>\n",
              "      <th>Lexical_Resource</th>\n",
              "      <th>Range_Accuracy</th>\n",
              "      <th>Overall</th>\n",
              "    </tr>\n",
              "  </thead>\n",
              "  <tbody>\n",
              "    <tr>\n",
              "      <th>count</th>\n",
              "      <td>1435.000000</td>\n",
              "      <td>0.0</td>\n",
              "      <td>0.0</td>\n",
              "      <td>0.0</td>\n",
              "      <td>0.0</td>\n",
              "      <td>1435.000000</td>\n",
              "    </tr>\n",
              "    <tr>\n",
              "      <th>mean</th>\n",
              "      <td>1.552613</td>\n",
              "      <td>NaN</td>\n",
              "      <td>NaN</td>\n",
              "      <td>NaN</td>\n",
              "      <td>NaN</td>\n",
              "      <td>6.550174</td>\n",
              "    </tr>\n",
              "    <tr>\n",
              "      <th>std</th>\n",
              "      <td>0.497397</td>\n",
              "      <td>NaN</td>\n",
              "      <td>NaN</td>\n",
              "      <td>NaN</td>\n",
              "      <td>NaN</td>\n",
              "      <td>1.058237</td>\n",
              "    </tr>\n",
              "    <tr>\n",
              "      <th>min</th>\n",
              "      <td>1.000000</td>\n",
              "      <td>NaN</td>\n",
              "      <td>NaN</td>\n",
              "      <td>NaN</td>\n",
              "      <td>NaN</td>\n",
              "      <td>1.000000</td>\n",
              "    </tr>\n",
              "    <tr>\n",
              "      <th>25%</th>\n",
              "      <td>1.000000</td>\n",
              "      <td>NaN</td>\n",
              "      <td>NaN</td>\n",
              "      <td>NaN</td>\n",
              "      <td>NaN</td>\n",
              "      <td>6.000000</td>\n",
              "    </tr>\n",
              "    <tr>\n",
              "      <th>50%</th>\n",
              "      <td>2.000000</td>\n",
              "      <td>NaN</td>\n",
              "      <td>NaN</td>\n",
              "      <td>NaN</td>\n",
              "      <td>NaN</td>\n",
              "      <td>6.500000</td>\n",
              "    </tr>\n",
              "    <tr>\n",
              "      <th>75%</th>\n",
              "      <td>2.000000</td>\n",
              "      <td>NaN</td>\n",
              "      <td>NaN</td>\n",
              "      <td>NaN</td>\n",
              "      <td>NaN</td>\n",
              "      <td>7.000000</td>\n",
              "    </tr>\n",
              "    <tr>\n",
              "      <th>max</th>\n",
              "      <td>2.000000</td>\n",
              "      <td>NaN</td>\n",
              "      <td>NaN</td>\n",
              "      <td>NaN</td>\n",
              "      <td>NaN</td>\n",
              "      <td>9.000000</td>\n",
              "    </tr>\n",
              "  </tbody>\n",
              "</table>\n",
              "</div>\n",
              "    <div class=\"colab-df-buttons\">\n",
              "\n",
              "  <div class=\"colab-df-container\">\n",
              "    <button class=\"colab-df-convert\" onclick=\"convertToInteractive('df-a477a927-a571-4fae-b551-82a2a543f483')\"\n",
              "            title=\"Convert this dataframe to an interactive table.\"\n",
              "            style=\"display:none;\">\n",
              "\n",
              "  <svg xmlns=\"http://www.w3.org/2000/svg\" height=\"24px\" viewBox=\"0 -960 960 960\">\n",
              "    <path d=\"M120-120v-720h720v720H120Zm60-500h600v-160H180v160Zm220 220h160v-160H400v160Zm0 220h160v-160H400v160ZM180-400h160v-160H180v160Zm440 0h160v-160H620v160ZM180-180h160v-160H180v160Zm440 0h160v-160H620v160Z\"/>\n",
              "  </svg>\n",
              "    </button>\n",
              "\n",
              "  <style>\n",
              "    .colab-df-container {\n",
              "      display:flex;\n",
              "      gap: 12px;\n",
              "    }\n",
              "\n",
              "    .colab-df-convert {\n",
              "      background-color: #E8F0FE;\n",
              "      border: none;\n",
              "      border-radius: 50%;\n",
              "      cursor: pointer;\n",
              "      display: none;\n",
              "      fill: #1967D2;\n",
              "      height: 32px;\n",
              "      padding: 0 0 0 0;\n",
              "      width: 32px;\n",
              "    }\n",
              "\n",
              "    .colab-df-convert:hover {\n",
              "      background-color: #E2EBFA;\n",
              "      box-shadow: 0px 1px 2px rgba(60, 64, 67, 0.3), 0px 1px 3px 1px rgba(60, 64, 67, 0.15);\n",
              "      fill: #174EA6;\n",
              "    }\n",
              "\n",
              "    .colab-df-buttons div {\n",
              "      margin-bottom: 4px;\n",
              "    }\n",
              "\n",
              "    [theme=dark] .colab-df-convert {\n",
              "      background-color: #3B4455;\n",
              "      fill: #D2E3FC;\n",
              "    }\n",
              "\n",
              "    [theme=dark] .colab-df-convert:hover {\n",
              "      background-color: #434B5C;\n",
              "      box-shadow: 0px 1px 3px 1px rgba(0, 0, 0, 0.15);\n",
              "      filter: drop-shadow(0px 1px 2px rgba(0, 0, 0, 0.3));\n",
              "      fill: #FFFFFF;\n",
              "    }\n",
              "  </style>\n",
              "\n",
              "    <script>\n",
              "      const buttonEl =\n",
              "        document.querySelector('#df-a477a927-a571-4fae-b551-82a2a543f483 button.colab-df-convert');\n",
              "      buttonEl.style.display =\n",
              "        google.colab.kernel.accessAllowed ? 'block' : 'none';\n",
              "\n",
              "      async function convertToInteractive(key) {\n",
              "        const element = document.querySelector('#df-a477a927-a571-4fae-b551-82a2a543f483');\n",
              "        const dataTable =\n",
              "          await google.colab.kernel.invokeFunction('convertToInteractive',\n",
              "                                                    [key], {});\n",
              "        if (!dataTable) return;\n",
              "\n",
              "        const docLinkHtml = 'Like what you see? Visit the ' +\n",
              "          '<a target=\"_blank\" href=https://colab.research.google.com/notebooks/data_table.ipynb>data table notebook</a>'\n",
              "          + ' to learn more about interactive tables.';\n",
              "        element.innerHTML = '';\n",
              "        dataTable['output_type'] = 'display_data';\n",
              "        await google.colab.output.renderOutput(dataTable, element);\n",
              "        const docLink = document.createElement('div');\n",
              "        docLink.innerHTML = docLinkHtml;\n",
              "        element.appendChild(docLink);\n",
              "      }\n",
              "    </script>\n",
              "  </div>\n",
              "\n",
              "\n",
              "<div id=\"df-967b8f6f-7036-4f19-9ab2-34947772c39c\">\n",
              "  <button class=\"colab-df-quickchart\" onclick=\"quickchart('df-967b8f6f-7036-4f19-9ab2-34947772c39c')\"\n",
              "            title=\"Suggest charts.\"\n",
              "            style=\"display:none;\">\n",
              "\n",
              "<svg xmlns=\"http://www.w3.org/2000/svg\" height=\"24px\"viewBox=\"0 0 24 24\"\n",
              "     width=\"24px\">\n",
              "    <g>\n",
              "        <path d=\"M19 3H5c-1.1 0-2 .9-2 2v14c0 1.1.9 2 2 2h14c1.1 0 2-.9 2-2V5c0-1.1-.9-2-2-2zM9 17H7v-7h2v7zm4 0h-2V7h2v10zm4 0h-2v-4h2v4z\"/>\n",
              "    </g>\n",
              "</svg>\n",
              "  </button>\n",
              "\n",
              "<style>\n",
              "  .colab-df-quickchart {\n",
              "      --bg-color: #E8F0FE;\n",
              "      --fill-color: #1967D2;\n",
              "      --hover-bg-color: #E2EBFA;\n",
              "      --hover-fill-color: #174EA6;\n",
              "      --disabled-fill-color: #AAA;\n",
              "      --disabled-bg-color: #DDD;\n",
              "  }\n",
              "\n",
              "  [theme=dark] .colab-df-quickchart {\n",
              "      --bg-color: #3B4455;\n",
              "      --fill-color: #D2E3FC;\n",
              "      --hover-bg-color: #434B5C;\n",
              "      --hover-fill-color: #FFFFFF;\n",
              "      --disabled-bg-color: #3B4455;\n",
              "      --disabled-fill-color: #666;\n",
              "  }\n",
              "\n",
              "  .colab-df-quickchart {\n",
              "    background-color: var(--bg-color);\n",
              "    border: none;\n",
              "    border-radius: 50%;\n",
              "    cursor: pointer;\n",
              "    display: none;\n",
              "    fill: var(--fill-color);\n",
              "    height: 32px;\n",
              "    padding: 0;\n",
              "    width: 32px;\n",
              "  }\n",
              "\n",
              "  .colab-df-quickchart:hover {\n",
              "    background-color: var(--hover-bg-color);\n",
              "    box-shadow: 0 1px 2px rgba(60, 64, 67, 0.3), 0 1px 3px 1px rgba(60, 64, 67, 0.15);\n",
              "    fill: var(--button-hover-fill-color);\n",
              "  }\n",
              "\n",
              "  .colab-df-quickchart-complete:disabled,\n",
              "  .colab-df-quickchart-complete:disabled:hover {\n",
              "    background-color: var(--disabled-bg-color);\n",
              "    fill: var(--disabled-fill-color);\n",
              "    box-shadow: none;\n",
              "  }\n",
              "\n",
              "  .colab-df-spinner {\n",
              "    border: 2px solid var(--fill-color);\n",
              "    border-color: transparent;\n",
              "    border-bottom-color: var(--fill-color);\n",
              "    animation:\n",
              "      spin 1s steps(1) infinite;\n",
              "  }\n",
              "\n",
              "  @keyframes spin {\n",
              "    0% {\n",
              "      border-color: transparent;\n",
              "      border-bottom-color: var(--fill-color);\n",
              "      border-left-color: var(--fill-color);\n",
              "    }\n",
              "    20% {\n",
              "      border-color: transparent;\n",
              "      border-left-color: var(--fill-color);\n",
              "      border-top-color: var(--fill-color);\n",
              "    }\n",
              "    30% {\n",
              "      border-color: transparent;\n",
              "      border-left-color: var(--fill-color);\n",
              "      border-top-color: var(--fill-color);\n",
              "      border-right-color: var(--fill-color);\n",
              "    }\n",
              "    40% {\n",
              "      border-color: transparent;\n",
              "      border-right-color: var(--fill-color);\n",
              "      border-top-color: var(--fill-color);\n",
              "    }\n",
              "    60% {\n",
              "      border-color: transparent;\n",
              "      border-right-color: var(--fill-color);\n",
              "    }\n",
              "    80% {\n",
              "      border-color: transparent;\n",
              "      border-right-color: var(--fill-color);\n",
              "      border-bottom-color: var(--fill-color);\n",
              "    }\n",
              "    90% {\n",
              "      border-color: transparent;\n",
              "      border-bottom-color: var(--fill-color);\n",
              "    }\n",
              "  }\n",
              "</style>\n",
              "\n",
              "  <script>\n",
              "    async function quickchart(key) {\n",
              "      const quickchartButtonEl =\n",
              "        document.querySelector('#' + key + ' button');\n",
              "      quickchartButtonEl.disabled = true;  // To prevent multiple clicks.\n",
              "      quickchartButtonEl.classList.add('colab-df-spinner');\n",
              "      try {\n",
              "        const charts = await google.colab.kernel.invokeFunction(\n",
              "            'suggestCharts', [key], {});\n",
              "      } catch (error) {\n",
              "        console.error('Error during call to suggestCharts:', error);\n",
              "      }\n",
              "      quickchartButtonEl.classList.remove('colab-df-spinner');\n",
              "      quickchartButtonEl.classList.add('colab-df-quickchart-complete');\n",
              "    }\n",
              "    (() => {\n",
              "      let quickchartButtonEl =\n",
              "        document.querySelector('#df-967b8f6f-7036-4f19-9ab2-34947772c39c button');\n",
              "      quickchartButtonEl.style.display =\n",
              "        google.colab.kernel.accessAllowed ? 'block' : 'none';\n",
              "    })();\n",
              "  </script>\n",
              "</div>\n",
              "    </div>\n",
              "  </div>\n"
            ]
          },
          "metadata": {},
          "execution_count": 5
        }
      ]
    },
    {
      "cell_type": "code",
      "source": [
        "df = df.rename(columns={'Examiner_Commen': 'Comment'})"
      ],
      "metadata": {
        "id": "JLJfeHDoSQT1"
      },
      "execution_count": 6,
      "outputs": []
    },
    {
      "cell_type": "code",
      "source": [
        "# Assuming 'column_name' is the name of the column you want to plot\n",
        "plt.figure(figsize=(5, 3))\n",
        "sns.countplot(data=df, x='Overall')\n",
        "plt.title(f'Overall grade distribution')\n",
        "plt.xlabel('Grade')\n",
        "plt.ylabel('Amount')\n",
        "plt.show()\n"
      ],
      "metadata": {
        "execution": {
          "iopub.status.busy": "2023-09-25T15:25:36.681309Z",
          "iopub.execute_input": "2023-09-25T15:25:36.681719Z",
          "iopub.status.idle": "2023-09-25T15:25:37.011357Z",
          "shell.execute_reply.started": "2023-09-25T15:25:36.681690Z",
          "shell.execute_reply": "2023-09-25T15:25:37.010197Z"
        },
        "trusted": true,
        "colab": {
          "base_uri": "https://localhost:8080/",
          "height": 333
        },
        "id": "vgMs8Iog_f7w",
        "outputId": "e769782c-e4ca-4853-c18d-c86cd347fb29"
      },
      "execution_count": 7,
      "outputs": [
        {
          "output_type": "display_data",
          "data": {
            "text/plain": [
              "<Figure size 500x300 with 1 Axes>"
            ],
            "image/png": "[encoded data removed]"
          },
          "metadata": {}
        }
      ]
    },
    {
      "cell_type": "markdown",
      "source": [
        "Let's drop the samples whose label appears only ones, so we are able to stratify it."
      ],
      "metadata": {
        "id": "Sbbh1JAjYN0k"
      }
    },
    {
      "cell_type": "code",
      "source": [
        "df = df[df['Overall'].map(df['Overall'].value_counts()) > 1]"
      ],
      "metadata": {
        "execution": {
          "iopub.status.busy": "2023-09-25T15:25:46.367769Z",
          "iopub.execute_input": "2023-09-25T15:25:46.368200Z",
          "iopub.status.idle": "2023-09-25T15:25:46.377124Z",
          "shell.execute_reply.started": "2023-09-25T15:25:46.368166Z",
          "shell.execute_reply": "2023-09-25T15:25:46.376050Z"
        },
        "trusted": true,
        "id": "8J9cK1VG_f7x"
      },
      "execution_count": 8,
      "outputs": []
    },
    {
      "cell_type": "markdown",
      "source": [
        "Check for the amount of examiners comments, to decide if they are in a meaningful amount for training or not.\n"
      ],
      "metadata": {
        "id": "1Mnv2qrM2jvf"
      }
    },
    {
      "cell_type": "code",
      "source": [
        "# Group by \"Overall\" and count non-None values in \"Comment\"\n",
        "df[df['Comment'].notna()].groupby(\"Overall\")[\"Comment\"].count()"
      ],
      "metadata": {
        "colab": {
          "base_uri": "https://localhost:8080/"
        },
        "id": "7ZrEHgc7RJsG",
        "outputId": "ac1a779a-82d5-400a-95a1-7af4c0fff946"
      },
      "execution_count": 9,
      "outputs": [
        {
          "output_type": "execute_result",
          "data": {
            "text/plain": [
              "Overall\n",
              "5.0     8\n",
              "6.0    24\n",
              "7.0    17\n",
              "8.0    13\n",
              "Name: Comment, dtype: int64"
            ]
          },
          "metadata": {},
          "execution_count": 9
        }
      ]
    },
    {
      "cell_type": "markdown",
      "source": [
        "Check for the amount of questions not provided."
      ],
      "metadata": {
        "id": "Yby5tUQK3PP6"
      }
    },
    {
      "cell_type": "code",
      "source": [
        "df['Question'].isna().sum()"
      ],
      "metadata": {
        "id": "UJj6lHgMMu-B",
        "colab": {
          "base_uri": "https://localhost:8080/"
        },
        "outputId": "37d21535-05ba-4a2e-be8e-77a7a589d1bd"
      },
      "execution_count": 10,
      "outputs": [
        {
          "output_type": "execute_result",
          "data": {
            "text/plain": [
              "0"
            ]
          },
          "metadata": {},
          "execution_count": 10
        }
      ]
    },
    {
      "cell_type": "markdown",
      "source": [
        "##Feature engineering\n",
        "Now we explore the correlation between the essay's length and the grade."
      ],
      "metadata": {
        "id": "ze6PvRqAY8WE"
      }
    },
    {
      "cell_type": "code",
      "source": [
        "df[\"Length\"]=df[\"Essay\"].apply(lambda x: len(x.split(\" \")))\n",
        "plt.hist(df[\"Length\"])\n",
        "plt.title(\"Distribution of Lenght of Essay\")\n",
        "plt.show()"
      ],
      "metadata": {
        "colab": {
          "base_uri": "https://localhost:8080/",
          "height": 452
        },
        "id": "PD0UvaNlzE1n",
        "outputId": "18f434d7-509f-43aa-a5e4-b0db2105f212"
      },
      "execution_count": 11,
      "outputs": [
        {
          "output_type": "display_data",
          "data": {
            "text/plain": [
              "<Figure size 640x480 with 1 Axes>"
            ],
            "image/png": "[encoded data removed]"
          },
          "metadata": {}
        }
      ]
    },
    {
      "cell_type": "code",
      "source": [
        "# Group by \"Overall\" and calculate the mean of \"Length\"\n",
        "result = df.groupby([\"Overall\"]).agg({\"Length\":\"mean\"})\n",
        "\n",
        "# Reset the index to make \"Overall\" a regular column\n",
        "result.reset_index(inplace=True)\n",
        "\n",
        "# Create a line plot\n",
        "plt.plot(result[\"Overall\"], result[\"Length\"], marker='o', linestyle='-')\n",
        "plt.xlabel(\"Overall\")\n",
        "plt.ylabel(\"Mean Length\")\n",
        "plt.title(\"Mean Length by Overall\")\n",
        "plt.grid(True)\n",
        "plt.show()"
      ],
      "metadata": {
        "colab": {
          "base_uri": "https://localhost:8080/",
          "height": 472
        },
        "id": "W5uiNuQt1GfH",
        "outputId": "521df10f-c0ac-4c1f-d10c-51784c70230d"
      },
      "execution_count": 12,
      "outputs": [
        {
          "output_type": "display_data",
          "data": {
            "text/plain": [
              "<Figure size 640x480 with 1 Axes>"
            ],
            "image/png": "[encoded data removed]"
          },
          "metadata": {}
        }
      ]
    },
    {
      "cell_type": "code",
      "source": [
        "# Transform the 'Category' column to 0s and 1s\n",
        "df['Task_Type'] = (df['Task_Type'] == 2).astype(int)\n",
        "\n",
        "# Perform one-hot encoding\n",
        "df = pd.get_dummies(df, columns=['Task_Type'], prefix=['Task_Type'])"
      ],
      "metadata": {
        "id": "W4OZv-GAXLLN"
      },
      "execution_count": 13,
      "outputs": []
    },
    {
      "cell_type": "markdown",
      "source": [
        "#Data preparation\n",
        "After the data exploration decided to keep 3 data configurations:\n",
        "1. BERT with only essay text (text)\n",
        "2. BERT with essay text concatenated with length feature (text + numerical)\n",
        "3. BERT with essay text concatenated with length and task type (text + numerical + binary)\n",
        "\n",
        "3rd option is not preferable for deployment because user must choose also the task number => less user friendly.\n",
        "\n",
        "The Question data are dropped because it would be harder for a user to insert also a quesion text to the website."
      ],
      "metadata": {
        "id": "33YbK5ea3t15"
      }
    },
    {
      "cell_type": "code",
      "source": [
        "# All changeable variables are stored in a config dictionary for easier access\n",
        "config ={\n",
        "    \"max_seq_length\": 512,\n",
        "    \"bert_model_name\": \"bert-base-uncased\",\n",
        "    \"learning_rate\": 0.001,\n",
        "    \"batch_size\": 32,\n",
        "    \"epochs\": 50,\n",
        "    \"loss\": 'mean_squared_error',\n",
        "    \"metrics\": [MeanAbsoluteError(), RootMeanSquaredError()],\n",
        "}"
      ],
      "metadata": {
        "id": "8dWsMUR_dIu-"
      },
      "execution_count": 14,
      "outputs": []
    },
    {
      "cell_type": "code",
      "source": [
        "# Load pre-trained BERT model and tokenizer\n",
        "bert_tokenizer = BertTokenizer.from_pretrained(config['bert_model_name'])\n",
        "bert_model = TFBertModel.from_pretrained(config['bert_model_name'])"
      ],
      "metadata": {
        "id": "5Q8AhvRzzBdz",
        "colab": {
          "base_uri": "https://localhost:8080/",
          "height": 284,
          "referenced_widgets": [
            "195891b166404a2786f9d51b20acb191",
            "43195c3cfa08493db54bca1b5a4a68d1",
            "9613c04ce0f743828c8d13c86b7ad148",
            "7c4bf80009c74067b1a1dec5d79fe4ec",
            "6b01e1e02f6b45039cdf3f5e8525c0c5",
            "0fbc1d07b3e844e7914fdf0efbd46969",
            "e4be17813cd84af3b83bec32db7e59d0",
            "b2518569fd4f4a328def95ad735c6a0d",
            "3ac0385cc2054d278f1128abf50466b8",
            "130ae9ca5a8b4a82abb4dae8b272e777",
            "d23dfc6ca4d54560895ec49e87b46654",
            "0636c368c59342b08bedfc6a4471d422",
            "6f802cd1e44449e0b87d0bfce7e100a5",
            "cb7849f29381441a8e8eef8a51e9897d",
            "acf02797f39845869ad08bcd2f7475ae",
            "9629c500cb4d45ec99a894cbf9300268",
            "457daeee7bd244cf9fe4ebaf52eb1bf3",
            "752d7edf3fae4355be5b86de5f501859",
            "616df98f274c457ea12c694c18c9b2c7",
            "a59ae2e5152243bba0ea4032a30635e5",
            "98d09a2b7e2c4ff480c33b1afd0e79f8",
            "ee02286ea656456b8ba7011fe930d928",
            "8058586e615246008cd27daa00efb5cf",
            "70e28a258e2a4ac086e638860dd9c9f7",
            "8fc540c48d4647578bdfc4206b00a9e2",
            "96c2c885b89c4c73ab2895404497144a",
            "e62a3bf344464f4cb56459e4467fdedd",
            "2e7237619f4746ccafea01e0630bb649",
            "9c7d929ee6c84dd8898577a167919e19",
            "6f8c6c03954c4b879e1a20510cddb390",
            "66be267790fc49b59801cbb1ff8df74b",
            "d69ebb50296744e791a0db25aa3b58be",
            "0b2a67c19e17468d99ae4cf67e90f9bb",
            "bfb09437f0fc4231aa54691ac47584b4",
            "821bcf29665a490baf02ed3d06388c28",
            "f23485d3043b40be82e0018e66dadc49",
            "372655be57b74d8c9ea7408794b6002d",
            "2e7f916394f845dd977bed3e9032dfa0",
            "c500558ef20c4663ab9a67707e0a981f",
            "59f93f09433a449f8b26385feed35c6b",
            "820bd3c0b62d460394b56d130c452b3e",
            "a2aa9fa1f1054dfcb9f039e1f1e2dc2f",
            "093a6f2f884b4b9a9522778737671b0f",
            "187de84bbe834c919a0463c6143a7ed3",
            "b3d2b8ea966b4eea8f6c8383a1f18a34",
            "b4d0205fe8dc4bc484f41928a7bed505",
            "74277b58ef0041ca9c2a9f651f9ce8fe",
            "305059ca5ec94e65bc9a2d183ff68a30",
            "86f162a8c4664bc0a3ee81e99aaddd8e",
            "0f9070e9bbcb4e01a43fe5d2e0e873a5",
            "c32a8fed189541b9a05a337ba7eab417",
            "740614c0551644f78803b5bdbc2c6d63",
            "0d0e920f938841be86e0e866b49ad172",
            "4590c18737ec4a95b513993452bb9541",
            "e669c205c99f49e992fd9c2851958ed0"
          ]
        },
        "outputId": "12fe93c9-556d-46f7-a7dd-108a1959f27e"
      },
      "execution_count": 15,
      "outputs": [
        {
          "output_type": "display_data",
          "data": {
            "text/plain": [
              "Downloading (…)okenizer_config.json:   0%|          | 0.00/28.0 [00:00<?, ?B/s]"
            ],
            "application/vnd.jupyter.widget-view+json": {
              "version_major": 2,
              "version_minor": 0,
              "model_id": "195891b166404a2786f9d51b20acb191"
            }
          },
          "metadata": {}
        },
        {
          "output_type": "display_data",
          "data": {
            "text/plain": [
              "Downloading (…)solve/main/vocab.txt:   0%|          | 0.00/232k [00:00<?, ?B/s]"
            ],
            "application/vnd.jupyter.widget-view+json": {
              "version_major": 2,
              "version_minor": 0,
              "model_id": "0636c368c59342b08bedfc6a4471d422"
            }
          },
          "metadata": {}
        },
        {
          "output_type": "display_data",
          "data": {
            "text/plain": [
              "Downloading (…)/main/tokenizer.json:   0%|          | 0.00/466k [00:00<?, ?B/s]"
            ],
            "application/vnd.jupyter.widget-view+json": {
              "version_major": 2,
              "version_minor": 0,
              "model_id": "8058586e615246008cd27daa00efb5cf"
            }
          },
          "metadata": {}
        },
        {
          "output_type": "display_data",
          "data": {
            "text/plain": [
              "Downloading (…)lve/main/config.json:   0%|          | 0.00/570 [00:00<?, ?B/s]"
            ],
            "application/vnd.jupyter.widget-view+json": {
              "version_major": 2,
              "version_minor": 0,
              "model_id": "bfb09437f0fc4231aa54691ac47584b4"
            }
          },
          "metadata": {}
        },
        {
          "output_type": "display_data",
          "data": {
            "text/plain": [
              "Downloading model.safetensors:   0%|          | 0.00/440M [00:00<?, ?B/s]"
            ],
            "application/vnd.jupyter.widget-view+json": {
              "version_major": 2,
              "version_minor": 0,
              "model_id": "b3d2b8ea966b4eea8f6c8383a1f18a34"
            }
          },
          "metadata": {}
        },
        {
          "output_type": "stream",
          "name": "stderr",
          "text": [
            "Some weights of the PyTorch model were not used when initializing the TF 2.0 model TFBertModel: ['cls.predictions.transform.LayerNorm.weight', 'cls.seq_relationship.bias', 'cls.seq_relationship.weight', 'cls.predictions.bias', 'cls.predictions.transform.dense.bias', 'cls.predictions.transform.LayerNorm.bias', 'cls.predictions.transform.dense.weight']\n",
            "- This IS expected if you are initializing TFBertModel from a PyTorch model trained on another task or with another architecture (e.g. initializing a TFBertForSequenceClassification model from a BertForPreTraining model).\n",
            "- This IS NOT expected if you are initializing TFBertModel from a PyTorch model that you expect to be exactly identical (e.g. initializing a TFBertForSequenceClassification model from a BertForSequenceClassification model).\n",
            "All the weights of TFBertModel were initialized from the PyTorch model.\n",
            "If your task is similar to the task the model of the checkpoint was trained on, you can already use TFBertModel for predictions without further training.\n"
          ]
        }
      ]
    },
    {
      "cell_type": "code",
      "source": [
        "# Extract chosen data\n",
        "X = df[['Essay',\n",
        "        'Length',\n",
        "        'Task_Type_0',\n",
        "        'Task_Type_1']]\n",
        "\n",
        "y = df['Overall']\n",
        "\n",
        "# Define the indexes for different feature types\n",
        "text_colums_indexes = 0\n",
        "numerical_columns_indexes = [1]\n",
        "binary_columns_indexes = [2, 3]"
      ],
      "metadata": {
        "execution": {
          "iopub.status.busy": "2023-09-25T15:25:48.812031Z",
          "iopub.execute_input": "2023-09-25T15:25:48.812497Z",
          "iopub.status.idle": "2023-09-25T15:25:48.818945Z",
          "shell.execute_reply.started": "2023-09-25T15:25:48.812461Z",
          "shell.execute_reply": "2023-09-25T15:25:48.817609Z"
        },
        "trusted": true,
        "id": "UTMVK34C_f7x"
      },
      "execution_count": 16,
      "outputs": []
    },
    {
      "cell_type": "code",
      "source": [
        "# Separate train and validation sets\n",
        "X_train, X_val, y_train, y_val = train_test_split(X.values, y,\n",
        "    test_size=0.2,\n",
        "    shuffle=True,\n",
        "    stratify=y,\n",
        "    random_state=42\n",
        ")"
      ],
      "metadata": {
        "execution": {
          "iopub.status.busy": "2023-09-25T15:25:50.565307Z",
          "iopub.execute_input": "2023-09-25T15:25:50.565742Z",
          "iopub.status.idle": "2023-09-25T15:25:50.576200Z",
          "shell.execute_reply.started": "2023-09-25T15:25:50.565710Z",
          "shell.execute_reply": "2023-09-25T15:25:50.574979Z"
        },
        "trusted": true,
        "id": "FAmGUf-p_f7x"
      },
      "execution_count": 17,
      "outputs": []
    },
    {
      "cell_type": "code",
      "source": [
        "# Extract features\n",
        "text_features_train = X_train[:, text_colums_indexes]\n",
        "text_features_val = X_val[:, text_colums_indexes]\n",
        "\n",
        "numerical_features_train = X_train[:, numerical_columns_indexes]\n",
        "numerical_features_val = X_val[:, numerical_columns_indexes]\n",
        "\n",
        "binary_features_train = X_train[:, binary_columns_indexes]\n",
        "binary_features_val = X_val[:, binary_columns_indexes]"
      ],
      "metadata": {
        "id": "BkJYd5ld8T6w"
      },
      "execution_count": 18,
      "outputs": []
    },
    {
      "cell_type": "code",
      "source": [
        "# Tokenize the text features with padding and truncation\n",
        "input_ids_train = bert_tokenizer(list(text_features_train), padding=True, truncation=True, return_tensors='tf', max_length=config['max_seq_length'])['input_ids']\n",
        "input_ids_val = bert_tokenizer(list(text_features_val), padding=True, truncation=True, return_tensors='tf', max_length=config['max_seq_length'])['input_ids']"
      ],
      "metadata": {
        "execution": {
          "iopub.status.busy": "2023-09-25T15:26:45.402915Z",
          "iopub.execute_input": "2023-09-25T15:26:45.403565Z",
          "iopub.status.idle": "2023-09-25T15:26:57.015131Z",
          "shell.execute_reply.started": "2023-09-25T15:26:45.403506Z",
          "shell.execute_reply": "2023-09-25T15:26:57.013965Z"
        },
        "trusted": true,
        "id": "NtIA80rP_f7x"
      },
      "execution_count": 19,
      "outputs": []
    },
    {
      "cell_type": "code",
      "source": [
        "# Standartize the numerical data\n",
        "scaler = StandardScaler()\n",
        "numerical_features_train_std = scaler.fit_transform(numerical_features_train)\n",
        "numerical_features_val_std = scaler.transform(numerical_features_val)"
      ],
      "metadata": {
        "id": "brB3A9BwaFBw"
      },
      "execution_count": 20,
      "outputs": []
    },
    {
      "cell_type": "code",
      "source": [
        "# Gather all the features to one dictionary\n",
        "X_train_dict = {\n",
        "    \"input_ids\": input_ids_train,\n",
        "    \"numerical_features\": numerical_features_train_std.astype(np.float32),\n",
        "    \"binary_features\": binary_features_train.astype(np.float32)\n",
        "}\n",
        "\n",
        "X_val_dict = {\n",
        "    \"input_ids\": input_ids_val,\n",
        "    \"numerical_features\": numerical_features_val_std.astype(np.float32),\n",
        "    \"binary_features\": binary_features_val.astype(np.float32)\n",
        "}"
      ],
      "metadata": {
        "id": "GvBn0XzGgYpy"
      },
      "execution_count": 21,
      "outputs": []
    },
    {
      "cell_type": "markdown",
      "source": [
        "# Defining the models"
      ],
      "metadata": {
        "id": "duSBR36--vIA"
      }
    },
    {
      "cell_type": "markdown",
      "source": [
        "### 1st model type:\n",
        "- Text"
      ],
      "metadata": {
        "id": "mI3mqKX-_6r-"
      }
    },
    {
      "cell_type": "code",
      "source": [
        "# Create a custom regression head\n",
        "regression_head = tf.keras.models.Sequential([\n",
        "    tf.keras.layers.Flatten(),\n",
        "    tf.keras.layers.Dense(128, activation='relu'),\n",
        "    tf.keras.layers.Dropout(0.3),\n",
        "    tf.keras.layers.Dense(64, activation='relu'),\n",
        "    tf.keras.layers.Dropout(0.3),\n",
        "    tf.keras.layers.Dense(1, activation='linear')\n",
        "])\n",
        "\n",
        "# Combine BERT and Regression Head\n",
        "input_ids = tf.keras.layers.Input(shape=(config['max_seq_length'],), dtype=tf.int32)\n",
        "bert_output = bert_model(input_ids)[0]  # BERT's output\n",
        "pooler_output = bert_output[:, 0, :]     # Pooler output\n",
        "regression_output = regression_head(pooler_output)  # Custom regression head\n",
        "\n",
        "bert_text_model = tf.keras.models.Model(inputs=input_ids, outputs=regression_output)\n",
        "\n",
        "# Set BERT layers as non-trainable\n",
        "for layer in bert_model.layers:\n",
        "    layer.trainable = False\n",
        "\n",
        "# Compile the model, specifying the loss and metrics\n",
        "bert_text_model.compile(optimizer=tf.keras.optimizers.Adam(config['learning_rate']),\n",
        "    loss=config['loss'],\n",
        "    metrics=config['metrics'])\n",
        "\n",
        "# Print model summary\n",
        "bert_text_model.summary()"
      ],
      "metadata": {
        "id": "bjZrpx2RCErE",
        "colab": {
          "base_uri": "https://localhost:8080/"
        },
        "outputId": "04c8cb38-c56e-4dec-bef9-8574cd6cab12"
      },
      "execution_count": 22,
      "outputs": [
        {
          "output_type": "stream",
          "name": "stdout",
          "text": [
            "Model: \"model\"\n",
            "_________________________________________________________________\n",
            " Layer (type)                Output Shape              Param #   \n",
            "=================================================================\n",
            " input_1 (InputLayer)        [(None, 512)]             0         \n",
            "                                                                 \n",
            " tf_bert_model (TFBertModel  TFBaseModelOutputWithPo   109482240 \n",
            " )                           olingAndCrossAttentions             \n",
            "                             (last_hidden_state=(Non             \n",
            "                             e, 512, 768),                       \n",
            "                              pooler_output=(None, 7             \n",
            "                             68),                                \n",
            "                              past_key_values=None,              \n",
            "                             hidden_states=None, att             \n",
            "                             entions=None, cross_att             \n",
            "                             entions=None)                       \n",
            "                                                                 \n",
            " tf.__operators__.getitem (  (None, 768)               0         \n",
            " SlicingOpLambda)                                                \n",
            "                                                                 \n",
            " sequential (Sequential)     (None, 1)                 106753    \n",
            "                                                                 \n",
            "=================================================================\n",
            "Total params: 109588993 (418.05 MB)\n",
            "Trainable params: 106753 (417.00 KB)\n",
            "Non-trainable params: 109482240 (417.64 MB)\n",
            "_________________________________________________________________\n"
          ]
        }
      ]
    },
    {
      "cell_type": "code",
      "source": [
        "tf.keras.utils.plot_model(bert_text_model)"
      ],
      "metadata": {
        "colab": {
          "base_uri": "https://localhost:8080/",
          "height": 369
        },
        "id": "pzGeqX3U9lZB",
        "outputId": "a80e3797-d647-44ee-f8ee-054efe3a4f08"
      },
      "execution_count": 23,
      "outputs": [
        {
          "output_type": "execute_result",
          "data": {
            "image/png": "[encoded data removed]",
            "text/plain": [
              "<IPython.core.display.Image object>"
            ]
          },
          "metadata": {},
          "execution_count": 23
        }
      ]
    },
    {
      "cell_type": "markdown",
      "source": [
        "### 2nd model type:\n",
        "- Text\n",
        "- Numerical"
      ],
      "metadata": {
        "id": "7xTirj09A8BL"
      }
    },
    {
      "cell_type": "code",
      "source": [
        "# Define input layers\n",
        "input_ids = tf.keras.layers.Input(shape=(config['max_seq_length'],), dtype=tf.int32, name=\"input_ids\")\n",
        "numerical_features = tf.keras.layers.Input(shape=(1,), dtype=tf.float32, name=\"numerical_features\")\n",
        "\n",
        "# BERT embedding layer\n",
        "bert_output = bert_model(input_ids)[0]  # BERT's output\n",
        "pooler_output = bert_output[:, 0, :]    # Pooler output\n",
        "\n",
        "# Combine BERT output with numerical features\n",
        "concatenated_features = tf.keras.layers.concatenate([pooler_output, numerical_features])\n",
        "\n",
        "# Custom regression head\n",
        "regression_head = tf.keras.models.Sequential([\n",
        "    tf.keras.layers.Dense(128, activation='relu'),\n",
        "    tf.keras.layers.Dropout(0.3),\n",
        "    tf.keras.layers.Dense(64, activation='relu'),\n",
        "    tf.keras.layers.Dropout(0.3),\n",
        "    tf.keras.layers.Dense(1, activation='linear')\n",
        "])\n",
        "\n",
        "# Connect regression head to combined features\n",
        "regression_output = regression_head(concatenated_features)\n",
        "\n",
        "# Create the final model\n",
        "bert_num_model = tf.keras.models.Model(inputs=[input_ids, numerical_features], outputs=regression_output)\n",
        "\n",
        "# Set BERT layers as non-trainable\n",
        "for layer in bert_model.layers:\n",
        "    layer.trainable = False\n",
        "\n",
        "# Compile the model\n",
        "bert_num_model.compile(optimizer=tf.keras.optimizers.Adam(config['learning_rate']),\n",
        "    loss=config['loss'],\n",
        "    metrics=config['metrics'])\n",
        "\n",
        "# Print model summary\n",
        "bert_num_model.summary()"
      ],
      "metadata": {
        "id": "ex4-M2J2BCDx",
        "colab": {
          "base_uri": "https://localhost:8080/"
        },
        "outputId": "ddfdc98a-3933-46e4-d416-8970a0fbfd9c"
      },
      "execution_count": 24,
      "outputs": [
        {
          "output_type": "stream",
          "name": "stdout",
          "text": [
            "Model: \"model_1\"\n",
            "__________________________________________________________________________________________________\n",
            " Layer (type)                Output Shape                 Param #   Connected to                  \n",
            "==================================================================================================\n",
            " input_ids (InputLayer)      [(None, 512)]                0         []                            \n",
            "                                                                                                  \n",
            " tf_bert_model (TFBertModel  TFBaseModelOutputWithPooli   1094822   ['input_ids[0][0]']           \n",
            " )                           ngAndCrossAttentions(last_   40                                      \n",
            "                             hidden_state=(None, 512, 7                                           \n",
            "                             68),                                                                 \n",
            "                              pooler_output=(None, 768)                                           \n",
            "                             , past_key_values=None, hi                                           \n",
            "                             dden_states=None, attentio                                           \n",
            "                             ns=None, cross_attentions=                                           \n",
            "                             None)                                                                \n",
            "                                                                                                  \n",
            " tf.__operators__.getitem_1  (None, 768)                  0         ['tf_bert_model[1][0]']       \n",
            "  (SlicingOpLambda)                                                                               \n",
            "                                                                                                  \n",
            " numerical_features (InputL  [(None, 1)]                  0         []                            \n",
            " ayer)                                                                                            \n",
            "                                                                                                  \n",
            " concatenate (Concatenate)   (None, 769)                  0         ['tf.__operators__.getitem_1[0\n",
            "                                                                    ][0]',                        \n",
            "                                                                     'numerical_features[0][0]']  \n",
            "                                                                                                  \n",
            " sequential_1 (Sequential)   (None, 1)                    106881    ['concatenate[0][0]']         \n",
            "                                                                                                  \n",
            "==================================================================================================\n",
            "Total params: 109589121 (418.05 MB)\n",
            "Trainable params: 106881 (417.50 KB)\n",
            "Non-trainable params: 109482240 (417.64 MB)\n",
            "__________________________________________________________________________________________________\n"
          ]
        }
      ]
    },
    {
      "cell_type": "code",
      "source": [
        "tf.keras.utils.plot_model(bert_num_model)"
      ],
      "metadata": {
        "id": "W0FSyu8VBa5y",
        "colab": {
          "base_uri": "https://localhost:8080/",
          "height": 466
        },
        "outputId": "f180d3da-4ff4-4235-be4c-4f2ff6728c2d"
      },
      "execution_count": 25,
      "outputs": [
        {
          "output_type": "execute_result",
          "data": {
            "image/png": "[encoded data removed]",
            "text/plain": [
              "<IPython.core.display.Image object>"
            ]
          },
          "metadata": {},
          "execution_count": 25
        }
      ]
    },
    {
      "cell_type": "markdown",
      "source": [
        "### 3rd model type:\n",
        "- Text\n",
        "- Numerical\n",
        "- Binary"
      ],
      "metadata": {
        "id": "afCjhgT2_pRA"
      }
    },
    {
      "cell_type": "code",
      "source": [
        "# Define input layers\n",
        "input_ids = tf.keras.layers.Input(shape=(config['max_seq_length'],), dtype=tf.int32, name=\"input_ids\")\n",
        "numerical_features = tf.keras.layers.Input(shape=(1,), dtype=tf.float32, name=\"numerical_features\")\n",
        "binary_features = tf.keras.layers.Input(shape=(2,), dtype=tf.float32, name=\"binary_features\")\n",
        "\n",
        "# BERT embedding layer\n",
        "bert_output = bert_model(input_ids)[0]  # BERT's output\n",
        "pooler_output = bert_output[:, 0, :]     # Pooler output\n",
        "\n",
        "# Combine BERT output with numerical features\n",
        "concatenated_features = tf.keras.layers.concatenate([pooler_output, numerical_features, binary_features])\n",
        "\n",
        "# Custom regression head\n",
        "regression_head = tf.keras.models.Sequential([\n",
        "    tf.keras.layers.Dense(128, activation='relu'),\n",
        "    tf.keras.layers.Dropout(0.2),\n",
        "    tf.keras.layers.Dense(64, activation='relu'),\n",
        "    tf.keras.layers.Dropout(0.2),\n",
        "    tf.keras.layers.Dense(1, activation='linear')\n",
        "])\n",
        "\n",
        "# Connect regression head to combined features\n",
        "regression_output = regression_head(concatenated_features)\n",
        "\n",
        "# Create the final model\n",
        "bert_num_binary_model = tf.keras.models.Model(inputs=[input_ids, numerical_features, binary_features], outputs=regression_output)\n",
        "\n",
        "# Set BERT layers as non-trainable\n",
        "for layer in bert_model.layers:\n",
        "    layer.trainable = False\n",
        "\n",
        "# Compile the model\n",
        "bert_num_binary_model.compile(optimizer=tf.keras.optimizers.Adam(config['learning_rate']),\n",
        "    loss=config['loss'],\n",
        "    metrics=config['metrics'])\n",
        "\n",
        "# Print model summary\n",
        "bert_num_binary_model.summary()"
      ],
      "metadata": {
        "id": "EV-jrH8zY92Y",
        "colab": {
          "base_uri": "https://localhost:8080/"
        },
        "outputId": "0e0e88ee-87f0-44cc-a306-3fada06fc62b"
      },
      "execution_count": 26,
      "outputs": [
        {
          "output_type": "stream",
          "name": "stdout",
          "text": [
            "Model: \"model_2\"\n",
            "__________________________________________________________________________________________________\n",
            " Layer (type)                Output Shape                 Param #   Connected to                  \n",
            "==================================================================================================\n",
            " input_ids (InputLayer)      [(None, 512)]                0         []                            \n",
            "                                                                                                  \n",
            " tf_bert_model (TFBertModel  TFBaseModelOutputWithPooli   1094822   ['input_ids[0][0]']           \n",
            " )                           ngAndCrossAttentions(last_   40                                      \n",
            "                             hidden_state=(None, 512, 7                                           \n",
            "                             68),                                                                 \n",
            "                              pooler_output=(None, 768)                                           \n",
            "                             , past_key_values=None, hi                                           \n",
            "                             dden_states=None, attentio                                           \n",
            "                             ns=None, cross_attentions=                                           \n",
            "                             None)                                                                \n",
            "                                                                                                  \n",
            " tf.__operators__.getitem_2  (None, 768)                  0         ['tf_bert_model[2][0]']       \n",
            "  (SlicingOpLambda)                                                                               \n",
            "                                                                                                  \n",
            " numerical_features (InputL  [(None, 1)]                  0         []                            \n",
            " ayer)                                                                                            \n",
            "                                                                                                  \n",
            " binary_features (InputLaye  [(None, 2)]                  0         []                            \n",
            " r)                                                                                               \n",
            "                                                                                                  \n",
            " concatenate_1 (Concatenate  (None, 771)                  0         ['tf.__operators__.getitem_2[0\n",
            " )                                                                  ][0]',                        \n",
            "                                                                     'numerical_features[0][0]',  \n",
            "                                                                     'binary_features[0][0]']     \n",
            "                                                                                                  \n",
            " sequential_2 (Sequential)   (None, 1)                    107137    ['concatenate_1[0][0]']       \n",
            "                                                                                                  \n",
            "==================================================================================================\n",
            "Total params: 109589377 (418.05 MB)\n",
            "Trainable params: 107137 (418.50 KB)\n",
            "Non-trainable params: 109482240 (417.64 MB)\n",
            "__________________________________________________________________________________________________\n"
          ]
        }
      ]
    },
    {
      "cell_type": "code",
      "source": [
        "tf.keras.utils.plot_model(bert_num_binary_model)"
      ],
      "metadata": {
        "id": "wgLg5TCtjCNJ",
        "colab": {
          "base_uri": "https://localhost:8080/",
          "height": 466
        },
        "outputId": "7952523b-4277-4d0d-9e14-dcc90917ebdb"
      },
      "execution_count": 27,
      "outputs": [
        {
          "output_type": "execute_result",
          "data": {
            "image/png": "[encoded data removed]",
            "text/plain": [
              "<IPython.core.display.Image object>"
            ]
          },
          "metadata": {},
          "execution_count": 27
        }
      ]
    },
    {
      "cell_type": "markdown",
      "source": [
        "# Training"
      ],
      "metadata": {
        "id": "DDd0KyknENVq"
      }
    },
    {
      "cell_type": "code",
      "source": [
        "# Define a callback to perform early stopping\n",
        "earlystop_callback = tf.keras.callbacks.EarlyStopping(\n",
        "    monitor='val_loss',  # Monitor validation loss\n",
        "    min_delta=0,         # Minimum change in validation loss to be considered an improvement\n",
        "    patience=3,          # Number of epochs with no improvement after which training will stop\n",
        "    verbose=0,           # Verbosity mode (0 for silent)\n",
        "    mode='auto'          # Automatically infer the direction of loss improvement\n",
        ")"
      ],
      "metadata": {
        "id": "eGhphKP8zdSa"
      },
      "execution_count": 28,
      "outputs": []
    },
    {
      "cell_type": "code",
      "source": [
        "# Define a callback to save the model with the lowest validation loss\n",
        "checkpoint_callback_bert = tf.keras.callbacks.ModelCheckpoint(\n",
        "    filepath='training_bert_text/cp.ckpt',  # Specify the path to save the best model\n",
        "    monitor='val_loss',       # Monitor validation loss\n",
        "    save_best_only=True,      # Save only the best model (lowest val_loss)\n",
        "    mode='min',               # Consider lower values as better\n",
        "    verbose=1                 # Verbosity mode (0 for silent)\n",
        ")\n",
        "\n",
        "history_bert = bert_text_model.fit(X_train_dict['input_ids'], y_train,\n",
        "    epochs=config['epochs'],\n",
        "    batch_size=config['batch_size'],\n",
        "    validation_data=(X_val_dict['input_ids'], y_val),\n",
        "    callbacks=[checkpoint_callback_bert, earlystop_callback])"
      ],
      "metadata": {
        "id": "PlsVtNoMF1LU",
        "colab": {
          "base_uri": "https://localhost:8080/"
        },
        "outputId": "301d322d-158e-4756-b86e-185b7da6c6f0"
      },
      "execution_count": 42,
      "outputs": [
        {
          "output_type": "stream",
          "name": "stdout",
          "text": [
            "Epoch 1/50\n",
            "36/36 [==============================] - ETA: 0s - loss: 1.9972 - mean_absolute_error: 1.1344 - root_mean_squared_error: 1.4132\n",
            "Epoch 1: val_loss improved from inf to 0.81007, saving model to training_bert_text/cp.ckpt\n",
            "36/36 [==============================] - 113s 3s/step - loss: 1.9972 - mean_absolute_error: 1.1344 - root_mean_squared_error: 1.4132 - val_loss: 0.8101 - val_mean_absolute_error: 0.7148 - val_root_mean_squared_error: 0.9000\n",
            "Epoch 2/50\n",
            "36/36 [==============================] - ETA: 0s - loss: 2.0780 - mean_absolute_error: 1.1436 - root_mean_squared_error: 1.4415\n",
            "Epoch 2: val_loss improved from 0.81007 to 0.75920, saving model to training_bert_text/cp.ckpt\n",
            "36/36 [==============================] - 115s 3s/step - loss: 2.0780 - mean_absolute_error: 1.1436 - root_mean_squared_error: 1.4415 - val_loss: 0.7592 - val_mean_absolute_error: 0.6898 - val_root_mean_squared_error: 0.8713\n",
            "Epoch 3/50\n",
            "36/36 [==============================] - ETA: 0s - loss: 1.8828 - mean_absolute_error: 1.0815 - root_mean_squared_error: 1.3722\n",
            "Epoch 3: val_loss did not improve from 0.75920\n",
            "36/36 [==============================] - 72s 2s/step - loss: 1.8828 - mean_absolute_error: 1.0815 - root_mean_squared_error: 1.3722 - val_loss: 0.8950 - val_mean_absolute_error: 0.7414 - val_root_mean_squared_error: 0.9461\n",
            "Epoch 4/50\n",
            "36/36 [==============================] - ETA: 0s - loss: 1.8256 - mean_absolute_error: 1.0843 - root_mean_squared_error: 1.3511\n",
            "Epoch 4: val_loss did not improve from 0.75920\n",
            "36/36 [==============================] - 73s 2s/step - loss: 1.8256 - mean_absolute_error: 1.0843 - root_mean_squared_error: 1.3511 - val_loss: 0.8387 - val_mean_absolute_error: 0.7204 - val_root_mean_squared_error: 0.9158\n",
            "Epoch 5/50\n",
            "36/36 [==============================] - ETA: 0s - loss: 1.9033 - mean_absolute_error: 1.0859 - root_mean_squared_error: 1.3796\n",
            "Epoch 5: val_loss did not improve from 0.75920\n",
            "36/36 [==============================] - 73s 2s/step - loss: 1.9033 - mean_absolute_error: 1.0859 - root_mean_squared_error: 1.3796 - val_loss: 0.7793 - val_mean_absolute_error: 0.6972 - val_root_mean_squared_error: 0.8828\n"
          ]
        }
      ]
    },
    {
      "cell_type": "code",
      "source": [
        "# Define a callback to save the model with the lowest validation loss\n",
        "checkpoint_callback_bert_num = tf.keras.callbacks.ModelCheckpoint(\n",
        "    filepath='training_bert_num/cp.ckpt',  # Specify the path to save the best model\n",
        "    monitor='val_loss',       # Monitor validation loss\n",
        "    save_best_only=True,      # Save only the best model (lowest val_loss)\n",
        "    mode='min',               # Consider lower values as better\n",
        "    verbose=1                 # Verbosity mode (0 for silent)\n",
        ")\n",
        "\n",
        "history_bert_num = bert_num_model.fit([X_train_dict['input_ids'], X_train_dict['numerical_features']], y_train,\n",
        "    epochs=config['epochs'],\n",
        "    batch_size=config['batch_size'],\n",
        "    validation_data=([X_val_dict['input_ids'], X_val_dict['numerical_features']], y_val),\n",
        "    callbacks=[checkpoint_callback_bert_num, earlystop_callback])"
      ],
      "metadata": {
        "id": "mTutSgoJE52H",
        "colab": {
          "base_uri": "https://localhost:8080/"
        },
        "outputId": "b75ba80f-f0be-4513-80db-3459c6cecd99"
      },
      "execution_count": 30,
      "outputs": [
        {
          "output_type": "stream",
          "name": "stdout",
          "text": [
            "Epoch 1/50\n",
            "36/36 [==============================] - ETA: 0s - loss: 7.8071 - mean_absolute_error: 1.8981 - root_mean_squared_error: 2.5350\n",
            "Epoch 1: val_loss improved from inf to 1.07423, saving model to training_bert_num/cp.ckpt\n",
            "36/36 [==============================] - 134s 3s/step - loss: 7.8071 - mean_absolute_error: 1.8981 - root_mean_squared_error: 2.5350 - val_loss: 1.0742 - val_mean_absolute_error: 0.8091 - val_root_mean_squared_error: 1.0364\n",
            "Epoch 2/50\n",
            "36/36 [==============================] - ETA: 0s - loss: 3.1304 - mean_absolute_error: 1.4236 - root_mean_squared_error: 1.7693\n",
            "Epoch 2: val_loss did not improve from 1.07423\n",
            "36/36 [==============================] - 77s 2s/step - loss: 3.1304 - mean_absolute_error: 1.4236 - root_mean_squared_error: 1.7693 - val_loss: 1.0776 - val_mean_absolute_error: 0.8292 - val_root_mean_squared_error: 1.0381\n",
            "Epoch 3/50\n",
            "36/36 [==============================] - ETA: 0s - loss: 2.7960 - mean_absolute_error: 1.3317 - root_mean_squared_error: 1.6721\n",
            "Epoch 3: val_loss improved from 1.07423 to 0.96629, saving model to training_bert_num/cp.ckpt\n",
            "36/36 [==============================] - 122s 3s/step - loss: 2.7960 - mean_absolute_error: 1.3317 - root_mean_squared_error: 1.6721 - val_loss: 0.9663 - val_mean_absolute_error: 0.7882 - val_root_mean_squared_error: 0.9830\n",
            "Epoch 4/50\n",
            "36/36 [==============================] - ETA: 0s - loss: 2.3587 - mean_absolute_error: 1.2130 - root_mean_squared_error: 1.5358\n",
            "Epoch 4: val_loss improved from 0.96629 to 0.87194, saving model to training_bert_num/cp.ckpt\n",
            "36/36 [==============================] - 123s 3s/step - loss: 2.3587 - mean_absolute_error: 1.2130 - root_mean_squared_error: 1.5358 - val_loss: 0.8719 - val_mean_absolute_error: 0.7447 - val_root_mean_squared_error: 0.9338\n",
            "Epoch 5/50\n",
            "36/36 [==============================] - ETA: 0s - loss: 2.5027 - mean_absolute_error: 1.2557 - root_mean_squared_error: 1.5820\n",
            "Epoch 5: val_loss improved from 0.87194 to 0.84563, saving model to training_bert_num/cp.ckpt\n",
            "36/36 [==============================] - 124s 4s/step - loss: 2.5027 - mean_absolute_error: 1.2557 - root_mean_squared_error: 1.5820 - val_loss: 0.8456 - val_mean_absolute_error: 0.7318 - val_root_mean_squared_error: 0.9196\n",
            "Epoch 6/50\n",
            "36/36 [==============================] - ETA: 0s - loss: 2.2159 - mean_absolute_error: 1.1829 - root_mean_squared_error: 1.4886\n",
            "Epoch 6: val_loss did not improve from 0.84563\n",
            "36/36 [==============================] - 69s 2s/step - loss: 2.2159 - mean_absolute_error: 1.1829 - root_mean_squared_error: 1.4886 - val_loss: 0.9279 - val_mean_absolute_error: 0.7702 - val_root_mean_squared_error: 0.9633\n",
            "Epoch 7/50\n",
            "36/36 [==============================] - ETA: 0s - loss: 2.3669 - mean_absolute_error: 1.2337 - root_mean_squared_error: 1.5385\n",
            "Epoch 7: val_loss improved from 0.84563 to 0.77582, saving model to training_bert_num/cp.ckpt\n",
            "36/36 [==============================] - 121s 3s/step - loss: 2.3669 - mean_absolute_error: 1.2337 - root_mean_squared_error: 1.5385 - val_loss: 0.7758 - val_mean_absolute_error: 0.7179 - val_root_mean_squared_error: 0.8808\n",
            "Epoch 8/50\n",
            "36/36 [==============================] - ETA: 0s - loss: 2.1749 - mean_absolute_error: 1.1509 - root_mean_squared_error: 1.4748\n",
            "Epoch 8: val_loss did not improve from 0.77582\n",
            "36/36 [==============================] - 65s 2s/step - loss: 2.1749 - mean_absolute_error: 1.1509 - root_mean_squared_error: 1.4748 - val_loss: 0.7963 - val_mean_absolute_error: 0.7264 - val_root_mean_squared_error: 0.8924\n",
            "Epoch 9/50\n",
            "36/36 [==============================] - ETA: 0s - loss: 2.1552 - mean_absolute_error: 1.1720 - root_mean_squared_error: 1.4681\n",
            "Epoch 9: val_loss did not improve from 0.77582\n",
            "36/36 [==============================] - 66s 2s/step - loss: 2.1552 - mean_absolute_error: 1.1720 - root_mean_squared_error: 1.4681 - val_loss: 0.8275 - val_mean_absolute_error: 0.7296 - val_root_mean_squared_error: 0.9097\n",
            "Epoch 10/50\n",
            "36/36 [==============================] - ETA: 0s - loss: 2.0998 - mean_absolute_error: 1.1476 - root_mean_squared_error: 1.4491\n",
            "Epoch 10: val_loss did not improve from 0.77582\n",
            "36/36 [==============================] - 75s 2s/step - loss: 2.0998 - mean_absolute_error: 1.1476 - root_mean_squared_error: 1.4491 - val_loss: 0.8723 - val_mean_absolute_error: 0.7449 - val_root_mean_squared_error: 0.9340\n"
          ]
        }
      ]
    },
    {
      "cell_type": "code",
      "source": [
        "# Define a callback to save the model with the lowest validation loss\n",
        "checkpoint_callback_bert_num_bin = tf.keras.callbacks.ModelCheckpoint(\n",
        "    filepath='training_bert_num_bin/cp.ckpt',  # Specify the path to save the best model\n",
        "    monitor='val_loss',       # Monitor validation loss\n",
        "    save_best_only=True,      # Save only the best model (lowest val_loss)\n",
        "    mode='min',               # Consider lower values as better\n",
        "    verbose=1                 # Verbosity mode (0 for silent)\n",
        ")\n",
        "\n",
        "history_bert_num_bin = bert_num_binary_model.fit([X_train_dict['input_ids'], X_train_dict['numerical_features'], X_train_dict['binary_features']],\n",
        "    y_train,\n",
        "    epochs=config['epochs'],\n",
        "    batch_size=config['batch_size'],\n",
        "    validation_data=(X_val_dict, y_val),\n",
        "    callbacks=[checkpoint_callback_bert_num_bin, earlystop_callback])"
      ],
      "metadata": {
        "id": "XO1CqncyaJry",
        "colab": {
          "base_uri": "https://localhost:8080/"
        },
        "outputId": "17fe802a-cfeb-4252-f314-badd14b70d15"
      },
      "execution_count": 31,
      "outputs": [
        {
          "output_type": "stream",
          "name": "stdout",
          "text": [
            "Epoch 1/50\n",
            "36/36 [==============================] - ETA: 0s - loss: 5.6229 - mean_absolute_error: 1.6309 - root_mean_squared_error: 2.1615\n",
            "Epoch 1: val_loss improved from inf to 0.99717, saving model to training_bert_num_bin/cp.ckpt\n",
            "36/36 [==============================] - 128s 3s/step - loss: 5.6229 - mean_absolute_error: 1.6309 - root_mean_squared_error: 2.1615 - val_loss: 0.9972 - val_mean_absolute_error: 0.7969 - val_root_mean_squared_error: 0.9986\n",
            "Epoch 2/50\n",
            "36/36 [==============================] - ETA: 0s - loss: 2.4028 - mean_absolute_error: 1.2370 - root_mean_squared_error: 1.5501\n",
            "Epoch 2: val_loss improved from 0.99717 to 0.91668, saving model to training_bert_num_bin/cp.ckpt\n",
            "36/36 [==============================] - 109s 3s/step - loss: 2.4028 - mean_absolute_error: 1.2370 - root_mean_squared_error: 1.5501 - val_loss: 0.9167 - val_mean_absolute_error: 0.7721 - val_root_mean_squared_error: 0.9574\n",
            "Epoch 3/50\n",
            "36/36 [==============================] - ETA: 0s - loss: 1.9783 - mean_absolute_error: 1.1229 - root_mean_squared_error: 1.4065\n",
            "Epoch 3: val_loss improved from 0.91668 to 0.83961, saving model to training_bert_num_bin/cp.ckpt\n",
            "36/36 [==============================] - 109s 3s/step - loss: 1.9783 - mean_absolute_error: 1.1229 - root_mean_squared_error: 1.4065 - val_loss: 0.8396 - val_mean_absolute_error: 0.7327 - val_root_mean_squared_error: 0.9163\n",
            "Epoch 4/50\n",
            "36/36 [==============================] - ETA: 0s - loss: 1.8090 - mean_absolute_error: 1.0483 - root_mean_squared_error: 1.3450\n",
            "Epoch 4: val_loss did not improve from 0.83961\n",
            "36/36 [==============================] - 72s 2s/step - loss: 1.8090 - mean_absolute_error: 1.0483 - root_mean_squared_error: 1.3450 - val_loss: 1.0597 - val_mean_absolute_error: 0.8470 - val_root_mean_squared_error: 1.0294\n",
            "Epoch 5/50\n",
            "36/36 [==============================] - ETA: 0s - loss: 1.7681 - mean_absolute_error: 1.0628 - root_mean_squared_error: 1.3297\n",
            "Epoch 5: val_loss did not improve from 0.83961\n",
            "36/36 [==============================] - 73s 2s/step - loss: 1.7681 - mean_absolute_error: 1.0628 - root_mean_squared_error: 1.3297 - val_loss: 1.2756 - val_mean_absolute_error: 0.9353 - val_root_mean_squared_error: 1.1294\n",
            "Epoch 6/50\n",
            "36/36 [==============================] - ETA: 0s - loss: 1.6694 - mean_absolute_error: 1.0284 - root_mean_squared_error: 1.2921\n",
            "Epoch 6: val_loss did not improve from 0.83961\n",
            "36/36 [==============================] - 73s 2s/step - loss: 1.6694 - mean_absolute_error: 1.0284 - root_mean_squared_error: 1.2921 - val_loss: 0.9248 - val_mean_absolute_error: 0.7835 - val_root_mean_squared_error: 0.9616\n"
          ]
        }
      ]
    },
    {
      "cell_type": "code",
      "source": [
        "# 1st model\n",
        "plt.plot(history_bert.history[\"loss\"])\n",
        "plt.plot(history_bert.history[\"val_loss\"])\n",
        "plt.title(\"1st model training history\")\n",
        "plt.xlabel(\"Epochs\")\n",
        "plt.ylabel(\"Loss\")\n",
        "plt.legend([\"Loss\",\"Val Loss\"])\n",
        "plt.show()\n",
        "\n",
        "# 2nd model\n",
        "plt.plot(history_bert_num.history[\"loss\"])\n",
        "plt.plot(history_bert_num.history[\"val_loss\"])\n",
        "plt.title(\"2nd model training history\")\n",
        "plt.xlabel(\"Epochs\")\n",
        "plt.ylabel(\"Loss\")\n",
        "plt.legend([\"Loss\",\"Val Loss\"])\n",
        "plt.show()\n",
        "\n",
        "# 3rd model\n",
        "plt.plot(history_bert_num_bin.history[\"loss\"])\n",
        "plt.plot(history_bert_num_bin.history[\"val_loss\"])\n",
        "plt.title(\"3rd model training history\")\n",
        "plt.xlabel(\"Epochs\")\n",
        "plt.ylabel(\"Loss\")\n",
        "plt.legend([\"Loss\",\"Val Loss\"])\n",
        "plt.show()"
      ],
      "metadata": {
        "id": "AMan2ccZG_9u",
        "colab": {
          "base_uri": "https://localhost:8080/",
          "height": 1000
        },
        "outputId": "0f6a2d74-aadb-4ee3-8c2f-80ca7c647a04"
      },
      "execution_count": 32,
      "outputs": [
        {
          "output_type": "display_data",
          "data": {
            "text/plain": [
              "<Figure size 640x480 with 1 Axes>"
            ],
            "image/png": "[encoded data removed]"
          },
          "metadata": {}
        },
        {
          "output_type": "display_data",
          "data": {
            "text/plain": [
              "<Figure size 640x480 with 1 Axes>"
            ],
            "image/png": "[encoded data removed]"
          },
          "metadata": {}
        },
        {
          "output_type": "display_data",
          "data": {
            "text/plain": [
              "<Figure size 640x480 with 1 Axes>"
            ],
            "image/png": "[encoded data removed]"
          },
          "metadata": {}
        }
      ]
    },
    {
      "cell_type": "markdown",
      "source": [
        "# Results and conclusions"
      ],
      "metadata": {
        "id": "L7mdaf9sHp26"
      }
    },
    {
      "cell_type": "code",
      "source": [
        "bert_text_model.load_weights('training_bert_text/cp.ckpt')\n",
        "bert_num_model.load_weights('training_bert_num/cp.ckpt')\n",
        "bert_num_binary_model.load_weights('training_bert_num_bin/cp.ckpt')"
      ],
      "metadata": {
        "colab": {
          "base_uri": "https://localhost:8080/"
        },
        "id": "OueFp0Wp0N6i",
        "outputId": "34d81bf5-3523-4767-bf81-6fb91def61a0"
      },
      "execution_count": 49,
      "outputs": [
        {
          "output_type": "execute_result",
          "data": {
            "text/plain": [
              "<tensorflow.python.checkpoint.checkpoint.CheckpointLoadStatus at 0x7af52477c1f0>"
            ]
          },
          "metadata": {},
          "execution_count": 49
        }
      ]
    },
    {
      "cell_type": "code",
      "source": [
        "predictions_bert_text = bert_text_model.predict(X_val_dict['input_ids'])\n",
        "bert_text_mae = mean_absolute_error(y_val, predictions_bert_text)\n",
        "print(bert_text_mae)"
      ],
      "metadata": {
        "id": "5tXpkWJR8YNS",
        "colab": {
          "base_uri": "https://localhost:8080/"
        },
        "outputId": "c2b194ff-3043-4d00-acce-ba922a7273e4"
      },
      "execution_count": 50,
      "outputs": [
        {
          "output_type": "stream",
          "name": "stdout",
          "text": [
            "9/9 [==============================] - 11s 1s/step\n",
            "0.6897830348396966\n"
          ]
        }
      ]
    },
    {
      "cell_type": "code",
      "source": [
        "predictions_bert_num = bert_num_model.predict([X_val_dict['input_ids'], X_val_dict['numerical_features']])\n",
        "bert_num_mae = mean_absolute_error(y_val, predictions_bert_num)\n",
        "print(bert_num_mae)"
      ],
      "metadata": {
        "id": "-MteZwJyGmka",
        "colab": {
          "base_uri": "https://localhost:8080/"
        },
        "outputId": "2f5b9076-9bf8-477c-85b8-2ef87ebfd67a"
      },
      "execution_count": 51,
      "outputs": [
        {
          "output_type": "stream",
          "name": "stdout",
          "text": [
            "9/9 [==============================] - 11s 1s/step\n",
            "0.7178799615919798\n"
          ]
        }
      ]
    },
    {
      "cell_type": "code",
      "source": [
        "predictions_bert_num_bin = bert_num_binary_model.predict([X_val_dict['input_ids'], X_val_dict['numerical_features'], X_val_dict['binary_features']])\n",
        "bert_num_bin_mae = mean_absolute_error(y_val, predictions_bert_num_bin)\n",
        "print(bert_num_bin_mae)"
      ],
      "metadata": {
        "id": "_jb6tvP0Gm6s",
        "colab": {
          "base_uri": "https://localhost:8080/"
        },
        "outputId": "84a616c3-6a1f-48a9-d40c-1a8859786c2e"
      },
      "execution_count": 52,
      "outputs": [
        {
          "output_type": "stream",
          "name": "stdout",
          "text": [
            "9/9 [==============================] - 11s 1s/step\n",
            "0.7327360924112672\n"
          ]
        }
      ]
    },
    {
      "cell_type": "code",
      "source": [
        "# Create a data frame for the metrics and values\n",
        "mae_results = pd.DataFrame({'Models': ['bert_text', 'bert_num', 'bert_num_bin'],\n",
        "                     'Values': [bert_text_mae, bert_num_mae, bert_num_bin_mae]})\n",
        "\n",
        "# Create a bar plot using Seaborn\n",
        "plt.figure(figsize=(5, 4))\n",
        "sns.barplot(x='Models', y='Values', data=mae_results, palette='Set2')\n",
        "plt.xlabel('Models')\n",
        "plt.ylabel('Values')\n",
        "plt.title('Comparison of Models MAE')\n",
        "\n",
        "plt.ylim(0, 1)  # Set the y-axis range as needed\n",
        "plt.show()"
      ],
      "metadata": {
        "id": "MFJSumQJHk2V",
        "colab": {
          "base_uri": "https://localhost:8080/",
          "height": 410
        },
        "outputId": "429577a4-2dff-4d77-bf24-790cc0c3ef89"
      },
      "execution_count": 53,
      "outputs": [
        {
          "output_type": "display_data",
          "data": {
            "text/plain": [
              "<Figure size 500x400 with 1 Axes>"
            ],
            "image/png": "[encoded data removed]"
          },
          "metadata": {}
        }
      ]
    }
  ]
}