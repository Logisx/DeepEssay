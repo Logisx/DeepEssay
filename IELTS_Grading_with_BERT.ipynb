{
  "cells": [
    {
      "cell_type": "code",
      "execution_count": 1,
      "metadata": {
        "colab": {
          "base_uri": "https://localhost:8080/"
        },
        "collapsed": true,
        "execution": {
          "iopub.execute_input": "2023-09-25T15:25:52.020639Z",
          "iopub.status.busy": "2023-09-25T15:25:52.020270Z",
          "iopub.status.idle": "2023-09-25T15:26:07.762165Z",
          "shell.execute_reply": "2023-09-25T15:26:07.761032Z",
          "shell.execute_reply.started": "2023-09-25T15:25:52.020610Z"
        },
        "id": "Y3fa-Wr9_f7x",
        "jupyter": {
          "outputs_hidden": true
        },
        "outputId": "a381451a-7f38-40aa-c777-f69554488176",
        "trusted": true
      },
      "outputs": [
        {
          "name": "stdout",
          "output_type": "stream",
          "text": [
            "\u001b[2K     \u001b[90m━━━━━━━━━━━━━━━━━━━━━━━━━━━━━━━━━━━━━━━━\u001b[0m \u001b[32m7.7/7.7 MB\u001b[0m \u001b[31m58.5 MB/s\u001b[0m eta \u001b[36m0:00:00\u001b[0m\n",
            "\u001b[2K     \u001b[90m━━━━━━━━━━━━━━━━━━━━━━━━━━━━━━━━━━━━━━\u001b[0m \u001b[32m295.0/295.0 kB\u001b[0m \u001b[31m32.9 MB/s\u001b[0m eta \u001b[36m0:00:00\u001b[0m\n",
            "\u001b[2K     \u001b[90m━━━━━━━━━━━━━━━━━━━━━━━━━━━━━━━━━━━━━━━━\u001b[0m \u001b[32m3.8/3.8 MB\u001b[0m \u001b[31m106.5 MB/s\u001b[0m eta \u001b[36m0:00:00\u001b[0m\n",
            "\u001b[2K     \u001b[90m━━━━━━━━━━━━━━━━━━━━━━━━━━━━━━━━━━━━━━━━\u001b[0m \u001b[32m1.3/1.3 MB\u001b[0m \u001b[31m64.9 MB/s\u001b[0m eta \u001b[36m0:00:00\u001b[0m\n",
            "\u001b[2K     \u001b[90m━━━━━━━━━━━━━━━━━━━━━━━━━━━━━━━━━━━━━━\u001b[0m \u001b[32m268.8/268.8 kB\u001b[0m \u001b[31m29.5 MB/s\u001b[0m eta \u001b[36m0:00:00\u001b[0m\n",
            "\u001b[?25h"
          ]
        }
      ],
      "source": [
        "!pip install -q tensorflow transformers"
      ]
    },
    {
      "cell_type": "code",
      "execution_count": 112,
      "metadata": {
        "_cell_guid": "b1076dfc-b9ad-4769-8c92-a6c4dae69d19",
        "_uuid": "8f2839f25d086af736a60e9eeb907d3b93b6e0e5",
        "execution": {
          "iopub.execute_input": "2023-09-25T15:32:12.804520Z",
          "iopub.status.busy": "2023-09-25T15:32:12.804059Z",
          "iopub.status.idle": "2023-09-25T15:32:12.815175Z",
          "shell.execute_reply": "2023-09-25T15:32:12.813943Z",
          "shell.execute_reply.started": "2023-09-25T15:32:12.804486Z"
        },
        "id": "oq-mCYdZ_f7t",
        "trusted": true
      },
      "outputs": [],
      "source": [
        "import pickle\n",
        "import numpy as np\n",
        "import pandas as pd\n",
        "import seaborn as sns\n",
        "import tensorflow as tf\n",
        "import matplotlib.pyplot as plt\n",
        "from sklearn.model_selection import train_test_split\n",
        "from sklearn.metrics import mean_absolute_error\n",
        "from sklearn.preprocessing import StandardScaler\n",
        "from sklearn.model_selection import train_test_split\n",
        "from keras.metrics import MeanAbsoluteError, RootMeanSquaredError\n",
        "from transformers import TFBertModel, BertTokenizer"
      ]
    },
    {
      "cell_type": "code",
      "execution_count": 70,
      "metadata": {
        "execution": {
          "iopub.execute_input": "2023-09-25T15:25:36.216985Z",
          "iopub.status.busy": "2023-09-25T15:25:36.216593Z",
          "iopub.status.idle": "2023-09-25T15:25:36.261592Z",
          "shell.execute_reply": "2023-09-25T15:25:36.260375Z",
          "shell.execute_reply.started": "2023-09-25T15:25:36.216952Z"
        },
        "id": "MBIP5BVw_f7v",
        "trusted": true
      },
      "outputs": [],
      "source": [
        "df = pd.read_csv('ielts_writing_dataset.csv')"
      ]
    },
    {
      "cell_type": "markdown",
      "metadata": {
        "id": "GciSekPP2ZD1"
      },
      "source": [
        "# Exploratory data analysis"
      ]
    },
    {
      "cell_type": "code",
      "execution_count": 71,
      "metadata": {
        "colab": {
          "base_uri": "https://localhost:8080/",
          "height": 265
        },
        "execution": {
          "iopub.execute_input": "2023-09-25T15:25:36.425706Z",
          "iopub.status.busy": "2023-09-25T15:25:36.425283Z",
          "iopub.status.idle": "2023-09-25T15:25:36.443002Z",
          "shell.execute_reply": "2023-09-25T15:25:36.441537Z",
          "shell.execute_reply.started": "2023-09-25T15:25:36.425673Z"
        },
        "id": "4LAO4fmn_f7w",
        "outputId": "e1c1a37d-e255-4e4c-a92c-ebc30053aa9f",
        "trusted": true
      },
      "outputs": [
        {
          "name": "stdout",
          "output_type": "stream",
          "text": [
            "Shape: (1435, 9)\n"
          ]
        },
        {
          "data": {
            "text/html": [
              "\n",
              "  <div id=\"df-1a25d5bf-23f6-4a75-92b1-622ea6fdf3d6\" class=\"colab-df-container\">\n",
              "    <div>\n",
              "<style scoped>\n",
              "    .dataframe tbody tr th:only-of-type {\n",
              "        vertical-align: middle;\n",
              "    }\n",
              "\n",
              "    .dataframe tbody tr th {\n",
              "        vertical-align: top;\n",
              "    }\n",
              "\n",
              "    .dataframe thead th {\n",
              "        text-align: right;\n",
              "    }\n",
              "</style>\n",
              "<table border=\"1\" class=\"dataframe\">\n",
              "  <thead>\n",
              "    <tr style=\"text-align: right;\">\n",
              "      <th></th>\n",
              "      <th>Task_Type</th>\n",
              "      <th>Question</th>\n",
              "      <th>Essay</th>\n",
              "      <th>Examiner_Commen</th>\n",
              "      <th>Task_Response</th>\n",
              "      <th>Coherence_Cohesion</th>\n",
              "      <th>Lexical_Resource</th>\n",
              "      <th>Range_Accuracy</th>\n",
              "      <th>Overall</th>\n",
              "    </tr>\n",
              "  </thead>\n",
              "  <tbody>\n",
              "    <tr>\n",
              "      <th>0</th>\n",
              "      <td>1</td>\n",
              "      <td>The bar chart below describes some changes abo...</td>\n",
              "      <td>Between 1995 and 2010, a study was conducted r...</td>\n",
              "      <td>NaN</td>\n",
              "      <td>NaN</td>\n",
              "      <td>NaN</td>\n",
              "      <td>NaN</td>\n",
              "      <td>NaN</td>\n",
              "      <td>5.5</td>\n",
              "    </tr>\n",
              "    <tr>\n",
              "      <th>1</th>\n",
              "      <td>2</td>\n",
              "      <td>Rich countries often give money to poorer coun...</td>\n",
              "      <td>Poverty represents a worldwide crisis. It is t...</td>\n",
              "      <td>NaN</td>\n",
              "      <td>NaN</td>\n",
              "      <td>NaN</td>\n",
              "      <td>NaN</td>\n",
              "      <td>NaN</td>\n",
              "      <td>6.5</td>\n",
              "    </tr>\n",
              "    <tr>\n",
              "      <th>2</th>\n",
              "      <td>1</td>\n",
              "      <td>The bar chart below describes some changes abo...</td>\n",
              "      <td>The left chart shows the population change hap...</td>\n",
              "      <td>NaN</td>\n",
              "      <td>NaN</td>\n",
              "      <td>NaN</td>\n",
              "      <td>NaN</td>\n",
              "      <td>NaN</td>\n",
              "      <td>5.0</td>\n",
              "    </tr>\n",
              "  </tbody>\n",
              "</table>\n",
              "</div>\n",
              "    <div class=\"colab-df-buttons\">\n",
              "\n",
              "  <div class=\"colab-df-container\">\n",
              "    <button class=\"colab-df-convert\" onclick=\"convertToInteractive('df-1a25d5bf-23f6-4a75-92b1-622ea6fdf3d6')\"\n",
              "            title=\"Convert this dataframe to an interactive table.\"\n",
              "            style=\"display:none;\">\n",
              "\n",
              "  <svg xmlns=\"http://www.w3.org/2000/svg\" height=\"24px\" viewBox=\"0 -960 960 960\">\n",
              "    <path d=\"M120-120v-720h720v720H120Zm60-500h600v-160H180v160Zm220 220h160v-160H400v160Zm0 220h160v-160H400v160ZM180-400h160v-160H180v160Zm440 0h160v-160H620v160ZM180-180h160v-160H180v160Zm440 0h160v-160H620v160Z\"/>\n",
              "  </svg>\n",
              "    </button>\n",
              "\n",
              "  <style>\n",
              "    .colab-df-container {\n",
              "      display:flex;\n",
              "      gap: 12px;\n",
              "    }\n",
              "\n",
              "    .colab-df-convert {\n",
              "      background-color: #E8F0FE;\n",
              "      border: none;\n",
              "      border-radius: 50%;\n",
              "      cursor: pointer;\n",
              "      display: none;\n",
              "      fill: #1967D2;\n",
              "      height: 32px;\n",
              "      padding: 0 0 0 0;\n",
              "      width: 32px;\n",
              "    }\n",
              "\n",
              "    .colab-df-convert:hover {\n",
              "      background-color: #E2EBFA;\n",
              "      box-shadow: 0px 1px 2px rgba(60, 64, 67, 0.3), 0px 1px 3px 1px rgba(60, 64, 67, 0.15);\n",
              "      fill: #174EA6;\n",
              "    }\n",
              "\n",
              "    .colab-df-buttons div {\n",
              "      margin-bottom: 4px;\n",
              "    }\n",
              "\n",
              "    [theme=dark] .colab-df-convert {\n",
              "      background-color: #3B4455;\n",
              "      fill: #D2E3FC;\n",
              "    }\n",
              "\n",
              "    [theme=dark] .colab-df-convert:hover {\n",
              "      background-color: #434B5C;\n",
              "      box-shadow: 0px 1px 3px 1px rgba(0, 0, 0, 0.15);\n",
              "      filter: drop-shadow(0px 1px 2px rgba(0, 0, 0, 0.3));\n",
              "      fill: #FFFFFF;\n",
              "    }\n",
              "  </style>\n",
              "\n",
              "    <script>\n",
              "      const buttonEl =\n",
              "        document.querySelector('#df-1a25d5bf-23f6-4a75-92b1-622ea6fdf3d6 button.colab-df-convert');\n",
              "      buttonEl.style.display =\n",
              "        google.colab.kernel.accessAllowed ? 'block' : 'none';\n",
              "\n",
              "      async function convertToInteractive(key) {\n",
              "        const element = document.querySelector('#df-1a25d5bf-23f6-4a75-92b1-622ea6fdf3d6');\n",
              "        const dataTable =\n",
              "          await google.colab.kernel.invokeFunction('convertToInteractive',\n",
              "                                                    [key], {});\n",
              "        if (!dataTable) return;\n",
              "\n",
              "        const docLinkHtml = 'Like what you see? Visit the ' +\n",
              "          '<a target=\"_blank\" href=https://colab.research.google.com/notebooks/data_table.ipynb>data table notebook</a>'\n",
              "          + ' to learn more about interactive tables.';\n",
              "        element.innerHTML = '';\n",
              "        dataTable['output_type'] = 'display_data';\n",
              "        await google.colab.output.renderOutput(dataTable, element);\n",
              "        const docLink = document.createElement('div');\n",
              "        docLink.innerHTML = docLinkHtml;\n",
              "        element.appendChild(docLink);\n",
              "      }\n",
              "    </script>\n",
              "  </div>\n",
              "\n",
              "\n",
              "<div id=\"df-3199f25b-d95e-4632-8d6d-c95528841d0a\">\n",
              "  <button class=\"colab-df-quickchart\" onclick=\"quickchart('df-3199f25b-d95e-4632-8d6d-c95528841d0a')\"\n",
              "            title=\"Suggest charts.\"\n",
              "            style=\"display:none;\">\n",
              "\n",
              "<svg xmlns=\"http://www.w3.org/2000/svg\" height=\"24px\"viewBox=\"0 0 24 24\"\n",
              "     width=\"24px\">\n",
              "    <g>\n",
              "        <path d=\"M19 3H5c-1.1 0-2 .9-2 2v14c0 1.1.9 2 2 2h14c1.1 0 2-.9 2-2V5c0-1.1-.9-2-2-2zM9 17H7v-7h2v7zm4 0h-2V7h2v10zm4 0h-2v-4h2v4z\"/>\n",
              "    </g>\n",
              "</svg>\n",
              "  </button>\n",
              "\n",
              "<style>\n",
              "  .colab-df-quickchart {\n",
              "      --bg-color: #E8F0FE;\n",
              "      --fill-color: #1967D2;\n",
              "      --hover-bg-color: #E2EBFA;\n",
              "      --hover-fill-color: #174EA6;\n",
              "      --disabled-fill-color: #AAA;\n",
              "      --disabled-bg-color: #DDD;\n",
              "  }\n",
              "\n",
              "  [theme=dark] .colab-df-quickchart {\n",
              "      --bg-color: #3B4455;\n",
              "      --fill-color: #D2E3FC;\n",
              "      --hover-bg-color: #434B5C;\n",
              "      --hover-fill-color: #FFFFFF;\n",
              "      --disabled-bg-color: #3B4455;\n",
              "      --disabled-fill-color: #666;\n",
              "  }\n",
              "\n",
              "  .colab-df-quickchart {\n",
              "    background-color: var(--bg-color);\n",
              "    border: none;\n",
              "    border-radius: 50%;\n",
              "    cursor: pointer;\n",
              "    display: none;\n",
              "    fill: var(--fill-color);\n",
              "    height: 32px;\n",
              "    padding: 0;\n",
              "    width: 32px;\n",
              "  }\n",
              "\n",
              "  .colab-df-quickchart:hover {\n",
              "    background-color: var(--hover-bg-color);\n",
              "    box-shadow: 0 1px 2px rgba(60, 64, 67, 0.3), 0 1px 3px 1px rgba(60, 64, 67, 0.15);\n",
              "    fill: var(--button-hover-fill-color);\n",
              "  }\n",
              "\n",
              "  .colab-df-quickchart-complete:disabled,\n",
              "  .colab-df-quickchart-complete:disabled:hover {\n",
              "    background-color: var(--disabled-bg-color);\n",
              "    fill: var(--disabled-fill-color);\n",
              "    box-shadow: none;\n",
              "  }\n",
              "\n",
              "  .colab-df-spinner {\n",
              "    border: 2px solid var(--fill-color);\n",
              "    border-color: transparent;\n",
              "    border-bottom-color: var(--fill-color);\n",
              "    animation:\n",
              "      spin 1s steps(1) infinite;\n",
              "  }\n",
              "\n",
              "  @keyframes spin {\n",
              "    0% {\n",
              "      border-color: transparent;\n",
              "      border-bottom-color: var(--fill-color);\n",
              "      border-left-color: var(--fill-color);\n",
              "    }\n",
              "    20% {\n",
              "      border-color: transparent;\n",
              "      border-left-color: var(--fill-color);\n",
              "      border-top-color: var(--fill-color);\n",
              "    }\n",
              "    30% {\n",
              "      border-color: transparent;\n",
              "      border-left-color: var(--fill-color);\n",
              "      border-top-color: var(--fill-color);\n",
              "      border-right-color: var(--fill-color);\n",
              "    }\n",
              "    40% {\n",
              "      border-color: transparent;\n",
              "      border-right-color: var(--fill-color);\n",
              "      border-top-color: var(--fill-color);\n",
              "    }\n",
              "    60% {\n",
              "      border-color: transparent;\n",
              "      border-right-color: var(--fill-color);\n",
              "    }\n",
              "    80% {\n",
              "      border-color: transparent;\n",
              "      border-right-color: var(--fill-color);\n",
              "      border-bottom-color: var(--fill-color);\n",
              "    }\n",
              "    90% {\n",
              "      border-color: transparent;\n",
              "      border-bottom-color: var(--fill-color);\n",
              "    }\n",
              "  }\n",
              "</style>\n",
              "\n",
              "  <script>\n",
              "    async function quickchart(key) {\n",
              "      const quickchartButtonEl =\n",
              "        document.querySelector('#' + key + ' button');\n",
              "      quickchartButtonEl.disabled = true;  // To prevent multiple clicks.\n",
              "      quickchartButtonEl.classList.add('colab-df-spinner');\n",
              "      try {\n",
              "        const charts = await google.colab.kernel.invokeFunction(\n",
              "            'suggestCharts', [key], {});\n",
              "      } catch (error) {\n",
              "        console.error('Error during call to suggestCharts:', error);\n",
              "      }\n",
              "      quickchartButtonEl.classList.remove('colab-df-spinner');\n",
              "      quickchartButtonEl.classList.add('colab-df-quickchart-complete');\n",
              "    }\n",
              "    (() => {\n",
              "      let quickchartButtonEl =\n",
              "        document.querySelector('#df-3199f25b-d95e-4632-8d6d-c95528841d0a button');\n",
              "      quickchartButtonEl.style.display =\n",
              "        google.colab.kernel.accessAllowed ? 'block' : 'none';\n",
              "    })();\n",
              "  </script>\n",
              "</div>\n",
              "    </div>\n",
              "  </div>\n"
            ],
            "text/plain": [
              "   Task_Type                                           Question  \\\n",
              "0          1  The bar chart below describes some changes abo...   \n",
              "1          2  Rich countries often give money to poorer coun...   \n",
              "2          1  The bar chart below describes some changes abo...   \n",
              "\n",
              "                                               Essay Examiner_Commen  \\\n",
              "0  Between 1995 and 2010, a study was conducted r...             NaN   \n",
              "1  Poverty represents a worldwide crisis. It is t...             NaN   \n",
              "2  The left chart shows the population change hap...             NaN   \n",
              "\n",
              "   Task_Response  Coherence_Cohesion  Lexical_Resource  Range_Accuracy  \\\n",
              "0            NaN                 NaN               NaN             NaN   \n",
              "1            NaN                 NaN               NaN             NaN   \n",
              "2            NaN                 NaN               NaN             NaN   \n",
              "\n",
              "   Overall  \n",
              "0      5.5  \n",
              "1      6.5  \n",
              "2      5.0  "
            ]
          },
          "execution_count": 71,
          "metadata": {},
          "output_type": "execute_result"
        }
      ],
      "source": [
        "print(\"Shape:\", df.shape)\n",
        "df.head(3)"
      ]
    },
    {
      "cell_type": "code",
      "execution_count": 72,
      "metadata": {
        "colab": {
          "base_uri": "https://localhost:8080/",
          "height": 300
        },
        "id": "k97pS74wNQqC",
        "outputId": "ea0a2516-ad1b-42e6-a080-09ed33a092e3"
      },
      "outputs": [
        {
          "data": {
            "text/html": [
              "\n",
              "  <div id=\"df-ff2f8c71-6dad-413e-bb11-38b128d3c747\" class=\"colab-df-container\">\n",
              "    <div>\n",
              "<style scoped>\n",
              "    .dataframe tbody tr th:only-of-type {\n",
              "        vertical-align: middle;\n",
              "    }\n",
              "\n",
              "    .dataframe tbody tr th {\n",
              "        vertical-align: top;\n",
              "    }\n",
              "\n",
              "    .dataframe thead th {\n",
              "        text-align: right;\n",
              "    }\n",
              "</style>\n",
              "<table border=\"1\" class=\"dataframe\">\n",
              "  <thead>\n",
              "    <tr style=\"text-align: right;\">\n",
              "      <th></th>\n",
              "      <th>Task_Type</th>\n",
              "      <th>Task_Response</th>\n",
              "      <th>Coherence_Cohesion</th>\n",
              "      <th>Lexical_Resource</th>\n",
              "      <th>Range_Accuracy</th>\n",
              "      <th>Overall</th>\n",
              "    </tr>\n",
              "  </thead>\n",
              "  <tbody>\n",
              "    <tr>\n",
              "      <th>count</th>\n",
              "      <td>1435.000000</td>\n",
              "      <td>0.0</td>\n",
              "      <td>0.0</td>\n",
              "      <td>0.0</td>\n",
              "      <td>0.0</td>\n",
              "      <td>1435.000000</td>\n",
              "    </tr>\n",
              "    <tr>\n",
              "      <th>mean</th>\n",
              "      <td>1.552613</td>\n",
              "      <td>NaN</td>\n",
              "      <td>NaN</td>\n",
              "      <td>NaN</td>\n",
              "      <td>NaN</td>\n",
              "      <td>6.550174</td>\n",
              "    </tr>\n",
              "    <tr>\n",
              "      <th>std</th>\n",
              "      <td>0.497397</td>\n",
              "      <td>NaN</td>\n",
              "      <td>NaN</td>\n",
              "      <td>NaN</td>\n",
              "      <td>NaN</td>\n",
              "      <td>1.058237</td>\n",
              "    </tr>\n",
              "    <tr>\n",
              "      <th>min</th>\n",
              "      <td>1.000000</td>\n",
              "      <td>NaN</td>\n",
              "      <td>NaN</td>\n",
              "      <td>NaN</td>\n",
              "      <td>NaN</td>\n",
              "      <td>1.000000</td>\n",
              "    </tr>\n",
              "    <tr>\n",
              "      <th>25%</th>\n",
              "      <td>1.000000</td>\n",
              "      <td>NaN</td>\n",
              "      <td>NaN</td>\n",
              "      <td>NaN</td>\n",
              "      <td>NaN</td>\n",
              "      <td>6.000000</td>\n",
              "    </tr>\n",
              "    <tr>\n",
              "      <th>50%</th>\n",
              "      <td>2.000000</td>\n",
              "      <td>NaN</td>\n",
              "      <td>NaN</td>\n",
              "      <td>NaN</td>\n",
              "      <td>NaN</td>\n",
              "      <td>6.500000</td>\n",
              "    </tr>\n",
              "    <tr>\n",
              "      <th>75%</th>\n",
              "      <td>2.000000</td>\n",
              "      <td>NaN</td>\n",
              "      <td>NaN</td>\n",
              "      <td>NaN</td>\n",
              "      <td>NaN</td>\n",
              "      <td>7.000000</td>\n",
              "    </tr>\n",
              "    <tr>\n",
              "      <th>max</th>\n",
              "      <td>2.000000</td>\n",
              "      <td>NaN</td>\n",
              "      <td>NaN</td>\n",
              "      <td>NaN</td>\n",
              "      <td>NaN</td>\n",
              "      <td>9.000000</td>\n",
              "    </tr>\n",
              "  </tbody>\n",
              "</table>\n",
              "</div>\n",
              "    <div class=\"colab-df-buttons\">\n",
              "\n",
              "  <div class=\"colab-df-container\">\n",
              "    <button class=\"colab-df-convert\" onclick=\"convertToInteractive('df-ff2f8c71-6dad-413e-bb11-38b128d3c747')\"\n",
              "            title=\"Convert this dataframe to an interactive table.\"\n",
              "            style=\"display:none;\">\n",
              "\n",
              "  <svg xmlns=\"http://www.w3.org/2000/svg\" height=\"24px\" viewBox=\"0 -960 960 960\">\n",
              "    <path d=\"M120-120v-720h720v720H120Zm60-500h600v-160H180v160Zm220 220h160v-160H400v160Zm0 220h160v-160H400v160ZM180-400h160v-160H180v160Zm440 0h160v-160H620v160ZM180-180h160v-160H180v160Zm440 0h160v-160H620v160Z\"/>\n",
              "  </svg>\n",
              "    </button>\n",
              "\n",
              "  <style>\n",
              "    .colab-df-container {\n",
              "      display:flex;\n",
              "      gap: 12px;\n",
              "    }\n",
              "\n",
              "    .colab-df-convert {\n",
              "      background-color: #E8F0FE;\n",
              "      border: none;\n",
              "      border-radius: 50%;\n",
              "      cursor: pointer;\n",
              "      display: none;\n",
              "      fill: #1967D2;\n",
              "      height: 32px;\n",
              "      padding: 0 0 0 0;\n",
              "      width: 32px;\n",
              "    }\n",
              "\n",
              "    .colab-df-convert:hover {\n",
              "      background-color: #E2EBFA;\n",
              "      box-shadow: 0px 1px 2px rgba(60, 64, 67, 0.3), 0px 1px 3px 1px rgba(60, 64, 67, 0.15);\n",
              "      fill: #174EA6;\n",
              "    }\n",
              "\n",
              "    .colab-df-buttons div {\n",
              "      margin-bottom: 4px;\n",
              "    }\n",
              "\n",
              "    [theme=dark] .colab-df-convert {\n",
              "      background-color: #3B4455;\n",
              "      fill: #D2E3FC;\n",
              "    }\n",
              "\n",
              "    [theme=dark] .colab-df-convert:hover {\n",
              "      background-color: #434B5C;\n",
              "      box-shadow: 0px 1px 3px 1px rgba(0, 0, 0, 0.15);\n",
              "      filter: drop-shadow(0px 1px 2px rgba(0, 0, 0, 0.3));\n",
              "      fill: #FFFFFF;\n",
              "    }\n",
              "  </style>\n",
              "\n",
              "    <script>\n",
              "      const buttonEl =\n",
              "        document.querySelector('#df-ff2f8c71-6dad-413e-bb11-38b128d3c747 button.colab-df-convert');\n",
              "      buttonEl.style.display =\n",
              "        google.colab.kernel.accessAllowed ? 'block' : 'none';\n",
              "\n",
              "      async function convertToInteractive(key) {\n",
              "        const element = document.querySelector('#df-ff2f8c71-6dad-413e-bb11-38b128d3c747');\n",
              "        const dataTable =\n",
              "          await google.colab.kernel.invokeFunction('convertToInteractive',\n",
              "                                                    [key], {});\n",
              "        if (!dataTable) return;\n",
              "\n",
              "        const docLinkHtml = 'Like what you see? Visit the ' +\n",
              "          '<a target=\"_blank\" href=https://colab.research.google.com/notebooks/data_table.ipynb>data table notebook</a>'\n",
              "          + ' to learn more about interactive tables.';\n",
              "        element.innerHTML = '';\n",
              "        dataTable['output_type'] = 'display_data';\n",
              "        await google.colab.output.renderOutput(dataTable, element);\n",
              "        const docLink = document.createElement('div');\n",
              "        docLink.innerHTML = docLinkHtml;\n",
              "        element.appendChild(docLink);\n",
              "      }\n",
              "    </script>\n",
              "  </div>\n",
              "\n",
              "\n",
              "<div id=\"df-9f609f18-2c6a-4efa-bfa5-77eace69950f\">\n",
              "  <button class=\"colab-df-quickchart\" onclick=\"quickchart('df-9f609f18-2c6a-4efa-bfa5-77eace69950f')\"\n",
              "            title=\"Suggest charts.\"\n",
              "            style=\"display:none;\">\n",
              "\n",
              "<svg xmlns=\"http://www.w3.org/2000/svg\" height=\"24px\"viewBox=\"0 0 24 24\"\n",
              "     width=\"24px\">\n",
              "    <g>\n",
              "        <path d=\"M19 3H5c-1.1 0-2 .9-2 2v14c0 1.1.9 2 2 2h14c1.1 0 2-.9 2-2V5c0-1.1-.9-2-2-2zM9 17H7v-7h2v7zm4 0h-2V7h2v10zm4 0h-2v-4h2v4z\"/>\n",
              "    </g>\n",
              "</svg>\n",
              "  </button>\n",
              "\n",
              "<style>\n",
              "  .colab-df-quickchart {\n",
              "      --bg-color: #E8F0FE;\n",
              "      --fill-color: #1967D2;\n",
              "      --hover-bg-color: #E2EBFA;\n",
              "      --hover-fill-color: #174EA6;\n",
              "      --disabled-fill-color: #AAA;\n",
              "      --disabled-bg-color: #DDD;\n",
              "  }\n",
              "\n",
              "  [theme=dark] .colab-df-quickchart {\n",
              "      --bg-color: #3B4455;\n",
              "      --fill-color: #D2E3FC;\n",
              "      --hover-bg-color: #434B5C;\n",
              "      --hover-fill-color: #FFFFFF;\n",
              "      --disabled-bg-color: #3B4455;\n",
              "      --disabled-fill-color: #666;\n",
              "  }\n",
              "\n",
              "  .colab-df-quickchart {\n",
              "    background-color: var(--bg-color);\n",
              "    border: none;\n",
              "    border-radius: 50%;\n",
              "    cursor: pointer;\n",
              "    display: none;\n",
              "    fill: var(--fill-color);\n",
              "    height: 32px;\n",
              "    padding: 0;\n",
              "    width: 32px;\n",
              "  }\n",
              "\n",
              "  .colab-df-quickchart:hover {\n",
              "    background-color: var(--hover-bg-color);\n",
              "    box-shadow: 0 1px 2px rgba(60, 64, 67, 0.3), 0 1px 3px 1px rgba(60, 64, 67, 0.15);\n",
              "    fill: var(--button-hover-fill-color);\n",
              "  }\n",
              "\n",
              "  .colab-df-quickchart-complete:disabled,\n",
              "  .colab-df-quickchart-complete:disabled:hover {\n",
              "    background-color: var(--disabled-bg-color);\n",
              "    fill: var(--disabled-fill-color);\n",
              "    box-shadow: none;\n",
              "  }\n",
              "\n",
              "  .colab-df-spinner {\n",
              "    border: 2px solid var(--fill-color);\n",
              "    border-color: transparent;\n",
              "    border-bottom-color: var(--fill-color);\n",
              "    animation:\n",
              "      spin 1s steps(1) infinite;\n",
              "  }\n",
              "\n",
              "  @keyframes spin {\n",
              "    0% {\n",
              "      border-color: transparent;\n",
              "      border-bottom-color: var(--fill-color);\n",
              "      border-left-color: var(--fill-color);\n",
              "    }\n",
              "    20% {\n",
              "      border-color: transparent;\n",
              "      border-left-color: var(--fill-color);\n",
              "      border-top-color: var(--fill-color);\n",
              "    }\n",
              "    30% {\n",
              "      border-color: transparent;\n",
              "      border-left-color: var(--fill-color);\n",
              "      border-top-color: var(--fill-color);\n",
              "      border-right-color: var(--fill-color);\n",
              "    }\n",
              "    40% {\n",
              "      border-color: transparent;\n",
              "      border-right-color: var(--fill-color);\n",
              "      border-top-color: var(--fill-color);\n",
              "    }\n",
              "    60% {\n",
              "      border-color: transparent;\n",
              "      border-right-color: var(--fill-color);\n",
              "    }\n",
              "    80% {\n",
              "      border-color: transparent;\n",
              "      border-right-color: var(--fill-color);\n",
              "      border-bottom-color: var(--fill-color);\n",
              "    }\n",
              "    90% {\n",
              "      border-color: transparent;\n",
              "      border-bottom-color: var(--fill-color);\n",
              "    }\n",
              "  }\n",
              "</style>\n",
              "\n",
              "  <script>\n",
              "    async function quickchart(key) {\n",
              "      const quickchartButtonEl =\n",
              "        document.querySelector('#' + key + ' button');\n",
              "      quickchartButtonEl.disabled = true;  // To prevent multiple clicks.\n",
              "      quickchartButtonEl.classList.add('colab-df-spinner');\n",
              "      try {\n",
              "        const charts = await google.colab.kernel.invokeFunction(\n",
              "            'suggestCharts', [key], {});\n",
              "      } catch (error) {\n",
              "        console.error('Error during call to suggestCharts:', error);\n",
              "      }\n",
              "      quickchartButtonEl.classList.remove('colab-df-spinner');\n",
              "      quickchartButtonEl.classList.add('colab-df-quickchart-complete');\n",
              "    }\n",
              "    (() => {\n",
              "      let quickchartButtonEl =\n",
              "        document.querySelector('#df-9f609f18-2c6a-4efa-bfa5-77eace69950f button');\n",
              "      quickchartButtonEl.style.display =\n",
              "        google.colab.kernel.accessAllowed ? 'block' : 'none';\n",
              "    })();\n",
              "  </script>\n",
              "</div>\n",
              "    </div>\n",
              "  </div>\n"
            ],
            "text/plain": [
              "         Task_Type  Task_Response  Coherence_Cohesion  Lexical_Resource  \\\n",
              "count  1435.000000            0.0                 0.0               0.0   \n",
              "mean      1.552613            NaN                 NaN               NaN   \n",
              "std       0.497397            NaN                 NaN               NaN   \n",
              "min       1.000000            NaN                 NaN               NaN   \n",
              "25%       1.000000            NaN                 NaN               NaN   \n",
              "50%       2.000000            NaN                 NaN               NaN   \n",
              "75%       2.000000            NaN                 NaN               NaN   \n",
              "max       2.000000            NaN                 NaN               NaN   \n",
              "\n",
              "       Range_Accuracy      Overall  \n",
              "count             0.0  1435.000000  \n",
              "mean              NaN     6.550174  \n",
              "std               NaN     1.058237  \n",
              "min               NaN     1.000000  \n",
              "25%               NaN     6.000000  \n",
              "50%               NaN     6.500000  \n",
              "75%               NaN     7.000000  \n",
              "max               NaN     9.000000  "
            ]
          },
          "execution_count": 72,
          "metadata": {},
          "output_type": "execute_result"
        }
      ],
      "source": [
        "df.describe()"
      ]
    },
    {
      "cell_type": "code",
      "execution_count": 73,
      "metadata": {
        "id": "JLJfeHDoSQT1"
      },
      "outputs": [],
      "source": [
        "df = df.rename(columns={'Examiner_Commen': 'Comment'})"
      ]
    },
    {
      "cell_type": "code",
      "execution_count": 74,
      "metadata": {
        "colab": {
          "base_uri": "https://localhost:8080/",
          "height": 333
        },
        "execution": {
          "iopub.execute_input": "2023-09-25T15:25:36.681719Z",
          "iopub.status.busy": "2023-09-25T15:25:36.681309Z",
          "iopub.status.idle": "2023-09-25T15:25:37.011357Z",
          "shell.execute_reply": "2023-09-25T15:25:37.010197Z",
          "shell.execute_reply.started": "2023-09-25T15:25:36.681690Z"
        },
        "id": "vgMs8Iog_f7w",
        "outputId": "8a7e7f7d-8c34-4221-abf2-b8270ba9ef8b",
        "trusted": true
      },
      "outputs": [
        {
          "data": {
            "image/png": "[encoded data removed]",
            "text/plain": [
              "<Figure size 500x300 with 1 Axes>"
            ]
          },
          "metadata": {},
          "output_type": "display_data"
        }
      ],
      "source": [
        "# Assuming 'column_name' is the name of the column you want to plot\n",
        "plt.figure(figsize=(5, 3))\n",
        "sns.countplot(data=df, x='Overall')\n",
        "plt.title(f'Overall grade distribution')\n",
        "plt.xlabel('Grade')\n",
        "plt.ylabel('Amount')\n",
        "plt.show()\n"
      ]
    },
    {
      "cell_type": "markdown",
      "metadata": {
        "id": "Sbbh1JAjYN0k"
      },
      "source": [
        "Let's drop the samples whose label appears only ones, so we are able to stratify it."
      ]
    },
    {
      "cell_type": "code",
      "execution_count": 75,
      "metadata": {
        "execution": {
          "iopub.execute_input": "2023-09-25T15:25:46.368200Z",
          "iopub.status.busy": "2023-09-25T15:25:46.367769Z",
          "iopub.status.idle": "2023-09-25T15:25:46.377124Z",
          "shell.execute_reply": "2023-09-25T15:25:46.376050Z",
          "shell.execute_reply.started": "2023-09-25T15:25:46.368166Z"
        },
        "id": "8J9cK1VG_f7x",
        "trusted": true
      },
      "outputs": [],
      "source": [
        "df = df[df['Overall'].map(df['Overall'].value_counts()) > 1]"
      ]
    },
    {
      "cell_type": "markdown",
      "metadata": {
        "id": "1Mnv2qrM2jvf"
      },
      "source": [
        "Check for the amount of examiners comments, to decide if they are in a meaningful amount for training or not.\n"
      ]
    },
    {
      "cell_type": "code",
      "execution_count": 76,
      "metadata": {
        "colab": {
          "base_uri": "https://localhost:8080/"
        },
        "id": "7ZrEHgc7RJsG",
        "outputId": "f209e8e7-34b0-497b-ba33-0fea1bb13ab1"
      },
      "outputs": [
        {
          "data": {
            "text/plain": [
              "Overall\n",
              "5.0     8\n",
              "6.0    24\n",
              "7.0    17\n",
              "8.0    13\n",
              "Name: Comment, dtype: int64"
            ]
          },
          "execution_count": 76,
          "metadata": {},
          "output_type": "execute_result"
        }
      ],
      "source": [
        "# Group by \"Overall\" and count non-None values in \"Comment\"\n",
        "df[df['Comment'].notna()].groupby(\"Overall\")[\"Comment\"].count()"
      ]
    },
    {
      "cell_type": "markdown",
      "metadata": {
        "id": "Yby5tUQK3PP6"
      },
      "source": [
        "Check for the amount of questions not provided."
      ]
    },
    {
      "cell_type": "code",
      "execution_count": 77,
      "metadata": {
        "colab": {
          "base_uri": "https://localhost:8080/"
        },
        "id": "UJj6lHgMMu-B",
        "outputId": "2bf18c78-b266-4cad-d415-ca1f2129dcbd"
      },
      "outputs": [
        {
          "data": {
            "text/plain": [
              "0"
            ]
          },
          "execution_count": 77,
          "metadata": {},
          "output_type": "execute_result"
        }
      ],
      "source": [
        "df['Question'].isna().sum()"
      ]
    },
    {
      "cell_type": "markdown",
      "metadata": {
        "id": "ze6PvRqAY8WE"
      },
      "source": [
        "##Feature engineering\n",
        "Now we explore the correlation between the essay's length and the grade."
      ]
    },
    {
      "cell_type": "code",
      "execution_count": 78,
      "metadata": {
        "colab": {
          "base_uri": "https://localhost:8080/",
          "height": 556
        },
        "id": "PD0UvaNlzE1n",
        "outputId": "9f6b054d-27e4-492c-d801-addeab7f801a"
      },
      "outputs": [
        {
          "name": "stderr",
          "output_type": "stream",
          "text": [
            "<ipython-input-78-afc8180eb243>:1: SettingWithCopyWarning: \n",
            "A value is trying to be set on a copy of a slice from a DataFrame.\n",
            "Try using .loc[row_indexer,col_indexer] = value instead\n",
            "\n",
            "See the caveats in the documentation: https://pandas.pydata.org/pandas-docs/stable/user_guide/indexing.html#returning-a-view-versus-a-copy\n",
            "  df[\"Length\"]=df[\"Essay\"].apply(lambda x: len(x.split(\" \")))\n"
          ]
        },
        {
          "data": {
            "image/png": "[encoded data removed]",
            "text/plain": [
              "<Figure size 640x480 with 1 Axes>"
            ]
          },
          "metadata": {},
          "output_type": "display_data"
        }
      ],
      "source": [
        "df[\"Length\"]=df[\"Essay\"].apply(lambda x: len(x.split(\" \")))\n",
        "plt.hist(df[\"Length\"])\n",
        "plt.title(\"Distribution of Lenght of Essay\")\n",
        "plt.show()"
      ]
    },
    {
      "cell_type": "code",
      "execution_count": 79,
      "metadata": {
        "colab": {
          "base_uri": "https://localhost:8080/",
          "height": 472
        },
        "id": "W5uiNuQt1GfH",
        "outputId": "355839d4-9ade-48fa-b924-26dd610b3fe2"
      },
      "outputs": [
        {
          "data": {
            "image/png": "[encoded data removed]",
            "text/plain": [
              "<Figure size 640x480 with 1 Axes>"
            ]
          },
          "metadata": {},
          "output_type": "display_data"
        }
      ],
      "source": [
        "# Group by \"Overall\" and calculate the mean of \"Length\"\n",
        "result = df.groupby([\"Overall\"]).agg({\"Length\":\"mean\"})\n",
        "\n",
        "# Reset the index to make \"Overall\" a regular column\n",
        "result.reset_index(inplace=True)\n",
        "\n",
        "# Create a line plot\n",
        "plt.plot(result[\"Overall\"], result[\"Length\"], marker='o', linestyle='-')\n",
        "plt.xlabel(\"Overall\")\n",
        "plt.ylabel(\"Mean Length\")\n",
        "plt.title(\"Mean Length by Overall\")\n",
        "plt.grid(True)\n",
        "plt.show()"
      ]
    },
    {
      "cell_type": "code",
      "execution_count": 80,
      "metadata": {
        "id": "W4OZv-GAXLLN"
      },
      "outputs": [],
      "source": [
        "# Transform the 'Category' column to 0s and 1s\n",
        "df['Task_Type'] = (df['Task_Type'] == 2).astype(int)\n",
        "\n",
        "# Perform one-hot encoding\n",
        "df = pd.get_dummies(df, columns=['Task_Type'], prefix=['Task_Type'])"
      ]
    },
    {
      "cell_type": "markdown",
      "metadata": {
        "id": "33YbK5ea3t15"
      },
      "source": [
        "#Data preparation\n",
        "After the data exploration decided to keep 3 data configurations:\n",
        "1. BERT with only essay text (text)\n",
        "2. BERT with essay text concatenated with length feature (text + numerical)\n",
        "3. BERT with essay text concatenated with length and task type (text + numerical + binary)\n",
        "\n",
        "3rd option is not preferable for deployment because user must choose also the task number => less user friendly.\n",
        "\n",
        "The Question data are dropped because it would be harder for a user to insert also a quesion text to the website."
      ]
    },
    {
      "cell_type": "code",
      "execution_count": 81,
      "metadata": {
        "id": "8dWsMUR_dIu-"
      },
      "outputs": [],
      "source": [
        "# All changeable variables are stored in a config dictionary for easier access\n",
        "config ={\n",
        "    \"max_seq_length\": 512,\n",
        "    \"bert_model_name\": \"bert-base-uncased\",\n",
        "    \"learning_rate\": 0.001,\n",
        "    \"batch_size\": 32,\n",
        "    \"epochs\": 50,\n",
        "    \"loss\": 'mean_squared_error',\n",
        "    \"metrics\": [MeanAbsoluteError(), RootMeanSquaredError()],\n",
        "}"
      ]
    },
    {
      "cell_type": "code",
      "execution_count": 82,
      "metadata": {
        "colab": {
          "base_uri": "https://localhost:8080/"
        },
        "id": "5Q8AhvRzzBdz",
        "outputId": "552165ec-55aa-462c-9c28-efd59f5ed059"
      },
      "outputs": [
        {
          "name": "stderr",
          "output_type": "stream",
          "text": [
            "Some weights of the PyTorch model were not used when initializing the TF 2.0 model TFBertModel: ['cls.predictions.transform.LayerNorm.weight', 'cls.seq_relationship.bias', 'cls.seq_relationship.weight', 'cls.predictions.bias', 'cls.predictions.transform.dense.bias', 'cls.predictions.transform.LayerNorm.bias', 'cls.predictions.transform.dense.weight']\n",
            "- This IS expected if you are initializing TFBertModel from a PyTorch model trained on another task or with another architecture (e.g. initializing a TFBertForSequenceClassification model from a BertForPreTraining model).\n",
            "- This IS NOT expected if you are initializing TFBertModel from a PyTorch model that you expect to be exactly identical (e.g. initializing a TFBertForSequenceClassification model from a BertForSequenceClassification model).\n",
            "All the weights of TFBertModel were initialized from the PyTorch model.\n",
            "If your task is similar to the task the model of the checkpoint was trained on, you can already use TFBertModel for predictions without further training.\n"
          ]
        }
      ],
      "source": [
        "# Load pre-trained BERT model and tokenizer\n",
        "bert_tokenizer = BertTokenizer.from_pretrained(config['bert_model_name'])\n",
        "bert_model = TFBertModel.from_pretrained(config['bert_model_name'])"
      ]
    },
    {
      "cell_type": "code",
      "execution_count": 83,
      "metadata": {
        "execution": {
          "iopub.execute_input": "2023-09-25T15:25:48.812497Z",
          "iopub.status.busy": "2023-09-25T15:25:48.812031Z",
          "iopub.status.idle": "2023-09-25T15:25:48.818945Z",
          "shell.execute_reply": "2023-09-25T15:25:48.817609Z",
          "shell.execute_reply.started": "2023-09-25T15:25:48.812461Z"
        },
        "id": "UTMVK34C_f7x",
        "trusted": true
      },
      "outputs": [],
      "source": [
        "# Extract chosen data\n",
        "X = df[['Essay',\n",
        "        'Length',\n",
        "        'Task_Type_0',\n",
        "        'Task_Type_1']]\n",
        "\n",
        "y = df['Overall']\n",
        "\n",
        "# Define the indexes for different feature types\n",
        "text_colums_indexes = 0\n",
        "numerical_columns_indexes = [1]\n",
        "binary_columns_indexes = [2, 3]"
      ]
    },
    {
      "cell_type": "code",
      "execution_count": 84,
      "metadata": {
        "execution": {
          "iopub.execute_input": "2023-09-25T15:25:50.565742Z",
          "iopub.status.busy": "2023-09-25T15:25:50.565307Z",
          "iopub.status.idle": "2023-09-25T15:25:50.576200Z",
          "shell.execute_reply": "2023-09-25T15:25:50.574979Z",
          "shell.execute_reply.started": "2023-09-25T15:25:50.565710Z"
        },
        "id": "FAmGUf-p_f7x",
        "trusted": true
      },
      "outputs": [],
      "source": [
        "# Separate train and validation sets\n",
        "X_train, X_val, y_train, y_val = train_test_split(X.values, y,\n",
        "    test_size=0.1,\n",
        "    shuffle=True,\n",
        "    stratify=y,\n",
        "    random_state=42\n",
        ")"
      ]
    },
    {
      "cell_type": "code",
      "execution_count": 85,
      "metadata": {
        "id": "BkJYd5ld8T6w"
      },
      "outputs": [],
      "source": [
        "# Extract features\n",
        "text_features_train = X_train[:, text_colums_indexes]\n",
        "text_features_val = X_val[:, text_colums_indexes]\n",
        "\n",
        "numerical_features_train = X_train[:, numerical_columns_indexes]\n",
        "numerical_features_val = X_val[:, numerical_columns_indexes]\n",
        "\n",
        "binary_features_train = X_train[:, binary_columns_indexes]\n",
        "binary_features_val = X_val[:, binary_columns_indexes]"
      ]
    },
    {
      "cell_type": "code",
      "execution_count": 86,
      "metadata": {
        "execution": {
          "iopub.execute_input": "2023-09-25T15:26:45.403565Z",
          "iopub.status.busy": "2023-09-25T15:26:45.402915Z",
          "iopub.status.idle": "2023-09-25T15:26:57.015131Z",
          "shell.execute_reply": "2023-09-25T15:26:57.013965Z",
          "shell.execute_reply.started": "2023-09-25T15:26:45.403506Z"
        },
        "id": "NtIA80rP_f7x",
        "trusted": true
      },
      "outputs": [],
      "source": [
        "# Tokenize the text features with padding and truncation\n",
        "input_ids_train = bert_tokenizer(list(text_features_train), padding=True, truncation=True, return_tensors='tf', max_length=config['max_seq_length'])['input_ids']\n",
        "input_ids_val = bert_tokenizer(list(text_features_val), padding=True, truncation=True, return_tensors='tf', max_length=config['max_seq_length'])['input_ids']"
      ]
    },
    {
      "cell_type": "code",
      "execution_count": 113,
      "metadata": {
        "id": "brB3A9BwaFBw"
      },
      "outputs": [],
      "source": [
        "# Standartize the numerical data\n",
        "scaler = StandardScaler()\n",
        "numerical_features_train_std = scaler.fit_transform(numerical_features_train)\n",
        "numerical_features_val_std = scaler.transform(numerical_features_val)\n",
        "\n",
        "# Save the scaler to a file\n",
        "with open('scaler_config.pkl', 'wb') as file:\n",
        "    pickle.dump(scaler, file)"
      ]
    },
    {
      "cell_type": "code",
      "execution_count": 88,
      "metadata": {
        "id": "GvBn0XzGgYpy"
      },
      "outputs": [],
      "source": [
        "# Gather all the features to one dictionary\n",
        "X_train_dict = {\n",
        "    \"input_ids\": input_ids_train,\n",
        "    \"numerical_features\": numerical_features_train_std.astype(np.float32),\n",
        "    \"binary_features\": binary_features_train.astype(np.float32)\n",
        "}\n",
        "\n",
        "X_val_dict = {\n",
        "    \"input_ids\": input_ids_val,\n",
        "    \"numerical_features\": numerical_features_val_std.astype(np.float32),\n",
        "    \"binary_features\": binary_features_val.astype(np.float32)\n",
        "}"
      ]
    },
    {
      "cell_type": "markdown",
      "metadata": {
        "id": "duSBR36--vIA"
      },
      "source": [
        "# Defining the models"
      ]
    },
    {
      "cell_type": "markdown",
      "metadata": {
        "id": "mI3mqKX-_6r-"
      },
      "source": [
        "### 1st model type:\n",
        "- Text"
      ]
    },
    {
      "cell_type": "code",
      "execution_count": 89,
      "metadata": {
        "colab": {
          "base_uri": "https://localhost:8080/"
        },
        "id": "bjZrpx2RCErE",
        "outputId": "e7c57c80-3642-4223-ed2e-86ff75979f53"
      },
      "outputs": [
        {
          "name": "stdout",
          "output_type": "stream",
          "text": [
            "Model: \"model_6\"\n",
            "_________________________________________________________________\n",
            " Layer (type)                Output Shape              Param #   \n",
            "=================================================================\n",
            " input_3 (InputLayer)        [(None, 512)]             0         \n",
            "                                                                 \n",
            " tf_bert_model_1 (TFBertMod  TFBaseModelOutputWithPo   109482240 \n",
            " el)                         olingAndCrossAttentions             \n",
            "                             (last_hidden_state=(Non             \n",
            "                             e, 512, 768),                       \n",
            "                              pooler_output=(None, 7             \n",
            "                             68),                                \n",
            "                              past_key_values=None,              \n",
            "                             hidden_states=None, att             \n",
            "                             entions=None, cross_att             \n",
            "                             entions=None)                       \n",
            "                                                                 \n",
            " tf.__operators__.getitem_6  (None, 768)               0         \n",
            "  (SlicingOpLambda)                                              \n",
            "                                                                 \n",
            " sequential_6 (Sequential)   (None, 1)                 106753    \n",
            "                                                                 \n",
            "=================================================================\n",
            "Total params: 109588993 (418.05 MB)\n",
            "Trainable params: 106753 (417.00 KB)\n",
            "Non-trainable params: 109482240 (417.64 MB)\n",
            "_________________________________________________________________\n"
          ]
        }
      ],
      "source": [
        "# Create a custom regression head\n",
        "regression_head = tf.keras.models.Sequential([\n",
        "    tf.keras.layers.Flatten(),\n",
        "    tf.keras.layers.Dense(128, activation='relu'),\n",
        "    tf.keras.layers.Dropout(0.3),\n",
        "    tf.keras.layers.Dense(64, activation='relu'),\n",
        "    tf.keras.layers.Dropout(0.3),\n",
        "    tf.keras.layers.Dense(1, activation='linear')\n",
        "])\n",
        "\n",
        "# Combine BERT and Regression Head\n",
        "input_ids = tf.keras.layers.Input(shape=(config['max_seq_length'],), dtype=tf.int32)\n",
        "bert_output = bert_model(input_ids)[0]  # BERT's output\n",
        "pooler_output = bert_output[:, 0, :]     # Pooler output\n",
        "regression_output = regression_head(pooler_output)  # Custom regression head\n",
        "\n",
        "bert_text_model = tf.keras.models.Model(inputs=input_ids, outputs=regression_output)\n",
        "\n",
        "# Set BERT layers as non-trainable\n",
        "for layer in bert_model.layers:\n",
        "    layer.trainable = False\n",
        "\n",
        "# Compile the model, specifying the loss and metrics\n",
        "bert_text_model.compile(optimizer=tf.keras.optimizers.Adam(config['learning_rate']),\n",
        "    loss=config['loss'],\n",
        "    metrics=config['metrics'])\n",
        "\n",
        "# Print model summary\n",
        "bert_text_model.summary()"
      ]
    },
    {
      "cell_type": "code",
      "execution_count": 90,
      "metadata": {
        "colab": {
          "base_uri": "https://localhost:8080/",
          "height": 369
        },
        "id": "pzGeqX3U9lZB",
        "outputId": "fa48e396-9b3a-4718-f79e-f25f0e2962ce"
      },
      "outputs": [
        {
          "data": {
            "image/png": "[encoded data removed]",
            "text/plain": [
              "<IPython.core.display.Image object>"
            ]
          },
          "execution_count": 90,
          "metadata": {},
          "output_type": "execute_result"
        }
      ],
      "source": [
        "tf.keras.utils.plot_model(bert_text_model)"
      ]
    },
    {
      "cell_type": "markdown",
      "metadata": {
        "id": "7xTirj09A8BL"
      },
      "source": [
        "### 2nd model type:\n",
        "- Text\n",
        "- Numerical"
      ]
    },
    {
      "cell_type": "code",
      "execution_count": 91,
      "metadata": {
        "colab": {
          "base_uri": "https://localhost:8080/"
        },
        "id": "ex4-M2J2BCDx",
        "outputId": "febf1f76-f707-40d5-e5af-59636668db49"
      },
      "outputs": [
        {
          "name": "stdout",
          "output_type": "stream",
          "text": [
            "Model: \"model_7\"\n",
            "__________________________________________________________________________________________________\n",
            " Layer (type)                Output Shape                 Param #   Connected to                  \n",
            "==================================================================================================\n",
            " input_ids (InputLayer)      [(None, 512)]                0         []                            \n",
            "                                                                                                  \n",
            " tf_bert_model_1 (TFBertMod  TFBaseModelOutputWithPooli   1094822   ['input_ids[0][0]']           \n",
            " el)                         ngAndCrossAttentions(last_   40                                      \n",
            "                             hidden_state=(None, 512, 7                                           \n",
            "                             68),                                                                 \n",
            "                              pooler_output=(None, 768)                                           \n",
            "                             , past_key_values=None, hi                                           \n",
            "                             dden_states=None, attentio                                           \n",
            "                             ns=None, cross_attentions=                                           \n",
            "                             None)                                                                \n",
            "                                                                                                  \n",
            " tf.__operators__.getitem_7  (None, 768)                  0         ['tf_bert_model_1[1][0]']     \n",
            "  (SlicingOpLambda)                                                                               \n",
            "                                                                                                  \n",
            " numerical_features (InputL  [(None, 1)]                  0         []                            \n",
            " ayer)                                                                                            \n",
            "                                                                                                  \n",
            " concatenate_4 (Concatenate  (None, 769)                  0         ['tf.__operators__.getitem_7[0\n",
            " )                                                                  ][0]',                        \n",
            "                                                                     'numerical_features[0][0]']  \n",
            "                                                                                                  \n",
            " sequential_7 (Sequential)   (None, 1)                    106881    ['concatenate_4[0][0]']       \n",
            "                                                                                                  \n",
            "==================================================================================================\n",
            "Total params: 109589121 (418.05 MB)\n",
            "Trainable params: 106881 (417.50 KB)\n",
            "Non-trainable params: 109482240 (417.64 MB)\n",
            "__________________________________________________________________________________________________\n"
          ]
        }
      ],
      "source": [
        "# Define input layers\n",
        "input_ids = tf.keras.layers.Input(shape=(config['max_seq_length'],), dtype=tf.int32, name=\"input_ids\")\n",
        "numerical_features = tf.keras.layers.Input(shape=(1,), dtype=tf.float32, name=\"numerical_features\")\n",
        "\n",
        "# BERT embedding layer\n",
        "bert_output = bert_model(input_ids)[0]  # BERT's output\n",
        "pooler_output = bert_output[:, 0, :]    # Pooler output\n",
        "\n",
        "# Combine BERT output with numerical features\n",
        "concatenated_features = tf.keras.layers.concatenate([pooler_output, numerical_features])\n",
        "\n",
        "# Custom regression head\n",
        "regression_head = tf.keras.models.Sequential([\n",
        "    tf.keras.layers.Dense(128, activation='relu'),\n",
        "    tf.keras.layers.Dropout(0.3),\n",
        "    tf.keras.layers.Dense(64, activation='relu'),\n",
        "    tf.keras.layers.Dropout(0.3),\n",
        "    tf.keras.layers.Dense(1, activation='linear')\n",
        "])\n",
        "\n",
        "# Connect regression head to combined features\n",
        "regression_output = regression_head(concatenated_features)\n",
        "\n",
        "# Create the final model\n",
        "bert_num_model = tf.keras.models.Model(inputs=[input_ids, numerical_features], outputs=regression_output)\n",
        "\n",
        "# Set BERT layers as non-trainable\n",
        "for layer in bert_model.layers:\n",
        "    layer.trainable = False\n",
        "\n",
        "# Compile the model\n",
        "bert_num_model.compile(optimizer=tf.keras.optimizers.Adam(config['learning_rate']),\n",
        "    loss=config['loss'],\n",
        "    metrics=config['metrics'])\n",
        "\n",
        "# Print model summary\n",
        "bert_num_model.summary()"
      ]
    },
    {
      "cell_type": "code",
      "execution_count": 92,
      "metadata": {
        "colab": {
          "base_uri": "https://localhost:8080/",
          "height": 466
        },
        "id": "W0FSyu8VBa5y",
        "outputId": "3c976e64-8ac8-4fb9-ef19-dcd88e01de0a"
      },
      "outputs": [
        {
          "data": {
            "image/png": "[encoded data removed]",
            "text/plain": [
              "<IPython.core.display.Image object>"
            ]
          },
          "execution_count": 92,
          "metadata": {},
          "output_type": "execute_result"
        }
      ],
      "source": [
        "tf.keras.utils.plot_model(bert_num_model)"
      ]
    },
    {
      "cell_type": "markdown",
      "metadata": {
        "id": "afCjhgT2_pRA"
      },
      "source": [
        "### 3rd model type:\n",
        "- Text\n",
        "- Numerical\n",
        "- Binary"
      ]
    },
    {
      "cell_type": "code",
      "execution_count": 93,
      "metadata": {
        "colab": {
          "base_uri": "https://localhost:8080/"
        },
        "id": "EV-jrH8zY92Y",
        "outputId": "3c42a3a7-5ad3-41de-cdff-4407750aab92"
      },
      "outputs": [
        {
          "name": "stdout",
          "output_type": "stream",
          "text": [
            "Model: \"model_8\"\n",
            "__________________________________________________________________________________________________\n",
            " Layer (type)                Output Shape                 Param #   Connected to                  \n",
            "==================================================================================================\n",
            " input_ids (InputLayer)      [(None, 512)]                0         []                            \n",
            "                                                                                                  \n",
            " tf_bert_model_1 (TFBertMod  TFBaseModelOutputWithPooli   1094822   ['input_ids[0][0]']           \n",
            " el)                         ngAndCrossAttentions(last_   40                                      \n",
            "                             hidden_state=(None, 512, 7                                           \n",
            "                             68),                                                                 \n",
            "                              pooler_output=(None, 768)                                           \n",
            "                             , past_key_values=None, hi                                           \n",
            "                             dden_states=None, attentio                                           \n",
            "                             ns=None, cross_attentions=                                           \n",
            "                             None)                                                                \n",
            "                                                                                                  \n",
            " tf.__operators__.getitem_8  (None, 768)                  0         ['tf_bert_model_1[2][0]']     \n",
            "  (SlicingOpLambda)                                                                               \n",
            "                                                                                                  \n",
            " numerical_features (InputL  [(None, 1)]                  0         []                            \n",
            " ayer)                                                                                            \n",
            "                                                                                                  \n",
            " binary_features (InputLaye  [(None, 2)]                  0         []                            \n",
            " r)                                                                                               \n",
            "                                                                                                  \n",
            " concatenate_5 (Concatenate  (None, 771)                  0         ['tf.__operators__.getitem_8[0\n",
            " )                                                                  ][0]',                        \n",
            "                                                                     'numerical_features[0][0]',  \n",
            "                                                                     'binary_features[0][0]']     \n",
            "                                                                                                  \n",
            " sequential_8 (Sequential)   (None, 1)                    107137    ['concatenate_5[0][0]']       \n",
            "                                                                                                  \n",
            "==================================================================================================\n",
            "Total params: 109589377 (418.05 MB)\n",
            "Trainable params: 107137 (418.50 KB)\n",
            "Non-trainable params: 109482240 (417.64 MB)\n",
            "__________________________________________________________________________________________________\n"
          ]
        }
      ],
      "source": [
        "# Define input layers\n",
        "input_ids = tf.keras.layers.Input(shape=(config['max_seq_length'],), dtype=tf.int32, name=\"input_ids\")\n",
        "numerical_features = tf.keras.layers.Input(shape=(1,), dtype=tf.float32, name=\"numerical_features\")\n",
        "binary_features = tf.keras.layers.Input(shape=(2,), dtype=tf.float32, name=\"binary_features\")\n",
        "\n",
        "# BERT embedding layer\n",
        "bert_output = bert_model(input_ids)[0]  # BERT's output\n",
        "pooler_output = bert_output[:, 0, :]     # Pooler output\n",
        "\n",
        "# Combine BERT output with numerical features\n",
        "concatenated_features = tf.keras.layers.concatenate([pooler_output, numerical_features, binary_features])\n",
        "\n",
        "# Custom regression head\n",
        "regression_head = tf.keras.models.Sequential([\n",
        "    tf.keras.layers.Dense(128, activation='relu'),\n",
        "    tf.keras.layers.Dropout(0.2),\n",
        "    tf.keras.layers.Dense(64, activation='relu'),\n",
        "    tf.keras.layers.Dropout(0.2),\n",
        "    tf.keras.layers.Dense(1, activation='linear')\n",
        "])\n",
        "\n",
        "# Connect regression head to combined features\n",
        "regression_output = regression_head(concatenated_features)\n",
        "\n",
        "# Create the final model\n",
        "bert_num_binary_model = tf.keras.models.Model(inputs=[input_ids, numerical_features, binary_features], outputs=regression_output)\n",
        "\n",
        "# Set BERT layers as non-trainable\n",
        "for layer in bert_model.layers:\n",
        "    layer.trainable = False\n",
        "\n",
        "# Compile the model\n",
        "bert_num_binary_model.compile(optimizer=tf.keras.optimizers.Adam(config['learning_rate']),\n",
        "    loss=config['loss'],\n",
        "    metrics=config['metrics'])\n",
        "\n",
        "# Print model summary\n",
        "bert_num_binary_model.summary()"
      ]
    },
    {
      "cell_type": "code",
      "execution_count": 94,
      "metadata": {
        "colab": {
          "base_uri": "https://localhost:8080/",
          "height": 466
        },
        "id": "wgLg5TCtjCNJ",
        "outputId": "b0e84d50-63a4-49e3-830a-e6815fb690d0"
      },
      "outputs": [
        {
          "data": {
            "image/png": "[encoded data removed]",
            "text/plain": [
              "<IPython.core.display.Image object>"
            ]
          },
          "execution_count": 94,
          "metadata": {},
          "output_type": "execute_result"
        }
      ],
      "source": [
        "tf.keras.utils.plot_model(bert_num_binary_model)"
      ]
    },
    {
      "cell_type": "markdown",
      "metadata": {
        "id": "DDd0KyknENVq"
      },
      "source": [
        "# Training"
      ]
    },
    {
      "cell_type": "code",
      "execution_count": 95,
      "metadata": {
        "id": "eGhphKP8zdSa"
      },
      "outputs": [],
      "source": [
        "# Define a callback to perform early stopping\n",
        "earlystop_callback = tf.keras.callbacks.EarlyStopping(\n",
        "    monitor='val_loss',  # Monitor validation loss\n",
        "    min_delta=0,         # Minimum change in validation loss to be considered an improvement\n",
        "    patience=3,          # Number of epochs with no improvement after which training will stop\n",
        "    verbose=0,           # Verbosity mode (0 for silent)\n",
        "    mode='auto'          # Automatically infer the direction of loss improvement\n",
        ")"
      ]
    },
    {
      "cell_type": "code",
      "execution_count": 96,
      "metadata": {
        "colab": {
          "base_uri": "https://localhost:8080/"
        },
        "id": "PlsVtNoMF1LU",
        "outputId": "75b3bc60-8b34-4b7c-dc7f-ff0bdfbc91b3"
      },
      "outputs": [
        {
          "name": "stdout",
          "output_type": "stream",
          "text": [
            "Epoch 1/50\n",
            "41/41 [==============================] - ETA: 0s - loss: 7.0762 - mean_absolute_error: 2.0407 - root_mean_squared_error: 2.6601\n",
            "Epoch 1: val_loss improved from inf to 1.17241, saving model to training_bert_text/cp.ckpt\n",
            "41/41 [==============================] - 125s 3s/step - loss: 7.0762 - mean_absolute_error: 2.0407 - root_mean_squared_error: 2.6601 - val_loss: 1.1724 - val_mean_absolute_error: 0.8661 - val_root_mean_squared_error: 1.0828\n",
            "Epoch 2/50\n",
            "41/41 [==============================] - ETA: 0s - loss: 3.0509 - mean_absolute_error: 1.4071 - root_mean_squared_error: 1.7467\n",
            "Epoch 2: val_loss improved from 1.17241 to 0.90224, saving model to training_bert_text/cp.ckpt\n",
            "41/41 [==============================] - 111s 3s/step - loss: 3.0509 - mean_absolute_error: 1.4071 - root_mean_squared_error: 1.7467 - val_loss: 0.9022 - val_mean_absolute_error: 0.7528 - val_root_mean_squared_error: 0.9499\n",
            "Epoch 3/50\n",
            "41/41 [==============================] - ETA: 0s - loss: 2.6924 - mean_absolute_error: 1.3213 - root_mean_squared_error: 1.6409\n",
            "Epoch 3: val_loss did not improve from 0.90224\n",
            "41/41 [==============================] - 64s 2s/step - loss: 2.6924 - mean_absolute_error: 1.3213 - root_mean_squared_error: 1.6409 - val_loss: 0.9683 - val_mean_absolute_error: 0.7860 - val_root_mean_squared_error: 0.9840\n",
            "Epoch 4/50\n",
            "41/41 [==============================] - ETA: 0s - loss: 2.4231 - mean_absolute_error: 1.2526 - root_mean_squared_error: 1.5566\n",
            "Epoch 4: val_loss improved from 0.90224 to 0.80266, saving model to training_bert_text/cp.ckpt\n",
            "41/41 [==============================] - 114s 3s/step - loss: 2.4231 - mean_absolute_error: 1.2526 - root_mean_squared_error: 1.5566 - val_loss: 0.8027 - val_mean_absolute_error: 0.7154 - val_root_mean_squared_error: 0.8959\n",
            "Epoch 5/50\n",
            "41/41 [==============================] - ETA: 0s - loss: 2.1901 - mean_absolute_error: 1.1801 - root_mean_squared_error: 1.4799\n",
            "Epoch 5: val_loss improved from 0.80266 to 0.76186, saving model to training_bert_text/cp.ckpt\n",
            "41/41 [==============================] - 119s 3s/step - loss: 2.1901 - mean_absolute_error: 1.1801 - root_mean_squared_error: 1.4799 - val_loss: 0.7619 - val_mean_absolute_error: 0.7108 - val_root_mean_squared_error: 0.8728\n",
            "Epoch 6/50\n",
            "41/41 [==============================] - ETA: 0s - loss: 2.0205 - mean_absolute_error: 1.1393 - root_mean_squared_error: 1.4214\n",
            "Epoch 6: val_loss did not improve from 0.76186\n",
            "41/41 [==============================] - 64s 2s/step - loss: 2.0205 - mean_absolute_error: 1.1393 - root_mean_squared_error: 1.4214 - val_loss: 0.7822 - val_mean_absolute_error: 0.7089 - val_root_mean_squared_error: 0.8844\n",
            "Epoch 7/50\n",
            "41/41 [==============================] - ETA: 0s - loss: 2.3197 - mean_absolute_error: 1.2070 - root_mean_squared_error: 1.5231\n",
            "Epoch 7: val_loss did not improve from 0.76186\n",
            "41/41 [==============================] - 70s 2s/step - loss: 2.3197 - mean_absolute_error: 1.2070 - root_mean_squared_error: 1.5231 - val_loss: 0.8138 - val_mean_absolute_error: 0.7103 - val_root_mean_squared_error: 0.9021\n",
            "Epoch 8/50\n",
            "41/41 [==============================] - ETA: 0s - loss: 2.0637 - mean_absolute_error: 1.1482 - root_mean_squared_error: 1.4366\n",
            "Epoch 8: val_loss did not improve from 0.76186\n",
            "41/41 [==============================] - 70s 2s/step - loss: 2.0637 - mean_absolute_error: 1.1482 - root_mean_squared_error: 1.4366 - val_loss: 0.8655 - val_mean_absolute_error: 0.7350 - val_root_mean_squared_error: 0.9303\n"
          ]
        }
      ],
      "source": [
        "# Define a callback to save the model with the lowest validation loss\n",
        "checkpoint_callback_bert = tf.keras.callbacks.ModelCheckpoint(\n",
        "    filepath='training_bert_text/cp.ckpt',  # Specify the path to save the best model\n",
        "    monitor='val_loss',       # Monitor validation loss\n",
        "    save_best_only=True,      # Save only the best model (lowest val_loss)\n",
        "    mode='min',               # Consider lower values as better\n",
        "    verbose=1                 # Verbosity mode (0 for silent)\n",
        ")\n",
        "\n",
        "history_bert = bert_text_model.fit(X_train_dict['input_ids'], y_train,\n",
        "    epochs=config['epochs'],\n",
        "    batch_size=config['batch_size'],\n",
        "    validation_data=(X_val_dict['input_ids'], y_val),\n",
        "    callbacks=[checkpoint_callback_bert, earlystop_callback])"
      ]
    },
    {
      "cell_type": "code",
      "execution_count": 97,
      "metadata": {
        "colab": {
          "base_uri": "https://localhost:8080/"
        },
        "id": "mTutSgoJE52H",
        "outputId": "2ecbcb66-1ffa-48fe-9a52-6c43b6b57fd1"
      },
      "outputs": [
        {
          "name": "stdout",
          "output_type": "stream",
          "text": [
            "Epoch 1/50\n",
            "41/41 [==============================] - ETA: 0s - loss: 7.5678 - mean_absolute_error: 1.9805 - root_mean_squared_error: 2.6258\n",
            "Epoch 1: val_loss improved from inf to 1.18547, saving model to training_bert_num/cp.ckpt\n",
            "41/41 [==============================] - 129s 3s/step - loss: 7.5678 - mean_absolute_error: 1.9805 - root_mean_squared_error: 2.6258 - val_loss: 1.1855 - val_mean_absolute_error: 0.8702 - val_root_mean_squared_error: 1.0888\n",
            "Epoch 2/50\n",
            "41/41 [==============================] - ETA: 0s - loss: 2.8524 - mean_absolute_error: 1.3506 - root_mean_squared_error: 1.6889\n",
            "Epoch 2: val_loss improved from 1.18547 to 0.81375, saving model to training_bert_num/cp.ckpt\n",
            "41/41 [==============================] - 119s 3s/step - loss: 2.8524 - mean_absolute_error: 1.3506 - root_mean_squared_error: 1.6889 - val_loss: 0.8137 - val_mean_absolute_error: 0.7257 - val_root_mean_squared_error: 0.9021\n",
            "Epoch 3/50\n",
            "41/41 [==============================] - ETA: 0s - loss: 2.4562 - mean_absolute_error: 1.2647 - root_mean_squared_error: 1.5672\n",
            "Epoch 3: val_loss did not improve from 0.81375\n",
            "41/41 [==============================] - 73s 2s/step - loss: 2.4562 - mean_absolute_error: 1.2647 - root_mean_squared_error: 1.5672 - val_loss: 0.8977 - val_mean_absolute_error: 0.7382 - val_root_mean_squared_error: 0.9475\n",
            "Epoch 4/50\n",
            "41/41 [==============================] - ETA: 0s - loss: 2.2891 - mean_absolute_error: 1.2056 - root_mean_squared_error: 1.5130\n",
            "Epoch 4: val_loss did not improve from 0.81375\n",
            "41/41 [==============================] - 69s 2s/step - loss: 2.2891 - mean_absolute_error: 1.2056 - root_mean_squared_error: 1.5130 - val_loss: 1.0247 - val_mean_absolute_error: 0.8094 - val_root_mean_squared_error: 1.0123\n",
            "Epoch 5/50\n",
            "41/41 [==============================] - ETA: 0s - loss: 1.9806 - mean_absolute_error: 1.1218 - root_mean_squared_error: 1.4073\n",
            "Epoch 5: val_loss improved from 0.81375 to 0.81263, saving model to training_bert_num/cp.ckpt\n",
            "41/41 [==============================] - 115s 3s/step - loss: 1.9806 - mean_absolute_error: 1.1218 - root_mean_squared_error: 1.4073 - val_loss: 0.8126 - val_mean_absolute_error: 0.7145 - val_root_mean_squared_error: 0.9015\n",
            "Epoch 6/50\n",
            "41/41 [==============================] - ETA: 0s - loss: 2.0079 - mean_absolute_error: 1.1017 - root_mean_squared_error: 1.4170\n",
            "Epoch 6: val_loss did not improve from 0.81263\n",
            "41/41 [==============================] - 74s 2s/step - loss: 2.0079 - mean_absolute_error: 1.1017 - root_mean_squared_error: 1.4170 - val_loss: 0.9492 - val_mean_absolute_error: 0.7830 - val_root_mean_squared_error: 0.9743\n",
            "Epoch 7/50\n",
            "41/41 [==============================] - ETA: 0s - loss: 2.0718 - mean_absolute_error: 1.1554 - root_mean_squared_error: 1.4394\n",
            "Epoch 7: val_loss did not improve from 0.81263\n",
            "41/41 [==============================] - 73s 2s/step - loss: 2.0718 - mean_absolute_error: 1.1554 - root_mean_squared_error: 1.4394 - val_loss: 0.9991 - val_mean_absolute_error: 0.7857 - val_root_mean_squared_error: 0.9996\n",
            "Epoch 8/50\n",
            "41/41 [==============================] - ETA: 0s - loss: 1.9157 - mean_absolute_error: 1.1101 - root_mean_squared_error: 1.3841\n",
            "Epoch 8: val_loss improved from 0.81263 to 0.72865, saving model to training_bert_num/cp.ckpt\n",
            "41/41 [==============================] - 118s 3s/step - loss: 1.9157 - mean_absolute_error: 1.1101 - root_mean_squared_error: 1.3841 - val_loss: 0.7286 - val_mean_absolute_error: 0.6780 - val_root_mean_squared_error: 0.8536\n",
            "Epoch 9/50\n",
            "41/41 [==============================] - ETA: 0s - loss: 1.8016 - mean_absolute_error: 1.0823 - root_mean_squared_error: 1.3422\n",
            "Epoch 9: val_loss did not improve from 0.72865\n",
            "41/41 [==============================] - 74s 2s/step - loss: 1.8016 - mean_absolute_error: 1.0823 - root_mean_squared_error: 1.3422 - val_loss: 0.9171 - val_mean_absolute_error: 0.7629 - val_root_mean_squared_error: 0.9577\n",
            "Epoch 10/50\n",
            "41/41 [==============================] - ETA: 0s - loss: 1.9162 - mean_absolute_error: 1.1142 - root_mean_squared_error: 1.3843\n",
            "Epoch 10: val_loss did not improve from 0.72865\n",
            "41/41 [==============================] - 69s 2s/step - loss: 1.9162 - mean_absolute_error: 1.1142 - root_mean_squared_error: 1.3843 - val_loss: 0.7435 - val_mean_absolute_error: 0.6812 - val_root_mean_squared_error: 0.8623\n",
            "Epoch 11/50\n",
            "41/41 [==============================] - ETA: 0s - loss: 2.0115 - mean_absolute_error: 1.1222 - root_mean_squared_error: 1.4183\n",
            "Epoch 11: val_loss did not improve from 0.72865\n",
            "41/41 [==============================] - 69s 2s/step - loss: 2.0115 - mean_absolute_error: 1.1222 - root_mean_squared_error: 1.4183 - val_loss: 0.8792 - val_mean_absolute_error: 0.7462 - val_root_mean_squared_error: 0.9377\n"
          ]
        }
      ],
      "source": [
        "# Define a callback to save the model with the lowest validation loss\n",
        "checkpoint_callback_bert_num = tf.keras.callbacks.ModelCheckpoint(\n",
        "    filepath='training_bert_num/cp.ckpt',  # Specify the path to save the best model\n",
        "    monitor='val_loss',       # Monitor validation loss\n",
        "    save_best_only=True,      # Save only the best model (lowest val_loss)\n",
        "    mode='min',               # Consider lower values as better\n",
        "    verbose=1                 # Verbosity mode (0 for silent)\n",
        ")\n",
        "\n",
        "history_bert_num = bert_num_model.fit([X_train_dict['input_ids'], X_train_dict['numerical_features']], y_train,\n",
        "    epochs=config['epochs'],\n",
        "    batch_size=config['batch_size'],\n",
        "    validation_data=([X_val_dict['input_ids'], X_val_dict['numerical_features']], y_val),\n",
        "    callbacks=[checkpoint_callback_bert_num, earlystop_callback])"
      ]
    },
    {
      "cell_type": "code",
      "execution_count": 98,
      "metadata": {
        "colab": {
          "base_uri": "https://localhost:8080/"
        },
        "id": "XO1CqncyaJry",
        "outputId": "2e21492f-1a69-40f8-ee3a-522817a4a3ec"
      },
      "outputs": [
        {
          "name": "stdout",
          "output_type": "stream",
          "text": [
            "Epoch 1/50\n",
            "41/41 [==============================] - ETA: 0s - loss: 5.4856 - mean_absolute_error: 1.6804 - root_mean_squared_error: 2.2412\n",
            "Epoch 1: val_loss improved from inf to 0.97476, saving model to training_bert_num_bin/cp.ckpt\n",
            "41/41 [==============================] - 128s 3s/step - loss: 5.4856 - mean_absolute_error: 1.6804 - root_mean_squared_error: 2.2412 - val_loss: 0.9748 - val_mean_absolute_error: 0.7895 - val_root_mean_squared_error: 0.9873\n",
            "Epoch 2/50\n",
            "41/41 [==============================] - ETA: 0s - loss: 2.2014 - mean_absolute_error: 1.1902 - root_mean_squared_error: 1.4837\n",
            "Epoch 2: val_loss did not improve from 0.97476\n",
            "41/41 [==============================] - 69s 2s/step - loss: 2.2014 - mean_absolute_error: 1.1902 - root_mean_squared_error: 1.4837 - val_loss: 1.1297 - val_mean_absolute_error: 0.8550 - val_root_mean_squared_error: 1.0629\n",
            "Epoch 3/50\n",
            "41/41 [==============================] - ETA: 0s - loss: 1.7928 - mean_absolute_error: 1.0602 - root_mean_squared_error: 1.3390\n",
            "Epoch 3: val_loss improved from 0.97476 to 0.93911, saving model to training_bert_num_bin/cp.ckpt\n",
            "41/41 [==============================] - 118s 3s/step - loss: 1.7928 - mean_absolute_error: 1.0602 - root_mean_squared_error: 1.3390 - val_loss: 0.9391 - val_mean_absolute_error: 0.7815 - val_root_mean_squared_error: 0.9691\n",
            "Epoch 4/50\n",
            "41/41 [==============================] - ETA: 0s - loss: 1.8368 - mean_absolute_error: 1.0700 - root_mean_squared_error: 1.3553\n",
            "Epoch 4: val_loss improved from 0.93911 to 0.90543, saving model to training_bert_num_bin/cp.ckpt\n",
            "41/41 [==============================] - 119s 3s/step - loss: 1.8368 - mean_absolute_error: 1.0700 - root_mean_squared_error: 1.3553 - val_loss: 0.9054 - val_mean_absolute_error: 0.7689 - val_root_mean_squared_error: 0.9515\n",
            "Epoch 5/50\n",
            "41/41 [==============================] - ETA: 0s - loss: 1.6152 - mean_absolute_error: 1.0178 - root_mean_squared_error: 1.2709\n",
            "Epoch 5: val_loss improved from 0.90543 to 0.76781, saving model to training_bert_num_bin/cp.ckpt\n",
            "41/41 [==============================] - 116s 3s/step - loss: 1.6152 - mean_absolute_error: 1.0178 - root_mean_squared_error: 1.2709 - val_loss: 0.7678 - val_mean_absolute_error: 0.7115 - val_root_mean_squared_error: 0.8762\n",
            "Epoch 6/50\n",
            "41/41 [==============================] - ETA: 0s - loss: 1.5015 - mean_absolute_error: 0.9702 - root_mean_squared_error: 1.2254\n",
            "Epoch 6: val_loss did not improve from 0.76781\n",
            "41/41 [==============================] - 69s 2s/step - loss: 1.5015 - mean_absolute_error: 0.9702 - root_mean_squared_error: 1.2254 - val_loss: 0.8135 - val_mean_absolute_error: 0.7263 - val_root_mean_squared_error: 0.9019\n",
            "Epoch 7/50\n",
            "41/41 [==============================] - ETA: 0s - loss: 1.5040 - mean_absolute_error: 0.9834 - root_mean_squared_error: 1.2264\n",
            "Epoch 7: val_loss improved from 0.76781 to 0.70550, saving model to training_bert_num_bin/cp.ckpt\n",
            "41/41 [==============================] - 128s 3s/step - loss: 1.5040 - mean_absolute_error: 0.9834 - root_mean_squared_error: 1.2264 - val_loss: 0.7055 - val_mean_absolute_error: 0.6745 - val_root_mean_squared_error: 0.8399\n",
            "Epoch 8/50\n",
            "41/41 [==============================] - ETA: 0s - loss: 1.4747 - mean_absolute_error: 0.9707 - root_mean_squared_error: 1.2144\n",
            "Epoch 8: val_loss did not improve from 0.70550\n",
            "41/41 [==============================] - 69s 2s/step - loss: 1.4747 - mean_absolute_error: 0.9707 - root_mean_squared_error: 1.2144 - val_loss: 0.7284 - val_mean_absolute_error: 0.6942 - val_root_mean_squared_error: 0.8535\n",
            "Epoch 9/50\n",
            "41/41 [==============================] - ETA: 0s - loss: 1.5347 - mean_absolute_error: 0.9947 - root_mean_squared_error: 1.2388\n",
            "Epoch 9: val_loss did not improve from 0.70550\n",
            "41/41 [==============================] - 70s 2s/step - loss: 1.5347 - mean_absolute_error: 0.9947 - root_mean_squared_error: 1.2388 - val_loss: 1.7423 - val_mean_absolute_error: 1.1078 - val_root_mean_squared_error: 1.3200\n",
            "Epoch 10/50\n",
            "41/41 [==============================] - ETA: 0s - loss: 1.7400 - mean_absolute_error: 1.0434 - root_mean_squared_error: 1.3191\n",
            "Epoch 10: val_loss did not improve from 0.70550\n",
            "41/41 [==============================] - 66s 2s/step - loss: 1.7400 - mean_absolute_error: 1.0434 - root_mean_squared_error: 1.3191 - val_loss: 1.0860 - val_mean_absolute_error: 0.8228 - val_root_mean_squared_error: 1.0421\n"
          ]
        }
      ],
      "source": [
        "# Define a callback to save the model with the lowest validation loss\n",
        "checkpoint_callback_bert_num_bin = tf.keras.callbacks.ModelCheckpoint(\n",
        "    filepath='training_bert_num_bin/cp.ckpt',  # Specify the path to save the best model\n",
        "    monitor='val_loss',       # Monitor validation loss\n",
        "    save_best_only=True,      # Save only the best model (lowest val_loss)\n",
        "    mode='min',               # Consider lower values as better\n",
        "    verbose=1                 # Verbosity mode (0 for silent)\n",
        ")\n",
        "\n",
        "history_bert_num_bin = bert_num_binary_model.fit([X_train_dict['input_ids'], X_train_dict['numerical_features'], X_train_dict['binary_features']],\n",
        "    y_train,\n",
        "    epochs=config['epochs'],\n",
        "    batch_size=config['batch_size'],\n",
        "    validation_data=(X_val_dict, y_val),\n",
        "    callbacks=[checkpoint_callback_bert_num_bin, earlystop_callback])"
      ]
    },
    {
      "cell_type": "code",
      "execution_count": 99,
      "metadata": {
        "colab": {
          "base_uri": "https://localhost:8080/",
          "height": 1000
        },
        "id": "AMan2ccZG_9u",
        "outputId": "62527280-6c90-489b-bf53-fbfdf9ea5c45"
      },
      "outputs": [
        {
          "data": {
            "image/png": "[encoded data removed]",
            "text/plain": [
              "<Figure size 640x480 with 1 Axes>"
            ]
          },
          "metadata": {},
          "output_type": "display_data"
        },
        {
          "data": {
            "image/png": "[encoded data removed]",
            "text/plain": [
              "<Figure size 640x480 with 1 Axes>"
            ]
          },
          "metadata": {},
          "output_type": "display_data"
        },
        {
          "data": {
            "image/png": "[encoded data removed]",
            "text/plain": [
              "<Figure size 640x480 with 1 Axes>"
            ]
          },
          "metadata": {},
          "output_type": "display_data"
        }
      ],
      "source": [
        "# 1st model\n",
        "plt.plot(history_bert.history[\"loss\"])\n",
        "plt.plot(history_bert.history[\"val_loss\"])\n",
        "plt.title(\"1st model training history\")\n",
        "plt.xlabel(\"Epochs\")\n",
        "plt.ylabel(\"Loss\")\n",
        "plt.legend([\"Loss\",\"Val Loss\"])\n",
        "plt.show()\n",
        "\n",
        "# 2nd model\n",
        "plt.plot(history_bert_num.history[\"loss\"])\n",
        "plt.plot(history_bert_num.history[\"val_loss\"])\n",
        "plt.title(\"2nd model training history\")\n",
        "plt.xlabel(\"Epochs\")\n",
        "plt.ylabel(\"Loss\")\n",
        "plt.legend([\"Loss\",\"Val Loss\"])\n",
        "plt.show()\n",
        "\n",
        "# 3rd model\n",
        "plt.plot(history_bert_num_bin.history[\"loss\"])\n",
        "plt.plot(history_bert_num_bin.history[\"val_loss\"])\n",
        "plt.title(\"3rd model training history\")\n",
        "plt.xlabel(\"Epochs\")\n",
        "plt.ylabel(\"Loss\")\n",
        "plt.legend([\"Loss\",\"Val Loss\"])\n",
        "plt.show()"
      ]
    },
    {
      "cell_type": "markdown",
      "metadata": {
        "id": "L7mdaf9sHp26"
      },
      "source": [
        "# Results and conclusions"
      ]
    },
    {
      "cell_type": "code",
      "execution_count": 105,
      "metadata": {
        "colab": {
          "base_uri": "https://localhost:8080/"
        },
        "id": "OueFp0Wp0N6i",
        "outputId": "7936d84e-fdce-4c9d-8cd2-0f0e6abfc843"
      },
      "outputs": [
        {
          "data": {
            "text/plain": [
              "<tensorflow.python.checkpoint.checkpoint.CheckpointLoadStatus at 0x7af51ed42650>"
            ]
          },
          "execution_count": 105,
          "metadata": {},
          "output_type": "execute_result"
        }
      ],
      "source": [
        "bert_text_model.load_weights('training_bert_text/cp.ckpt')\n",
        "bert_num_model.load_weights('training_bert_num/cp.ckpt')\n",
        "bert_num_binary_model.load_weights('training_bert_num_bin/cp.ckpt')"
      ]
    },
    {
      "cell_type": "code",
      "execution_count": 106,
      "metadata": {
        "colab": {
          "base_uri": "https://localhost:8080/"
        },
        "id": "5tXpkWJR8YNS",
        "outputId": "3f018b8f-1971-470e-eb02-d060e9333cb4"
      },
      "outputs": [
        {
          "name": "stdout",
          "output_type": "stream",
          "text": [
            "5/5 [==============================] - 6s 1s/step\n",
            "0.7107680439949036\n"
          ]
        }
      ],
      "source": [
        "predictions_bert_text = bert_text_model.predict(X_val_dict['input_ids'])\n",
        "bert_text_mae = mean_absolute_error(y_val, predictions_bert_text)\n",
        "print(bert_text_mae)"
      ]
    },
    {
      "cell_type": "code",
      "execution_count": 107,
      "metadata": {
        "colab": {
          "base_uri": "https://localhost:8080/"
        },
        "id": "-MteZwJyGmka",
        "outputId": "d53f0ed3-69e2-4453-efcd-9ebf81bfe255"
      },
      "outputs": [
        {
          "name": "stdout",
          "output_type": "stream",
          "text": [
            "5/5 [==============================] - 6s 1s/step\n",
            "0.6780009236600664\n"
          ]
        }
      ],
      "source": [
        "predictions_bert_num = bert_num_model.predict([X_val_dict['input_ids'], X_val_dict['numerical_features']])\n",
        "bert_num_mae = mean_absolute_error(y_val, predictions_bert_num)\n",
        "print(bert_num_mae)"
      ]
    },
    {
      "cell_type": "code",
      "execution_count": 103,
      "metadata": {
        "colab": {
          "base_uri": "https://localhost:8080/"
        },
        "id": "_jb6tvP0Gm6s",
        "outputId": "2d1a916f-0e7a-4edc-e37a-226b04e22cde"
      },
      "outputs": [
        {
          "name": "stdout",
          "output_type": "stream",
          "text": [
            "5/5 [==============================] - 9s 1s/step\n",
            "0.6744683881600698\n"
          ]
        }
      ],
      "source": [
        "predictions_bert_num_bin = bert_num_binary_model.predict([X_val_dict['input_ids'], X_val_dict['numerical_features'], X_val_dict['binary_features']])\n",
        "bert_num_bin_mae = mean_absolute_error(y_val, predictions_bert_num_bin)\n",
        "print(bert_num_bin_mae)"
      ]
    },
    {
      "cell_type": "code",
      "execution_count": 111,
      "metadata": {
        "colab": {
          "base_uri": "https://localhost:8080/",
          "height": 410
        },
        "id": "MFJSumQJHk2V",
        "outputId": "4780c2cb-1b1b-44c0-8186-7f95120d3367"
      },
      "outputs": [
        {
          "data": {
            "image/png": "[encoded data removed]",
            "text/plain": [
              "<Figure size 500x400 with 1 Axes>"
            ]
          },
          "metadata": {},
          "output_type": "display_data"
        }
      ],
      "source": [
        "# Create a data frame for the metrics and values\n",
        "mae_results = pd.DataFrame({'Models': ['bert_text', 'bert_num', 'bert_num_bin'],\n",
        "                     'Values': [bert_text_mae, bert_num_mae, bert_num_bin_mae]})\n",
        "\n",
        "# Create a bar plot using Seaborn\n",
        "plt.figure(figsize=(5, 4))\n",
        "sns.barplot(x='Models', y='Values', data=mae_results, palette='Set2')\n",
        "plt.xlabel('Models')\n",
        "plt.ylabel('Values')\n",
        "plt.title('Comparison of Models MAE')\n",
        "\n",
        "plt.ylim(0.6, 0.8)  # Set the y-axis range as needed\n",
        "\n",
        "# Add value labels to the bars\n",
        "for index, row in mae_results.iterrows():\n",
        "    plt.text(index, row['Values'] + 0.005, f'{row[\"Values\"]:.4f}', ha='center', fontsize=10)\n",
        "\n",
        "plt.show()"
      ]
    },
    {
      "cell_type": "code",
      "execution_count": null,
      "metadata": {
        "id": "yIYWzZgcA3bS"
      },
      "outputs": [],
      "source": []
    }
  ],
  "metadata": {
    "accelerator": "GPU",
    "colab": {
      "gpuType": "T4",
      "provenance": []
    },
    "kernelspec": {
      "display_name": "Python 3",
      "name": "python3"
    },
    "language_info": {
      "codemirror_mode": {
        "name": "ipython",
        "version": 3
      },
      "file_extension": ".py",
      "mimetype": "text/x-python",
      "name": "python",
      "nbconvert_exporter": "python",
      "pygments_lexer": "ipython3",
      "version": "3.10.12"
    }
  },
  "nbformat": 4,
  "nbformat_minor": 0
}
