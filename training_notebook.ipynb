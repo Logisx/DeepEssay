{
  "cells": [
    {
      "cell_type": "code",
      "execution_count": 2,
      "metadata": {
        "_cell_guid": "b1076dfc-b9ad-4769-8c92-a6c4dae69d19",
        "_uuid": "8f2839f25d086af736a60e9eeb907d3b93b6e0e5",
        "execution": {
          "iopub.execute_input": "2023-09-25T15:32:12.804520Z",
          "iopub.status.busy": "2023-09-25T15:32:12.804059Z",
          "iopub.status.idle": "2023-09-25T15:32:12.815175Z",
          "shell.execute_reply": "2023-09-25T15:32:12.813943Z",
          "shell.execute_reply.started": "2023-09-25T15:32:12.804486Z"
        },
        "id": "oq-mCYdZ_f7t",
        "trusted": true
      },
      "outputs": [
        {
          "ename": "ModuleNotFoundError",
          "evalue": "No module named 'pandas'",
          "output_type": "error",
          "traceback": [
            "\u001b[1;31m---------------------------------------------------------------------------\u001b[0m",
            "\u001b[1;31mModuleNotFoundError\u001b[0m                       Traceback (most recent call last)",
            "\u001b[1;32mc:\\Users\\logis\\Logis\\Study\\Self Edu\\Projects\\IELTS\\model\\training.ipynb Cell 1\u001b[0m line \u001b[0;36m2\n\u001b[0;32m      <a href='vscode-notebook-cell:/c%3A/Users/logis/Logis/Study/Self%20Edu/Projects/IELTS/model/training.ipynb#W0sZmlsZQ%3D%3D?line=0'>1</a>\u001b[0m \u001b[39mimport\u001b[39;00m \u001b[39mnumpy\u001b[39;00m \u001b[39mas\u001b[39;00m \u001b[39mnp\u001b[39;00m\n\u001b[1;32m----> <a href='vscode-notebook-cell:/c%3A/Users/logis/Logis/Study/Self%20Edu/Projects/IELTS/model/training.ipynb#W0sZmlsZQ%3D%3D?line=1'>2</a>\u001b[0m \u001b[39mimport\u001b[39;00m \u001b[39mpandas\u001b[39;00m \u001b[39mas\u001b[39;00m \u001b[39mpd\u001b[39;00m\n\u001b[0;32m      <a href='vscode-notebook-cell:/c%3A/Users/logis/Logis/Study/Self%20Edu/Projects/IELTS/model/training.ipynb#W0sZmlsZQ%3D%3D?line=2'>3</a>\u001b[0m \u001b[39mimport\u001b[39;00m \u001b[39mseaborn\u001b[39;00m \u001b[39mas\u001b[39;00m \u001b[39msns\u001b[39;00m\n\u001b[0;32m      <a href='vscode-notebook-cell:/c%3A/Users/logis/Logis/Study/Self%20Edu/Projects/IELTS/model/training.ipynb#W0sZmlsZQ%3D%3D?line=3'>4</a>\u001b[0m \u001b[39mimport\u001b[39;00m \u001b[39mmatplotlib\u001b[39;00m\u001b[39m.\u001b[39;00m\u001b[39mpyplot\u001b[39;00m \u001b[39mas\u001b[39;00m \u001b[39mplt\u001b[39;00m\n",
            "\u001b[1;31mModuleNotFoundError\u001b[0m: No module named 'pandas'"
          ]
        }
      ],
      "source": [
        "import numpy as np\n",
        "import pandas as pd\n",
        "import seaborn as sns\n",
        "import matplotlib.pyplot as plt\n",
        "import tensorflow as tf\n",
        "from tqdm import tqdm\n",
        "from sklearn import preprocessing, decomposition, model_selection, metrics, pipeline\n",
        "from sklearn.feature_extraction.text import TfidfVectorizer, CountVectorizer\n",
        "from sklearn.model_selection import train_test_split\n",
        "from sklearn.linear_model import LinearRegression\n",
        "from sklearn.metrics import mean_squared_error, mean_absolute_error\n",
        "#from xgboost import XGBRegressor\n",
        "#from nltk import word_tokenize\n",
        "#from nltk.corpus import stopwords\n",
        "from keras.layers import (\n",
        "    GlobalMaxPooling1D, Conv1D, MaxPooling1D, Flatten, Bidirectional,\n",
        "    SpatialDropout1D, Dense, Activation, Dropout, BatchNormalization,\n",
        "    Embedding, LSTM, GRU\n",
        ")\n",
        "from keras.metrics import MeanAbsoluteError, RootMeanSquaredError, MeanSquaredError\n",
        "from keras.preprocessing import sequence, text\n",
        "from keras.callbacks import EarlyStopping\n",
        "from keras.utils import pad_sequences\n",
        "# from keras.utils import np_utils\n",
        "\n",
        "from scipy.stats import pearsonr\n",
        "from string import punctuation\n",
        "from sklearn.metrics import r2_score\n",
        "from sklearn.preprocessing import LabelEncoder, OrdinalEncoder, StandardScaler\n",
        "from sklearn.model_selection import train_test_split\n",
        "#import tensorflow_hub as tfh\n",
        "from transformers import TFBertModel, BertTokenizer\n",
        "\n",
        "# Comment out unused import\n",
        "# stop_words = stopwords.words('english')"
      ]
    },
    {
      "cell_type": "code",
      "execution_count": 3,
      "metadata": {},
      "outputs": [],
      "source": [
        "import tensorflow as tf"
      ]
    },
    {
      "cell_type": "code",
      "execution_count": 6,
      "metadata": {},
      "outputs": [
        {
          "data": {
            "text/plain": [
              "'c:\\\\Users\\\\logis\\\\Logis\\\\Study\\\\Self Edu\\\\Projects\\\\IELTS\\\\model'"
            ]
          },
          "execution_count": 6,
          "metadata": {},
          "output_type": "execute_result"
        }
      ],
      "source": [
        "import os\n",
        "os.getcwd()"
      ]
    },
    {
      "cell_type": "code",
      "execution_count": 8,
      "metadata": {},
      "outputs": [
        {
          "ename": "TypeError",
          "evalue": "'str' object is not callable",
          "output_type": "error",
          "traceback": [
            "\u001b[1;31m---------------------------------------------------------------------------\u001b[0m",
            "\u001b[1;31mTypeError\u001b[0m                                 Traceback (most recent call last)",
            "\u001b[1;32mc:\\Users\\logis\\Logis\\Study\\Self Edu\\Projects\\IELTS\\model\\training.ipynb Cell 4\u001b[0m line \u001b[0;36m1\n\u001b[1;32m----> <a href='vscode-notebook-cell:/c%3A/Users/logis/Logis/Study/Self%20Edu/Projects/IELTS/model/training.ipynb#Y116sZmlsZQ%3D%3D?line=0'>1</a>\u001b[0m model \u001b[39m=\u001b[39m tf\u001b[39m.\u001b[39;49mkeras\u001b[39m.\u001b[39;49mmodels\u001b[39m.\u001b[39;49mload_model(\u001b[39m'\u001b[39;49m\u001b[39mbert_text_model.keras\u001b[39;49m\u001b[39m'\u001b[39;49m)\n",
            "File \u001b[1;32mc:\\Users\\logis\\Logis\\Study\\Self Edu\\Projects\\IELTS\\.venv\\Lib\\site-packages\\keras\\src\\saving\\saving_api.py:254\u001b[0m, in \u001b[0;36mload_model\u001b[1;34m(filepath, custom_objects, compile, safe_mode, **kwargs)\u001b[0m\n\u001b[0;32m    249\u001b[0m     \u001b[39mif\u001b[39;00m kwargs:\n\u001b[0;32m    250\u001b[0m         \u001b[39mraise\u001b[39;00m \u001b[39mValueError\u001b[39;00m(\n\u001b[0;32m    251\u001b[0m             \u001b[39m\"\u001b[39m\u001b[39mThe following argument(s) are not supported \u001b[39m\u001b[39m\"\u001b[39m\n\u001b[0;32m    252\u001b[0m             \u001b[39mf\u001b[39m\u001b[39m\"\u001b[39m\u001b[39mwith the native Keras format: \u001b[39m\u001b[39m{\u001b[39;00m\u001b[39mlist\u001b[39m(kwargs\u001b[39m.\u001b[39mkeys())\u001b[39m}\u001b[39;00m\u001b[39m\"\u001b[39m\n\u001b[0;32m    253\u001b[0m         )\n\u001b[1;32m--> 254\u001b[0m     \u001b[39mreturn\u001b[39;00m saving_lib\u001b[39m.\u001b[39;49mload_model(\n\u001b[0;32m    255\u001b[0m         filepath,\n\u001b[0;32m    256\u001b[0m         custom_objects\u001b[39m=\u001b[39;49mcustom_objects,\n\u001b[0;32m    257\u001b[0m         \u001b[39mcompile\u001b[39;49m\u001b[39m=\u001b[39;49m\u001b[39mcompile\u001b[39;49m,\n\u001b[0;32m    258\u001b[0m         safe_mode\u001b[39m=\u001b[39;49msafe_mode,\n\u001b[0;32m    259\u001b[0m     )\n\u001b[0;32m    261\u001b[0m \u001b[39m# Legacy case.\u001b[39;00m\n\u001b[0;32m    262\u001b[0m \u001b[39mreturn\u001b[39;00m legacy_sm_saving_lib\u001b[39m.\u001b[39mload_model(\n\u001b[0;32m    263\u001b[0m     filepath, custom_objects\u001b[39m=\u001b[39mcustom_objects, \u001b[39mcompile\u001b[39m\u001b[39m=\u001b[39m\u001b[39mcompile\u001b[39m, \u001b[39m*\u001b[39m\u001b[39m*\u001b[39mkwargs\n\u001b[0;32m    264\u001b[0m )\n",
            "File \u001b[1;32mc:\\Users\\logis\\Logis\\Study\\Self Edu\\Projects\\IELTS\\.venv\\Lib\\site-packages\\keras\\src\\saving\\saving_lib.py:281\u001b[0m, in \u001b[0;36mload_model\u001b[1;34m(filepath, custom_objects, compile, safe_mode)\u001b[0m\n\u001b[0;32m    278\u001b[0m             asset_store\u001b[39m.\u001b[39mclose()\n\u001b[0;32m    280\u001b[0m \u001b[39mexcept\u001b[39;00m \u001b[39mException\u001b[39;00m \u001b[39mas\u001b[39;00m e:\n\u001b[1;32m--> 281\u001b[0m     \u001b[39mraise\u001b[39;00m e\n\u001b[0;32m    282\u001b[0m \u001b[39melse\u001b[39;00m:\n\u001b[0;32m    283\u001b[0m     \u001b[39mreturn\u001b[39;00m model\n",
            "File \u001b[1;32mc:\\Users\\logis\\Logis\\Study\\Self Edu\\Projects\\IELTS\\.venv\\Lib\\site-packages\\keras\\src\\saving\\saving_lib.py:246\u001b[0m, in \u001b[0;36mload_model\u001b[1;34m(filepath, custom_objects, compile, safe_mode)\u001b[0m\n\u001b[0;32m    244\u001b[0m \u001b[39m# Construct the model from the configuration file in the archive.\u001b[39;00m\n\u001b[0;32m    245\u001b[0m \u001b[39mwith\u001b[39;00m ObjectSharingScope():\n\u001b[1;32m--> 246\u001b[0m     model \u001b[39m=\u001b[39m deserialize_keras_object(\n\u001b[0;32m    247\u001b[0m         config_dict, custom_objects, safe_mode\u001b[39m=\u001b[39;49msafe_mode\n\u001b[0;32m    248\u001b[0m     )\n\u001b[0;32m    250\u001b[0m all_filenames \u001b[39m=\u001b[39m zf\u001b[39m.\u001b[39mnamelist()\n\u001b[0;32m    251\u001b[0m \u001b[39mif\u001b[39;00m _VARS_FNAME \u001b[39m+\u001b[39m \u001b[39m\"\u001b[39m\u001b[39m.h5\u001b[39m\u001b[39m\"\u001b[39m \u001b[39min\u001b[39;00m all_filenames:\n",
            "File \u001b[1;32mc:\\Users\\logis\\Logis\\Study\\Self Edu\\Projects\\IELTS\\.venv\\Lib\\site-packages\\keras\\src\\saving\\serialization_lib.py:728\u001b[0m, in \u001b[0;36mdeserialize_keras_object\u001b[1;34m(config, custom_objects, safe_mode, **kwargs)\u001b[0m\n\u001b[0;32m    726\u001b[0m safe_mode_scope \u001b[39m=\u001b[39m SafeModeScope(safe_mode)\n\u001b[0;32m    727\u001b[0m \u001b[39mwith\u001b[39;00m custom_obj_scope, safe_mode_scope:\n\u001b[1;32m--> 728\u001b[0m     instance \u001b[39m=\u001b[39m \u001b[39mcls\u001b[39;49m\u001b[39m.\u001b[39;49mfrom_config(inner_config)\n\u001b[0;32m    729\u001b[0m     build_config \u001b[39m=\u001b[39m config\u001b[39m.\u001b[39mget(\u001b[39m\"\u001b[39m\u001b[39mbuild_config\u001b[39m\u001b[39m\"\u001b[39m, \u001b[39mNone\u001b[39;00m)\n\u001b[0;32m    730\u001b[0m     \u001b[39mif\u001b[39;00m build_config:\n",
            "File \u001b[1;32mc:\\Users\\logis\\Logis\\Study\\Self Edu\\Projects\\IELTS\\.venv\\Lib\\site-packages\\keras\\src\\engine\\training.py:3306\u001b[0m, in \u001b[0;36mModel.from_config\u001b[1;34m(cls, config, custom_objects)\u001b[0m\n\u001b[0;32m   3298\u001b[0m revivable_as_functional \u001b[39m=\u001b[39m (\n\u001b[0;32m   3299\u001b[0m     \u001b[39mcls\u001b[39m \u001b[39min\u001b[39;00m {functional\u001b[39m.\u001b[39mFunctional, Model}\n\u001b[0;32m   3300\u001b[0m     \u001b[39mor\u001b[39;00m argspec\u001b[39m.\u001b[39margs[\u001b[39m1\u001b[39m:] \u001b[39m==\u001b[39m functional_init_args\n\u001b[0;32m   3301\u001b[0m     \u001b[39mor\u001b[39;00m (argspec\u001b[39m.\u001b[39mvarargs \u001b[39m==\u001b[39m \u001b[39m\"\u001b[39m\u001b[39margs\u001b[39m\u001b[39m\"\u001b[39m \u001b[39mand\u001b[39;00m argspec\u001b[39m.\u001b[39mvarkw \u001b[39m==\u001b[39m \u001b[39m\"\u001b[39m\u001b[39mkwargs\u001b[39m\u001b[39m\"\u001b[39m)\n\u001b[0;32m   3302\u001b[0m )\n\u001b[0;32m   3303\u001b[0m \u001b[39mif\u001b[39;00m is_functional_config \u001b[39mand\u001b[39;00m revivable_as_functional:\n\u001b[0;32m   3304\u001b[0m     \u001b[39m# Revive Functional model\u001b[39;00m\n\u001b[0;32m   3305\u001b[0m     \u001b[39m# (but not Functional subclasses with a custom __init__)\u001b[39;00m\n\u001b[1;32m-> 3306\u001b[0m     inputs, outputs, layers \u001b[39m=\u001b[39m functional\u001b[39m.\u001b[39;49mreconstruct_from_config(\n\u001b[0;32m   3307\u001b[0m         config, custom_objects\n\u001b[0;32m   3308\u001b[0m     )\n\u001b[0;32m   3309\u001b[0m     model \u001b[39m=\u001b[39m \u001b[39mcls\u001b[39m(\n\u001b[0;32m   3310\u001b[0m         inputs\u001b[39m=\u001b[39minputs, outputs\u001b[39m=\u001b[39moutputs, name\u001b[39m=\u001b[39mconfig\u001b[39m.\u001b[39mget(\u001b[39m\"\u001b[39m\u001b[39mname\u001b[39m\u001b[39m\"\u001b[39m)\n\u001b[0;32m   3311\u001b[0m     )\n\u001b[0;32m   3312\u001b[0m     functional\u001b[39m.\u001b[39mconnect_ancillary_layers(model, layers)\n",
            "File \u001b[1;32mc:\\Users\\logis\\Logis\\Study\\Self Edu\\Projects\\IELTS\\.venv\\Lib\\site-packages\\keras\\src\\engine\\functional.py:1505\u001b[0m, in \u001b[0;36mreconstruct_from_config\u001b[1;34m(config, custom_objects, created_layers)\u001b[0m\n\u001b[0;32m   1503\u001b[0m \u001b[39mwhile\u001b[39;00m layer_nodes:\n\u001b[0;32m   1504\u001b[0m     node_data \u001b[39m=\u001b[39m layer_nodes[\u001b[39m0\u001b[39m]\n\u001b[1;32m-> 1505\u001b[0m     \u001b[39mif\u001b[39;00m process_node(layer, node_data):\n\u001b[0;32m   1506\u001b[0m         layer_nodes\u001b[39m.\u001b[39mpop(\u001b[39m0\u001b[39m)\n\u001b[0;32m   1507\u001b[0m     \u001b[39melse\u001b[39;00m:\n\u001b[0;32m   1508\u001b[0m         \u001b[39m# If a node can't be processed, stop processing the\u001b[39;00m\n\u001b[0;32m   1509\u001b[0m         \u001b[39m# nodes of the current layer to maintain node ordering.\u001b[39;00m\n",
            "File \u001b[1;32mc:\\Users\\logis\\Logis\\Study\\Self Edu\\Projects\\IELTS\\.venv\\Lib\\site-packages\\keras\\src\\engine\\functional.py:1445\u001b[0m, in \u001b[0;36mreconstruct_from_config.<locals>.process_node\u001b[1;34m(layer, node_data)\u001b[0m\n\u001b[0;32m   1438\u001b[0m \u001b[39mif\u001b[39;00m (\n\u001b[0;32m   1439\u001b[0m     \u001b[39mnot\u001b[39;00m \u001b[39mhasattr\u001b[39m(layer, \u001b[39m\"\u001b[39m\u001b[39m_preserve_input_structure_in_config\u001b[39m\u001b[39m\"\u001b[39m)\n\u001b[0;32m   1440\u001b[0m     \u001b[39mor\u001b[39;00m \u001b[39mnot\u001b[39;00m layer\u001b[39m.\u001b[39m_preserve_input_structure_in_config\n\u001b[0;32m   1441\u001b[0m ):\n\u001b[0;32m   1442\u001b[0m     input_tensors \u001b[39m=\u001b[39m base_layer_utils\u001b[39m.\u001b[39munnest_if_single_tensor(\n\u001b[0;32m   1443\u001b[0m         input_tensors\n\u001b[0;32m   1444\u001b[0m     )\n\u001b[1;32m-> 1445\u001b[0m output_tensors \u001b[39m=\u001b[39m layer(input_tensors, \u001b[39m*\u001b[39;49m\u001b[39m*\u001b[39;49mkwargs)\n\u001b[0;32m   1447\u001b[0m \u001b[39m# Update node index map.\u001b[39;00m\n\u001b[0;32m   1448\u001b[0m output_index \u001b[39m=\u001b[39m tf\u001b[39m.\u001b[39mnest\u001b[39m.\u001b[39mflatten(output_tensors)[\n\u001b[0;32m   1449\u001b[0m     \u001b[39m0\u001b[39m\n\u001b[0;32m   1450\u001b[0m ]\u001b[39m.\u001b[39m_keras_history\u001b[39m.\u001b[39mnode_index\n",
            "\u001b[1;31mTypeError\u001b[0m: 'str' object is not callable"
          ]
        }
      ],
      "source": [
        "model = tf.keras.models.load_model('bert_text_model.keras')"
      ]
    },
    {
      "cell_type": "code",
      "execution_count": 3,
      "metadata": {
        "execution": {
          "iopub.execute_input": "2023-09-25T15:25:36.216985Z",
          "iopub.status.busy": "2023-09-25T15:25:36.216593Z",
          "iopub.status.idle": "2023-09-25T15:25:36.261592Z",
          "shell.execute_reply": "2023-09-25T15:25:36.260375Z",
          "shell.execute_reply.started": "2023-09-25T15:25:36.216952Z"
        },
        "id": "MBIP5BVw_f7v",
        "trusted": true
      },
      "outputs": [],
      "source": [
        "df = pd.read_csv('ielts_writing_dataset.csv')"
      ]
    },
    {
      "cell_type": "code",
      "execution_count": 4,
      "metadata": {
        "colab": {
          "base_uri": "https://localhost:8080/",
          "height": 213
        },
        "execution": {
          "iopub.execute_input": "2023-09-25T15:25:36.425706Z",
          "iopub.status.busy": "2023-09-25T15:25:36.425283Z",
          "iopub.status.idle": "2023-09-25T15:25:36.443002Z",
          "shell.execute_reply": "2023-09-25T15:25:36.441537Z",
          "shell.execute_reply.started": "2023-09-25T15:25:36.425673Z"
        },
        "id": "4LAO4fmn_f7w",
        "outputId": "aa19e079-a5cc-495f-81f7-d7084a6cc100",
        "trusted": true
      },
      "outputs": [
        {
          "name": "stdout",
          "output_type": "stream",
          "text": [
            "(1435, 9)\n"
          ]
        },
        {
          "data": {
            "text/html": [
              "\n",
              "  <div id=\"df-c4d534a0-c261-4abc-9588-39b003d5e753\" class=\"colab-df-container\">\n",
              "    <div>\n",
              "<style scoped>\n",
              "    .dataframe tbody tr th:only-of-type {\n",
              "        vertical-align: middle;\n",
              "    }\n",
              "\n",
              "    .dataframe tbody tr th {\n",
              "        vertical-align: top;\n",
              "    }\n",
              "\n",
              "    .dataframe thead th {\n",
              "        text-align: right;\n",
              "    }\n",
              "</style>\n",
              "<table border=\"1\" class=\"dataframe\">\n",
              "  <thead>\n",
              "    <tr style=\"text-align: right;\">\n",
              "      <th></th>\n",
              "      <th>Task_Type</th>\n",
              "      <th>Question</th>\n",
              "      <th>Essay</th>\n",
              "      <th>Examiner_Commen</th>\n",
              "      <th>Task_Response</th>\n",
              "      <th>Coherence_Cohesion</th>\n",
              "      <th>Lexical_Resource</th>\n",
              "      <th>Range_Accuracy</th>\n",
              "      <th>Overall</th>\n",
              "    </tr>\n",
              "  </thead>\n",
              "  <tbody>\n",
              "    <tr>\n",
              "      <th>0</th>\n",
              "      <td>1</td>\n",
              "      <td>The bar chart below describes some changes abo...</td>\n",
              "      <td>Between 1995 and 2010, a study was conducted r...</td>\n",
              "      <td>NaN</td>\n",
              "      <td>NaN</td>\n",
              "      <td>NaN</td>\n",
              "      <td>NaN</td>\n",
              "      <td>NaN</td>\n",
              "      <td>5.5</td>\n",
              "    </tr>\n",
              "    <tr>\n",
              "      <th>1</th>\n",
              "      <td>2</td>\n",
              "      <td>Rich countries often give money to poorer coun...</td>\n",
              "      <td>Poverty represents a worldwide crisis. It is t...</td>\n",
              "      <td>NaN</td>\n",
              "      <td>NaN</td>\n",
              "      <td>NaN</td>\n",
              "      <td>NaN</td>\n",
              "      <td>NaN</td>\n",
              "      <td>6.5</td>\n",
              "    </tr>\n",
              "    <tr>\n",
              "      <th>2</th>\n",
              "      <td>1</td>\n",
              "      <td>The bar chart below describes some changes abo...</td>\n",
              "      <td>The left chart shows the population change hap...</td>\n",
              "      <td>NaN</td>\n",
              "      <td>NaN</td>\n",
              "      <td>NaN</td>\n",
              "      <td>NaN</td>\n",
              "      <td>NaN</td>\n",
              "      <td>5.0</td>\n",
              "    </tr>\n",
              "  </tbody>\n",
              "</table>\n",
              "</div>\n",
              "    <div class=\"colab-df-buttons\">\n",
              "\n",
              "  <div class=\"colab-df-container\">\n",
              "    <button class=\"colab-df-convert\" onclick=\"convertToInteractive('df-c4d534a0-c261-4abc-9588-39b003d5e753')\"\n",
              "            title=\"Convert this dataframe to an interactive table.\"\n",
              "            style=\"display:none;\">\n",
              "\n",
              "  <svg xmlns=\"http://www.w3.org/2000/svg\" height=\"24px\" viewBox=\"0 -960 960 960\">\n",
              "    <path d=\"M120-120v-720h720v720H120Zm60-500h600v-160H180v160Zm220 220h160v-160H400v160Zm0 220h160v-160H400v160ZM180-400h160v-160H180v160Zm440 0h160v-160H620v160ZM180-180h160v-160H180v160Zm440 0h160v-160H620v160Z\"/>\n",
              "  </svg>\n",
              "    </button>\n",
              "\n",
              "  <style>\n",
              "    .colab-df-container {\n",
              "      display:flex;\n",
              "      gap: 12px;\n",
              "    }\n",
              "\n",
              "    .colab-df-convert {\n",
              "      background-color: #E8F0FE;\n",
              "      border: none;\n",
              "      border-radius: 50%;\n",
              "      cursor: pointer;\n",
              "      display: none;\n",
              "      fill: #1967D2;\n",
              "      height: 32px;\n",
              "      padding: 0 0 0 0;\n",
              "      width: 32px;\n",
              "    }\n",
              "\n",
              "    .colab-df-convert:hover {\n",
              "      background-color: #E2EBFA;\n",
              "      box-shadow: 0px 1px 2px rgba(60, 64, 67, 0.3), 0px 1px 3px 1px rgba(60, 64, 67, 0.15);\n",
              "      fill: #174EA6;\n",
              "    }\n",
              "\n",
              "    .colab-df-buttons div {\n",
              "      margin-bottom: 4px;\n",
              "    }\n",
              "\n",
              "    [theme=dark] .colab-df-convert {\n",
              "      background-color: #3B4455;\n",
              "      fill: #D2E3FC;\n",
              "    }\n",
              "\n",
              "    [theme=dark] .colab-df-convert:hover {\n",
              "      background-color: #434B5C;\n",
              "      box-shadow: 0px 1px 3px 1px rgba(0, 0, 0, 0.15);\n",
              "      filter: drop-shadow(0px 1px 2px rgba(0, 0, 0, 0.3));\n",
              "      fill: #FFFFFF;\n",
              "    }\n",
              "  </style>\n",
              "\n",
              "    <script>\n",
              "      const buttonEl =\n",
              "        document.querySelector('#df-c4d534a0-c261-4abc-9588-39b003d5e753 button.colab-df-convert');\n",
              "      buttonEl.style.display =\n",
              "        google.colab.kernel.accessAllowed ? 'block' : 'none';\n",
              "\n",
              "      async function convertToInteractive(key) {\n",
              "        const element = document.querySelector('#df-c4d534a0-c261-4abc-9588-39b003d5e753');\n",
              "        const dataTable =\n",
              "          await google.colab.kernel.invokeFunction('convertToInteractive',\n",
              "                                                    [key], {});\n",
              "        if (!dataTable) return;\n",
              "\n",
              "        const docLinkHtml = 'Like what you see? Visit the ' +\n",
              "          '<a target=\"_blank\" href=https://colab.research.google.com/notebooks/data_table.ipynb>data table notebook</a>'\n",
              "          + ' to learn more about interactive tables.';\n",
              "        element.innerHTML = '';\n",
              "        dataTable['output_type'] = 'display_data';\n",
              "        await google.colab.output.renderOutput(dataTable, element);\n",
              "        const docLink = document.createElement('div');\n",
              "        docLink.innerHTML = docLinkHtml;\n",
              "        element.appendChild(docLink);\n",
              "      }\n",
              "    </script>\n",
              "  </div>\n",
              "\n",
              "\n",
              "<div id=\"df-bc22290b-b216-462c-9aca-02633b51c1fb\">\n",
              "  <button class=\"colab-df-quickchart\" onclick=\"quickchart('df-bc22290b-b216-462c-9aca-02633b51c1fb')\"\n",
              "            title=\"Suggest charts.\"\n",
              "            style=\"display:none;\">\n",
              "\n",
              "<svg xmlns=\"http://www.w3.org/2000/svg\" height=\"24px\"viewBox=\"0 0 24 24\"\n",
              "     width=\"24px\">\n",
              "    <g>\n",
              "        <path d=\"M19 3H5c-1.1 0-2 .9-2 2v14c0 1.1.9 2 2 2h14c1.1 0 2-.9 2-2V5c0-1.1-.9-2-2-2zM9 17H7v-7h2v7zm4 0h-2V7h2v10zm4 0h-2v-4h2v4z\"/>\n",
              "    </g>\n",
              "</svg>\n",
              "  </button>\n",
              "\n",
              "<style>\n",
              "  .colab-df-quickchart {\n",
              "      --bg-color: #E8F0FE;\n",
              "      --fill-color: #1967D2;\n",
              "      --hover-bg-color: #E2EBFA;\n",
              "      --hover-fill-color: #174EA6;\n",
              "      --disabled-fill-color: #AAA;\n",
              "      --disabled-bg-color: #DDD;\n",
              "  }\n",
              "\n",
              "  [theme=dark] .colab-df-quickchart {\n",
              "      --bg-color: #3B4455;\n",
              "      --fill-color: #D2E3FC;\n",
              "      --hover-bg-color: #434B5C;\n",
              "      --hover-fill-color: #FFFFFF;\n",
              "      --disabled-bg-color: #3B4455;\n",
              "      --disabled-fill-color: #666;\n",
              "  }\n",
              "\n",
              "  .colab-df-quickchart {\n",
              "    background-color: var(--bg-color);\n",
              "    border: none;\n",
              "    border-radius: 50%;\n",
              "    cursor: pointer;\n",
              "    display: none;\n",
              "    fill: var(--fill-color);\n",
              "    height: 32px;\n",
              "    padding: 0;\n",
              "    width: 32px;\n",
              "  }\n",
              "\n",
              "  .colab-df-quickchart:hover {\n",
              "    background-color: var(--hover-bg-color);\n",
              "    box-shadow: 0 1px 2px rgba(60, 64, 67, 0.3), 0 1px 3px 1px rgba(60, 64, 67, 0.15);\n",
              "    fill: var(--button-hover-fill-color);\n",
              "  }\n",
              "\n",
              "  .colab-df-quickchart-complete:disabled,\n",
              "  .colab-df-quickchart-complete:disabled:hover {\n",
              "    background-color: var(--disabled-bg-color);\n",
              "    fill: var(--disabled-fill-color);\n",
              "    box-shadow: none;\n",
              "  }\n",
              "\n",
              "  .colab-df-spinner {\n",
              "    border: 2px solid var(--fill-color);\n",
              "    border-color: transparent;\n",
              "    border-bottom-color: var(--fill-color);\n",
              "    animation:\n",
              "      spin 1s steps(1) infinite;\n",
              "  }\n",
              "\n",
              "  @keyframes spin {\n",
              "    0% {\n",
              "      border-color: transparent;\n",
              "      border-bottom-color: var(--fill-color);\n",
              "      border-left-color: var(--fill-color);\n",
              "    }\n",
              "    20% {\n",
              "      border-color: transparent;\n",
              "      border-left-color: var(--fill-color);\n",
              "      border-top-color: var(--fill-color);\n",
              "    }\n",
              "    30% {\n",
              "      border-color: transparent;\n",
              "      border-left-color: var(--fill-color);\n",
              "      border-top-color: var(--fill-color);\n",
              "      border-right-color: var(--fill-color);\n",
              "    }\n",
              "    40% {\n",
              "      border-color: transparent;\n",
              "      border-right-color: var(--fill-color);\n",
              "      border-top-color: var(--fill-color);\n",
              "    }\n",
              "    60% {\n",
              "      border-color: transparent;\n",
              "      border-right-color: var(--fill-color);\n",
              "    }\n",
              "    80% {\n",
              "      border-color: transparent;\n",
              "      border-right-color: var(--fill-color);\n",
              "      border-bottom-color: var(--fill-color);\n",
              "    }\n",
              "    90% {\n",
              "      border-color: transparent;\n",
              "      border-bottom-color: var(--fill-color);\n",
              "    }\n",
              "  }\n",
              "</style>\n",
              "\n",
              "  <script>\n",
              "    async function quickchart(key) {\n",
              "      const quickchartButtonEl =\n",
              "        document.querySelector('#' + key + ' button');\n",
              "      quickchartButtonEl.disabled = true;  // To prevent multiple clicks.\n",
              "      quickchartButtonEl.classList.add('colab-df-spinner');\n",
              "      try {\n",
              "        const charts = await google.colab.kernel.invokeFunction(\n",
              "            'suggestCharts', [key], {});\n",
              "      } catch (error) {\n",
              "        console.error('Error during call to suggestCharts:', error);\n",
              "      }\n",
              "      quickchartButtonEl.classList.remove('colab-df-spinner');\n",
              "      quickchartButtonEl.classList.add('colab-df-quickchart-complete');\n",
              "    }\n",
              "    (() => {\n",
              "      let quickchartButtonEl =\n",
              "        document.querySelector('#df-bc22290b-b216-462c-9aca-02633b51c1fb button');\n",
              "      quickchartButtonEl.style.display =\n",
              "        google.colab.kernel.accessAllowed ? 'block' : 'none';\n",
              "    })();\n",
              "  </script>\n",
              "</div>\n",
              "    </div>\n",
              "  </div>\n"
            ],
            "text/plain": [
              "   Task_Type                                           Question  \\\n",
              "0          1  The bar chart below describes some changes abo...   \n",
              "1          2  Rich countries often give money to poorer coun...   \n",
              "2          1  The bar chart below describes some changes abo...   \n",
              "\n",
              "                                               Essay Examiner_Commen  \\\n",
              "0  Between 1995 and 2010, a study was conducted r...             NaN   \n",
              "1  Poverty represents a worldwide crisis. It is t...             NaN   \n",
              "2  The left chart shows the population change hap...             NaN   \n",
              "\n",
              "   Task_Response  Coherence_Cohesion  Lexical_Resource  Range_Accuracy  \\\n",
              "0            NaN                 NaN               NaN             NaN   \n",
              "1            NaN                 NaN               NaN             NaN   \n",
              "2            NaN                 NaN               NaN             NaN   \n",
              "\n",
              "   Overall  \n",
              "0      5.5  \n",
              "1      6.5  \n",
              "2      5.0  "
            ]
          },
          "execution_count": 4,
          "metadata": {},
          "output_type": "execute_result"
        }
      ],
      "source": [
        "print(df.shape)\n",
        "df.head(3)"
      ]
    },
    {
      "cell_type": "code",
      "execution_count": 5,
      "metadata": {
        "id": "JLJfeHDoSQT1"
      },
      "outputs": [],
      "source": [
        "df = df.rename(columns={'Examiner_Commen': 'Comment'})"
      ]
    },
    {
      "cell_type": "code",
      "execution_count": 6,
      "metadata": {
        "colab": {
          "base_uri": "https://localhost:8080/",
          "height": 333
        },
        "execution": {
          "iopub.execute_input": "2023-09-25T15:25:36.681719Z",
          "iopub.status.busy": "2023-09-25T15:25:36.681309Z",
          "iopub.status.idle": "2023-09-25T15:25:37.011357Z",
          "shell.execute_reply": "2023-09-25T15:25:37.010197Z",
          "shell.execute_reply.started": "2023-09-25T15:25:36.681690Z"
        },
        "id": "vgMs8Iog_f7w",
        "outputId": "8f4b4d8f-fcdf-4c83-e247-49c77984f46f",
        "trusted": true
      },
      "outputs": [
        {
          "data": {
            "image/png": "[encoded data removed]",
            "text/plain": [
              "<Figure size 500x300 with 1 Axes>"
            ]
          },
          "metadata": {},
          "output_type": "display_data"
        }
      ],
      "source": [
        "# Assuming 'column_name' is the name of the column you want to plot\n",
        "plt.figure(figsize=(5, 3))  # Adjust the figure size as needed\n",
        "sns.countplot(data=df, x='Overall')\n",
        "plt.title(f'Overall grade distribution')\n",
        "plt.xlabel('Grade')\n",
        "plt.ylabel('Amount')\n",
        "plt.show()\n"
      ]
    },
    {
      "cell_type": "code",
      "execution_count": 7,
      "metadata": {
        "execution": {
          "iopub.execute_input": "2023-09-25T15:25:46.368200Z",
          "iopub.status.busy": "2023-09-25T15:25:46.367769Z",
          "iopub.status.idle": "2023-09-25T15:25:46.377124Z",
          "shell.execute_reply": "2023-09-25T15:25:46.376050Z",
          "shell.execute_reply.started": "2023-09-25T15:25:46.368166Z"
        },
        "id": "8J9cK1VG_f7x",
        "trusted": true
      },
      "outputs": [],
      "source": [
        "df = df[df['Overall'].map(df['Overall'].value_counts()) > 1]"
      ]
    },
    {
      "cell_type": "code",
      "execution_count": 8,
      "metadata": {
        "colab": {
          "base_uri": "https://localhost:8080/",
          "height": 556
        },
        "id": "PD0UvaNlzE1n",
        "outputId": "d727a068-a579-4467-9485-82a5e40f130a"
      },
      "outputs": [
        {
          "name": "stderr",
          "output_type": "stream",
          "text": [
            "<ipython-input-8-afc8180eb243>:1: SettingWithCopyWarning: \n",
            "A value is trying to be set on a copy of a slice from a DataFrame.\n",
            "Try using .loc[row_indexer,col_indexer] = value instead\n",
            "\n",
            "See the caveats in the documentation: https://pandas.pydata.org/pandas-docs/stable/user_guide/indexing.html#returning-a-view-versus-a-copy\n",
            "  df[\"Length\"]=df[\"Essay\"].apply(lambda x: len(x.split(\" \")))\n"
          ]
        },
        {
          "data": {
            "image/png": "[encoded data removed]",
            "text/plain": [
              "<Figure size 640x480 with 1 Axes>"
            ]
          },
          "metadata": {},
          "output_type": "display_data"
        }
      ],
      "source": [
        "df[\"Length\"]=df[\"Essay\"].apply(lambda x: len(x.split(\" \")))\n",
        "plt.hist(df[\"Length\"])\n",
        "plt.title(\"Distribution of Lenght of Essay\")\n",
        "plt.show()"
      ]
    },
    {
      "cell_type": "code",
      "execution_count": 9,
      "metadata": {
        "colab": {
          "base_uri": "https://localhost:8080/"
        },
        "id": "7ZrEHgc7RJsG",
        "outputId": "27fbe05e-166c-44e4-f56a-41c7c5cc3b39"
      },
      "outputs": [
        {
          "data": {
            "text/plain": [
              "Overall\n",
              "5.0     8\n",
              "6.0    24\n",
              "7.0    17\n",
              "8.0    13\n",
              "Name: Comment, dtype: int64"
            ]
          },
          "execution_count": 9,
          "metadata": {},
          "output_type": "execute_result"
        }
      ],
      "source": [
        "# Group by \"Overall\" and count non-None values in \"Comment\"\n",
        "df[df['Comment'].notna()].groupby(\"Overall\")[\"Comment\"].count()"
      ]
    },
    {
      "cell_type": "code",
      "execution_count": 10,
      "metadata": {
        "colab": {
          "base_uri": "https://localhost:8080/"
        },
        "id": "75BER53zSHAg",
        "outputId": "982d24c3-e52c-4a92-b85b-0c3eb6f8eba3"
      },
      "outputs": [
        {
          "data": {
            "text/plain": [
              "0       0\n",
              "1       0\n",
              "2       0\n",
              "3       0\n",
              "4       0\n",
              "       ..\n",
              "1430    1\n",
              "1431    1\n",
              "1432    1\n",
              "1433    1\n",
              "1434    1\n",
              "Name: Has_Comment, Length: 1434, dtype: int64"
            ]
          },
          "execution_count": 10,
          "metadata": {},
          "output_type": "execute_result"
        }
      ],
      "source": [
        "df['Has_Comment'] = df['Comment'].notna().astype(int)\n",
        "df['Has_Comment']"
      ]
    },
    {
      "cell_type": "code",
      "execution_count": 11,
      "metadata": {
        "colab": {
          "base_uri": "https://localhost:8080/",
          "height": 488
        },
        "id": "W5uiNuQt1GfH",
        "outputId": "8569f22c-a9fa-449f-ba25-a2d0a089b11b"
      },
      "outputs": [
        {
          "data": {
            "text/html": [
              "\n",
              "  <div id=\"df-53e1c6fb-867a-4680-9fdc-ab4bb18bd5ce\" class=\"colab-df-container\">\n",
              "    <div>\n",
              "<style scoped>\n",
              "    .dataframe tbody tr th:only-of-type {\n",
              "        vertical-align: middle;\n",
              "    }\n",
              "\n",
              "    .dataframe tbody tr th {\n",
              "        vertical-align: top;\n",
              "    }\n",
              "\n",
              "    .dataframe thead th {\n",
              "        text-align: right;\n",
              "    }\n",
              "</style>\n",
              "<table border=\"1\" class=\"dataframe\">\n",
              "  <thead>\n",
              "    <tr style=\"text-align: right;\">\n",
              "      <th></th>\n",
              "      <th>Length</th>\n",
              "    </tr>\n",
              "    <tr>\n",
              "      <th>Overall</th>\n",
              "      <th></th>\n",
              "    </tr>\n",
              "  </thead>\n",
              "  <tbody>\n",
              "    <tr>\n",
              "      <th>3.0</th>\n",
              "      <td>192.500000</td>\n",
              "    </tr>\n",
              "    <tr>\n",
              "      <th>3.5</th>\n",
              "      <td>137.200000</td>\n",
              "    </tr>\n",
              "    <tr>\n",
              "      <th>4.0</th>\n",
              "      <td>211.636364</td>\n",
              "    </tr>\n",
              "    <tr>\n",
              "      <th>4.5</th>\n",
              "      <td>217.619048</td>\n",
              "    </tr>\n",
              "    <tr>\n",
              "      <th>5.0</th>\n",
              "      <td>231.509615</td>\n",
              "    </tr>\n",
              "    <tr>\n",
              "      <th>5.5</th>\n",
              "      <td>226.011364</td>\n",
              "    </tr>\n",
              "    <tr>\n",
              "      <th>6.0</th>\n",
              "      <td>246.022727</td>\n",
              "    </tr>\n",
              "    <tr>\n",
              "      <th>6.5</th>\n",
              "      <td>245.872000</td>\n",
              "    </tr>\n",
              "    <tr>\n",
              "      <th>7.0</th>\n",
              "      <td>258.110236</td>\n",
              "    </tr>\n",
              "    <tr>\n",
              "      <th>7.5</th>\n",
              "      <td>258.355072</td>\n",
              "    </tr>\n",
              "    <tr>\n",
              "      <th>8.0</th>\n",
              "      <td>318.956204</td>\n",
              "    </tr>\n",
              "    <tr>\n",
              "      <th>8.5</th>\n",
              "      <td>266.914286</td>\n",
              "    </tr>\n",
              "    <tr>\n",
              "      <th>9.0</th>\n",
              "      <td>314.729730</td>\n",
              "    </tr>\n",
              "  </tbody>\n",
              "</table>\n",
              "</div>\n",
              "    <div class=\"colab-df-buttons\">\n",
              "\n",
              "  <div class=\"colab-df-container\">\n",
              "    <button class=\"colab-df-convert\" onclick=\"convertToInteractive('df-53e1c6fb-867a-4680-9fdc-ab4bb18bd5ce')\"\n",
              "            title=\"Convert this dataframe to an interactive table.\"\n",
              "            style=\"display:none;\">\n",
              "\n",
              "  <svg xmlns=\"http://www.w3.org/2000/svg\" height=\"24px\" viewBox=\"0 -960 960 960\">\n",
              "    <path d=\"M120-120v-720h720v720H120Zm60-500h600v-160H180v160Zm220 220h160v-160H400v160Zm0 220h160v-160H400v160ZM180-400h160v-160H180v160Zm440 0h160v-160H620v160ZM180-180h160v-160H180v160Zm440 0h160v-160H620v160Z\"/>\n",
              "  </svg>\n",
              "    </button>\n",
              "\n",
              "  <style>\n",
              "    .colab-df-container {\n",
              "      display:flex;\n",
              "      gap: 12px;\n",
              "    }\n",
              "\n",
              "    .colab-df-convert {\n",
              "      background-color: #E8F0FE;\n",
              "      border: none;\n",
              "      border-radius: 50%;\n",
              "      cursor: pointer;\n",
              "      display: none;\n",
              "      fill: #1967D2;\n",
              "      height: 32px;\n",
              "      padding: 0 0 0 0;\n",
              "      width: 32px;\n",
              "    }\n",
              "\n",
              "    .colab-df-convert:hover {\n",
              "      background-color: #E2EBFA;\n",
              "      box-shadow: 0px 1px 2px rgba(60, 64, 67, 0.3), 0px 1px 3px 1px rgba(60, 64, 67, 0.15);\n",
              "      fill: #174EA6;\n",
              "    }\n",
              "\n",
              "    .colab-df-buttons div {\n",
              "      margin-bottom: 4px;\n",
              "    }\n",
              "\n",
              "    [theme=dark] .colab-df-convert {\n",
              "      background-color: #3B4455;\n",
              "      fill: #D2E3FC;\n",
              "    }\n",
              "\n",
              "    [theme=dark] .colab-df-convert:hover {\n",
              "      background-color: #434B5C;\n",
              "      box-shadow: 0px 1px 3px 1px rgba(0, 0, 0, 0.15);\n",
              "      filter: drop-shadow(0px 1px 2px rgba(0, 0, 0, 0.3));\n",
              "      fill: #FFFFFF;\n",
              "    }\n",
              "  </style>\n",
              "\n",
              "    <script>\n",
              "      const buttonEl =\n",
              "        document.querySelector('#df-53e1c6fb-867a-4680-9fdc-ab4bb18bd5ce button.colab-df-convert');\n",
              "      buttonEl.style.display =\n",
              "        google.colab.kernel.accessAllowed ? 'block' : 'none';\n",
              "\n",
              "      async function convertToInteractive(key) {\n",
              "        const element = document.querySelector('#df-53e1c6fb-867a-4680-9fdc-ab4bb18bd5ce');\n",
              "        const dataTable =\n",
              "          await google.colab.kernel.invokeFunction('convertToInteractive',\n",
              "                                                    [key], {});\n",
              "        if (!dataTable) return;\n",
              "\n",
              "        const docLinkHtml = 'Like what you see? Visit the ' +\n",
              "          '<a target=\"_blank\" href=https://colab.research.google.com/notebooks/data_table.ipynb>data table notebook</a>'\n",
              "          + ' to learn more about interactive tables.';\n",
              "        element.innerHTML = '';\n",
              "        dataTable['output_type'] = 'display_data';\n",
              "        await google.colab.output.renderOutput(dataTable, element);\n",
              "        const docLink = document.createElement('div');\n",
              "        docLink.innerHTML = docLinkHtml;\n",
              "        element.appendChild(docLink);\n",
              "      }\n",
              "    </script>\n",
              "  </div>\n",
              "\n",
              "\n",
              "<div id=\"df-faa7016b-b877-4616-b4d1-2a9793428540\">\n",
              "  <button class=\"colab-df-quickchart\" onclick=\"quickchart('df-faa7016b-b877-4616-b4d1-2a9793428540')\"\n",
              "            title=\"Suggest charts.\"\n",
              "            style=\"display:none;\">\n",
              "\n",
              "<svg xmlns=\"http://www.w3.org/2000/svg\" height=\"24px\"viewBox=\"0 0 24 24\"\n",
              "     width=\"24px\">\n",
              "    <g>\n",
              "        <path d=\"M19 3H5c-1.1 0-2 .9-2 2v14c0 1.1.9 2 2 2h14c1.1 0 2-.9 2-2V5c0-1.1-.9-2-2-2zM9 17H7v-7h2v7zm4 0h-2V7h2v10zm4 0h-2v-4h2v4z\"/>\n",
              "    </g>\n",
              "</svg>\n",
              "  </button>\n",
              "\n",
              "<style>\n",
              "  .colab-df-quickchart {\n",
              "      --bg-color: #E8F0FE;\n",
              "      --fill-color: #1967D2;\n",
              "      --hover-bg-color: #E2EBFA;\n",
              "      --hover-fill-color: #174EA6;\n",
              "      --disabled-fill-color: #AAA;\n",
              "      --disabled-bg-color: #DDD;\n",
              "  }\n",
              "\n",
              "  [theme=dark] .colab-df-quickchart {\n",
              "      --bg-color: #3B4455;\n",
              "      --fill-color: #D2E3FC;\n",
              "      --hover-bg-color: #434B5C;\n",
              "      --hover-fill-color: #FFFFFF;\n",
              "      --disabled-bg-color: #3B4455;\n",
              "      --disabled-fill-color: #666;\n",
              "  }\n",
              "\n",
              "  .colab-df-quickchart {\n",
              "    background-color: var(--bg-color);\n",
              "    border: none;\n",
              "    border-radius: 50%;\n",
              "    cursor: pointer;\n",
              "    display: none;\n",
              "    fill: var(--fill-color);\n",
              "    height: 32px;\n",
              "    padding: 0;\n",
              "    width: 32px;\n",
              "  }\n",
              "\n",
              "  .colab-df-quickchart:hover {\n",
              "    background-color: var(--hover-bg-color);\n",
              "    box-shadow: 0 1px 2px rgba(60, 64, 67, 0.3), 0 1px 3px 1px rgba(60, 64, 67, 0.15);\n",
              "    fill: var(--button-hover-fill-color);\n",
              "  }\n",
              "\n",
              "  .colab-df-quickchart-complete:disabled,\n",
              "  .colab-df-quickchart-complete:disabled:hover {\n",
              "    background-color: var(--disabled-bg-color);\n",
              "    fill: var(--disabled-fill-color);\n",
              "    box-shadow: none;\n",
              "  }\n",
              "\n",
              "  .colab-df-spinner {\n",
              "    border: 2px solid var(--fill-color);\n",
              "    border-color: transparent;\n",
              "    border-bottom-color: var(--fill-color);\n",
              "    animation:\n",
              "      spin 1s steps(1) infinite;\n",
              "  }\n",
              "\n",
              "  @keyframes spin {\n",
              "    0% {\n",
              "      border-color: transparent;\n",
              "      border-bottom-color: var(--fill-color);\n",
              "      border-left-color: var(--fill-color);\n",
              "    }\n",
              "    20% {\n",
              "      border-color: transparent;\n",
              "      border-left-color: var(--fill-color);\n",
              "      border-top-color: var(--fill-color);\n",
              "    }\n",
              "    30% {\n",
              "      border-color: transparent;\n",
              "      border-left-color: var(--fill-color);\n",
              "      border-top-color: var(--fill-color);\n",
              "      border-right-color: var(--fill-color);\n",
              "    }\n",
              "    40% {\n",
              "      border-color: transparent;\n",
              "      border-right-color: var(--fill-color);\n",
              "      border-top-color: var(--fill-color);\n",
              "    }\n",
              "    60% {\n",
              "      border-color: transparent;\n",
              "      border-right-color: var(--fill-color);\n",
              "    }\n",
              "    80% {\n",
              "      border-color: transparent;\n",
              "      border-right-color: var(--fill-color);\n",
              "      border-bottom-color: var(--fill-color);\n",
              "    }\n",
              "    90% {\n",
              "      border-color: transparent;\n",
              "      border-bottom-color: var(--fill-color);\n",
              "    }\n",
              "  }\n",
              "</style>\n",
              "\n",
              "  <script>\n",
              "    async function quickchart(key) {\n",
              "      const quickchartButtonEl =\n",
              "        document.querySelector('#' + key + ' button');\n",
              "      quickchartButtonEl.disabled = true;  // To prevent multiple clicks.\n",
              "      quickchartButtonEl.classList.add('colab-df-spinner');\n",
              "      try {\n",
              "        const charts = await google.colab.kernel.invokeFunction(\n",
              "            'suggestCharts', [key], {});\n",
              "      } catch (error) {\n",
              "        console.error('Error during call to suggestCharts:', error);\n",
              "      }\n",
              "      quickchartButtonEl.classList.remove('colab-df-spinner');\n",
              "      quickchartButtonEl.classList.add('colab-df-quickchart-complete');\n",
              "    }\n",
              "    (() => {\n",
              "      let quickchartButtonEl =\n",
              "        document.querySelector('#df-faa7016b-b877-4616-b4d1-2a9793428540 button');\n",
              "      quickchartButtonEl.style.display =\n",
              "        google.colab.kernel.accessAllowed ? 'block' : 'none';\n",
              "    })();\n",
              "  </script>\n",
              "</div>\n",
              "    </div>\n",
              "  </div>\n"
            ],
            "text/plain": [
              "             Length\n",
              "Overall            \n",
              "3.0      192.500000\n",
              "3.5      137.200000\n",
              "4.0      211.636364\n",
              "4.5      217.619048\n",
              "5.0      231.509615\n",
              "5.5      226.011364\n",
              "6.0      246.022727\n",
              "6.5      245.872000\n",
              "7.0      258.110236\n",
              "7.5      258.355072\n",
              "8.0      318.956204\n",
              "8.5      266.914286\n",
              "9.0      314.729730"
            ]
          },
          "execution_count": 11,
          "metadata": {},
          "output_type": "execute_result"
        }
      ],
      "source": [
        "df.groupby([\"Overall\"]).agg({\"Length\":\"mean\"})"
      ]
    },
    {
      "cell_type": "code",
      "execution_count": 12,
      "metadata": {
        "colab": {
          "base_uri": "https://localhost:8080/"
        },
        "id": "UJj6lHgMMu-B",
        "outputId": "f04bb984-367f-4e3b-8bf8-5391ee3e5d6c"
      },
      "outputs": [
        {
          "data": {
            "text/plain": [
              "0"
            ]
          },
          "execution_count": 12,
          "metadata": {},
          "output_type": "execute_result"
        }
      ],
      "source": [
        "df['Question'].isna().sum()"
      ]
    },
    {
      "cell_type": "code",
      "execution_count": 13,
      "metadata": {
        "colab": {
          "base_uri": "https://localhost:8080/",
          "height": 300
        },
        "id": "k97pS74wNQqC",
        "outputId": "6ffcab04-cb0e-4afb-9edf-2f07c0cf06f1"
      },
      "outputs": [
        {
          "data": {
            "text/html": [
              "\n",
              "  <div id=\"df-3c2c0922-92de-403e-a8c1-ba8a16bd0e2d\" class=\"colab-df-container\">\n",
              "    <div>\n",
              "<style scoped>\n",
              "    .dataframe tbody tr th:only-of-type {\n",
              "        vertical-align: middle;\n",
              "    }\n",
              "\n",
              "    .dataframe tbody tr th {\n",
              "        vertical-align: top;\n",
              "    }\n",
              "\n",
              "    .dataframe thead th {\n",
              "        text-align: right;\n",
              "    }\n",
              "</style>\n",
              "<table border=\"1\" class=\"dataframe\">\n",
              "  <thead>\n",
              "    <tr style=\"text-align: right;\">\n",
              "      <th></th>\n",
              "      <th>Task_Type</th>\n",
              "      <th>Task_Response</th>\n",
              "      <th>Coherence_Cohesion</th>\n",
              "      <th>Lexical_Resource</th>\n",
              "      <th>Range_Accuracy</th>\n",
              "      <th>Overall</th>\n",
              "      <th>Length</th>\n",
              "      <th>Has_Comment</th>\n",
              "    </tr>\n",
              "  </thead>\n",
              "  <tbody>\n",
              "    <tr>\n",
              "      <th>count</th>\n",
              "      <td>1434.000000</td>\n",
              "      <td>0.0</td>\n",
              "      <td>0.0</td>\n",
              "      <td>0.0</td>\n",
              "      <td>0.0</td>\n",
              "      <td>1434.000000</td>\n",
              "      <td>1434.000000</td>\n",
              "      <td>1434.000000</td>\n",
              "    </tr>\n",
              "    <tr>\n",
              "      <th>mean</th>\n",
              "      <td>1.552999</td>\n",
              "      <td>NaN</td>\n",
              "      <td>NaN</td>\n",
              "      <td>NaN</td>\n",
              "      <td>NaN</td>\n",
              "      <td>6.554045</td>\n",
              "      <td>253.932357</td>\n",
              "      <td>0.043236</td>\n",
              "    </tr>\n",
              "    <tr>\n",
              "      <th>std</th>\n",
              "      <td>0.497357</td>\n",
              "      <td>NaN</td>\n",
              "      <td>NaN</td>\n",
              "      <td>NaN</td>\n",
              "      <td>NaN</td>\n",
              "      <td>1.048397</td>\n",
              "      <td>81.337255</td>\n",
              "      <td>0.203458</td>\n",
              "    </tr>\n",
              "    <tr>\n",
              "      <th>min</th>\n",
              "      <td>1.000000</td>\n",
              "      <td>NaN</td>\n",
              "      <td>NaN</td>\n",
              "      <td>NaN</td>\n",
              "      <td>NaN</td>\n",
              "      <td>3.000000</td>\n",
              "      <td>107.000000</td>\n",
              "      <td>0.000000</td>\n",
              "    </tr>\n",
              "    <tr>\n",
              "      <th>25%</th>\n",
              "      <td>1.000000</td>\n",
              "      <td>NaN</td>\n",
              "      <td>NaN</td>\n",
              "      <td>NaN</td>\n",
              "      <td>NaN</td>\n",
              "      <td>6.000000</td>\n",
              "      <td>179.000000</td>\n",
              "      <td>0.000000</td>\n",
              "    </tr>\n",
              "    <tr>\n",
              "      <th>50%</th>\n",
              "      <td>2.000000</td>\n",
              "      <td>NaN</td>\n",
              "      <td>NaN</td>\n",
              "      <td>NaN</td>\n",
              "      <td>NaN</td>\n",
              "      <td>6.500000</td>\n",
              "      <td>256.000000</td>\n",
              "      <td>0.000000</td>\n",
              "    </tr>\n",
              "    <tr>\n",
              "      <th>75%</th>\n",
              "      <td>2.000000</td>\n",
              "      <td>NaN</td>\n",
              "      <td>NaN</td>\n",
              "      <td>NaN</td>\n",
              "      <td>NaN</td>\n",
              "      <td>7.000000</td>\n",
              "      <td>304.000000</td>\n",
              "      <td>0.000000</td>\n",
              "    </tr>\n",
              "    <tr>\n",
              "      <th>max</th>\n",
              "      <td>2.000000</td>\n",
              "      <td>NaN</td>\n",
              "      <td>NaN</td>\n",
              "      <td>NaN</td>\n",
              "      <td>NaN</td>\n",
              "      <td>9.000000</td>\n",
              "      <td>574.000000</td>\n",
              "      <td>1.000000</td>\n",
              "    </tr>\n",
              "  </tbody>\n",
              "</table>\n",
              "</div>\n",
              "    <div class=\"colab-df-buttons\">\n",
              "\n",
              "  <div class=\"colab-df-container\">\n",
              "    <button class=\"colab-df-convert\" onclick=\"convertToInteractive('df-3c2c0922-92de-403e-a8c1-ba8a16bd0e2d')\"\n",
              "            title=\"Convert this dataframe to an interactive table.\"\n",
              "            style=\"display:none;\">\n",
              "\n",
              "  <svg xmlns=\"http://www.w3.org/2000/svg\" height=\"24px\" viewBox=\"0 -960 960 960\">\n",
              "    <path d=\"M120-120v-720h720v720H120Zm60-500h600v-160H180v160Zm220 220h160v-160H400v160Zm0 220h160v-160H400v160ZM180-400h160v-160H180v160Zm440 0h160v-160H620v160ZM180-180h160v-160H180v160Zm440 0h160v-160H620v160Z\"/>\n",
              "  </svg>\n",
              "    </button>\n",
              "\n",
              "  <style>\n",
              "    .colab-df-container {\n",
              "      display:flex;\n",
              "      gap: 12px;\n",
              "    }\n",
              "\n",
              "    .colab-df-convert {\n",
              "      background-color: #E8F0FE;\n",
              "      border: none;\n",
              "      border-radius: 50%;\n",
              "      cursor: pointer;\n",
              "      display: none;\n",
              "      fill: #1967D2;\n",
              "      height: 32px;\n",
              "      padding: 0 0 0 0;\n",
              "      width: 32px;\n",
              "    }\n",
              "\n",
              "    .colab-df-convert:hover {\n",
              "      background-color: #E2EBFA;\n",
              "      box-shadow: 0px 1px 2px rgba(60, 64, 67, 0.3), 0px 1px 3px 1px rgba(60, 64, 67, 0.15);\n",
              "      fill: #174EA6;\n",
              "    }\n",
              "\n",
              "    .colab-df-buttons div {\n",
              "      margin-bottom: 4px;\n",
              "    }\n",
              "\n",
              "    [theme=dark] .colab-df-convert {\n",
              "      background-color: #3B4455;\n",
              "      fill: #D2E3FC;\n",
              "    }\n",
              "\n",
              "    [theme=dark] .colab-df-convert:hover {\n",
              "      background-color: #434B5C;\n",
              "      box-shadow: 0px 1px 3px 1px rgba(0, 0, 0, 0.15);\n",
              "      filter: drop-shadow(0px 1px 2px rgba(0, 0, 0, 0.3));\n",
              "      fill: #FFFFFF;\n",
              "    }\n",
              "  </style>\n",
              "\n",
              "    <script>\n",
              "      const buttonEl =\n",
              "        document.querySelector('#df-3c2c0922-92de-403e-a8c1-ba8a16bd0e2d button.colab-df-convert');\n",
              "      buttonEl.style.display =\n",
              "        google.colab.kernel.accessAllowed ? 'block' : 'none';\n",
              "\n",
              "      async function convertToInteractive(key) {\n",
              "        const element = document.querySelector('#df-3c2c0922-92de-403e-a8c1-ba8a16bd0e2d');\n",
              "        const dataTable =\n",
              "          await google.colab.kernel.invokeFunction('convertToInteractive',\n",
              "                                                    [key], {});\n",
              "        if (!dataTable) return;\n",
              "\n",
              "        const docLinkHtml = 'Like what you see? Visit the ' +\n",
              "          '<a target=\"_blank\" href=https://colab.research.google.com/notebooks/data_table.ipynb>data table notebook</a>'\n",
              "          + ' to learn more about interactive tables.';\n",
              "        element.innerHTML = '';\n",
              "        dataTable['output_type'] = 'display_data';\n",
              "        await google.colab.output.renderOutput(dataTable, element);\n",
              "        const docLink = document.createElement('div');\n",
              "        docLink.innerHTML = docLinkHtml;\n",
              "        element.appendChild(docLink);\n",
              "      }\n",
              "    </script>\n",
              "  </div>\n",
              "\n",
              "\n",
              "<div id=\"df-7983306d-2c2c-44d4-8b94-8b6cd4be6d91\">\n",
              "  <button class=\"colab-df-quickchart\" onclick=\"quickchart('df-7983306d-2c2c-44d4-8b94-8b6cd4be6d91')\"\n",
              "            title=\"Suggest charts.\"\n",
              "            style=\"display:none;\">\n",
              "\n",
              "<svg xmlns=\"http://www.w3.org/2000/svg\" height=\"24px\"viewBox=\"0 0 24 24\"\n",
              "     width=\"24px\">\n",
              "    <g>\n",
              "        <path d=\"M19 3H5c-1.1 0-2 .9-2 2v14c0 1.1.9 2 2 2h14c1.1 0 2-.9 2-2V5c0-1.1-.9-2-2-2zM9 17H7v-7h2v7zm4 0h-2V7h2v10zm4 0h-2v-4h2v4z\"/>\n",
              "    </g>\n",
              "</svg>\n",
              "  </button>\n",
              "\n",
              "<style>\n",
              "  .colab-df-quickchart {\n",
              "      --bg-color: #E8F0FE;\n",
              "      --fill-color: #1967D2;\n",
              "      --hover-bg-color: #E2EBFA;\n",
              "      --hover-fill-color: #174EA6;\n",
              "      --disabled-fill-color: #AAA;\n",
              "      --disabled-bg-color: #DDD;\n",
              "  }\n",
              "\n",
              "  [theme=dark] .colab-df-quickchart {\n",
              "      --bg-color: #3B4455;\n",
              "      --fill-color: #D2E3FC;\n",
              "      --hover-bg-color: #434B5C;\n",
              "      --hover-fill-color: #FFFFFF;\n",
              "      --disabled-bg-color: #3B4455;\n",
              "      --disabled-fill-color: #666;\n",
              "  }\n",
              "\n",
              "  .colab-df-quickchart {\n",
              "    background-color: var(--bg-color);\n",
              "    border: none;\n",
              "    border-radius: 50%;\n",
              "    cursor: pointer;\n",
              "    display: none;\n",
              "    fill: var(--fill-color);\n",
              "    height: 32px;\n",
              "    padding: 0;\n",
              "    width: 32px;\n",
              "  }\n",
              "\n",
              "  .colab-df-quickchart:hover {\n",
              "    background-color: var(--hover-bg-color);\n",
              "    box-shadow: 0 1px 2px rgba(60, 64, 67, 0.3), 0 1px 3px 1px rgba(60, 64, 67, 0.15);\n",
              "    fill: var(--button-hover-fill-color);\n",
              "  }\n",
              "\n",
              "  .colab-df-quickchart-complete:disabled,\n",
              "  .colab-df-quickchart-complete:disabled:hover {\n",
              "    background-color: var(--disabled-bg-color);\n",
              "    fill: var(--disabled-fill-color);\n",
              "    box-shadow: none;\n",
              "  }\n",
              "\n",
              "  .colab-df-spinner {\n",
              "    border: 2px solid var(--fill-color);\n",
              "    border-color: transparent;\n",
              "    border-bottom-color: var(--fill-color);\n",
              "    animation:\n",
              "      spin 1s steps(1) infinite;\n",
              "  }\n",
              "\n",
              "  @keyframes spin {\n",
              "    0% {\n",
              "      border-color: transparent;\n",
              "      border-bottom-color: var(--fill-color);\n",
              "      border-left-color: var(--fill-color);\n",
              "    }\n",
              "    20% {\n",
              "      border-color: transparent;\n",
              "      border-left-color: var(--fill-color);\n",
              "      border-top-color: var(--fill-color);\n",
              "    }\n",
              "    30% {\n",
              "      border-color: transparent;\n",
              "      border-left-color: var(--fill-color);\n",
              "      border-top-color: var(--fill-color);\n",
              "      border-right-color: var(--fill-color);\n",
              "    }\n",
              "    40% {\n",
              "      border-color: transparent;\n",
              "      border-right-color: var(--fill-color);\n",
              "      border-top-color: var(--fill-color);\n",
              "    }\n",
              "    60% {\n",
              "      border-color: transparent;\n",
              "      border-right-color: var(--fill-color);\n",
              "    }\n",
              "    80% {\n",
              "      border-color: transparent;\n",
              "      border-right-color: var(--fill-color);\n",
              "      border-bottom-color: var(--fill-color);\n",
              "    }\n",
              "    90% {\n",
              "      border-color: transparent;\n",
              "      border-bottom-color: var(--fill-color);\n",
              "    }\n",
              "  }\n",
              "</style>\n",
              "\n",
              "  <script>\n",
              "    async function quickchart(key) {\n",
              "      const quickchartButtonEl =\n",
              "        document.querySelector('#' + key + ' button');\n",
              "      quickchartButtonEl.disabled = true;  // To prevent multiple clicks.\n",
              "      quickchartButtonEl.classList.add('colab-df-spinner');\n",
              "      try {\n",
              "        const charts = await google.colab.kernel.invokeFunction(\n",
              "            'suggestCharts', [key], {});\n",
              "      } catch (error) {\n",
              "        console.error('Error during call to suggestCharts:', error);\n",
              "      }\n",
              "      quickchartButtonEl.classList.remove('colab-df-spinner');\n",
              "      quickchartButtonEl.classList.add('colab-df-quickchart-complete');\n",
              "    }\n",
              "    (() => {\n",
              "      let quickchartButtonEl =\n",
              "        document.querySelector('#df-7983306d-2c2c-44d4-8b94-8b6cd4be6d91 button');\n",
              "      quickchartButtonEl.style.display =\n",
              "        google.colab.kernel.accessAllowed ? 'block' : 'none';\n",
              "    })();\n",
              "  </script>\n",
              "</div>\n",
              "    </div>\n",
              "  </div>\n"
            ],
            "text/plain": [
              "         Task_Type  Task_Response  Coherence_Cohesion  Lexical_Resource  \\\n",
              "count  1434.000000            0.0                 0.0               0.0   \n",
              "mean      1.552999            NaN                 NaN               NaN   \n",
              "std       0.497357            NaN                 NaN               NaN   \n",
              "min       1.000000            NaN                 NaN               NaN   \n",
              "25%       1.000000            NaN                 NaN               NaN   \n",
              "50%       2.000000            NaN                 NaN               NaN   \n",
              "75%       2.000000            NaN                 NaN               NaN   \n",
              "max       2.000000            NaN                 NaN               NaN   \n",
              "\n",
              "       Range_Accuracy      Overall       Length  Has_Comment  \n",
              "count             0.0  1434.000000  1434.000000  1434.000000  \n",
              "mean              NaN     6.554045   253.932357     0.043236  \n",
              "std               NaN     1.048397    81.337255     0.203458  \n",
              "min               NaN     3.000000   107.000000     0.000000  \n",
              "25%               NaN     6.000000   179.000000     0.000000  \n",
              "50%               NaN     6.500000   256.000000     0.000000  \n",
              "75%               NaN     7.000000   304.000000     0.000000  \n",
              "max               NaN     9.000000   574.000000     1.000000  "
            ]
          },
          "execution_count": 13,
          "metadata": {},
          "output_type": "execute_result"
        }
      ],
      "source": [
        "df.describe()"
      ]
    },
    {
      "cell_type": "code",
      "execution_count": 14,
      "metadata": {
        "id": "W4OZv-GAXLLN"
      },
      "outputs": [],
      "source": [
        "# Transform the 'Category' column to 0s and 1s\n",
        "df['Task_Type'] = (df['Task_Type'] == 2).astype(int)\n",
        "\n",
        "# Perform one-hot encoding\n",
        "df = pd.get_dummies(df, columns=['Task_Type'], prefix=['Task_Type'])"
      ]
    },
    {
      "cell_type": "code",
      "execution_count": 15,
      "metadata": {
        "colab": {
          "base_uri": "https://localhost:8080/",
          "height": 403
        },
        "id": "TKhTnKTeXc1H",
        "outputId": "1a97411f-8646-42c3-add4-23c6bab28421"
      },
      "outputs": [
        {
          "data": {
            "text/html": [
              "\n",
              "  <div id=\"df-d05d66c0-0a52-4a52-91ea-fc7113ca60c4\" class=\"colab-df-container\">\n",
              "    <div>\n",
              "<style scoped>\n",
              "    .dataframe tbody tr th:only-of-type {\n",
              "        vertical-align: middle;\n",
              "    }\n",
              "\n",
              "    .dataframe tbody tr th {\n",
              "        vertical-align: top;\n",
              "    }\n",
              "\n",
              "    .dataframe thead th {\n",
              "        text-align: right;\n",
              "    }\n",
              "</style>\n",
              "<table border=\"1\" class=\"dataframe\">\n",
              "  <thead>\n",
              "    <tr style=\"text-align: right;\">\n",
              "      <th></th>\n",
              "      <th>Question</th>\n",
              "      <th>Essay</th>\n",
              "      <th>Comment</th>\n",
              "      <th>Task_Response</th>\n",
              "      <th>Coherence_Cohesion</th>\n",
              "      <th>Lexical_Resource</th>\n",
              "      <th>Range_Accuracy</th>\n",
              "      <th>Overall</th>\n",
              "      <th>Length</th>\n",
              "      <th>Has_Comment</th>\n",
              "      <th>Task_Type_0</th>\n",
              "      <th>Task_Type_1</th>\n",
              "    </tr>\n",
              "  </thead>\n",
              "  <tbody>\n",
              "    <tr>\n",
              "      <th>0</th>\n",
              "      <td>The bar chart below describes some changes abo...</td>\n",
              "      <td>Between 1995 and 2010, a study was conducted r...</td>\n",
              "      <td>NaN</td>\n",
              "      <td>NaN</td>\n",
              "      <td>NaN</td>\n",
              "      <td>NaN</td>\n",
              "      <td>NaN</td>\n",
              "      <td>5.5</td>\n",
              "      <td>125</td>\n",
              "      <td>0</td>\n",
              "      <td>1</td>\n",
              "      <td>0</td>\n",
              "    </tr>\n",
              "    <tr>\n",
              "      <th>1</th>\n",
              "      <td>Rich countries often give money to poorer coun...</td>\n",
              "      <td>Poverty represents a worldwide crisis. It is t...</td>\n",
              "      <td>NaN</td>\n",
              "      <td>NaN</td>\n",
              "      <td>NaN</td>\n",
              "      <td>NaN</td>\n",
              "      <td>NaN</td>\n",
              "      <td>6.5</td>\n",
              "      <td>258</td>\n",
              "      <td>0</td>\n",
              "      <td>0</td>\n",
              "      <td>1</td>\n",
              "    </tr>\n",
              "    <tr>\n",
              "      <th>2</th>\n",
              "      <td>The bar chart below describes some changes abo...</td>\n",
              "      <td>The left chart shows the population change hap...</td>\n",
              "      <td>NaN</td>\n",
              "      <td>NaN</td>\n",
              "      <td>NaN</td>\n",
              "      <td>NaN</td>\n",
              "      <td>NaN</td>\n",
              "      <td>5.0</td>\n",
              "      <td>163</td>\n",
              "      <td>0</td>\n",
              "      <td>1</td>\n",
              "      <td>0</td>\n",
              "    </tr>\n",
              "  </tbody>\n",
              "</table>\n",
              "</div>\n",
              "    <div class=\"colab-df-buttons\">\n",
              "\n",
              "  <div class=\"colab-df-container\">\n",
              "    <button class=\"colab-df-convert\" onclick=\"convertToInteractive('df-d05d66c0-0a52-4a52-91ea-fc7113ca60c4')\"\n",
              "            title=\"Convert this dataframe to an interactive table.\"\n",
              "            style=\"display:none;\">\n",
              "\n",
              "  <svg xmlns=\"http://www.w3.org/2000/svg\" height=\"24px\" viewBox=\"0 -960 960 960\">\n",
              "    <path d=\"M120-120v-720h720v720H120Zm60-500h600v-160H180v160Zm220 220h160v-160H400v160Zm0 220h160v-160H400v160ZM180-400h160v-160H180v160Zm440 0h160v-160H620v160ZM180-180h160v-160H180v160Zm440 0h160v-160H620v160Z\"/>\n",
              "  </svg>\n",
              "    </button>\n",
              "\n",
              "  <style>\n",
              "    .colab-df-container {\n",
              "      display:flex;\n",
              "      gap: 12px;\n",
              "    }\n",
              "\n",
              "    .colab-df-convert {\n",
              "      background-color: #E8F0FE;\n",
              "      border: none;\n",
              "      border-radius: 50%;\n",
              "      cursor: pointer;\n",
              "      display: none;\n",
              "      fill: #1967D2;\n",
              "      height: 32px;\n",
              "      padding: 0 0 0 0;\n",
              "      width: 32px;\n",
              "    }\n",
              "\n",
              "    .colab-df-convert:hover {\n",
              "      background-color: #E2EBFA;\n",
              "      box-shadow: 0px 1px 2px rgba(60, 64, 67, 0.3), 0px 1px 3px 1px rgba(60, 64, 67, 0.15);\n",
              "      fill: #174EA6;\n",
              "    }\n",
              "\n",
              "    .colab-df-buttons div {\n",
              "      margin-bottom: 4px;\n",
              "    }\n",
              "\n",
              "    [theme=dark] .colab-df-convert {\n",
              "      background-color: #3B4455;\n",
              "      fill: #D2E3FC;\n",
              "    }\n",
              "\n",
              "    [theme=dark] .colab-df-convert:hover {\n",
              "      background-color: #434B5C;\n",
              "      box-shadow: 0px 1px 3px 1px rgba(0, 0, 0, 0.15);\n",
              "      filter: drop-shadow(0px 1px 2px rgba(0, 0, 0, 0.3));\n",
              "      fill: #FFFFFF;\n",
              "    }\n",
              "  </style>\n",
              "\n",
              "    <script>\n",
              "      const buttonEl =\n",
              "        document.querySelector('#df-d05d66c0-0a52-4a52-91ea-fc7113ca60c4 button.colab-df-convert');\n",
              "      buttonEl.style.display =\n",
              "        google.colab.kernel.accessAllowed ? 'block' : 'none';\n",
              "\n",
              "      async function convertToInteractive(key) {\n",
              "        const element = document.querySelector('#df-d05d66c0-0a52-4a52-91ea-fc7113ca60c4');\n",
              "        const dataTable =\n",
              "          await google.colab.kernel.invokeFunction('convertToInteractive',\n",
              "                                                    [key], {});\n",
              "        if (!dataTable) return;\n",
              "\n",
              "        const docLinkHtml = 'Like what you see? Visit the ' +\n",
              "          '<a target=\"_blank\" href=https://colab.research.google.com/notebooks/data_table.ipynb>data table notebook</a>'\n",
              "          + ' to learn more about interactive tables.';\n",
              "        element.innerHTML = '';\n",
              "        dataTable['output_type'] = 'display_data';\n",
              "        await google.colab.output.renderOutput(dataTable, element);\n",
              "        const docLink = document.createElement('div');\n",
              "        docLink.innerHTML = docLinkHtml;\n",
              "        element.appendChild(docLink);\n",
              "      }\n",
              "    </script>\n",
              "  </div>\n",
              "\n",
              "\n",
              "<div id=\"df-b36ad46c-9e3c-4827-841d-31dc71b4f80f\">\n",
              "  <button class=\"colab-df-quickchart\" onclick=\"quickchart('df-b36ad46c-9e3c-4827-841d-31dc71b4f80f')\"\n",
              "            title=\"Suggest charts.\"\n",
              "            style=\"display:none;\">\n",
              "\n",
              "<svg xmlns=\"http://www.w3.org/2000/svg\" height=\"24px\"viewBox=\"0 0 24 24\"\n",
              "     width=\"24px\">\n",
              "    <g>\n",
              "        <path d=\"M19 3H5c-1.1 0-2 .9-2 2v14c0 1.1.9 2 2 2h14c1.1 0 2-.9 2-2V5c0-1.1-.9-2-2-2zM9 17H7v-7h2v7zm4 0h-2V7h2v10zm4 0h-2v-4h2v4z\"/>\n",
              "    </g>\n",
              "</svg>\n",
              "  </button>\n",
              "\n",
              "<style>\n",
              "  .colab-df-quickchart {\n",
              "      --bg-color: #E8F0FE;\n",
              "      --fill-color: #1967D2;\n",
              "      --hover-bg-color: #E2EBFA;\n",
              "      --hover-fill-color: #174EA6;\n",
              "      --disabled-fill-color: #AAA;\n",
              "      --disabled-bg-color: #DDD;\n",
              "  }\n",
              "\n",
              "  [theme=dark] .colab-df-quickchart {\n",
              "      --bg-color: #3B4455;\n",
              "      --fill-color: #D2E3FC;\n",
              "      --hover-bg-color: #434B5C;\n",
              "      --hover-fill-color: #FFFFFF;\n",
              "      --disabled-bg-color: #3B4455;\n",
              "      --disabled-fill-color: #666;\n",
              "  }\n",
              "\n",
              "  .colab-df-quickchart {\n",
              "    background-color: var(--bg-color);\n",
              "    border: none;\n",
              "    border-radius: 50%;\n",
              "    cursor: pointer;\n",
              "    display: none;\n",
              "    fill: var(--fill-color);\n",
              "    height: 32px;\n",
              "    padding: 0;\n",
              "    width: 32px;\n",
              "  }\n",
              "\n",
              "  .colab-df-quickchart:hover {\n",
              "    background-color: var(--hover-bg-color);\n",
              "    box-shadow: 0 1px 2px rgba(60, 64, 67, 0.3), 0 1px 3px 1px rgba(60, 64, 67, 0.15);\n",
              "    fill: var(--button-hover-fill-color);\n",
              "  }\n",
              "\n",
              "  .colab-df-quickchart-complete:disabled,\n",
              "  .colab-df-quickchart-complete:disabled:hover {\n",
              "    background-color: var(--disabled-bg-color);\n",
              "    fill: var(--disabled-fill-color);\n",
              "    box-shadow: none;\n",
              "  }\n",
              "\n",
              "  .colab-df-spinner {\n",
              "    border: 2px solid var(--fill-color);\n",
              "    border-color: transparent;\n",
              "    border-bottom-color: var(--fill-color);\n",
              "    animation:\n",
              "      spin 1s steps(1) infinite;\n",
              "  }\n",
              "\n",
              "  @keyframes spin {\n",
              "    0% {\n",
              "      border-color: transparent;\n",
              "      border-bottom-color: var(--fill-color);\n",
              "      border-left-color: var(--fill-color);\n",
              "    }\n",
              "    20% {\n",
              "      border-color: transparent;\n",
              "      border-left-color: var(--fill-color);\n",
              "      border-top-color: var(--fill-color);\n",
              "    }\n",
              "    30% {\n",
              "      border-color: transparent;\n",
              "      border-left-color: var(--fill-color);\n",
              "      border-top-color: var(--fill-color);\n",
              "      border-right-color: var(--fill-color);\n",
              "    }\n",
              "    40% {\n",
              "      border-color: transparent;\n",
              "      border-right-color: var(--fill-color);\n",
              "      border-top-color: var(--fill-color);\n",
              "    }\n",
              "    60% {\n",
              "      border-color: transparent;\n",
              "      border-right-color: var(--fill-color);\n",
              "    }\n",
              "    80% {\n",
              "      border-color: transparent;\n",
              "      border-right-color: var(--fill-color);\n",
              "      border-bottom-color: var(--fill-color);\n",
              "    }\n",
              "    90% {\n",
              "      border-color: transparent;\n",
              "      border-bottom-color: var(--fill-color);\n",
              "    }\n",
              "  }\n",
              "</style>\n",
              "\n",
              "  <script>\n",
              "    async function quickchart(key) {\n",
              "      const quickchartButtonEl =\n",
              "        document.querySelector('#' + key + ' button');\n",
              "      quickchartButtonEl.disabled = true;  // To prevent multiple clicks.\n",
              "      quickchartButtonEl.classList.add('colab-df-spinner');\n",
              "      try {\n",
              "        const charts = await google.colab.kernel.invokeFunction(\n",
              "            'suggestCharts', [key], {});\n",
              "      } catch (error) {\n",
              "        console.error('Error during call to suggestCharts:', error);\n",
              "      }\n",
              "      quickchartButtonEl.classList.remove('colab-df-spinner');\n",
              "      quickchartButtonEl.classList.add('colab-df-quickchart-complete');\n",
              "    }\n",
              "    (() => {\n",
              "      let quickchartButtonEl =\n",
              "        document.querySelector('#df-b36ad46c-9e3c-4827-841d-31dc71b4f80f button');\n",
              "      quickchartButtonEl.style.display =\n",
              "        google.colab.kernel.accessAllowed ? 'block' : 'none';\n",
              "    })();\n",
              "  </script>\n",
              "</div>\n",
              "    </div>\n",
              "  </div>\n"
            ],
            "text/plain": [
              "                                            Question  \\\n",
              "0  The bar chart below describes some changes abo...   \n",
              "1  Rich countries often give money to poorer coun...   \n",
              "2  The bar chart below describes some changes abo...   \n",
              "\n",
              "                                               Essay Comment  Task_Response  \\\n",
              "0  Between 1995 and 2010, a study was conducted r...     NaN            NaN   \n",
              "1  Poverty represents a worldwide crisis. It is t...     NaN            NaN   \n",
              "2  The left chart shows the population change hap...     NaN            NaN   \n",
              "\n",
              "   Coherence_Cohesion  Lexical_Resource  Range_Accuracy  Overall  Length  \\\n",
              "0                 NaN               NaN             NaN      5.5     125   \n",
              "1                 NaN               NaN             NaN      6.5     258   \n",
              "2                 NaN               NaN             NaN      5.0     163   \n",
              "\n",
              "   Has_Comment  Task_Type_0  Task_Type_1  \n",
              "0            0            1            0  \n",
              "1            0            0            1  \n",
              "2            0            1            0  "
            ]
          },
          "execution_count": 15,
          "metadata": {},
          "output_type": "execute_result"
        }
      ],
      "source": [
        "df.head(3)"
      ]
    },
    {
      "cell_type": "code",
      "execution_count": 16,
      "metadata": {
        "id": "8dWsMUR_dIu-"
      },
      "outputs": [],
      "source": [
        "config ={\n",
        "    \"max_seq_length\": 512,\n",
        "    \"bert_model_name\": \"bert-base-uncased\",\n",
        "    \"learning_rate\": 0.001,\n",
        "    \"batch_size\": 32,\n",
        "    \"epochs\": 50,\n",
        "    \"loss\": 'mean_squared_error',\n",
        "    \"metrics\": [MeanAbsoluteError(), RootMeanSquaredError()],\n",
        "}"
      ]
    },
    {
      "cell_type": "code",
      "execution_count": 17,
      "metadata": {
        "colab": {
          "base_uri": "https://localhost:8080/",
          "height": 252,
          "referenced_widgets": [
            "5a1786511fdc48458abbf218512dcd47",
            "ad81381d37a0427eb1895637ebf5c286",
            "35049d996f0d484c84cb24383a9c404f",
            "854f16b0d4ad438bbb112105340e1bf1",
            "5ed33427163d4e4e85e782c7f48cb3ce",
            "702d9b7268d341afb1fad7452636e532",
            "9c4eae8d87b342dba44dcd08fb60b5cb",
            "098786198d8e49729e4f8e8e71f4711d",
            "c3d4f4198ee046a586aafa15ef9b4e82",
            "616862e664614807aceafcb614270114",
            "a2c05833062d4be5a808e267d20c73bb",
            "467548efb8e544b798f14cdc05c028f0",
            "98b163799e1a4150821920c3ff85933b",
            "dbfc2061ead145f4899987d61aace20e",
            "3656645219f94f66b51e3a244f1fc01f",
            "298c569fd1c64247a1cff1bb2aeb34da",
            "8ff58986fabe4cceb98068200e738c40",
            "37aef3f6fae943d2b72ed44169b08f53",
            "168772b59b6d4fe58b5408434c0e4352",
            "06c70ef472bb4e24bdda929b8ac618ec",
            "32dc02cf99aa4dc0b8373517945ce9b4",
            "56e7e8b6f1ac426da16c8cc54d219bcf",
            "a85dc62dbc4b4494819acabe9ca33356",
            "150a3ee98aeb4f399490445465d52fcd",
            "4dc5a278fbbe400bb7b071b1e5bd6c6f",
            "5a1a667ebcc64e748d366e4c6169344c",
            "4c2c298d035041fc83c5c98fa1ad6932",
            "1e57f86fb5944d9a9e76624bffda532e",
            "afbfa01a6c0d46cd90c015e8cd740aff",
            "70cb0a7673be4ce4a4e7baa69db376e8",
            "5c3219afa28741899aa55b4241807f8a",
            "78412f9d3c2643df9912043c6a1ae3da",
            "bc0583c0dc1148f1abb08ef38fe44227",
            "f12efda6812b4f95ae0d4c30c60fa6d9",
            "af83936ba4ca4230b36bf75a1140bf37",
            "af190e94abcb4a65a986b6c1a654ccc0",
            "b49999da65904318aa5855de4bedf610",
            "e1cba45b1e2b422594934feaa6c94bd6",
            "b842c46813b046c6a02aeffac646d2a0",
            "86ea8607e2384d2e9c205c185b972588",
            "ba5521970bb04009bf3377f6bd12cf63",
            "2a3371a9b877436c999dc7c626ed174d",
            "89e6c07d174144ff80165298dddde427",
            "8cd647d2bd584af6a882089709c63ff4"
          ]
        },
        "id": "5Q8AhvRzzBdz",
        "outputId": "ad3bec7b-5eaf-47ed-e358-94c60a561f29"
      },
      "outputs": [
        {
          "data": {
            "application/vnd.jupyter.widget-view+json": {
              "model_id": "5a1786511fdc48458abbf218512dcd47",
              "version_major": 2,
              "version_minor": 0
            },
            "text/plain": [
              "Downloading (…)solve/main/vocab.txt:   0%|          | 0.00/232k [00:00<?, ?B/s]"
            ]
          },
          "metadata": {},
          "output_type": "display_data"
        },
        {
          "data": {
            "application/vnd.jupyter.widget-view+json": {
              "model_id": "467548efb8e544b798f14cdc05c028f0",
              "version_major": 2,
              "version_minor": 0
            },
            "text/plain": [
              "Downloading (…)okenizer_config.json:   0%|          | 0.00/28.0 [00:00<?, ?B/s]"
            ]
          },
          "metadata": {},
          "output_type": "display_data"
        },
        {
          "data": {
            "application/vnd.jupyter.widget-view+json": {
              "model_id": "a85dc62dbc4b4494819acabe9ca33356",
              "version_major": 2,
              "version_minor": 0
            },
            "text/plain": [
              "Downloading (…)lve/main/config.json:   0%|          | 0.00/570 [00:00<?, ?B/s]"
            ]
          },
          "metadata": {},
          "output_type": "display_data"
        },
        {
          "data": {
            "application/vnd.jupyter.widget-view+json": {
              "model_id": "f12efda6812b4f95ae0d4c30c60fa6d9",
              "version_major": 2,
              "version_minor": 0
            },
            "text/plain": [
              "Downloading model.safetensors:   0%|          | 0.00/440M [00:00<?, ?B/s]"
            ]
          },
          "metadata": {},
          "output_type": "display_data"
        },
        {
          "name": "stderr",
          "output_type": "stream",
          "text": [
            "Some weights of the PyTorch model were not used when initializing the TF 2.0 model TFBertModel: ['cls.predictions.bias', 'cls.predictions.transform.LayerNorm.weight', 'cls.seq_relationship.bias', 'cls.predictions.transform.LayerNorm.bias', 'cls.predictions.transform.dense.weight', 'cls.seq_relationship.weight', 'cls.predictions.transform.dense.bias']\n",
            "- This IS expected if you are initializing TFBertModel from a PyTorch model trained on another task or with another architecture (e.g. initializing a TFBertForSequenceClassification model from a BertForPreTraining model).\n",
            "- This IS NOT expected if you are initializing TFBertModel from a PyTorch model that you expect to be exactly identical (e.g. initializing a TFBertForSequenceClassification model from a BertForSequenceClassification model).\n",
            "All the weights of TFBertModel were initialized from the PyTorch model.\n",
            "If your task is similar to the task the model of the checkpoint was trained on, you can already use TFBertModel for predictions without further training.\n"
          ]
        }
      ],
      "source": [
        "# Load pre-trained BERT model and tokenizer\n",
        "bert_tokenizer = BertTokenizer.from_pretrained(config['bert_model_name'])\n",
        "bert_model = TFBertModel.from_pretrained(config['bert_model_name'])"
      ]
    },
    {
      "cell_type": "code",
      "execution_count": 18,
      "metadata": {
        "execution": {
          "iopub.execute_input": "2023-09-25T15:25:48.812497Z",
          "iopub.status.busy": "2023-09-25T15:25:48.812031Z",
          "iopub.status.idle": "2023-09-25T15:25:48.818945Z",
          "shell.execute_reply": "2023-09-25T15:25:48.817609Z",
          "shell.execute_reply.started": "2023-09-25T15:25:48.812461Z"
        },
        "id": "UTMVK34C_f7x",
        "trusted": true
      },
      "outputs": [],
      "source": [
        "X = df[['Essay',\n",
        "        'Task_Type_0',\n",
        "        'Task_Type_1',\n",
        "        'Length']]\n",
        "\n",
        "y = df['Overall']"
      ]
    },
    {
      "cell_type": "code",
      "execution_count": 19,
      "metadata": {
        "execution": {
          "iopub.execute_input": "2023-09-25T15:25:50.565742Z",
          "iopub.status.busy": "2023-09-25T15:25:50.565307Z",
          "iopub.status.idle": "2023-09-25T15:25:50.576200Z",
          "shell.execute_reply": "2023-09-25T15:25:50.574979Z",
          "shell.execute_reply.started": "2023-09-25T15:25:50.565710Z"
        },
        "id": "FAmGUf-p_f7x",
        "trusted": true
      },
      "outputs": [],
      "source": [
        "X_train, X_val, y_train, y_val = train_test_split(X.values, y,\n",
        "    test_size=0.2,\n",
        "    shuffle=True,\n",
        "    stratify=y,\n",
        "    random_state=42\n",
        ")"
      ]
    },
    {
      "cell_type": "code",
      "execution_count": null,
      "metadata": {},
      "outputs": [],
      "source": []
    },
    {
      "cell_type": "code",
      "execution_count": 20,
      "metadata": {
        "id": "brB3A9BwaFBw"
      },
      "outputs": [],
      "source": [
        "text_colums_indexes = 0\n",
        "numerical_columns_indexes = [1, 2, 3]\n",
        "\n",
        "# Create a StandardScaler instance and fit/transform on X_train\n",
        "scaler = StandardScaler()\n",
        "numerical_features_train = scaler.fit_transform(X_train[:, numerical_columns_indexes])\n",
        "numerical_features_val = scaler.transform(X_val[:, numerical_columns_indexes])"
      ]
    },
    {
      "cell_type": "code",
      "execution_count": 21,
      "metadata": {
        "execution": {
          "iopub.execute_input": "2023-09-25T15:26:45.403565Z",
          "iopub.status.busy": "2023-09-25T15:26:45.402915Z",
          "iopub.status.idle": "2023-09-25T15:26:57.015131Z",
          "shell.execute_reply": "2023-09-25T15:26:57.013965Z",
          "shell.execute_reply.started": "2023-09-25T15:26:45.403506Z"
        },
        "id": "NtIA80rP_f7x",
        "trusted": true
      },
      "outputs": [],
      "source": [
        "text_features_train = X_train[:, text_colums_indexes]\n",
        "text_features_val = X_val[:, text_colums_indexes]\n",
        "\n",
        "train_input_ids = bert_tokenizer(list(text_features_train), padding=True, truncation=True, return_tensors='tf', max_length=config['max_seq_length'])['input_ids']\n",
        "val_input_ids = bert_tokenizer(list(text_features_val), padding=True, truncation=True, return_tensors='tf', max_length=config['max_seq_length'])['input_ids']"
      ]
    },
    {
      "cell_type": "code",
      "execution_count": 22,
      "metadata": {
        "id": "GvBn0XzGgYpy"
      },
      "outputs": [],
      "source": [
        "X_train = {\n",
        "    \"input_ids\": train_input_ids,\n",
        "    \"numerical_features\": numerical_features_train\n",
        "}\n",
        "\n",
        "X_val = {\n",
        "    \"input_ids\": val_input_ids,\n",
        "    \"numerical_features\": numerical_features_val\n",
        "}"
      ]
    },
    {
      "cell_type": "code",
      "execution_count": 23,
      "metadata": {
        "id": "EV-jrH8zY92Y"
      },
      "outputs": [],
      "source": [
        "# Define input layers\n",
        "input_ids = tf.keras.layers.Input(shape=(config['max_seq_length'],), dtype=tf.int32, name=\"input_ids\")\n",
        "numerical_features = tf.keras.layers.Input(shape=(3,), dtype=tf.float32, name=\"numerical_features\")\n",
        "\n",
        "# BERT embedding layer\n",
        "bert_output = bert_model(input_ids)[0]  # BERT's output\n",
        "pooler_output = bert_output[:, 0, :]     # Pooler output\n",
        "\n",
        "# Combine BERT output with numerical features\n",
        "concatenated_features = tf.keras.layers.concatenate([pooler_output, numerical_features])\n",
        "\n",
        "# Custom regression head\n",
        "regression_head = tf.keras.models.Sequential([\n",
        "    tf.keras.layers.Dense(128, activation='relu'),\n",
        "    tf.keras.layers.Dropout(0.2),\n",
        "    tf.keras.layers.Dense(64, activation='relu'),\n",
        "    tf.keras.layers.Dropout(0.2),\n",
        "    tf.keras.layers.Dense(1, activation='linear')\n",
        "])\n",
        "\n",
        "# Connect regression head to combined features\n",
        "regression_output = regression_head(concatenated_features)\n",
        "\n",
        "# Create the final model\n",
        "bert_with_num_model = tf.keras.models.Model(inputs=[input_ids, numerical_features], outputs=regression_output)"
      ]
    },
    {
      "cell_type": "code",
      "execution_count": 24,
      "metadata": {
        "colab": {
          "base_uri": "https://localhost:8080/"
        },
        "id": "rVSs7JjW9onL",
        "outputId": "d5bf8e1c-40e4-4918-acbf-488d0f75d2b3"
      },
      "outputs": [
        {
          "name": "stdout",
          "output_type": "stream",
          "text": [
            "Model: \"model\"\n",
            "__________________________________________________________________________________________________\n",
            " Layer (type)                Output Shape                 Param #   Connected to                  \n",
            "==================================================================================================\n",
            " input_ids (InputLayer)      [(None, 512)]                0         []                            \n",
            "                                                                                                  \n",
            " tf_bert_model (TFBertModel  TFBaseModelOutputWithPooli   1094822   ['input_ids[0][0]']           \n",
            " )                           ngAndCrossAttentions(last_   40                                      \n",
            "                             hidden_state=(None, 512, 7                                           \n",
            "                             68),                                                                 \n",
            "                              pooler_output=(None, 768)                                           \n",
            "                             , past_key_values=None, hi                                           \n",
            "                             dden_states=None, attentio                                           \n",
            "                             ns=None, cross_attentions=                                           \n",
            "                             None)                                                                \n",
            "                                                                                                  \n",
            " tf.__operators__.getitem (  (None, 768)                  0         ['tf_bert_model[0][0]']       \n",
            " SlicingOpLambda)                                                                                 \n",
            "                                                                                                  \n",
            " numerical_features (InputL  [(None, 3)]                  0         []                            \n",
            " ayer)                                                                                            \n",
            "                                                                                                  \n",
            " concatenate (Concatenate)   (None, 771)                  0         ['tf.__operators__.getitem[0][\n",
            "                                                                    0]',                          \n",
            "                                                                     'numerical_features[0][0]']  \n",
            "                                                                                                  \n",
            " sequential (Sequential)     (None, 1)                    107137    ['concatenate[0][0]']         \n",
            "                                                                                                  \n",
            "==================================================================================================\n",
            "Total params: 109589377 (418.05 MB)\n",
            "Trainable params: 107137 (418.50 KB)\n",
            "Non-trainable params: 109482240 (417.64 MB)\n",
            "__________________________________________________________________________________________________\n"
          ]
        }
      ],
      "source": [
        "# Set BERT layers as non-trainable\n",
        "for layer in bert_model.layers:\n",
        "    layer.trainable = False\n",
        "\n",
        "# Compile the model\n",
        "bert_with_num_model.compile(optimizer=tf.keras.optimizers.Adam(config['learning_rate']),\n",
        "              loss=config['loss'],\n",
        "              metrics=config['metrics'])\n",
        "\n",
        "# Print model summary\n",
        "bert_with_num_model.summary()"
      ]
    },
    {
      "cell_type": "code",
      "execution_count": 25,
      "metadata": {
        "colab": {
          "base_uri": "https://localhost:8080/",
          "height": 466
        },
        "id": "wgLg5TCtjCNJ",
        "outputId": "29fe8b8c-32a4-44b0-9c20-948e7be7db36"
      },
      "outputs": [
        {
          "data": {
            "image/png": "[encoded data removed]",
            "text/plain": [
              "<IPython.core.display.Image object>"
            ]
          },
          "execution_count": 25,
          "metadata": {},
          "output_type": "execute_result"
        }
      ],
      "source": [
        "tf.keras.utils.plot_model(bert_with_num_model)"
      ]
    },
    {
      "cell_type": "code",
      "execution_count": 32,
      "metadata": {
        "id": "eGhphKP8zdSa"
      },
      "outputs": [],
      "source": [
        "# Define a callback to save the model with the lowest validation loss\n",
        "checkpoint_callback = tf.keras.callbacks.ModelCheckpoint(\n",
        "    filepath='bert_with_num.h5',  # Specify the path to save the best model\n",
        "    monitor='val_mean_absolute_error',       # Monitor validation loss\n",
        "    save_best_only=True,      # Save only the best model (lowest val_loss)\n",
        "    mode='min',               # Consider lower values as better\n",
        "    verbose=0                 # Verbosity mode (0 for silent)\n",
        ")\n",
        "\n",
        "# Define a callback to perform early stopping\n",
        "earlystop_callback = tf.keras.callbacks.EarlyStopping(\n",
        "    monitor='val_mean_absolute_error',  # Monitor validation loss\n",
        "    min_delta=0,         # Minimum change in validation loss to be considered an improvement\n",
        "    patience=3,          # Number of epochs with no improvement after which training will stop\n",
        "    verbose=0,           # Verbosity mode (0 for silent)\n",
        "    mode='auto'          # Automatically infer the direction of loss improvement\n",
        ")"
      ]
    },
    {
      "cell_type": "code",
      "execution_count": 27,
      "metadata": {
        "colab": {
          "base_uri": "https://localhost:8080/"
        },
        "id": "XO1CqncyaJry",
        "outputId": "527077be-c5fa-4738-9ecb-e13249e14b3a"
      },
      "outputs": [
        {
          "name": "stdout",
          "output_type": "stream",
          "text": [
            "Epoch 1/50\n",
            "36/36 [==============================] - ETA: 0s - loss: 5.9566 - mean_absolute_error: 1.8898 - root_mean_squared_error: 2.4406"
          ]
        },
        {
          "name": "stderr",
          "output_type": "stream",
          "text": [
            "/usr/local/lib/python3.10/dist-packages/keras/src/engine/training.py:3000: UserWarning: You are saving your model as an HDF5 file via `model.save()`. This file format is considered legacy. We recommend using instead the native Keras format, e.g. `model.save('my_model.keras')`.\n",
            "  saving_api.save_model(\n"
          ]
        },
        {
          "name": "stdout",
          "output_type": "stream",
          "text": [
            "\b\b\b\b\b\b\b\b\b\b\b\b\b\b\b\b\b\b\b\b\b\b\b\b\b\b\b\b\b\b\b\b\b\b\b\b\b\b\b\b\b\b\b\b\b\b\b\b\b\b\b\b\b\b\b\b\b\b\b\b\b\b\b\b\b\b\b\b\b\b\b\b\b\b\b\b\b\b\b\b\b\b\b\b\b\b\b\b\b\b\b\b\b\b\b\b\b\b\b\b\b\b\b\b\b\b\b\b\b\b\b\b\b\b\b\b\b\b\b\b\b\b\b\b\b\b\b\r36/36 [==============================] - 92s 2s/step - loss: 5.9566 - mean_absolute_error: 1.8898 - root_mean_squared_error: 2.4406 - val_loss: 1.1383 - val_mean_absolute_error: 0.8527 - val_root_mean_squared_error: 1.0669\n",
            "Epoch 2/50\n",
            "36/36 [==============================] - 76s 2s/step - loss: 2.2132 - mean_absolute_error: 1.1854 - root_mean_squared_error: 1.4877 - val_loss: 0.8638 - val_mean_absolute_error: 0.7416 - val_root_mean_squared_error: 0.9294\n",
            "Epoch 3/50\n",
            "36/36 [==============================] - 76s 2s/step - loss: 2.1146 - mean_absolute_error: 1.1636 - root_mean_squared_error: 1.4542 - val_loss: 1.0044 - val_mean_absolute_error: 0.8060 - val_root_mean_squared_error: 1.0022\n",
            "Epoch 4/50\n",
            "36/36 [==============================] - 80s 2s/step - loss: 1.8505 - mean_absolute_error: 1.0810 - root_mean_squared_error: 1.3603 - val_loss: 0.7781 - val_mean_absolute_error: 0.7042 - val_root_mean_squared_error: 0.8821\n",
            "Epoch 5/50\n",
            "36/36 [==============================] - 86s 2s/step - loss: 1.7497 - mean_absolute_error: 1.0525 - root_mean_squared_error: 1.3228 - val_loss: 0.7626 - val_mean_absolute_error: 0.6979 - val_root_mean_squared_error: 0.8732\n",
            "Epoch 6/50\n",
            "36/36 [==============================] - 68s 2s/step - loss: 1.7498 - mean_absolute_error: 1.0572 - root_mean_squared_error: 1.3228 - val_loss: 1.0251 - val_mean_absolute_error: 0.8160 - val_root_mean_squared_error: 1.0125\n",
            "Epoch 7/50\n",
            "36/36 [==============================] - 85s 2s/step - loss: 1.6638 - mean_absolute_error: 1.0357 - root_mean_squared_error: 1.2899 - val_loss: 0.7729 - val_mean_absolute_error: 0.6945 - val_root_mean_squared_error: 0.8791\n",
            "Epoch 8/50\n",
            "36/36 [==============================] - 68s 2s/step - loss: 1.4987 - mean_absolute_error: 0.9781 - root_mean_squared_error: 1.2242 - val_loss: 0.8455 - val_mean_absolute_error: 0.7386 - val_root_mean_squared_error: 0.9195\n"
          ]
        }
      ],
      "source": [
        "history_bert_with_num = bert_with_num_model.fit(X_train, y_train,\n",
        "    epochs=config['epochs'],\n",
        "    batch_size=config['batch_size'],\n",
        "    validation_data=(X_val, y_val),\n",
        "    callbacks=[checkpoint_callback, earlystop_callback])"
      ]
    },
    {
      "cell_type": "code",
      "execution_count": 28,
      "metadata": {
        "colab": {
          "base_uri": "https://localhost:8080/"
        },
        "id": "5tXpkWJR8YNS",
        "outputId": "32ca476e-0bc8-4638-9c10-e753925b2c6b"
      },
      "outputs": [
        {
          "name": "stdout",
          "output_type": "stream",
          "text": [
            "9/9 [==============================] - 15s 1s/step\n",
            "0.7386234878247623\n"
          ]
        }
      ],
      "source": [
        "predictions_bert_with_num = bert_with_num_model.predict(X_val)\n",
        "print(mean_absolute_error(y_val, predictions_bert_with_num))"
      ]
    },
    {
      "cell_type": "code",
      "execution_count": 29,
      "metadata": {
        "colab": {
          "base_uri": "https://localhost:8080/",
          "height": 489
        },
        "id": "dj8_BljEBMKS",
        "outputId": "d2c4917d-a050-4999-a2f8-dd0a845dec86"
      },
      "outputs": [
        {
          "data": {
            "text/plain": [
              "<matplotlib.legend.Legend at 0x79095ccb2080>"
            ]
          },
          "execution_count": 29,
          "metadata": {},
          "output_type": "execute_result"
        },
        {
          "data": {
            "image/png": "[encoded data removed]",
            "text/plain": [
              "<Figure size 640x480 with 1 Axes>"
            ]
          },
          "metadata": {},
          "output_type": "display_data"
        }
      ],
      "source": [
        "plt.plot(history_bert_with_num.history[\"loss\"])\n",
        "plt.plot(history_bert_with_num.history[\"val_loss\"])\n",
        "plt.title(\"Losses Vs Validation Loss of Hybrid Model\")\n",
        "plt.xlabel(\"Epochs\")\n",
        "plt.ylabel(\"Loss\")\n",
        "plt.legend([\"Loss\",\"Val Loss\"])"
      ]
    },
    {
      "cell_type": "code",
      "execution_count": 31,
      "metadata": {
        "colab": {
          "base_uri": "https://localhost:8080/"
        },
        "id": "AstZHYd1_n0h",
        "outputId": "6f626d09-0cf7-4279-d5e5-989fa41dae82"
      },
      "outputs": [
        {
          "name": "stderr",
          "output_type": "stream",
          "text": [
            "WARNING:tensorflow:Error in loading the saved optimizer state. As a result, your model is starting with a freshly initialized optimizer.\n"
          ]
        },
        {
          "name": "stdout",
          "output_type": "stream",
          "text": [
            "9/9 [==============================] - 16s 1s/step\n",
            "0.6944802297532351\n"
          ]
        }
      ],
      "source": [
        "# Define a dictionary to map custom layer names to their classes\n",
        "custom_objects = {'TFBertModel': TFBertModel}\n",
        "\n",
        "# Replace 'path_to_your_model.h5' with the path to your model file.\n",
        "model_path = 'bert_with_num.h5'\n",
        "\n",
        "# Load the Keras model with custom object mapping\n",
        "with tf.keras.utils.custom_object_scope(custom_objects):\n",
        "    loaded_model = tf.keras.models.load_model(model_path)\n",
        "\n",
        "\n",
        "predictions_bert_with_num = loaded_model.predict(X_val)\n",
        "print(mean_absolute_error(y_val, predictions_bert_with_num))"
      ]
    },
    {
      "cell_type": "code",
      "execution_count": 33,
      "metadata": {
        "id": "bjZrpx2RCErE"
      },
      "outputs": [],
      "source": [
        "# Create a custom regression head\n",
        "regression_head = tf.keras.models.Sequential([\n",
        "    tf.keras.layers.Flatten(),\n",
        "    tf.keras.layers.Dense(64, activation='relu'),\n",
        "    tf.keras.layers.Dropout(0.3),\n",
        "    tf.keras.layers.Dense(32, activation='relu'),\n",
        "    tf.keras.layers.Dropout(0.3),\n",
        "    tf.keras.layers.Dense(1, activation='linear')\n",
        "])\n",
        "\n",
        "# Combine BERT and Regression Head\n",
        "input_ids = tf.keras.layers.Input(shape=(config['max_seq_length'],), dtype=tf.int32)\n",
        "bert_output = bert_model(input_ids)[0]  # BERT's output\n",
        "pooler_output = bert_output[:, 0, :]     # Pooler output\n",
        "regression_output = regression_head(pooler_output)  # Custom regression head\n",
        "\n",
        "model = tf.keras.models.Model(inputs=input_ids, outputs=regression_output)"
      ]
    },
    {
      "cell_type": "code",
      "execution_count": 34,
      "metadata": {
        "colab": {
          "base_uri": "https://localhost:8080/"
        },
        "execution": {
          "iopub.execute_input": "2023-09-25T15:32:39.997409Z",
          "iopub.status.busy": "2023-09-25T15:32:39.996836Z",
          "iopub.status.idle": "2023-09-25T15:32:40.022257Z",
          "shell.execute_reply": "2023-09-25T15:32:40.021299Z",
          "shell.execute_reply.started": "2023-09-25T15:32:39.997365Z"
        },
        "id": "h7y4VQzB_f7y",
        "outputId": "d90a15e1-122d-49cf-e178-66ab97a37325",
        "trusted": true
      },
      "outputs": [
        {
          "name": "stdout",
          "output_type": "stream",
          "text": [
            "Model: \"model_1\"\n",
            "_________________________________________________________________\n",
            " Layer (type)                Output Shape              Param #   \n",
            "=================================================================\n",
            " input_1 (InputLayer)        [(None, 512)]             0         \n",
            "                                                                 \n",
            " tf_bert_model (TFBertModel  TFBaseModelOutputWithPo   109482240 \n",
            " )                           olingAndCrossAttentions             \n",
            "                             (last_hidden_state=(Non             \n",
            "                             e, 512, 768),                       \n",
            "                              pooler_output=(None, 7             \n",
            "                             68),                                \n",
            "                              past_key_values=None,              \n",
            "                             hidden_states=None, att             \n",
            "                             entions=None, cross_att             \n",
            "                             entions=None)                       \n",
            "                                                                 \n",
            " tf.__operators__.getitem_1  (None, 768)               0         \n",
            "  (SlicingOpLambda)                                              \n",
            "                                                                 \n",
            " sequential_1 (Sequential)   (None, 1)                 51329     \n",
            "                                                                 \n",
            "=================================================================\n",
            "Total params: 109533569 (417.84 MB)\n",
            "Trainable params: 51329 (200.50 KB)\n",
            "Non-trainable params: 109482240 (417.64 MB)\n",
            "_________________________________________________________________\n"
          ]
        }
      ],
      "source": [
        "# Set BERT layers as non-trainable\n",
        "for layer in bert_model.layers:\n",
        "    layer.trainable = False\n",
        "\n",
        "# Compile the model, specifying the loss and metrics\n",
        "model.compile(optimizer=tf.keras.optimizers.Adam(config['learning_rate']),\n",
        "                        loss=config['loss'],\n",
        "                        metrics=config['metrics'])\n",
        "\n",
        "# Print model summary\n",
        "model.summary()"
      ]
    },
    {
      "cell_type": "code",
      "execution_count": 35,
      "metadata": {
        "colab": {
          "base_uri": "https://localhost:8080/",
          "height": 369
        },
        "id": "pzGeqX3U9lZB",
        "outputId": "2f677d54-c49d-484b-f512-afa99546f591"
      },
      "outputs": [
        {
          "data": {
            "image/png": "[encoded data removed]",
            "text/plain": [
              "<IPython.core.display.Image object>"
            ]
          },
          "execution_count": 35,
          "metadata": {},
          "output_type": "execute_result"
        }
      ],
      "source": [
        "tf.keras.utils.plot_model(model)"
      ]
    },
    {
      "cell_type": "code",
      "execution_count": 36,
      "metadata": {
        "id": "VZWqlCiP-10t"
      },
      "outputs": [],
      "source": [
        "# Define a callback to save the model with the lowest validation loss\n",
        "checkpoint_callback_text = tf.keras.callbacks.ModelCheckpoint(\n",
        "    filepath='bert_text.h5',  # Specify the path to save the best model\n",
        "    monitor='val_mean_absolute_error',       # Monitor validation loss\n",
        "    save_best_only=True,      # Save only the best model (lowest val_loss)\n",
        "    mode='min',               # Consider lower values as better\n",
        "    verbose=0                 # Verbosity mode (0 for silent)\n",
        ")"
      ]
    },
    {
      "cell_type": "code",
      "execution_count": null,
      "metadata": {
        "colab": {
          "base_uri": "https://localhost:8080/"
        },
        "execution": {
          "iopub.execute_input": "2023-09-25T15:34:31.000701Z",
          "iopub.status.busy": "2023-09-25T15:34:31.000226Z"
        },
        "id": "Gx8THB5b_f7y",
        "outputId": "0703800f-5fca-4e38-bb4d-c05c1b7854c1",
        "trusted": true
      },
      "outputs": [
        {
          "name": "stdout",
          "output_type": "stream",
          "text": [
            "Epoch 1/50\n",
            "36/36 [==============================] - ETA: 0s - loss: 9.6944 - mean_absolute_error: 2.1256 - root_mean_squared_error: 2.8148"
          ]
        },
        {
          "name": "stderr",
          "output_type": "stream",
          "text": [
            "/usr/local/lib/python3.10/dist-packages/keras/src/engine/training.py:3000: UserWarning: You are saving your model as an HDF5 file via `model.save()`. This file format is considered legacy. We recommend using instead the native Keras format, e.g. `model.save('my_model.keras')`.\n",
            "  saving_api.save_model(\n"
          ]
        },
        {
          "name": "stdout",
          "output_type": "stream",
          "text": [
            "\b\b\b\b\b\b\b\b\b\b\b\b\b\b\b\b\b\b\b\b\b\b\b\b\b\b\b\b\b\b\b\b\b\b\b\b\b\b\b\b\b\b\b\b\b\b\b\b\b\b\b\b\b\b\b\b\b\b\b\b\b\b\b\b\b\b\b\b\b\b\b\b\b\b\b\b\b\b\b\b\b\b\b\b\b\b\b\b\b\b\b\b\b\b\b\b\b\b\b\b\b\b\b\b\b\b\b\b\b\b\b\b\b\b\b\b\b\b\b\b\b\b\b\b\b\b\b\r36/36 [==============================] - 89s 2s/step - loss: 9.6944 - mean_absolute_error: 2.1256 - root_mean_squared_error: 2.8148 - val_loss: 2.0316 - val_mean_absolute_error: 1.1958 - val_root_mean_squared_error: 1.4254\n",
            "Epoch 2/50\n",
            "36/36 [==============================] - 77s 2s/step - loss: 4.3987 - mean_absolute_error: 1.6971 - root_mean_squared_error: 2.0973 - val_loss: 0.9019 - val_mean_absolute_error: 0.7558 - val_root_mean_squared_error: 0.9497\n",
            "Epoch 3/50\n",
            "28/36 [======================>.......] - ETA: 12s - loss: 3.2828 - mean_absolute_error: 1.4564 - root_mean_squared_error: 1.8118"
          ]
        }
      ],
      "source": [
        "history_bert_text = model.fit(X_train['input_ids'], y=y_train,\n",
        "                                    epochs=config['epochs'],\n",
        "                                    batch_size=config['batch_size'],\n",
        "                                    validation_data=(X_val['input_ids'], y_val),\n",
        "                                    callbacks=[checkpoint_callback, earlystop_callback])"
      ]
    },
    {
      "cell_type": "code",
      "execution_count": null,
      "metadata": {
        "colab": {
          "base_uri": "https://localhost:8080/"
        },
        "execution": {
          "iopub.execute_input": "2023-09-25T15:32:40.300525Z",
          "iopub.status.busy": "2023-09-25T15:32:40.300084Z",
          "iopub.status.idle": "2023-09-25T15:32:40.365392Z",
          "shell.execute_reply": "2023-09-25T15:32:40.364234Z",
          "shell.execute_reply.started": "2023-09-25T15:32:40.300492Z"
        },
        "id": "97sMvW4F_f7y",
        "outputId": "6ba96bcc-643a-46d1-874f-46a86e4ccc65",
        "trusted": true
      },
      "outputs": [
        {
          "name": "stdout",
          "output_type": "stream",
          "text": [
            "9/9 [==============================] - 14s 1s/step\n",
            "0.7683084584279343\n"
          ]
        }
      ],
      "source": [
        "predictions_bert = model.predict(X_val['input_ids'])\n",
        "print(mean_absolute_error(y_val, predictions_bert))"
      ]
    },
    {
      "cell_type": "code",
      "execution_count": null,
      "metadata": {
        "colab": {
          "base_uri": "https://localhost:8080/",
          "height": 489
        },
        "id": "GY4_WZVqDPDl",
        "outputId": "29779cd2-4596-4aba-c328-32f39d31aaa4"
      },
      "outputs": [
        {
          "data": {
            "text/plain": [
              "<matplotlib.legend.Legend at 0x786b101e1c90>"
            ]
          },
          "execution_count": 36,
          "metadata": {},
          "output_type": "execute_result"
        },
        {
          "data": {
            "image/png": "[encoded data removed]",
            "text/plain": [
              "<Figure size 640x480 with 1 Axes>"
            ]
          },
          "metadata": {},
          "output_type": "display_data"
        }
      ],
      "source": [
        "plt.plot(history_bert_text.history[\"loss\"])\n",
        "plt.plot(history_bert_text.history[\"val_loss\"])\n",
        "plt.title(\"Losses Vs Validation Loss of Hybrid Model\")\n",
        "plt.xlabel(\"Epochs\")\n",
        "plt.ylabel(\"Loss\")\n",
        "plt.legend([\"Loss\",\"Val Loss\"])"
      ]
    },
    {
      "cell_type": "code",
      "execution_count": null,
      "metadata": {
        "id": "KqALieaoQSjz"
      },
      "outputs": [],
      "source": []
    },
    {
      "cell_type": "code",
      "execution_count": null,
      "metadata": {
        "id": "YSpixItAQShD"
      },
      "outputs": [],
      "source": []
    },
    {
      "cell_type": "code",
      "execution_count": null,
      "metadata": {
        "id": "yACGtPzHQSdn"
      },
      "outputs": [],
      "source": []
    },
    {
      "cell_type": "code",
      "execution_count": null,
      "metadata": {
        "colab": {
          "base_uri": "https://localhost:8080/"
        },
        "execution": {
          "iopub.status.busy": "2023-09-23T16:01:19.141240Z",
          "iopub.status.idle": "2023-09-23T16:01:19.141806Z",
          "shell.execute_reply": "2023-09-23T16:01:19.141555Z",
          "shell.execute_reply.started": "2023-09-23T16:01:19.141529Z"
        },
        "id": "wt-bc2uZ_f7z",
        "outputId": "8e770dee-8665-4a12-bd40-a2fd7e5cb069",
        "trusted": true
      },
      "outputs": [
        {
          "name": "stderr",
          "output_type": "stream",
          "text": [
            "/usr/local/lib/python3.10/dist-packages/sklearn/utils/_param_validation.py:558: FutureWarning: Passing an int for a boolean parameter is deprecated in version 1.2 and won't be supported anymore in version 1.4.\n",
            "  warnings.warn(\n"
          ]
        }
      ],
      "source": [
        "tfv = TfidfVectorizer(min_df=3,  max_features=None,\n",
        "            strip_accents='unicode', analyzer='word',token_pattern=r'\\w{1,}',\n",
        "            ngram_range=(1, 3), use_idf=1,smooth_idf=1,sublinear_tf=1,\n",
        "            stop_words = 'english')\n",
        "\n",
        "tfv.fit(list(X_train)+list(X_val))\n",
        "X_train_tfv = tfv.transform(X_train)\n",
        "X_val_tfv = tfv.transform(X_val)"
      ]
    },
    {
      "cell_type": "code",
      "execution_count": null,
      "metadata": {
        "colab": {
          "base_uri": "https://localhost:8080/"
        },
        "execution": {
          "iopub.status.busy": "2023-09-23T16:01:19.145012Z",
          "iopub.status.idle": "2023-09-23T16:01:19.146412Z",
          "shell.execute_reply": "2023-09-23T16:01:19.145922Z",
          "shell.execute_reply.started": "2023-09-23T16:01:19.145869Z"
        },
        "id": "5XhbuWG7_f7z",
        "outputId": "9930d51c-2d5e-468b-b463-ea13f7ee7ea3",
        "trusted": true
      },
      "outputs": [
        {
          "name": "stdout",
          "output_type": "stream",
          "text": [
            "MAE: 0.5920672752908288\n"
          ]
        }
      ],
      "source": [
        "lr = LinearRegression()\n",
        "lr.fit(X_train_tfv, y_train)\n",
        "predictions = lr.predict(X_val_tfv)\n",
        "\n",
        "print(\"MAE:\", mean_absolute_error(y_val, predictions))"
      ]
    },
    {
      "cell_type": "code",
      "execution_count": null,
      "metadata": {
        "id": "fhCDZNe_fybY"
      },
      "outputs": [],
      "source": [
        "predictions_BERT = predictions_BERT.squeeze()"
      ]
    },
    {
      "cell_type": "code",
      "execution_count": null,
      "metadata": {
        "id": "LsO5EYzId3rm"
      },
      "outputs": [],
      "source": [
        "pred = (predictions + predictions_BERT)/2"
      ]
    },
    {
      "cell_type": "code",
      "execution_count": null,
      "metadata": {
        "colab": {
          "base_uri": "https://localhost:8080/"
        },
        "id": "WqCEZhareG7P",
        "outputId": "875bd006-a179-441e-9541-efdc567ef3be"
      },
      "outputs": [
        {
          "data": {
            "text/plain": [
              "0.668092619777633"
            ]
          },
          "execution_count": 127,
          "metadata": {},
          "output_type": "execute_result"
        }
      ],
      "source": [
        "from sklearn.metrics import mean_absolute_error\n",
        "\n",
        "mae = mean_absolute_error(y_val, pred)\n",
        "mae"
      ]
    },
    {
      "cell_type": "code",
      "execution_count": null,
      "metadata": {
        "execution": {
          "iopub.status.busy": "2023-09-23T16:01:19.150123Z",
          "iopub.status.idle": "2023-09-23T16:01:19.150650Z",
          "shell.execute_reply": "2023-09-23T16:01:19.150443Z",
          "shell.execute_reply.started": "2023-09-23T16:01:19.150420Z"
        },
        "id": "GEtLb8rb_f7z",
        "trusted": true
      },
      "outputs": [],
      "source": [
        "for i in range(20):\n",
        "    print(round(predictions[i], 2), y_val.iloc[i])"
      ]
    },
    {
      "cell_type": "code",
      "execution_count": null,
      "metadata": {
        "execution": {
          "iopub.status.busy": "2023-09-23T16:01:19.152141Z",
          "iopub.status.idle": "2023-09-23T16:01:19.152640Z",
          "shell.execute_reply": "2023-09-23T16:01:19.152441Z",
          "shell.execute_reply.started": "2023-09-23T16:01:19.152418Z"
        },
        "id": "wrZuakwq_f7z",
        "trusted": true
      },
      "outputs": [],
      "source": [
        "ctv = CountVectorizer(analyzer='word',token_pattern=r'\\w{1,}',\n",
        "            ngram_range=(1, 3), stop_words = 'english')\n",
        "\n",
        "ctv.fit(list(X_train)+list(X_val))\n",
        "X_train_ctv = ctv.transform(X_train)\n",
        "X_val_ctv = ctv.transform(X_val)"
      ]
    },
    {
      "cell_type": "code",
      "execution_count": null,
      "metadata": {
        "execution": {
          "iopub.status.busy": "2023-09-23T16:01:19.154483Z",
          "iopub.status.idle": "2023-09-23T16:01:19.155196Z",
          "shell.execute_reply": "2023-09-23T16:01:19.154775Z",
          "shell.execute_reply.started": "2023-09-23T16:01:19.154753Z"
        },
        "id": "nZsr9RoZ_f7z",
        "trusted": true
      },
      "outputs": [],
      "source": [
        "lr = LinearRegression()\n",
        "lr.fit(X_train_ctv, y_train)\n",
        "predictions = lr.predict(X_val_ctv)\n",
        "\n",
        "print(\"MAE:\", mean_absolute_error(y_val, predictions))"
      ]
    },
    {
      "cell_type": "code",
      "execution_count": null,
      "metadata": {
        "execution": {
          "iopub.status.busy": "2023-09-23T16:01:19.158228Z",
          "iopub.status.idle": "2023-09-23T16:01:19.158901Z",
          "shell.execute_reply": "2023-09-23T16:01:19.158684Z",
          "shell.execute_reply.started": "2023-09-23T16:01:19.158660Z"
        },
        "id": "AZm8eA19_f7z",
        "trusted": true
      },
      "outputs": [],
      "source": [
        "xgb = XGBRegressor(max_depth=7, n_estimators=200, colsample_bytree=0.8,\n",
        "                        subsample=0.8, nthread=10, learning_rate=0.1)\n",
        "xgb.fit(X_train_tfv, y_train)\n",
        "predictions = xgb.predict(X_val_tfv)\n",
        "\n",
        "print(\"MAE:\", mean_absolute_error(y_val, predictions))"
      ]
    },
    {
      "cell_type": "code",
      "execution_count": null,
      "metadata": {
        "execution": {
          "iopub.status.busy": "2023-09-23T16:01:19.161230Z",
          "iopub.status.idle": "2023-09-23T16:01:19.161750Z",
          "shell.execute_reply": "2023-09-23T16:01:19.161540Z",
          "shell.execute_reply.started": "2023-09-23T16:01:19.161518Z"
        },
        "id": "e1F7Erj1_f7z",
        "trusted": true
      },
      "outputs": [],
      "source": [
        "xgb = XGBRegressor(max_depth=7, n_estimators=200, colsample_bytree=0.8,\n",
        "                        subsample=0.8, nthread=10, learning_rate=0.1)\n",
        "xgb.fit(X_train_ctv, y_train)\n",
        "predictions = xgb.predict(X_val_ctv)\n",
        "\n",
        "print(\"MAE:\", mean_absolute_error(y_val, predictions))"
      ]
    },
    {
      "cell_type": "code",
      "execution_count": null,
      "metadata": {
        "execution": {
          "iopub.status.busy": "2023-09-23T16:01:19.163852Z",
          "iopub.status.idle": "2023-09-23T16:01:19.164517Z",
          "shell.execute_reply": "2023-09-23T16:01:19.164298Z",
          "shell.execute_reply.started": "2023-09-23T16:01:19.164264Z"
        },
        "id": "5tc_4CNA_f7z",
        "trusted": true
      },
      "outputs": [],
      "source": [
        "# load the GloVe vectors in a dictionary:\n",
        "\n",
        "embeddings_index = {}\n",
        "f = open('../input/glove-embeddings/glove.840B.300d.txt')\n",
        "for line in tqdm(f):\n",
        "    values = line.split()\n",
        "    word = values[0]\n",
        "    try:\n",
        "        coefs = np.asarray(values[1:], dtype='float32')\n",
        "    except ValueError:\n",
        "        pass\n",
        "    embeddings_index[word] = coefs\n",
        "f.close()\n",
        "\n",
        "print('Found %s word vectors.' % len(embeddings_index))"
      ]
    },
    {
      "cell_type": "code",
      "execution_count": null,
      "metadata": {
        "execution": {
          "iopub.status.busy": "2023-09-23T16:01:19.166031Z",
          "iopub.status.idle": "2023-09-23T16:01:19.167265Z",
          "shell.execute_reply": "2023-09-23T16:01:19.167046Z",
          "shell.execute_reply.started": "2023-09-23T16:01:19.167023Z"
        },
        "id": "5CnPp-tl_f7z",
        "trusted": true
      },
      "outputs": [],
      "source": [
        "# this function creates a normalized vector for the whole sentence\n",
        "def sent2vec(s):\n",
        "    words = str(s).lower()\n",
        "    words = word_tokenize(words)\n",
        "    words = [w for w in words if not w in stop_words]\n",
        "    words = [w for w in words if w.isalpha()]\n",
        "    M = []\n",
        "    for w in words:\n",
        "        try:\n",
        "            M.append(embeddings_index[w])\n",
        "        except:\n",
        "            continue\n",
        "    M = np.array(M)\n",
        "    v = M.sum(axis=0)\n",
        "    if type(v) != np.ndarray:\n",
        "        return np.zeros(300)\n",
        "    return v / np.sqrt((v ** 2).sum())"
      ]
    },
    {
      "cell_type": "code",
      "execution_count": null,
      "metadata": {
        "execution": {
          "iopub.status.busy": "2023-09-23T16:01:19.168645Z",
          "iopub.status.idle": "2023-09-23T16:01:19.169085Z",
          "shell.execute_reply": "2023-09-23T16:01:19.168903Z",
          "shell.execute_reply.started": "2023-09-23T16:01:19.168884Z"
        },
        "id": "JNOtZPrw_f70",
        "trusted": true
      },
      "outputs": [],
      "source": [
        "# create sentence vectors using the above function for training and validation set\n",
        "X_train_glove = [sent2vec(x) for x in tqdm(X_train)]\n",
        "X_val_glove = [sent2vec(x) for x in tqdm(X_val)]"
      ]
    },
    {
      "cell_type": "code",
      "execution_count": null,
      "metadata": {
        "execution": {
          "iopub.status.busy": "2023-09-23T16:01:19.171129Z",
          "iopub.status.idle": "2023-09-23T16:01:19.171976Z",
          "shell.execute_reply": "2023-09-23T16:01:19.171755Z",
          "shell.execute_reply.started": "2023-09-23T16:01:19.171731Z"
        },
        "id": "vZ5uERiR_f70",
        "trusted": true
      },
      "outputs": [],
      "source": [
        "xgb = XGBRegressor(max_depth=7, n_estimators=200, colsample_bytree=0.8,\n",
        "                        subsample=0.8, nthread=10, learning_rate=0.1)\n",
        "xgb.fit(X_train_glove, y_train)\n",
        "predictions = xgb.predict(X_val_glove)\n",
        "\n",
        "print(\"MAE:\", mean_absolute_error(y_val, predictions))"
      ]
    },
    {
      "cell_type": "code",
      "execution_count": null,
      "metadata": {
        "execution": {
          "iopub.status.busy": "2023-09-23T16:01:19.173387Z",
          "iopub.status.idle": "2023-09-23T16:01:19.173835Z",
          "shell.execute_reply": "2023-09-23T16:01:19.173650Z",
          "shell.execute_reply.started": "2023-09-23T16:01:19.173629Z"
        },
        "id": "pZR_MHe1_f70",
        "trusted": true
      },
      "outputs": [],
      "source": [
        "# scale the data before any neural net:\n",
        "scl = preprocessing.StandardScaler()\n",
        "X_train_glove_scl = scl.fit_transform(X_train_glove)\n",
        "X_val_glove_scl = scl.transform(X_val_glove)"
      ]
    },
    {
      "cell_type": "code",
      "execution_count": null,
      "metadata": {
        "execution": {
          "iopub.status.busy": "2023-09-23T16:01:19.175605Z",
          "iopub.status.idle": "2023-09-23T16:01:19.176091Z",
          "shell.execute_reply": "2023-09-23T16:01:19.175889Z",
          "shell.execute_reply.started": "2023-09-23T16:01:19.175858Z"
        },
        "id": "OC-6KUlM_f70",
        "trusted": true
      },
      "outputs": [],
      "source": [
        "# create a simple 3 layer sequential neural net\n",
        "model = Sequential()\n",
        "\n",
        "model.add(Dense(300, input_dim=300, activation='relu'))\n",
        "model.add(Dropout(0.2))\n",
        "model.add(BatchNormalization())\n",
        "\n",
        "model.add(Dense(300, activation='relu'))\n",
        "model.add(Dropout(0.3))\n",
        "model.add(BatchNormalization())\n",
        "\n",
        "model.add(Dense(1))\n",
        "\n",
        "# compile the model\n",
        "model.compile(loss='MAE', optimizer='adam')"
      ]
    },
    {
      "cell_type": "code",
      "execution_count": null,
      "metadata": {
        "execution": {
          "iopub.status.busy": "2023-09-23T16:01:19.178078Z",
          "iopub.status.idle": "2023-09-23T16:01:19.178692Z",
          "shell.execute_reply": "2023-09-23T16:01:19.178426Z",
          "shell.execute_reply.started": "2023-09-23T16:01:19.178398Z"
        },
        "id": "1k7Hh7Iy_f70",
        "trusted": true
      },
      "outputs": [],
      "source": [
        "model.fit(X_train_glove_scl, y=y_train, batch_size=64,\n",
        "          epochs=50, verbose=1,\n",
        "          validation_data=(X_val_glove_scl, y_val))"
      ]
    },
    {
      "cell_type": "code",
      "execution_count": null,
      "metadata": {
        "execution": {
          "iopub.status.busy": "2023-09-23T16:01:19.180260Z",
          "iopub.status.idle": "2023-09-23T16:01:19.180874Z",
          "shell.execute_reply": "2023-09-23T16:01:19.180617Z",
          "shell.execute_reply.started": "2023-09-23T16:01:19.180589Z"
        },
        "id": "-pAIVare_f70",
        "trusted": true
      },
      "outputs": [],
      "source": [
        "# using keras tokenizer here\n",
        "token = text.Tokenizer(num_words=None)\n",
        "max_len = 70\n",
        "\n",
        "token.fit_on_texts(list(X_train) + list(X_val))\n",
        "X_train_seq = token.texts_to_sequences(X_train)\n",
        "X_val_seq = token.texts_to_sequences(X_val)\n",
        "\n",
        "# zero pad the sequences\n",
        "X_train_pad = pad_sequences(X_train_seq, maxlen=max_len)\n",
        "X_val_pad = pad_sequences(X_val_seq, maxlen=max_len)\n",
        "\n",
        "word_index = token.word_index"
      ]
    },
    {
      "cell_type": "code",
      "execution_count": null,
      "metadata": {
        "execution": {
          "iopub.status.busy": "2023-09-23T16:01:19.183338Z",
          "iopub.status.idle": "2023-09-23T16:01:19.183952Z",
          "shell.execute_reply": "2023-09-23T16:01:19.183669Z",
          "shell.execute_reply.started": "2023-09-23T16:01:19.183642Z"
        },
        "id": "EeZ6GkgZ_f70",
        "trusted": true
      },
      "outputs": [],
      "source": [
        "# create an embedding matrix for the words we have in the dataset\n",
        "embedding_matrix = np.zeros((len(word_index) + 1, 300))\n",
        "for word, i in tqdm(word_index.items()):\n",
        "    embedding_vector = embeddings_index.get(word)\n",
        "    if embedding_vector is not None:\n",
        "        embedding_matrix[i] = embedding_vector"
      ]
    },
    {
      "cell_type": "code",
      "execution_count": null,
      "metadata": {
        "execution": {
          "iopub.status.busy": "2023-09-23T16:01:19.185772Z",
          "iopub.status.idle": "2023-09-23T16:01:19.186384Z",
          "shell.execute_reply": "2023-09-23T16:01:19.186105Z",
          "shell.execute_reply.started": "2023-09-23T16:01:19.186078Z"
        },
        "id": "-BFQnpun_f70",
        "trusted": true
      },
      "outputs": [],
      "source": [
        "# A simple LSTM with glove embeddings and two dense layers\n",
        "model = Sequential()\n",
        "model.add(Embedding(len(word_index) + 1,\n",
        "                     300,\n",
        "                     weights=[embedding_matrix],\n",
        "                     input_length=max_len,\n",
        "                     trainable=False))\n",
        "model.add(SpatialDropout1D(0.3))\n",
        "model.add(LSTM(100, dropout=0.3, recurrent_dropout=0.3))\n",
        "\n",
        "model.add(Dense(1024, activation='relu'))\n",
        "model.add(Dropout(0.8))\n",
        "\n",
        "model.add(Dense(1024, activation='relu'))\n",
        "model.add(Dropout(0.8))\n",
        "\n",
        "model.add(Dense(1))\n",
        "model.compile(loss='mse', optimizer='adam')\n",
        "# Fit the model with early stopping callback\n",
        "earlystop = EarlyStopping(monitor='val_loss', min_delta=0, patience=3, verbose=0, mode='auto')"
      ]
    },
    {
      "cell_type": "code",
      "execution_count": null,
      "metadata": {
        "execution": {
          "iopub.status.busy": "2023-09-23T16:01:19.190124Z",
          "iopub.status.idle": "2023-09-23T16:01:19.190571Z",
          "shell.execute_reply": "2023-09-23T16:01:19.190390Z",
          "shell.execute_reply.started": "2023-09-23T16:01:19.190371Z"
        },
        "id": "c3Hc6Ehk_f71",
        "trusted": true
      },
      "outputs": [],
      "source": [
        "model.fit(X_train_pad, y=y_train, batch_size=512, epochs=100, verbose=1, validation_data=(X_val_pad, y_val), callbacks=[earlystop])"
      ]
    },
    {
      "cell_type": "code",
      "execution_count": null,
      "metadata": {
        "execution": {
          "iopub.status.busy": "2023-09-23T16:01:19.191989Z",
          "iopub.status.idle": "2023-09-23T16:01:19.192478Z",
          "shell.execute_reply": "2023-09-23T16:01:19.192273Z",
          "shell.execute_reply.started": "2023-09-23T16:01:19.192210Z"
        },
        "id": "LxFQqFYo_f71",
        "trusted": true
      },
      "outputs": [],
      "source": [
        "# A simple bidirectional LSTM with glove embeddings and two dense layers\n",
        "model = Sequential()\n",
        "model.add(Embedding(len(word_index) + 1,\n",
        "                     300,\n",
        "                     weights=[embedding_matrix],\n",
        "                     input_length=max_len,\n",
        "                     trainable=False))\n",
        "model.add(SpatialDropout1D(0.3))\n",
        "model.add(Bidirectional(LSTM(300, dropout=0.3, recurrent_dropout=0.3)))\n",
        "\n",
        "model.add(Dense(1024, activation='relu'))\n",
        "model.add(Dropout(0.8))\n",
        "\n",
        "model.add(Dense(1024, activation='relu'))\n",
        "model.add(Dropout(0.8))\n",
        "\n",
        "model.add(Dense(1))\n",
        "model.compile(loss='mse', metrics='mae', optimizer='adam')\n",
        "\n",
        "# Fit the model with early stopping callback\n",
        "earlystop = EarlyStopping(monitor='val_loss', min_delta=0, patience=3, verbose=0, mode='auto')\n",
        "model.fit(X_train_pad, y=y_train, batch_size=512, epochs=100, verbose=1, validation_data=(X_val_pad, y_val), callbacks=[earlystop])"
      ]
    },
    {
      "cell_type": "code",
      "execution_count": null,
      "metadata": {
        "execution": {
          "iopub.status.busy": "2023-09-23T16:01:19.194143Z",
          "iopub.status.idle": "2023-09-23T16:01:19.194599Z",
          "shell.execute_reply": "2023-09-23T16:01:19.194419Z",
          "shell.execute_reply.started": "2023-09-23T16:01:19.194399Z"
        },
        "id": "Ufql-Kti_f71",
        "trusted": true
      },
      "outputs": [],
      "source": [
        "# GRU with glove embeddings and two dense layers\n",
        "model = Sequential()\n",
        "model.add(Embedding(len(word_index) + 1,\n",
        "                     300,\n",
        "                     weights=[embedding_matrix],\n",
        "                     input_length=max_len,\n",
        "                     trainable=False))\n",
        "model.add(SpatialDropout1D(0.3))\n",
        "model.add(GRU(300, return_sequences=True))\n",
        "model.add(GRU(300, dropout=0.3, recurrent_dropout=0.3))\n",
        "\n",
        "model.add(Dense(1024, activation='relu'))\n",
        "\n",
        "\n",
        "model.add(Dense(1024, activation='relu'))\n",
        "\n",
        "model.add(Dense(1))\n",
        "model.compile(loss='mse', metrics='mae', optimizer='adam')\n",
        "\n",
        "# Fit the model with early stopping callback\n",
        "earlystop = EarlyStopping(monitor='val_loss', min_delta=0, patience=3, verbose=0, mode='auto')\n",
        "model.fit(X_train_pad, y=y_train, batch_size=512, epochs=100, verbose=1, validation_data=(X_val_pad, y_val), callbacks=[earlystop])"
      ]
    }
  ],
  "metadata": {
    "accelerator": "GPU",
    "colab": {
      "gpuType": "T4",
      "provenance": []
    },
    "kernelspec": {
      "display_name": "Python 3",
      "name": "python3"
    },
    "language_info": {
      "codemirror_mode": {
        "name": "ipython",
        "version": 3
      },
      "file_extension": ".py",
      "mimetype": "text/x-python",
      "name": "python",
      "nbconvert_exporter": "python",
      "pygments_lexer": "ipython3",
      "version": "3.11.1"
    },
    "widgets": {
      "application/vnd.jupyter.widget-state+json": {
        "06c70ef472bb4e24bdda929b8ac618ec": {
          "model_module": "@jupyter-widgets/controls",
          "model_module_version": "1.5.0",
          "model_name": "ProgressStyleModel",
          "state": {
            "_model_module": "@jupyter-widgets/controls",
            "_model_module_version": "1.5.0",
            "_model_name": "ProgressStyleModel",
            "_view_count": null,
            "_view_module": "@jupyter-widgets/base",
            "_view_module_version": "1.2.0",
            "_view_name": "StyleView",
            "bar_color": null,
            "description_width": ""
          }
        },
        "098786198d8e49729e4f8e8e71f4711d": {
          "model_module": "@jupyter-widgets/base",
          "model_module_version": "1.2.0",
          "model_name": "LayoutModel",
          "state": {
            "_model_module": "@jupyter-widgets/base",
            "_model_module_version": "1.2.0",
            "_model_name": "LayoutModel",
            "_view_count": null,
            "_view_module": "@jupyter-widgets/base",
            "_view_module_version": "1.2.0",
            "_view_name": "LayoutView",
            "align_content": null,
            "align_items": null,
            "align_self": null,
            "border": null,
            "bottom": null,
            "display": null,
            "flex": null,
            "flex_flow": null,
            "grid_area": null,
            "grid_auto_columns": null,
            "grid_auto_flow": null,
            "grid_auto_rows": null,
            "grid_column": null,
            "grid_gap": null,
            "grid_row": null,
            "grid_template_areas": null,
            "grid_template_columns": null,
            "grid_template_rows": null,
            "height": null,
            "justify_content": null,
            "justify_items": null,
            "left": null,
            "margin": null,
            "max_height": null,
            "max_width": null,
            "min_height": null,
            "min_width": null,
            "object_fit": null,
            "object_position": null,
            "order": null,
            "overflow": null,
            "overflow_x": null,
            "overflow_y": null,
            "padding": null,
            "right": null,
            "top": null,
            "visibility": null,
            "width": null
          }
        },
        "150a3ee98aeb4f399490445465d52fcd": {
          "model_module": "@jupyter-widgets/controls",
          "model_module_version": "1.5.0",
          "model_name": "HTMLModel",
          "state": {
            "_dom_classes": [],
            "_model_module": "@jupyter-widgets/controls",
            "_model_module_version": "1.5.0",
            "_model_name": "HTMLModel",
            "_view_count": null,
            "_view_module": "@jupyter-widgets/controls",
            "_view_module_version": "1.5.0",
            "_view_name": "HTMLView",
            "description": "",
            "description_tooltip": null,
            "layout": "IPY_MODEL_1e57f86fb5944d9a9e76624bffda532e",
            "placeholder": "​",
            "style": "IPY_MODEL_afbfa01a6c0d46cd90c015e8cd740aff",
            "value": "Downloading (…)lve/main/config.json: 100%"
          }
        },
        "168772b59b6d4fe58b5408434c0e4352": {
          "model_module": "@jupyter-widgets/base",
          "model_module_version": "1.2.0",
          "model_name": "LayoutModel",
          "state": {
            "_model_module": "@jupyter-widgets/base",
            "_model_module_version": "1.2.0",
            "_model_name": "LayoutModel",
            "_view_count": null,
            "_view_module": "@jupyter-widgets/base",
            "_view_module_version": "1.2.0",
            "_view_name": "LayoutView",
            "align_content": null,
            "align_items": null,
            "align_self": null,
            "border": null,
            "bottom": null,
            "display": null,
            "flex": null,
            "flex_flow": null,
            "grid_area": null,
            "grid_auto_columns": null,
            "grid_auto_flow": null,
            "grid_auto_rows": null,
            "grid_column": null,
            "grid_gap": null,
            "grid_row": null,
            "grid_template_areas": null,
            "grid_template_columns": null,
            "grid_template_rows": null,
            "height": null,
            "justify_content": null,
            "justify_items": null,
            "left": null,
            "margin": null,
            "max_height": null,
            "max_width": null,
            "min_height": null,
            "min_width": null,
            "object_fit": null,
            "object_position": null,
            "order": null,
            "overflow": null,
            "overflow_x": null,
            "overflow_y": null,
            "padding": null,
            "right": null,
            "top": null,
            "visibility": null,
            "width": null
          }
        },
        "1e57f86fb5944d9a9e76624bffda532e": {
          "model_module": "@jupyter-widgets/base",
          "model_module_version": "1.2.0",
          "model_name": "LayoutModel",
          "state": {
            "_model_module": "@jupyter-widgets/base",
            "_model_module_version": "1.2.0",
            "_model_name": "LayoutModel",
            "_view_count": null,
            "_view_module": "@jupyter-widgets/base",
            "_view_module_version": "1.2.0",
            "_view_name": "LayoutView",
            "align_content": null,
            "align_items": null,
            "align_self": null,
            "border": null,
            "bottom": null,
            "display": null,
            "flex": null,
            "flex_flow": null,
            "grid_area": null,
            "grid_auto_columns": null,
            "grid_auto_flow": null,
            "grid_auto_rows": null,
            "grid_column": null,
            "grid_gap": null,
            "grid_row": null,
            "grid_template_areas": null,
            "grid_template_columns": null,
            "grid_template_rows": null,
            "height": null,
            "justify_content": null,
            "justify_items": null,
            "left": null,
            "margin": null,
            "max_height": null,
            "max_width": null,
            "min_height": null,
            "min_width": null,
            "object_fit": null,
            "object_position": null,
            "order": null,
            "overflow": null,
            "overflow_x": null,
            "overflow_y": null,
            "padding": null,
            "right": null,
            "top": null,
            "visibility": null,
            "width": null
          }
        },
        "298c569fd1c64247a1cff1bb2aeb34da": {
          "model_module": "@jupyter-widgets/base",
          "model_module_version": "1.2.0",
          "model_name": "LayoutModel",
          "state": {
            "_model_module": "@jupyter-widgets/base",
            "_model_module_version": "1.2.0",
            "_model_name": "LayoutModel",
            "_view_count": null,
            "_view_module": "@jupyter-widgets/base",
            "_view_module_version": "1.2.0",
            "_view_name": "LayoutView",
            "align_content": null,
            "align_items": null,
            "align_self": null,
            "border": null,
            "bottom": null,
            "display": null,
            "flex": null,
            "flex_flow": null,
            "grid_area": null,
            "grid_auto_columns": null,
            "grid_auto_flow": null,
            "grid_auto_rows": null,
            "grid_column": null,
            "grid_gap": null,
            "grid_row": null,
            "grid_template_areas": null,
            "grid_template_columns": null,
            "grid_template_rows": null,
            "height": null,
            "justify_content": null,
            "justify_items": null,
            "left": null,
            "margin": null,
            "max_height": null,
            "max_width": null,
            "min_height": null,
            "min_width": null,
            "object_fit": null,
            "object_position": null,
            "order": null,
            "overflow": null,
            "overflow_x": null,
            "overflow_y": null,
            "padding": null,
            "right": null,
            "top": null,
            "visibility": null,
            "width": null
          }
        },
        "2a3371a9b877436c999dc7c626ed174d": {
          "model_module": "@jupyter-widgets/controls",
          "model_module_version": "1.5.0",
          "model_name": "ProgressStyleModel",
          "state": {
            "_model_module": "@jupyter-widgets/controls",
            "_model_module_version": "1.5.0",
            "_model_name": "ProgressStyleModel",
            "_view_count": null,
            "_view_module": "@jupyter-widgets/base",
            "_view_module_version": "1.2.0",
            "_view_name": "StyleView",
            "bar_color": null,
            "description_width": ""
          }
        },
        "32dc02cf99aa4dc0b8373517945ce9b4": {
          "model_module": "@jupyter-widgets/base",
          "model_module_version": "1.2.0",
          "model_name": "LayoutModel",
          "state": {
            "_model_module": "@jupyter-widgets/base",
            "_model_module_version": "1.2.0",
            "_model_name": "LayoutModel",
            "_view_count": null,
            "_view_module": "@jupyter-widgets/base",
            "_view_module_version": "1.2.0",
            "_view_name": "LayoutView",
            "align_content": null,
            "align_items": null,
            "align_self": null,
            "border": null,
            "bottom": null,
            "display": null,
            "flex": null,
            "flex_flow": null,
            "grid_area": null,
            "grid_auto_columns": null,
            "grid_auto_flow": null,
            "grid_auto_rows": null,
            "grid_column": null,
            "grid_gap": null,
            "grid_row": null,
            "grid_template_areas": null,
            "grid_template_columns": null,
            "grid_template_rows": null,
            "height": null,
            "justify_content": null,
            "justify_items": null,
            "left": null,
            "margin": null,
            "max_height": null,
            "max_width": null,
            "min_height": null,
            "min_width": null,
            "object_fit": null,
            "object_position": null,
            "order": null,
            "overflow": null,
            "overflow_x": null,
            "overflow_y": null,
            "padding": null,
            "right": null,
            "top": null,
            "visibility": null,
            "width": null
          }
        },
        "35049d996f0d484c84cb24383a9c404f": {
          "model_module": "@jupyter-widgets/controls",
          "model_module_version": "1.5.0",
          "model_name": "FloatProgressModel",
          "state": {
            "_dom_classes": [],
            "_model_module": "@jupyter-widgets/controls",
            "_model_module_version": "1.5.0",
            "_model_name": "FloatProgressModel",
            "_view_count": null,
            "_view_module": "@jupyter-widgets/controls",
            "_view_module_version": "1.5.0",
            "_view_name": "ProgressView",
            "bar_style": "success",
            "description": "",
            "description_tooltip": null,
            "layout": "IPY_MODEL_098786198d8e49729e4f8e8e71f4711d",
            "max": 231508,
            "min": 0,
            "orientation": "horizontal",
            "style": "IPY_MODEL_c3d4f4198ee046a586aafa15ef9b4e82",
            "value": 231508
          }
        },
        "3656645219f94f66b51e3a244f1fc01f": {
          "model_module": "@jupyter-widgets/controls",
          "model_module_version": "1.5.0",
          "model_name": "HTMLModel",
          "state": {
            "_dom_classes": [],
            "_model_module": "@jupyter-widgets/controls",
            "_model_module_version": "1.5.0",
            "_model_name": "HTMLModel",
            "_view_count": null,
            "_view_module": "@jupyter-widgets/controls",
            "_view_module_version": "1.5.0",
            "_view_name": "HTMLView",
            "description": "",
            "description_tooltip": null,
            "layout": "IPY_MODEL_32dc02cf99aa4dc0b8373517945ce9b4",
            "placeholder": "​",
            "style": "IPY_MODEL_56e7e8b6f1ac426da16c8cc54d219bcf",
            "value": " 28.0/28.0 [00:00&lt;00:00, 1.90kB/s]"
          }
        },
        "37aef3f6fae943d2b72ed44169b08f53": {
          "model_module": "@jupyter-widgets/controls",
          "model_module_version": "1.5.0",
          "model_name": "DescriptionStyleModel",
          "state": {
            "_model_module": "@jupyter-widgets/controls",
            "_model_module_version": "1.5.0",
            "_model_name": "DescriptionStyleModel",
            "_view_count": null,
            "_view_module": "@jupyter-widgets/base",
            "_view_module_version": "1.2.0",
            "_view_name": "StyleView",
            "description_width": ""
          }
        },
        "467548efb8e544b798f14cdc05c028f0": {
          "model_module": "@jupyter-widgets/controls",
          "model_module_version": "1.5.0",
          "model_name": "HBoxModel",
          "state": {
            "_dom_classes": [],
            "_model_module": "@jupyter-widgets/controls",
            "_model_module_version": "1.5.0",
            "_model_name": "HBoxModel",
            "_view_count": null,
            "_view_module": "@jupyter-widgets/controls",
            "_view_module_version": "1.5.0",
            "_view_name": "HBoxView",
            "box_style": "",
            "children": [
              "IPY_MODEL_98b163799e1a4150821920c3ff85933b",
              "IPY_MODEL_dbfc2061ead145f4899987d61aace20e",
              "IPY_MODEL_3656645219f94f66b51e3a244f1fc01f"
            ],
            "layout": "IPY_MODEL_298c569fd1c64247a1cff1bb2aeb34da"
          }
        },
        "4c2c298d035041fc83c5c98fa1ad6932": {
          "model_module": "@jupyter-widgets/base",
          "model_module_version": "1.2.0",
          "model_name": "LayoutModel",
          "state": {
            "_model_module": "@jupyter-widgets/base",
            "_model_module_version": "1.2.0",
            "_model_name": "LayoutModel",
            "_view_count": null,
            "_view_module": "@jupyter-widgets/base",
            "_view_module_version": "1.2.0",
            "_view_name": "LayoutView",
            "align_content": null,
            "align_items": null,
            "align_self": null,
            "border": null,
            "bottom": null,
            "display": null,
            "flex": null,
            "flex_flow": null,
            "grid_area": null,
            "grid_auto_columns": null,
            "grid_auto_flow": null,
            "grid_auto_rows": null,
            "grid_column": null,
            "grid_gap": null,
            "grid_row": null,
            "grid_template_areas": null,
            "grid_template_columns": null,
            "grid_template_rows": null,
            "height": null,
            "justify_content": null,
            "justify_items": null,
            "left": null,
            "margin": null,
            "max_height": null,
            "max_width": null,
            "min_height": null,
            "min_width": null,
            "object_fit": null,
            "object_position": null,
            "order": null,
            "overflow": null,
            "overflow_x": null,
            "overflow_y": null,
            "padding": null,
            "right": null,
            "top": null,
            "visibility": null,
            "width": null
          }
        },
        "4dc5a278fbbe400bb7b071b1e5bd6c6f": {
          "model_module": "@jupyter-widgets/controls",
          "model_module_version": "1.5.0",
          "model_name": "FloatProgressModel",
          "state": {
            "_dom_classes": [],
            "_model_module": "@jupyter-widgets/controls",
            "_model_module_version": "1.5.0",
            "_model_name": "FloatProgressModel",
            "_view_count": null,
            "_view_module": "@jupyter-widgets/controls",
            "_view_module_version": "1.5.0",
            "_view_name": "ProgressView",
            "bar_style": "success",
            "description": "",
            "description_tooltip": null,
            "layout": "IPY_MODEL_70cb0a7673be4ce4a4e7baa69db376e8",
            "max": 570,
            "min": 0,
            "orientation": "horizontal",
            "style": "IPY_MODEL_5c3219afa28741899aa55b4241807f8a",
            "value": 570
          }
        },
        "56e7e8b6f1ac426da16c8cc54d219bcf": {
          "model_module": "@jupyter-widgets/controls",
          "model_module_version": "1.5.0",
          "model_name": "DescriptionStyleModel",
          "state": {
            "_model_module": "@jupyter-widgets/controls",
            "_model_module_version": "1.5.0",
            "_model_name": "DescriptionStyleModel",
            "_view_count": null,
            "_view_module": "@jupyter-widgets/base",
            "_view_module_version": "1.2.0",
            "_view_name": "StyleView",
            "description_width": ""
          }
        },
        "5a1786511fdc48458abbf218512dcd47": {
          "model_module": "@jupyter-widgets/controls",
          "model_module_version": "1.5.0",
          "model_name": "HBoxModel",
          "state": {
            "_dom_classes": [],
            "_model_module": "@jupyter-widgets/controls",
            "_model_module_version": "1.5.0",
            "_model_name": "HBoxModel",
            "_view_count": null,
            "_view_module": "@jupyter-widgets/controls",
            "_view_module_version": "1.5.0",
            "_view_name": "HBoxView",
            "box_style": "",
            "children": [
              "IPY_MODEL_ad81381d37a0427eb1895637ebf5c286",
              "IPY_MODEL_35049d996f0d484c84cb24383a9c404f",
              "IPY_MODEL_854f16b0d4ad438bbb112105340e1bf1"
            ],
            "layout": "IPY_MODEL_5ed33427163d4e4e85e782c7f48cb3ce"
          }
        },
        "5a1a667ebcc64e748d366e4c6169344c": {
          "model_module": "@jupyter-widgets/controls",
          "model_module_version": "1.5.0",
          "model_name": "HTMLModel",
          "state": {
            "_dom_classes": [],
            "_model_module": "@jupyter-widgets/controls",
            "_model_module_version": "1.5.0",
            "_model_name": "HTMLModel",
            "_view_count": null,
            "_view_module": "@jupyter-widgets/controls",
            "_view_module_version": "1.5.0",
            "_view_name": "HTMLView",
            "description": "",
            "description_tooltip": null,
            "layout": "IPY_MODEL_78412f9d3c2643df9912043c6a1ae3da",
            "placeholder": "​",
            "style": "IPY_MODEL_bc0583c0dc1148f1abb08ef38fe44227",
            "value": " 570/570 [00:00&lt;00:00, 23.3kB/s]"
          }
        },
        "5c3219afa28741899aa55b4241807f8a": {
          "model_module": "@jupyter-widgets/controls",
          "model_module_version": "1.5.0",
          "model_name": "ProgressStyleModel",
          "state": {
            "_model_module": "@jupyter-widgets/controls",
            "_model_module_version": "1.5.0",
            "_model_name": "ProgressStyleModel",
            "_view_count": null,
            "_view_module": "@jupyter-widgets/base",
            "_view_module_version": "1.2.0",
            "_view_name": "StyleView",
            "bar_color": null,
            "description_width": ""
          }
        },
        "5ed33427163d4e4e85e782c7f48cb3ce": {
          "model_module": "@jupyter-widgets/base",
          "model_module_version": "1.2.0",
          "model_name": "LayoutModel",
          "state": {
            "_model_module": "@jupyter-widgets/base",
            "_model_module_version": "1.2.0",
            "_model_name": "LayoutModel",
            "_view_count": null,
            "_view_module": "@jupyter-widgets/base",
            "_view_module_version": "1.2.0",
            "_view_name": "LayoutView",
            "align_content": null,
            "align_items": null,
            "align_self": null,
            "border": null,
            "bottom": null,
            "display": null,
            "flex": null,
            "flex_flow": null,
            "grid_area": null,
            "grid_auto_columns": null,
            "grid_auto_flow": null,
            "grid_auto_rows": null,
            "grid_column": null,
            "grid_gap": null,
            "grid_row": null,
            "grid_template_areas": null,
            "grid_template_columns": null,
            "grid_template_rows": null,
            "height": null,
            "justify_content": null,
            "justify_items": null,
            "left": null,
            "margin": null,
            "max_height": null,
            "max_width": null,
            "min_height": null,
            "min_width": null,
            "object_fit": null,
            "object_position": null,
            "order": null,
            "overflow": null,
            "overflow_x": null,
            "overflow_y": null,
            "padding": null,
            "right": null,
            "top": null,
            "visibility": null,
            "width": null
          }
        },
        "616862e664614807aceafcb614270114": {
          "model_module": "@jupyter-widgets/base",
          "model_module_version": "1.2.0",
          "model_name": "LayoutModel",
          "state": {
            "_model_module": "@jupyter-widgets/base",
            "_model_module_version": "1.2.0",
            "_model_name": "LayoutModel",
            "_view_count": null,
            "_view_module": "@jupyter-widgets/base",
            "_view_module_version": "1.2.0",
            "_view_name": "LayoutView",
            "align_content": null,
            "align_items": null,
            "align_self": null,
            "border": null,
            "bottom": null,
            "display": null,
            "flex": null,
            "flex_flow": null,
            "grid_area": null,
            "grid_auto_columns": null,
            "grid_auto_flow": null,
            "grid_auto_rows": null,
            "grid_column": null,
            "grid_gap": null,
            "grid_row": null,
            "grid_template_areas": null,
            "grid_template_columns": null,
            "grid_template_rows": null,
            "height": null,
            "justify_content": null,
            "justify_items": null,
            "left": null,
            "margin": null,
            "max_height": null,
            "max_width": null,
            "min_height": null,
            "min_width": null,
            "object_fit": null,
            "object_position": null,
            "order": null,
            "overflow": null,
            "overflow_x": null,
            "overflow_y": null,
            "padding": null,
            "right": null,
            "top": null,
            "visibility": null,
            "width": null
          }
        },
        "702d9b7268d341afb1fad7452636e532": {
          "model_module": "@jupyter-widgets/base",
          "model_module_version": "1.2.0",
          "model_name": "LayoutModel",
          "state": {
            "_model_module": "@jupyter-widgets/base",
            "_model_module_version": "1.2.0",
            "_model_name": "LayoutModel",
            "_view_count": null,
            "_view_module": "@jupyter-widgets/base",
            "_view_module_version": "1.2.0",
            "_view_name": "LayoutView",
            "align_content": null,
            "align_items": null,
            "align_self": null,
            "border": null,
            "bottom": null,
            "display": null,
            "flex": null,
            "flex_flow": null,
            "grid_area": null,
            "grid_auto_columns": null,
            "grid_auto_flow": null,
            "grid_auto_rows": null,
            "grid_column": null,
            "grid_gap": null,
            "grid_row": null,
            "grid_template_areas": null,
            "grid_template_columns": null,
            "grid_template_rows": null,
            "height": null,
            "justify_content": null,
            "justify_items": null,
            "left": null,
            "margin": null,
            "max_height": null,
            "max_width": null,
            "min_height": null,
            "min_width": null,
            "object_fit": null,
            "object_position": null,
            "order": null,
            "overflow": null,
            "overflow_x": null,
            "overflow_y": null,
            "padding": null,
            "right": null,
            "top": null,
            "visibility": null,
            "width": null
          }
        },
        "70cb0a7673be4ce4a4e7baa69db376e8": {
          "model_module": "@jupyter-widgets/base",
          "model_module_version": "1.2.0",
          "model_name": "LayoutModel",
          "state": {
            "_model_module": "@jupyter-widgets/base",
            "_model_module_version": "1.2.0",
            "_model_name": "LayoutModel",
            "_view_count": null,
            "_view_module": "@jupyter-widgets/base",
            "_view_module_version": "1.2.0",
            "_view_name": "LayoutView",
            "align_content": null,
            "align_items": null,
            "align_self": null,
            "border": null,
            "bottom": null,
            "display": null,
            "flex": null,
            "flex_flow": null,
            "grid_area": null,
            "grid_auto_columns": null,
            "grid_auto_flow": null,
            "grid_auto_rows": null,
            "grid_column": null,
            "grid_gap": null,
            "grid_row": null,
            "grid_template_areas": null,
            "grid_template_columns": null,
            "grid_template_rows": null,
            "height": null,
            "justify_content": null,
            "justify_items": null,
            "left": null,
            "margin": null,
            "max_height": null,
            "max_width": null,
            "min_height": null,
            "min_width": null,
            "object_fit": null,
            "object_position": null,
            "order": null,
            "overflow": null,
            "overflow_x": null,
            "overflow_y": null,
            "padding": null,
            "right": null,
            "top": null,
            "visibility": null,
            "width": null
          }
        },
        "78412f9d3c2643df9912043c6a1ae3da": {
          "model_module": "@jupyter-widgets/base",
          "model_module_version": "1.2.0",
          "model_name": "LayoutModel",
          "state": {
            "_model_module": "@jupyter-widgets/base",
            "_model_module_version": "1.2.0",
            "_model_name": "LayoutModel",
            "_view_count": null,
            "_view_module": "@jupyter-widgets/base",
            "_view_module_version": "1.2.0",
            "_view_name": "LayoutView",
            "align_content": null,
            "align_items": null,
            "align_self": null,
            "border": null,
            "bottom": null,
            "display": null,
            "flex": null,
            "flex_flow": null,
            "grid_area": null,
            "grid_auto_columns": null,
            "grid_auto_flow": null,
            "grid_auto_rows": null,
            "grid_column": null,
            "grid_gap": null,
            "grid_row": null,
            "grid_template_areas": null,
            "grid_template_columns": null,
            "grid_template_rows": null,
            "height": null,
            "justify_content": null,
            "justify_items": null,
            "left": null,
            "margin": null,
            "max_height": null,
            "max_width": null,
            "min_height": null,
            "min_width": null,
            "object_fit": null,
            "object_position": null,
            "order": null,
            "overflow": null,
            "overflow_x": null,
            "overflow_y": null,
            "padding": null,
            "right": null,
            "top": null,
            "visibility": null,
            "width": null
          }
        },
        "854f16b0d4ad438bbb112105340e1bf1": {
          "model_module": "@jupyter-widgets/controls",
          "model_module_version": "1.5.0",
          "model_name": "HTMLModel",
          "state": {
            "_dom_classes": [],
            "_model_module": "@jupyter-widgets/controls",
            "_model_module_version": "1.5.0",
            "_model_name": "HTMLModel",
            "_view_count": null,
            "_view_module": "@jupyter-widgets/controls",
            "_view_module_version": "1.5.0",
            "_view_name": "HTMLView",
            "description": "",
            "description_tooltip": null,
            "layout": "IPY_MODEL_616862e664614807aceafcb614270114",
            "placeholder": "​",
            "style": "IPY_MODEL_a2c05833062d4be5a808e267d20c73bb",
            "value": " 232k/232k [00:00&lt;00:00, 2.83MB/s]"
          }
        },
        "86ea8607e2384d2e9c205c185b972588": {
          "model_module": "@jupyter-widgets/controls",
          "model_module_version": "1.5.0",
          "model_name": "DescriptionStyleModel",
          "state": {
            "_model_module": "@jupyter-widgets/controls",
            "_model_module_version": "1.5.0",
            "_model_name": "DescriptionStyleModel",
            "_view_count": null,
            "_view_module": "@jupyter-widgets/base",
            "_view_module_version": "1.2.0",
            "_view_name": "StyleView",
            "description_width": ""
          }
        },
        "89e6c07d174144ff80165298dddde427": {
          "model_module": "@jupyter-widgets/base",
          "model_module_version": "1.2.0",
          "model_name": "LayoutModel",
          "state": {
            "_model_module": "@jupyter-widgets/base",
            "_model_module_version": "1.2.0",
            "_model_name": "LayoutModel",
            "_view_count": null,
            "_view_module": "@jupyter-widgets/base",
            "_view_module_version": "1.2.0",
            "_view_name": "LayoutView",
            "align_content": null,
            "align_items": null,
            "align_self": null,
            "border": null,
            "bottom": null,
            "display": null,
            "flex": null,
            "flex_flow": null,
            "grid_area": null,
            "grid_auto_columns": null,
            "grid_auto_flow": null,
            "grid_auto_rows": null,
            "grid_column": null,
            "grid_gap": null,
            "grid_row": null,
            "grid_template_areas": null,
            "grid_template_columns": null,
            "grid_template_rows": null,
            "height": null,
            "justify_content": null,
            "justify_items": null,
            "left": null,
            "margin": null,
            "max_height": null,
            "max_width": null,
            "min_height": null,
            "min_width": null,
            "object_fit": null,
            "object_position": null,
            "order": null,
            "overflow": null,
            "overflow_x": null,
            "overflow_y": null,
            "padding": null,
            "right": null,
            "top": null,
            "visibility": null,
            "width": null
          }
        },
        "8cd647d2bd584af6a882089709c63ff4": {
          "model_module": "@jupyter-widgets/controls",
          "model_module_version": "1.5.0",
          "model_name": "DescriptionStyleModel",
          "state": {
            "_model_module": "@jupyter-widgets/controls",
            "_model_module_version": "1.5.0",
            "_model_name": "DescriptionStyleModel",
            "_view_count": null,
            "_view_module": "@jupyter-widgets/base",
            "_view_module_version": "1.2.0",
            "_view_name": "StyleView",
            "description_width": ""
          }
        },
        "8ff58986fabe4cceb98068200e738c40": {
          "model_module": "@jupyter-widgets/base",
          "model_module_version": "1.2.0",
          "model_name": "LayoutModel",
          "state": {
            "_model_module": "@jupyter-widgets/base",
            "_model_module_version": "1.2.0",
            "_model_name": "LayoutModel",
            "_view_count": null,
            "_view_module": "@jupyter-widgets/base",
            "_view_module_version": "1.2.0",
            "_view_name": "LayoutView",
            "align_content": null,
            "align_items": null,
            "align_self": null,
            "border": null,
            "bottom": null,
            "display": null,
            "flex": null,
            "flex_flow": null,
            "grid_area": null,
            "grid_auto_columns": null,
            "grid_auto_flow": null,
            "grid_auto_rows": null,
            "grid_column": null,
            "grid_gap": null,
            "grid_row": null,
            "grid_template_areas": null,
            "grid_template_columns": null,
            "grid_template_rows": null,
            "height": null,
            "justify_content": null,
            "justify_items": null,
            "left": null,
            "margin": null,
            "max_height": null,
            "max_width": null,
            "min_height": null,
            "min_width": null,
            "object_fit": null,
            "object_position": null,
            "order": null,
            "overflow": null,
            "overflow_x": null,
            "overflow_y": null,
            "padding": null,
            "right": null,
            "top": null,
            "visibility": null,
            "width": null
          }
        },
        "98b163799e1a4150821920c3ff85933b": {
          "model_module": "@jupyter-widgets/controls",
          "model_module_version": "1.5.0",
          "model_name": "HTMLModel",
          "state": {
            "_dom_classes": [],
            "_model_module": "@jupyter-widgets/controls",
            "_model_module_version": "1.5.0",
            "_model_name": "HTMLModel",
            "_view_count": null,
            "_view_module": "@jupyter-widgets/controls",
            "_view_module_version": "1.5.0",
            "_view_name": "HTMLView",
            "description": "",
            "description_tooltip": null,
            "layout": "IPY_MODEL_8ff58986fabe4cceb98068200e738c40",
            "placeholder": "​",
            "style": "IPY_MODEL_37aef3f6fae943d2b72ed44169b08f53",
            "value": "Downloading (…)okenizer_config.json: 100%"
          }
        },
        "9c4eae8d87b342dba44dcd08fb60b5cb": {
          "model_module": "@jupyter-widgets/controls",
          "model_module_version": "1.5.0",
          "model_name": "DescriptionStyleModel",
          "state": {
            "_model_module": "@jupyter-widgets/controls",
            "_model_module_version": "1.5.0",
            "_model_name": "DescriptionStyleModel",
            "_view_count": null,
            "_view_module": "@jupyter-widgets/base",
            "_view_module_version": "1.2.0",
            "_view_name": "StyleView",
            "description_width": ""
          }
        },
        "a2c05833062d4be5a808e267d20c73bb": {
          "model_module": "@jupyter-widgets/controls",
          "model_module_version": "1.5.0",
          "model_name": "DescriptionStyleModel",
          "state": {
            "_model_module": "@jupyter-widgets/controls",
            "_model_module_version": "1.5.0",
            "_model_name": "DescriptionStyleModel",
            "_view_count": null,
            "_view_module": "@jupyter-widgets/base",
            "_view_module_version": "1.2.0",
            "_view_name": "StyleView",
            "description_width": ""
          }
        },
        "a85dc62dbc4b4494819acabe9ca33356": {
          "model_module": "@jupyter-widgets/controls",
          "model_module_version": "1.5.0",
          "model_name": "HBoxModel",
          "state": {
            "_dom_classes": [],
            "_model_module": "@jupyter-widgets/controls",
            "_model_module_version": "1.5.0",
            "_model_name": "HBoxModel",
            "_view_count": null,
            "_view_module": "@jupyter-widgets/controls",
            "_view_module_version": "1.5.0",
            "_view_name": "HBoxView",
            "box_style": "",
            "children": [
              "IPY_MODEL_150a3ee98aeb4f399490445465d52fcd",
              "IPY_MODEL_4dc5a278fbbe400bb7b071b1e5bd6c6f",
              "IPY_MODEL_5a1a667ebcc64e748d366e4c6169344c"
            ],
            "layout": "IPY_MODEL_4c2c298d035041fc83c5c98fa1ad6932"
          }
        },
        "ad81381d37a0427eb1895637ebf5c286": {
          "model_module": "@jupyter-widgets/controls",
          "model_module_version": "1.5.0",
          "model_name": "HTMLModel",
          "state": {
            "_dom_classes": [],
            "_model_module": "@jupyter-widgets/controls",
            "_model_module_version": "1.5.0",
            "_model_name": "HTMLModel",
            "_view_count": null,
            "_view_module": "@jupyter-widgets/controls",
            "_view_module_version": "1.5.0",
            "_view_name": "HTMLView",
            "description": "",
            "description_tooltip": null,
            "layout": "IPY_MODEL_702d9b7268d341afb1fad7452636e532",
            "placeholder": "​",
            "style": "IPY_MODEL_9c4eae8d87b342dba44dcd08fb60b5cb",
            "value": "Downloading (…)solve/main/vocab.txt: 100%"
          }
        },
        "af190e94abcb4a65a986b6c1a654ccc0": {
          "model_module": "@jupyter-widgets/controls",
          "model_module_version": "1.5.0",
          "model_name": "FloatProgressModel",
          "state": {
            "_dom_classes": [],
            "_model_module": "@jupyter-widgets/controls",
            "_model_module_version": "1.5.0",
            "_model_name": "FloatProgressModel",
            "_view_count": null,
            "_view_module": "@jupyter-widgets/controls",
            "_view_module_version": "1.5.0",
            "_view_name": "ProgressView",
            "bar_style": "success",
            "description": "",
            "description_tooltip": null,
            "layout": "IPY_MODEL_ba5521970bb04009bf3377f6bd12cf63",
            "max": 440449768,
            "min": 0,
            "orientation": "horizontal",
            "style": "IPY_MODEL_2a3371a9b877436c999dc7c626ed174d",
            "value": 440449768
          }
        },
        "af83936ba4ca4230b36bf75a1140bf37": {
          "model_module": "@jupyter-widgets/controls",
          "model_module_version": "1.5.0",
          "model_name": "HTMLModel",
          "state": {
            "_dom_classes": [],
            "_model_module": "@jupyter-widgets/controls",
            "_model_module_version": "1.5.0",
            "_model_name": "HTMLModel",
            "_view_count": null,
            "_view_module": "@jupyter-widgets/controls",
            "_view_module_version": "1.5.0",
            "_view_name": "HTMLView",
            "description": "",
            "description_tooltip": null,
            "layout": "IPY_MODEL_b842c46813b046c6a02aeffac646d2a0",
            "placeholder": "​",
            "style": "IPY_MODEL_86ea8607e2384d2e9c205c185b972588",
            "value": "Downloading model.safetensors: 100%"
          }
        },
        "afbfa01a6c0d46cd90c015e8cd740aff": {
          "model_module": "@jupyter-widgets/controls",
          "model_module_version": "1.5.0",
          "model_name": "DescriptionStyleModel",
          "state": {
            "_model_module": "@jupyter-widgets/controls",
            "_model_module_version": "1.5.0",
            "_model_name": "DescriptionStyleModel",
            "_view_count": null,
            "_view_module": "@jupyter-widgets/base",
            "_view_module_version": "1.2.0",
            "_view_name": "StyleView",
            "description_width": ""
          }
        },
        "b49999da65904318aa5855de4bedf610": {
          "model_module": "@jupyter-widgets/controls",
          "model_module_version": "1.5.0",
          "model_name": "HTMLModel",
          "state": {
            "_dom_classes": [],
            "_model_module": "@jupyter-widgets/controls",
            "_model_module_version": "1.5.0",
            "_model_name": "HTMLModel",
            "_view_count": null,
            "_view_module": "@jupyter-widgets/controls",
            "_view_module_version": "1.5.0",
            "_view_name": "HTMLView",
            "description": "",
            "description_tooltip": null,
            "layout": "IPY_MODEL_89e6c07d174144ff80165298dddde427",
            "placeholder": "​",
            "style": "IPY_MODEL_8cd647d2bd584af6a882089709c63ff4",
            "value": " 440M/440M [00:01&lt;00:00, 231MB/s]"
          }
        },
        "b842c46813b046c6a02aeffac646d2a0": {
          "model_module": "@jupyter-widgets/base",
          "model_module_version": "1.2.0",
          "model_name": "LayoutModel",
          "state": {
            "_model_module": "@jupyter-widgets/base",
            "_model_module_version": "1.2.0",
            "_model_name": "LayoutModel",
            "_view_count": null,
            "_view_module": "@jupyter-widgets/base",
            "_view_module_version": "1.2.0",
            "_view_name": "LayoutView",
            "align_content": null,
            "align_items": null,
            "align_self": null,
            "border": null,
            "bottom": null,
            "display": null,
            "flex": null,
            "flex_flow": null,
            "grid_area": null,
            "grid_auto_columns": null,
            "grid_auto_flow": null,
            "grid_auto_rows": null,
            "grid_column": null,
            "grid_gap": null,
            "grid_row": null,
            "grid_template_areas": null,
            "grid_template_columns": null,
            "grid_template_rows": null,
            "height": null,
            "justify_content": null,
            "justify_items": null,
            "left": null,
            "margin": null,
            "max_height": null,
            "max_width": null,
            "min_height": null,
            "min_width": null,
            "object_fit": null,
            "object_position": null,
            "order": null,
            "overflow": null,
            "overflow_x": null,
            "overflow_y": null,
            "padding": null,
            "right": null,
            "top": null,
            "visibility": null,
            "width": null
          }
        },
        "ba5521970bb04009bf3377f6bd12cf63": {
          "model_module": "@jupyter-widgets/base",
          "model_module_version": "1.2.0",
          "model_name": "LayoutModel",
          "state": {
            "_model_module": "@jupyter-widgets/base",
            "_model_module_version": "1.2.0",
            "_model_name": "LayoutModel",
            "_view_count": null,
            "_view_module": "@jupyter-widgets/base",
            "_view_module_version": "1.2.0",
            "_view_name": "LayoutView",
            "align_content": null,
            "align_items": null,
            "align_self": null,
            "border": null,
            "bottom": null,
            "display": null,
            "flex": null,
            "flex_flow": null,
            "grid_area": null,
            "grid_auto_columns": null,
            "grid_auto_flow": null,
            "grid_auto_rows": null,
            "grid_column": null,
            "grid_gap": null,
            "grid_row": null,
            "grid_template_areas": null,
            "grid_template_columns": null,
            "grid_template_rows": null,
            "height": null,
            "justify_content": null,
            "justify_items": null,
            "left": null,
            "margin": null,
            "max_height": null,
            "max_width": null,
            "min_height": null,
            "min_width": null,
            "object_fit": null,
            "object_position": null,
            "order": null,
            "overflow": null,
            "overflow_x": null,
            "overflow_y": null,
            "padding": null,
            "right": null,
            "top": null,
            "visibility": null,
            "width": null
          }
        },
        "bc0583c0dc1148f1abb08ef38fe44227": {
          "model_module": "@jupyter-widgets/controls",
          "model_module_version": "1.5.0",
          "model_name": "DescriptionStyleModel",
          "state": {
            "_model_module": "@jupyter-widgets/controls",
            "_model_module_version": "1.5.0",
            "_model_name": "DescriptionStyleModel",
            "_view_count": null,
            "_view_module": "@jupyter-widgets/base",
            "_view_module_version": "1.2.0",
            "_view_name": "StyleView",
            "description_width": ""
          }
        },
        "c3d4f4198ee046a586aafa15ef9b4e82": {
          "model_module": "@jupyter-widgets/controls",
          "model_module_version": "1.5.0",
          "model_name": "ProgressStyleModel",
          "state": {
            "_model_module": "@jupyter-widgets/controls",
            "_model_module_version": "1.5.0",
            "_model_name": "ProgressStyleModel",
            "_view_count": null,
            "_view_module": "@jupyter-widgets/base",
            "_view_module_version": "1.2.0",
            "_view_name": "StyleView",
            "bar_color": null,
            "description_width": ""
          }
        },
        "dbfc2061ead145f4899987d61aace20e": {
          "model_module": "@jupyter-widgets/controls",
          "model_module_version": "1.5.0",
          "model_name": "FloatProgressModel",
          "state": {
            "_dom_classes": [],
            "_model_module": "@jupyter-widgets/controls",
            "_model_module_version": "1.5.0",
            "_model_name": "FloatProgressModel",
            "_view_count": null,
            "_view_module": "@jupyter-widgets/controls",
            "_view_module_version": "1.5.0",
            "_view_name": "ProgressView",
            "bar_style": "success",
            "description": "",
            "description_tooltip": null,
            "layout": "IPY_MODEL_168772b59b6d4fe58b5408434c0e4352",
            "max": 28,
            "min": 0,
            "orientation": "horizontal",
            "style": "IPY_MODEL_06c70ef472bb4e24bdda929b8ac618ec",
            "value": 28
          }
        },
        "e1cba45b1e2b422594934feaa6c94bd6": {
          "model_module": "@jupyter-widgets/base",
          "model_module_version": "1.2.0",
          "model_name": "LayoutModel",
          "state": {
            "_model_module": "@jupyter-widgets/base",
            "_model_module_version": "1.2.0",
            "_model_name": "LayoutModel",
            "_view_count": null,
            "_view_module": "@jupyter-widgets/base",
            "_view_module_version": "1.2.0",
            "_view_name": "LayoutView",
            "align_content": null,
            "align_items": null,
            "align_self": null,
            "border": null,
            "bottom": null,
            "display": null,
            "flex": null,
            "flex_flow": null,
            "grid_area": null,
            "grid_auto_columns": null,
            "grid_auto_flow": null,
            "grid_auto_rows": null,
            "grid_column": null,
            "grid_gap": null,
            "grid_row": null,
            "grid_template_areas": null,
            "grid_template_columns": null,
            "grid_template_rows": null,
            "height": null,
            "justify_content": null,
            "justify_items": null,
            "left": null,
            "margin": null,
            "max_height": null,
            "max_width": null,
            "min_height": null,
            "min_width": null,
            "object_fit": null,
            "object_position": null,
            "order": null,
            "overflow": null,
            "overflow_x": null,
            "overflow_y": null,
            "padding": null,
            "right": null,
            "top": null,
            "visibility": null,
            "width": null
          }
        },
        "f12efda6812b4f95ae0d4c30c60fa6d9": {
          "model_module": "@jupyter-widgets/controls",
          "model_module_version": "1.5.0",
          "model_name": "HBoxModel",
          "state": {
            "_dom_classes": [],
            "_model_module": "@jupyter-widgets/controls",
            "_model_module_version": "1.5.0",
            "_model_name": "HBoxModel",
            "_view_count": null,
            "_view_module": "@jupyter-widgets/controls",
            "_view_module_version": "1.5.0",
            "_view_name": "HBoxView",
            "box_style": "",
            "children": [
              "IPY_MODEL_af83936ba4ca4230b36bf75a1140bf37",
              "IPY_MODEL_af190e94abcb4a65a986b6c1a654ccc0",
              "IPY_MODEL_b49999da65904318aa5855de4bedf610"
            ],
            "layout": "IPY_MODEL_e1cba45b1e2b422594934feaa6c94bd6"
          }
        }
      }
    }
  },
  "nbformat": 4,
  "nbformat_minor": 0
}
